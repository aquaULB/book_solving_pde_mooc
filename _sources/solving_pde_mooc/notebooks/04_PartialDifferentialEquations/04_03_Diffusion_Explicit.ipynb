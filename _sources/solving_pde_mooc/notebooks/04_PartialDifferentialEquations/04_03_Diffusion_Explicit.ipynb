{
 "cells": [
  {
   "cell_type": "markdown",
   "id": "3876d771",
   "metadata": {},
   "source": [
    "# One dimensional heat equation\n",
    "\n",
    "\n",
    "## Introduction"
   ]
  },
  {
   "cell_type": "markdown",
   "id": "d54737b8",
   "metadata": {},
   "source": [
    "For convenience, we start by importing some modules needed below:"
   ]
  },
  {
   "cell_type": "code",
   "execution_count": 1,
   "id": "2e946a47",
   "metadata": {},
   "outputs": [],
   "source": [
    "import numpy as np\n",
    "import matplotlib.pyplot as plt\n",
    "\n",
    "%matplotlib inline\n",
    "\n",
    "plt.style.use('../styles/mainstyle.use')"
   ]
  },
  {
   "cell_type": "markdown",
   "id": "b01c2f73",
   "metadata": {},
   "source": [
    "In the first notebooks of this chapter, we have described several methods to numerically solve the first order wave equation. We showed that the stability of the algorithms depends on the combination of the time advancement method and the spatial discretization.\n",
    "\n",
    "Here we treat another case, the one dimensional heat equation:\n",
    "\n",
    "```{math}\n",
    ":label: eq:1Dheat\n",
    "   \\partial_t T(x,t) = \\alpha \\frac{d^2 T} {dx^2}(x,t) + \\sigma (x,t).\n",
    "```\n",
    "\n",
    "where $T$ is the temperature and $\\sigma$ is an optional heat source term.\n",
    "\n",
    "Besides discussing the stability of the algorithms used, we will also dig deeper into the accuracy of our solutions. Up to now we have discussed accuracy from the theoretical point of view and checked that the numerical solutions computed were in qualitative agreement with exact solutions. But this is not enough, we have to quantitatively validate our solutions and check their quality. Several ways to do this are described below."
   ]
  },
  {
   "cell_type": "markdown",
   "id": "435a232b",
   "metadata": {},
   "source": [
    "## Explicit resolution of the 1D heat equation"
   ]
  },
  {
   "cell_type": "markdown",
   "id": "a23d780c",
   "metadata": {},
   "source": [
    "### Matrix stability analysis\n",
    "\n",
    "We begin by considering the forward Euler time advancement scheme in combination with the second-order accurate centered finite difference formula for $d^2T/dx^2$. Without the source term, the algorithm then reads:\n",
    "\n",
    "```{math}\n",
    ":label: heatEulerForward\n",
    "& \\frac{T^{n+1}_i - T^n_i}{\\Delta t}=\\alpha \\frac{T^n_{i-1}-2T^n_i+T^{n}_{i+1}}{\\Delta x^2} \\\\\n",
    "&\\Leftrightarrow\n",
    "T^{n+1}_i = T^n_i+\\frac{\\alpha \\Delta t}{\\Delta x^2} (T^n_{i-1}-2T^n_i+T^{n}_{i+1})\n",
    "```\n",
    "\n",
    "In matrix notation this is equivalent to:\n",
    "\n",
    "```{math}\n",
    ":label: eq:matHeatEuler\n",
    "    \\boldsymbol{T}^{n+1} = (I+A)\\boldsymbol{T}^{n}\\; \\; \\Leftrightarrow \\; \\; \\boldsymbol{T}^{n} = (I+A)^{n}\\boldsymbol{T}^{0},\n",
    "```\n",
    "\n",
    "where $I$ is the identity matrix.\n",
    "\n",
    "Consider the case with homogeneous Dirichlet boundary conditions: $T_0^m = T_{nx-1}^m=0, \\forall m$. This means that our unknowns are $T^m_1,\\ldots,T^m_{nx-2}$ and that the matrix $A$ has dimensions $(nx-2)\\times (nx-2)$. Its expression is:\n",
    "\n",
    "```{math}\n",
    "A = \\frac{\\alpha \\Delta t}{\\Delta x^2}\n",
    "\\begin{pmatrix}\n",
    "a & b & 0 & 0 & 0 & \\dots & 0 & 0 & 0 & 0\\\\\n",
    "c & a & b & 0 & 0 & \\dots & 0 & 0 & 0 & 0 \\\\\n",
    "0 & c & a & b & 0 & \\dots & 0 & 0 & 0 & 0 \\\\\n",
    "0 & \\dots & \\dots & \\dots & \\dots & \\dots & \\dots & \\dots & \\dots & 0 \\\\\n",
    "0 & \\dots & \\dots & \\dots & \\dots & \\dots & \\dots & \\dots & \\dots & 0 \\\\\n",
    "0 & 0 & 0 & 0  & \\dots & c & a & b & 0 & 0 \\\\\n",
    "0 & 0 & 0 & 0 & \\dots & 0 & c & a & b & 0 \\\\\n",
    "0 & 0 & 0 & 0 & \\dots & 0 & 0 & c & a & b \\\\\n",
    "0 & 0 & 0 & 0 & \\dots & 0 & 0 & 0 & c & b\n",
    "\\end{pmatrix},\n",
    "```\n",
    "\n",
    "with $a = -2$ and $b = c = 1$. According to the theorem we quoted in the previous notebook concerning Toeplitz matrices, the eigenvalues $m_k$ of $A$ are in this case real and negative:\n",
    "\n",
    "```{math}\n",
    "m_k = 2\\frac{\\alpha \\Delta t}{\\Delta x^2}\\left(\\cos\\left(\\frac{\\pi k}{nx-1}\\right)-1\\right),\\; k=1,\\ldots, nx-2.\n",
    "```\n",
    "\n",
    "All the eigenvalues are distinct and as a consequence, the matrix $I+A$ is diagonalizable with eigenvalues $\\lambda_k = 1+m_k$. The algorithm is stable if all these eigenvalues satisfy $\\vert \\lambda_k \\vert \\leq 1$ or in other words, if all the eigenvalues of $A$ are within the stability domain of the Euler method. This imposes the following constraint on $\\Delta t$:\n",
    "\n",
    "```{math}\n",
    "\\Delta t\\leq \\frac{\\Delta x^2}{2\\alpha} \\Leftrightarrow  F\\leq 0.5\n",
    "```\n",
    "\n",
    "where $F= \\alpha \\Delta t/\\Delta x^2$ is sometimes referred to as the Fourier number. This condition is quite strict as the limitation on the time step is proportional to $\\Delta x^2$.  Explicit integration of the heat equation can therefore become problematic and implicit methods might be preferred if a high spatial resolution is needed.\n",
    "\n",
    "If we use the RK4 method instead of the Euler method for the time discretization, eq. {eq}`eq:matHeatEuler` becomes,\n",
    "\n",
    "```{math}\n",
    ":label: eq:matHeatRK4\n",
    "   \\boldsymbol{T}^{n} = \\left(I+A+\\frac12 A^2 + \\frac16 A^3+\\frac{1}{24}A^4\\right)^{n}\\boldsymbol{T}^{0}.\n",
    "```\n",
    "\n",
    "and the algorithm is stable if all the eigenvalues $m_k$ of $A$ are contained in the stability region of the RK4 time integration scheme. The constraint on the time step is then,\n",
    "\n",
    "```{math}\n",
    "\\Delta t\\leq 2.79\\frac{\\Delta x^2}{4\\alpha} \\Leftrightarrow  F\\leq 0.7\n",
    "```\n",
    "\n",
    "This is a little bit less restrictive than the criteria for the forward Euler method.\n",
    "\n",
    "### Modified wavenumber analysis\n",
    "\n",
    "We can also consider the stability of the algorithms when using periodic boundary conditions. In that case we may use the modified wavenumber analysis that we discussed in the previous notebook.\n",
    "\n",
    "The temperature field is decomposed into Fourier modes:\n",
    "\n",
    "```{math}\n",
    "    T(x,t)=\\sum_{m} \\hat{T}(k_m,t) e^{ik_m x},\\; \\; k_m = \\frac{2\\pi m}{L}\n",
    "```\n",
    "\n",
    "If we substitute this expression in the heat equation (without source term) we get:\n",
    "\n",
    "```{math}\n",
    ":label: eq:FourierT\n",
    "    \\frac{d\\hat T(k_m,t)}{dt}=-\\alpha k_m^2 \\hat{T}(k_m,t)\n",
    "```\n",
    "\n",
    "This equation is 'exact'. When discretizing the second-order derivative using the second-order accurate centered finite difference formula, we get instead:\n",
    "\n",
    "```{math}\n",
    "    \\frac{d\\hat T(k_m,t)}{dt}&=\\alpha\\left(\\frac{e^{-ik_m \\Delta x} - 2 + e^{ik_m \\Delta x}}{\\Delta x^2}\\right) \\hat{T}(k_m,t) \\\\\n",
    "    &= -\\alpha k_m'^2 \\hat T(k_m,t)\n",
    "```\n",
    "\n",
    "with the modified wavenumbers being real and defined by,\n",
    "\n",
    "```{math}\n",
    "k_m'^2 = \\frac{2}{\\Delta x^2}(1 - \\cos(k_m \\Delta x)).\n",
    "```\n",
    "\n",
    "The semi-discretized equation is identical to the original equation {eq}`eq:FourierT` except for the modification of the wavenumber.\n",
    "\n",
    "In this formulation, all the Fourier modes are decoupled and evolve according to:\n",
    "\n",
    "```{math}\n",
    "    \\frac{d\\hat T(k_m,t)}{dt}=\\lambda \\hat{T}(k_m,t),\\; \\; \\lambda = -\\alpha k'^2_m\n",
    "```\n",
    "\n",
    "Depending on how we discretize the time derivative we get different constraints on $dt$ for stability: in each case, all the coefficients $\\lambda_m$ must lie within the stability domain of the corresponding scheme.\n",
    "\n",
    "For the forward Euler method we get:\n",
    "\n",
    "```{math}\n",
    "-2 \\leq -\\alpha \\Delta t \\frac{2}{\\Delta x^2}(1 - \\cos(k_m \\Delta x)) \\leq 0\n",
    "```\n",
    "\n",
    "To ensure that these constraints are satisfied for all values of $m$, the following restriction on the time step is required:\n",
    "\n",
    "```{math}\n",
    "\\Delta t \\leq \\frac{\\Delta x^2}{2\\alpha}\\; \\; \\; \\hbox{(Forward Euler mehod)}\n",
    "```\n",
    "\n",
    "For the RK4 time integration method we get:\n",
    "\n",
    "```{math}\n",
    "\\Delta t \\leq 2.79\\frac{\\Delta x^2}{4\\alpha}\\; \\; \\; \\hbox{(RK4 mehod)}\n",
    "```\n",
    "\n",
    "These conditions are identical to the ones we obtained using the matrix stability method. Keep in mind that the boundary conditions are different and in general there is no guarantee that the conditions for stability will match. \n",
    "\n",
    "### Numerical solution\n",
    "\n",
    "Let's implement the algorithm {eq}`heatEulerForward` and empirically check the above stability criteria. To make the problem more interesting, we include a source term in the equation by setting: $\\sigma = 2\\sin(\\pi x)$. As initial condition we choose $T_0(x) = \\sin(2\\pi x)$. In that case, the exact solution of the equation reads,\n",
    "\n",
    "```{math}\n",
    ":label: eq:solution1DHeat\n",
    "T(x,t)=e^{-4\\pi^2\\alpha t}\\sin(2\\pi x) + \\frac{2}{\\pi^2\\alpha}(1-e^{-\\pi^2\\alpha t})\\sin(\\pi x).\n",
    "```\n",
    "\n",
    "To get started we import the `euler_step` function from the `steppers` module (see notebook 04_01_Advection for further details):"
   ]
  },
  {
   "cell_type": "code",
   "execution_count": 2,
   "id": "1997b3ff",
   "metadata": {},
   "outputs": [],
   "source": [
    "import sys\n",
    "sys.path.insert(0, '../modules')\n",
    "from steppers import euler_step"
   ]
  },
  {
   "cell_type": "markdown",
   "id": "925fa48b",
   "metadata": {},
   "source": [
    "The heat equation is solved using the following parameters. Note that we have set $F=0.49$."
   ]
  },
  {
   "cell_type": "code",
   "execution_count": 3,
   "id": "0e81589f",
   "metadata": {},
   "outputs": [],
   "source": [
    "# Physical parameters\n",
    "alpha = 0.1                     # Heat transfer coefficient\n",
    "lx = 1.                         # Size of computational domain\n",
    "\n",
    "# Grid parameters\n",
    "nx = 21                         # number of grid points \n",
    "dx = lx / (nx-1)                # grid spacing\n",
    "x = np.linspace(0., lx, nx)     # coordinates of grid points\n",
    "\n",
    "# Time parameters\n",
    "ti = 0.                         # initial time\n",
    "tf = 5.                         # final time\n",
    "fourier = 0.49                  # Fourier number\n",
    "dt = fourier*dx**2/alpha        # time step\n",
    "nt = int((tf-ti) / dt)          # number of time steps\n",
    "\n",
    "# Initial condition\n",
    "T0 = np.sin(2*np.pi*x)          # initial condition\n",
    "source = 2*np.sin(np.pi*x)      # heat source term"
   ]
  },
  {
   "cell_type": "markdown",
   "id": "d631e96c",
   "metadata": {},
   "source": [
    "In the function below we discretize the right-hand side of the heat equation using the centered finite difference formula of second-order accuracy:"
   ]
  },
  {
   "cell_type": "code",
   "execution_count": 4,
   "id": "fc743c79",
   "metadata": {},
   "outputs": [],
   "source": [
    "def rhs_centered(T, dx, alpha, source):\n",
    "    \"\"\"Returns the right-hand side of the 1D heat\n",
    "    equation based on centered finite differences\n",
    "    \n",
    "    Parameters\n",
    "    ----------\n",
    "    T : array of floats\n",
    "        solution at the current time-step.\n",
    "    dx : float\n",
    "        grid spacing\n",
    "    alpha : float\n",
    "        heat conductivity\n",
    "    source : array of floats\n",
    "        source term for the heat equation\n",
    "    \n",
    "    Returns\n",
    "    -------\n",
    "    f : array of floats\n",
    "        right-hand side of the heat equation with\n",
    "        Dirichlet boundary conditions implemented\n",
    "    \"\"\"\n",
    "    nx = T.shape[0]\n",
    "    f = np.empty(nx)\n",
    "    \n",
    "    f[1:-1] = alpha/dx**2 * (T[:-2] - 2*T[1:-1] + T[2:]) + source[1:-1]\n",
    "    f[0] = 0.\n",
    "    f[-1] = 0.\n",
    "    \n",
    "    return f"
   ]
  },
  {
   "cell_type": "markdown",
   "id": "80387082",
   "metadata": {},
   "source": [
    "We also define a function that returns the exact solution at any time $t$:"
   ]
  },
  {
   "cell_type": "code",
   "execution_count": 5,
   "id": "424ba0f6",
   "metadata": {},
   "outputs": [],
   "source": [
    "def exact_solution(x,t, alpha):\n",
    "    \"\"\"Returns the exact solution of the 1D\n",
    "    heat equation with heat source term sin(np.pi*x)\n",
    "    and initial condition sin(2*np.pi*x)\n",
    "    \n",
    "    Parameters\n",
    "    ----------\n",
    "    x : array of floats\n",
    "        grid points coordinates\n",
    "    t: float\n",
    "        time\n",
    "    \n",
    "    Returns\n",
    "    -------\n",
    "    f : array of floats\n",
    "        exact solution\n",
    "    \"\"\"\n",
    "    # Note the 'Pythonic' way to break the long line. You could\n",
    "    # split a long line using a backlash (\\) but the conventional\n",
    "    # way is to embrace your code in parenthesis.\n",
    "    #\n",
    "    # For more info we refer you to PEP8:\n",
    "    # https://www.python.org/dev/peps/pep-0008/#id19 \n",
    "    f = (np.exp(-4*np.pi**2*alpha*t) * np.sin(2*np.pi*x)\n",
    "      + 2.0*(1-np.exp(-np.pi**2*alpha*t)) * np.sin(np.pi*x) \n",
    "      / (np.pi**2*alpha))\n",
    "    \n",
    "    return f"
   ]
  },
  {
   "cell_type": "markdown",
   "id": "6f2ce14f",
   "metadata": {},
   "source": [
    "And now we perform the time stepping:"
   ]
  },
  {
   "cell_type": "code",
   "execution_count": 6,
   "id": "be155922",
   "metadata": {},
   "outputs": [],
   "source": [
    "T = np.empty((nt+1, nx))\n",
    "T[0] = T0.copy()\n",
    "\n",
    "for i in range(nt):\n",
    "    T[i+1] = euler_step(T[i], rhs_centered, dt, dx, alpha, source)"
   ]
  },
  {
   "cell_type": "code",
   "execution_count": 7,
   "id": "5bf6193a",
   "metadata": {},
   "outputs": [
    {
     "data": {
      "image/png": "[encoded data removed]",
      "text/plain": [
       "<Figure size 1000x500 with 1 Axes>"
      ]
     },
     "metadata": {
      "filenames": {
       "image/png": "/Users/bknaepen/Library/Mobile Documents/com~apple~CloudDocs/Documents/Workspace/courseMaterial/book_solving_pde_mooc/_build/jupyter_execute/solving_pde_mooc/notebooks/04_PartialDifferentialEquations/04_03_Diffusion_Explicit_15_0.png"
      }
     },
     "output_type": "display_data"
    }
   ],
   "source": [
    "# plot the solution at several times\n",
    "fig, ax = plt.subplots(figsize=(10, 5))\n",
    "\n",
    "ax.plot(x, T[0], label='Initial condition')\n",
    "ax.plot(x, T[int(0.5/dt)], color='green', label='$t=0.5$')\n",
    "ax.plot(x, T[-1], color='brown', label=f'$t={tf}$')\n",
    "ax.plot(x, exact_solution(x, 5.0, alpha), '*', label='Exact solution at $t=5$')\n",
    "\n",
    "\n",
    "ax.set_xlabel('$x$')\n",
    "ax.set_ylabel('$T$')\n",
    "ax.set_title('Heat transport with forward Euler scheme'\n",
    "             ' - forward finite differences')\n",
    "ax.legend();"
   ]
  },
  {
   "cell_type": "markdown",
   "id": "76000144",
   "metadata": {},
   "source": [
    "The solution looks qualitatively very good!\n",
    "\n",
    "Run the code again with a slightly larger Fourier number equal to $0.53$ and see what happens... The solution blows up and it is clear that the stability criteria needs to be satisfied to get a stable solution.\n",
    "\n",
    "At the beginning of this notebook we emphasized that we need better ways of checking the accuracy of our numerical solutions. To that end, let us create a function that returns the $L_2$-norm of the difference between two functions:"
   ]
  },
  {
   "cell_type": "code",
   "execution_count": 8,
   "id": "cce705f5",
   "metadata": {},
   "outputs": [],
   "source": [
    "def l2_diff(f1, f2):\n",
    "    \"\"\"\n",
    "    Computes the l2-norm of the difference\n",
    "    between a function f1 and a function f2\n",
    "    \n",
    "    Parameters\n",
    "    ----------\n",
    "    f1 : array of floats\n",
    "        function 1\n",
    "    f2 : array of floats\n",
    "        function 2\n",
    "    \n",
    "    Returns\n",
    "    -------\n",
    "    diff : float\n",
    "        The l2-norm of the difference.\n",
    "    \"\"\"\n",
    "    l2_diff = np.sqrt(np.sum((f1 - f2)**2))/f1.shape[0]\n",
    "    \n",
    "    return l2_diff"
   ]
  },
  {
   "cell_type": "markdown",
   "id": "fb3f4545",
   "metadata": {},
   "source": [
    "Using this function we can compute the relative error - in $L_2$-norm - of our computed solution compared to the exact solution:"
   ]
  },
  {
   "cell_type": "code",
   "execution_count": 9,
   "id": "03faea36",
   "metadata": {},
   "outputs": [
    {
     "name": "stdout",
     "output_type": "stream",
     "text": [
      "The L2-error made in the computed solution is 0.0006625553699606054\n"
     ]
    }
   ],
   "source": [
    "error = l2_diff(T[-1], exact_solution(x, tf, alpha)) \n",
    "print(f'The L2-error made in the computed solution is {error}')"
   ]
  },
  {
   "cell_type": "markdown",
   "id": "0f5b0005",
   "metadata": {},
   "source": [
    "This is already quite good: in terms of the $L_2$ norm, the error is quite small. There are two ways to improve this:\n",
    "\n",
    "1. Increase the number of grid points\n",
    "2. Decrease the time step\n",
    "\n",
    "Before we explore these possibilities, we provide a short tutorial on how to control the flow of Python loops and also introduce the `while` loop. These notions are very useful to make our codes more flexible and in particular control the convergence of our numerical solutions."
   ]
  },
  {
   "cell_type": "markdown",
   "id": "145b079e",
   "metadata": {},
   "source": [
    "## Python loops"
   ]
  },
  {
   "cell_type": "markdown",
   "id": "236075bd",
   "metadata": {},
   "source": [
    "### *for* and *while* loops"
   ]
  },
  {
   "cell_type": "markdown",
   "id": "46dcfc99",
   "metadata": {},
   "source": [
    "You are already well familiar with Python `for` loops. They are also called **definite loops** meaning that the number of iterations is known before entering the loop. `for` loops are useful when you need to iterate over a certain sequence, or, sticking to Python terminology, over a *collection*. There are generally [three concepts for `for` loops][1] in programming. The one that Python implements is called *Collection-Based loop*. Schematically the Collection-Based `for` loop in Python has the following syntax:\n",
    "\n",
    "```python\n",
    "for <element> in <collection>:\n",
    "    <do something>\n",
    "```\n",
    "\n",
    "`<collection>` must be *iterable*, or in other words it must be a sequence. For example you obviously cannot iterate over an integer or a function. The following code will raise Exceptions of type TypeError:\n",
    "\n",
    "```python\n",
    "for i in 785:\n",
    "    print(i)\n",
    "\n",
    "---------------------------------------------------------------\n",
    "TypeError                                 Traceback (most recent call last)\n",
    "<ipython-input-15-dec972479acc> in <module>\n",
    "----> 1 for i in 784:\n",
    "      2     print(i)\n",
    "\n",
    "TypeError: 'int' object is not iterable\n",
    "   \n",
    "```\n",
    "\n",
    "```python\n",
    "for i in len:\n",
    "    print(i)\n",
    "    \n",
    "---------------------------------------------------------------\n",
    "TypeError                                 Traceback (most recent call last)\n",
    "<ipython-input-17-28a55301f0c9> in <module>\n",
    "----> 1 for i in len:\n",
    "      2     print(i)\n",
    "\n",
    "TypeError: 'builtin_function_or_method' object is not iterable\n",
    "```\n",
    "\n",
    "[1]: <https://realpython.com/python-for-loop/#a-survey-of-definite-iteration-in-programming> \"Concepts of for loops\""
   ]
  },
  {
   "cell_type": "markdown",
   "id": "27ab058b",
   "metadata": {},
   "source": [
    "But what if we do *not* know the number of iterations we need to perform in advance? Imagine we have a `list` of $10000$ elements that are integers from $0$ to $9999$. Each integer only occurs once in the sequence but its location is *random*. We are determined to compute the index (location in the sequence) of the element that is equal to $7$. First, let's implement this sequence, so that we can think of the routes we could take to solve our little problem."
   ]
  },
  {
   "cell_type": "code",
   "execution_count": 10,
   "id": "0e8d46f4",
   "metadata": {},
   "outputs": [],
   "source": [
    "# This variable will store our solution - index of\n",
    "# the element that is equal to 7. We initially set\n",
    "# it -1 and change this value only if 7 is found \n",
    "# somewhere in the sequence (which should be the case\n",
    "# in our example)\n",
    "ind_of_seven = -1\n",
    "\n",
    "seq = np.linspace(0, 9999, 10000)"
   ]
  },
  {
   "cell_type": "markdown",
   "id": "0a4c1317",
   "metadata": {},
   "source": [
    "Right now our sequence is of course ordered. We can shuffle it using [Python's `random` module][2]:\n",
    "\n",
    "[2]: <https://docs.python.org/3/library/random.html> \"random module\""
   ]
  },
  {
   "cell_type": "code",
   "execution_count": 11,
   "id": "da35db92",
   "metadata": {},
   "outputs": [],
   "source": [
    "import random\n",
    "\n",
    "random.shuffle(seq)"
   ]
  },
  {
   "cell_type": "markdown",
   "id": "1995966a",
   "metadata": {},
   "source": [
    "Note that `random.shuffle` returns the `None` object. It basically takes advantage of that mutable (modifiable) objects, when passed as functions arguments, are passed by object reference in Python. Or in other words, the *function does not receive a copy of an object but its address in memory*, and so it can modify or *mutate* the original object. And a numpy array is a mutable (modifiable) object.\n",
    "\n",
    "But let's go back to our task. How are we going to approach it? In principle, we could use the `for` loop:"
   ]
  },
  {
   "cell_type": "code",
   "execution_count": 12,
   "id": "95543ebc",
   "metadata": {},
   "outputs": [
    {
     "name": "stdout",
     "output_type": "stream",
     "text": [
      "Location of 7 in the sequence: 5961\n"
     ]
    }
   ],
   "source": [
    "# The enumerate built-in function will manage elements'\n",
    "# indices for you. At each iteration it will return the\n",
    "# index of the current element and the element itself.\n",
    "# That's why we need two iteration variables instead of\n",
    "# usual one.\n",
    "#\n",
    "# For more info:\n",
    "# https://docs.python.org/3/library/functions.html#enumerate\n",
    "for i, elem in enumerate(seq):\n",
    "    if elem == 7:\n",
    "        ind_of_seven = i\n",
    "        \n",
    "if ind_of_seven >= 0:\n",
    "    print(f'Location of 7 in the sequence: {ind_of_seven}')\n",
    "else:\n",
    "    # Obviously this scenario should never happen.\n",
    "    print('Could not found 7 in the sequence')"
   ]
  },
  {
   "cell_type": "markdown",
   "id": "71600dad",
   "metadata": {},
   "source": [
    "We solved the problem but is our solution efficient or elegant? No. $7$ can end up being located at `i=9999` but the odds are obviously quite low. It means that most probably we are going to perform unnecessary iterations. It can be $5$ unnecessary iteration but it can as well be $9995$. **That is why there are `while` loops**. `while` loops are also called **indefinite loops**. They execute until a certain condition is satisfied. Schematically their syntax is the following:\n",
    "\n",
    "```python\n",
    "while <condition>:\n",
    "    <do things>\n",
    "```\n",
    "\n",
    "The loop will execute until `<condition>` evaluates to `False`. A straightforward way to exit a `while` loop is to modify `<condition>` inside the loop. It is also worth mentioning that the code snippet\n",
    "\n",
    "\n",
    "```python\n",
    "while True:\n",
    "    <do things>\n",
    "```\n",
    "\n",
    "implements the *infinite loop*. Normally infinite loop executes until you exceed memory limits.\n",
    "\n",
    "Let's approach our model problem with the `while` loop:"
   ]
  },
  {
   "cell_type": "code",
   "execution_count": 13,
   "id": "75855270",
   "metadata": {},
   "outputs": [
    {
     "name": "stdout",
     "output_type": "stream",
     "text": [
      "Location of 7 in the sequence: 5961\n"
     ]
    }
   ],
   "source": [
    "# Reset solution\n",
    "ind_of_seven = -1\n",
    "\n",
    "i = 0            # current index of element in sequence\n",
    "found = False    # will evaluate to True when 7 is found\n",
    "while not found:\n",
    "    if seq[i] == 7:\n",
    "        ind_of_seven = i\n",
    "        found = True\n",
    "    # Increment i to proceed to the next element of seq\n",
    "    i += 1\n",
    "    \n",
    "    \n",
    "if ind_of_seven >= 0:\n",
    "    print(f'Location of 7 in the sequence: {ind_of_seven}')\n",
    "else:\n",
    "    # Obviously this scenario should never happen.\n",
    "    print('Could not found 7 in the sequence')"
   ]
  },
  {
   "cell_type": "markdown",
   "id": "8123c4bb",
   "metadata": {},
   "source": [
    "Such solution is obviously the preferred one for our particular problem: *we performed exactly as many iterations as we needed*.\n",
    "\n",
    "To conclude this subsection we propose you to keep this philosophy in mind:\n",
    "- Use `for` loops if you know *exactly* the number of iterations you have to perform.\n",
    "- Use `while` loops if you don't know the number of iterations in advance but you know what is the condition for the loop to terminate.\n",
    "\n",
    "You might wonder if there is another way to exit a loop before reaching the end of the sequence (in the case of the `for` loop), or to satisfy a certain condition? What if you are running your code on a supercomputer where you have requested just one hour of computation time, you are out of time and your code is still running? Or what if you perform series of computations at each iteration, end up with a singularity in the beginning of an iteration, and want to immediately proceed to the next iteration to avoid a division by zero? There are tools in Python to cover such cases, and they are the `break` and `continue` statements."
   ]
  },
  {
   "cell_type": "markdown",
   "id": "5455e78d",
   "metadata": {},
   "source": [
    "### *break* and *continue* statements"
   ]
  },
  {
   "cell_type": "markdown",
   "id": "3aaf6c81",
   "metadata": {},
   "source": [
    "`break` and `continue` provide the possibility to terminate iterations *before* the entire body of the loop is executed.\n",
    "- `break` immediately terminates execution of the loop.\n",
    "- `continue` immediately terminates execution of the current iteration.\n",
    "\n",
    "The following little examples demonstrate the distinction between `break` and `continue`:"
   ]
  },
  {
   "cell_type": "code",
   "execution_count": 14,
   "id": "da2f0861",
   "metadata": {},
   "outputs": [
    {
     "name": "stdout",
     "output_type": "stream",
     "text": [
      "Using break statement: 0 1 2 3 4 \n",
      "Using continue statement: 0 1 2 3 4 6 7 8 9 "
     ]
    }
   ],
   "source": [
    "# Loop is terminated if i == 5: mind the output\n",
    "#\n",
    "# Note the optional argument of print - end. You can configure\n",
    "# what your output ends with - by default its '\\n' (new line).\n",
    "print('Using break statement: ', end='')\n",
    "for i in range(10):\n",
    "    if i == 5: break\n",
    "    print(i, end=' ')\n",
    "\n",
    "# Iteration is terminated if i == 5: mind the output\n",
    "print('\\nUsing continue statement: ', end='')\n",
    "for i in range(10):\n",
    "    if i == 5: continue\n",
    "    print(i, end=' ')"
   ]
  },
  {
   "cell_type": "markdown",
   "id": "9fb8c881",
   "metadata": {},
   "source": [
    "How would we approach more \"real life\" problems - for instance the ones assumed in the end of the previous subsection? Obviously the problem of the time limit excess is to be addressed using the `break` statement. Consider the following code snippet:\n",
    "\n",
    "```python\n",
    "# For safety we want to terminate in 55 minutes from now.\n",
    "timeout = time.time() + 55*60\n",
    "\n",
    "while True: # in principle infinite loop\n",
    "    <do things>  \n",
    "    # If the time limit has been reached, save data that has been computed\n",
    "    # to the files and terminate loop immediately.\n",
    "    if time.time() >= timeout:\n",
    "        <save data to the files>\n",
    "        break\n",
    "```\n",
    "\n",
    "This is the schematic example of how we would safely manage limited time resources. We have not only \"gracefully\" terminated our code but saved all the data we have collected to disk, so that it's not lost if we couldn't complete all of the iterations.\n",
    "\n",
    "Consider now the code snippet to address the problem of division by zero occurring for certain iterations:\n",
    "\n",
    "```python\n",
    "# sol is the matrix filled with solution of the linear system of equations\n",
    "# at each iteration, and i is the line of a matrix that is filled at the\n",
    "# current iteration. Therefore n here is the number of grid points and num\n",
    "# is the number of iterations.\n",
    "i = 0 \n",
    "sol = np.empty(num, n)\n",
    "\n",
    "for elem in <collection>: # collection contains num elements\n",
    "    <compute param>\n",
    "    # We assume param occurs in the denominator in the equations.\n",
    "    if param == 0:\n",
    "        # Delete the row of the matrix corresponding to the iteration\n",
    "        # that is to be skipped. In this case i doesn't need to be\n",
    "        # incremented.\n",
    "        sol = np.delete(sol, (i))\n",
    "        continue\n",
    "    <solve equations>\n",
    "    sol[i] = current_solution\n",
    "    # We now must increment i.\n",
    "    i += 1\n",
    "```\n",
    "\n",
    "As a result, we obtain a matrix `sol` of shape `(num-m, n)`, where `m` is the number of iterations, for which the singularity occurred. \n",
    "\n",
    "Note that this little demo does *not* implement optimal way of handling division by zero in Python. The more \"Pythonic\" approach is to use Exception handling. This is a more advanced topic of Python programming that is not covered in this course. You must know, though, that the above demo is perfectly valid for your understanding of the logic behind the use of the `continue` statement. *`continue` would still be used in the same manner if the algorithm is implemented using Exception handling*."
   ]
  },
  {
   "cell_type": "markdown",
   "id": "06dd4378",
   "metadata": {},
   "source": [
    "### *else* clause"
   ]
  },
  {
   "cell_type": "markdown",
   "id": "ac3fe7c7",
   "metadata": {},
   "source": [
    "Let's dig even deeper into the functionality of Python loops. Python implements something that is almost unique to this programming language: the `else` clause in loops. You could wonder how can there be `else` if there is no `if`? Indeed, `else` seems to make more sense along other conditional statements, such as `if` and `elif`. But `else` in loops is a convention that appears to be quite useful in some cases. Consider the following example using the `for` loop:"
   ]
  },
  {
   "cell_type": "code",
   "execution_count": 15,
   "id": "f9614d9d",
   "metadata": {},
   "outputs": [
    {
     "name": "stdout",
     "output_type": "stream",
     "text": [
      "I let the loop run to the end: 0 1 2 3 4 5 6 7 8 9 \n",
      "I have finished the loop.\n",
      "\n",
      "I use break statement to get out of the loop: 0 1 2 3 4 "
     ]
    }
   ],
   "source": [
    "print('I let the loop run to the end: ', end='')\n",
    "for i in range(10):\n",
    "    print(i, end=' ')\n",
    "else:\n",
    "    print('\\nI have finished the loop.')\n",
    "\n",
    "print('\\nI use break statement to get out of the loop: ', end='')\n",
    "for i in range(10):\n",
    "    if i == 5: break\n",
    "    print(i, end=' ')\n",
    "else:\n",
    "    print('\\nI never get here')"
   ]
  },
  {
   "cell_type": "markdown",
   "id": "ceaec2bf",
   "metadata": {},
   "source": [
    "You can conclude from the output that the `else` clause executes *only* when the loop terminates because we have reached the end of the sequence. In the case when we break out of the loop before the iterations have been exhausted, `else` clause *never* executes. \n",
    "\n",
    "The same logic applies to using `else` clause in `while` loops:"
   ]
  },
  {
   "cell_type": "code",
   "execution_count": 16,
   "id": "b4f9c115",
   "metadata": {},
   "outputs": [
    {
     "name": "stdout",
     "output_type": "stream",
     "text": [
      "I exit the loop by changing <condition> to False: I end up in the else clause.\n",
      "\n",
      "I use break statement to get out of the loop."
     ]
    }
   ],
   "source": [
    "seq = list(range(10))\n",
    "\n",
    "i = 0\n",
    "found = False\n",
    "\n",
    "print('I exit the loop by changing <condition> to False: ', end='')\n",
    "while not found:\n",
    "    # We don't want to exceed bounds of the sequence.\n",
    "    if i >= len(seq): break\n",
    "    if seq[i] == 5:\n",
    "        found = True\n",
    "    i += 1\n",
    "else:\n",
    "    print('I end up in the else clause.')\n",
    "\n",
    "# Reset index and boolean.\n",
    "i = 0\n",
    "found = False\n",
    "\n",
    "print('\\nI use break statement to get out of the loop.', end='')\n",
    "while not found:\n",
    "    # We don't want to exceed bounds of the sequence.\n",
    "    if i >= len(seq): break\n",
    "    if seq[i] == 999:\n",
    "        found = True\n",
    "    i += 1\n",
    "else:\n",
    "    print('\\nI never get here')"
   ]
  },
  {
   "cell_type": "markdown",
   "id": "a43dd08c",
   "metadata": {},
   "source": [
    "Usage of `else` clause allows you to shorten your code and make it more elegant. Imagine you wanted to perform extra computations but only in the case when a certain object has been found when executing the `while` loop. If not for the `else` clause, you would have to create a block of `if` conditional statement. This way you can perform these computation where they logically belong - at the end of the loop."
   ]
  },
  {
   "cell_type": "markdown",
   "id": "1ef7f67a",
   "metadata": {},
   "source": [
    "## Convergence of the numerical solution"
   ]
  },
  {
   "cell_type": "markdown",
   "id": "ee07517d",
   "metadata": {},
   "source": [
    "Now that we know how to control the flow of python loops, let's use this skill to study the convergence of our algorithm in more detail.\n",
    "\n",
    "Ideally, we would like to specify a maximum error for our solution and change the simulation parameters to meet this threshold. To do so we have to increase the number of grid points and reduce the time step.\n",
    "\n",
    "In practice we don't have access to the exact solution to measure the error - otherwise why would we bother solving the problem numerically? To overcome this difficulty, we have to perform what is known as *a convergence study*. The technique relies again on Taylor's theorem. When we design numerical algorithms, we do so in such a way that they have a given convergence rate: as we make the grid spacing and time step smaller and smaller, the solution should get closer and and closer to the exact solution. Therefore, at some point in the refinement process, the obtained solution should barely change as we refine the parameters further. When the difference between two consecutive solutions falls below a given threshold that we choose, we say that we have converged the solution up to a given precision.\n",
    "\n",
    "Let's rewrite our numerical procedure to implement this strategy. First we define the precision we want to achieve. Strictly speaking, this is not  really a precision but rather a measure of how well the numerical solution is converged:"
   ]
  },
  {
   "cell_type": "code",
   "execution_count": 17,
   "id": "a177894a",
   "metadata": {},
   "outputs": [],
   "source": [
    "precision = 1e-6"
   ]
  },
  {
   "cell_type": "markdown",
   "id": "bbd776b6",
   "metadata": {},
   "source": [
    "In the current problem, we have to vary two parameters: the grid spacing and the time step. However, we don't have to separately modify the time step as it is computed from the grid spacing to meet the stability criteria. To vary the grid spacing until convergence is met, we will use a `while` loop. This while loop iterates until the L2 difference between two consecutive solutions gets smaller than the precision. However, as we don't know in advance how many grid refinements are needed, we also add a `break` statement that exits the loop after a given number of grid refinements. This avoids having the computer to run for an excessively long time. If that's the case, it might be better to reconsider the discretization scheme and seek a higher order accurate discretization requiring fewer grid points for the same precision."
   ]
  },
  {
   "cell_type": "code",
   "execution_count": 18,
   "id": "05b07d9b",
   "metadata": {},
   "outputs": [],
   "source": [
    "# Physical parameters\n",
    "alpha = 0.1                    # Heat transfer coefficient\n",
    "lx = 1.                        # Size of computational domain\n",
    "ti = 0.0                       # Initial time\n",
    "tf = 5.0                       # Final time\n",
    "fourier = 0.49                 # Fourier number to ensure stability\n",
    "\n",
    "\n",
    "max_grid_refinements = 8\n",
    "grid_refinement = 1\n",
    "\n",
    "# Starting number of grid points\n",
    "nx = 3\n",
    "\n",
    "# Reference solution for comparison after first grid refinement.\n",
    "# It is arbitrarely set to zero\n",
    "Tref = np.zeros(nx)\n",
    "\n",
    "# Initial value for the difference before entering the while loop\n",
    "# Any value larger than precision is fine\n",
    "diff = 1."
   ]
  },
  {
   "cell_type": "code",
   "execution_count": 19,
   "id": "7e8eaae9",
   "metadata": {},
   "outputs": [
    {
     "name": "stdout",
     "output_type": "stream",
     "text": [
      "L2 difference after 1 grid refinement(s) (nx=5): 0.7081239220605324\n",
      "L2 difference after 2 grid refinement(s) (nx=9): 0.02404238267924408\n",
      "L2 difference after 3 grid refinement(s) (nx=17): 0.004590336332579714\n",
      "L2 difference after 4 grid refinement(s) (nx=33): 0.000864442170843211\n",
      "L2 difference after 5 grid refinement(s) (nx=65): 0.00015093478982971829\n"
     ]
    },
    {
     "name": "stdout",
     "output_type": "stream",
     "text": [
      "L2 difference after 6 grid refinement(s) (nx=129): 2.7452359086616254e-05\n"
     ]
    },
    {
     "name": "stdout",
     "output_type": "stream",
     "text": [
      "L2 difference after 7 grid refinement(s) (nx=257): 4.95663880945805e-06\n"
     ]
    },
    {
     "name": "stdout",
     "output_type": "stream",
     "text": [
      "L2 difference after 8 grid refinement(s) (nx=513): 8.796027749118885e-07\n",
      "\n",
      "Solution converged with required precision for 513 grid points\n"
     ]
    }
   ],
   "source": [
    "while (diff > precision):\n",
    "    \n",
    "    if grid_refinement > max_grid_refinements:\n",
    "        print('\\nSolution did not converged within the maximum'\n",
    "              ' allowed grid refinements')\n",
    "        print(f'Last number of grid points tested: nx = {nx}')\n",
    "        break\n",
    "    \n",
    "    # Grid parameters\n",
    "    nx = 2*nx - 1                  # At each grid refinement dx is divided by 2\n",
    "    dx = lx / (nx-1)               # grid spacing\n",
    "    x = np.linspace(0., lx, nx)    # coordinates of grid points\n",
    "\n",
    "    Tn = np.sin(2*np.pi*x)         # initial condition\n",
    "    source = 2.0*np.sin(np.pi*x)   # heat source term\n",
    "    \n",
    "    dt = fourier*dx**2/alpha       # time step\n",
    "    nt = int((tf-ti)/dt)           # number of time steps\n",
    "    \n",
    "    # Time stepping\n",
    "    for i in range(nt):\n",
    "        Tnp1 = euler_step(Tn, rhs_centered, dt, dx, alpha, source)\n",
    "        Tn = Tnp1.copy()\n",
    "    \n",
    "    # diff computation\n",
    "    # Note how we sliced the Tnp1 array. As the grid has been\n",
    "    # refined by a factor of 2, we need to keep every other point\n",
    "    # when comparing with Tref.\n",
    "    diff = l2_diff(Tnp1[::2], Tref)\n",
    "    # Pay attention that when you break an f-string in Python\n",
    "    # the 'f' specifier must preceed each string segment starting\n",
    "    # from the new line.\n",
    "    print(f'L2 difference after {grid_refinement} grid refinement(s)'\n",
    "          f' (nx={nx}): {diff}')\n",
    "    \n",
    "    # Perform another grid refinement but\n",
    "    # break if we have reached the maximum\n",
    "    # number of refinements allowed\n",
    "    grid_refinement += 1\n",
    "        \n",
    "    # Store the new reference solution\n",
    "    Tref = Tnp1.copy()\n",
    "    \n",
    "else:\n",
    "    print(f'\\nSolution converged with required precision'\n",
    "          f' for {nx} grid points')"
   ]
  },
  {
   "cell_type": "markdown",
   "id": "00162811",
   "metadata": {},
   "source": [
    "The code tells us that by going from $nx=257$ to $nx=513$, the L2-norm of the difference between the solutions has gotten below $10^{-6}$. If that's the precision we want to achieve we now we can stop there and we know we are fine with $nx=513$.\n",
    "\n",
    "Rerun the above code after setting `precision = 1e-7` and see what happens. You should get a message informing you that the solution could not be converged within the required precision. This means that our break statement was useful; without it, the computations could run for a very long time before stopping.\n",
    "\n",
    "For reference, we also compare the converged solution (`nx=513`) with the exact solution:"
   ]
  },
  {
   "cell_type": "code",
   "execution_count": 20,
   "id": "8a62aade",
   "metadata": {},
   "outputs": [
    {
     "name": "stdout",
     "output_type": "stream",
     "text": [
      "The L2-error made in the computed solution is 2.0316335156903923e-07\n"
     ]
    }
   ],
   "source": [
    "diff_exact = l2_diff(Tnp1, exact_solution(x, 5., alpha))\n",
    "print(f'The L2-error made in the computed solution is {diff_exact}')"
   ]
  },
  {
   "cell_type": "markdown",
   "id": "8c68f8cc",
   "metadata": {},
   "source": [
    "The strategy of comparing the solutions while refining the grid worked very well. By doing so, we converged towards the exact solution and the L2 norm of the error is about $10^{-7}$."
   ]
  },
  {
   "cell_type": "markdown",
   "id": "43e5cdcc",
   "metadata": {},
   "source": [
    "## Summary\n",
    "\n",
    "In this notebook we have discretized the one dimensional heat equation and analyzed its stability. We have shown that the restriction on the time step is quite strong as it scales with $\\Delta x^2$. We also provided a tutorial on how to control the flow of Python loop. We then explained how to monitor the accuracy of our numerical solution by using performing a *convergence study*. In this method, one checks the accuracy of the solution by refining the temporal and spatial discretization parameters until the solution remains unchanged up to a chosen accuracy. In the next notebook we will revisit the discretization of the heat equation using implicit time advancements schemes."
   ]
  }
 ],
 "metadata": {
  "jupytext": {
   "formats": "ipynb,md:myst",
   "notebook_metadata_filter": "toc",
   "text_representation": {
    "extension": ".md",
    "format_name": "myst",
    "format_version": 0.13,
    "jupytext_version": "1.10.3"
   }
  },
  "kernelspec": {
   "display_name": "Python 3",
   "language": "python",
   "name": "python3"
  },
  "language_info": {
   "codemirror_mode": {
    "name": "ipython",
    "version": 3
   },
   "file_extension": ".py",
   "mimetype": "text/x-python",
   "name": "python",
   "nbconvert_exporter": "python",
   "pygments_lexer": "ipython3",
   "version": "3.10.6"
  },
  "source_map": [
   26,
   34,
   38,
   45,
   60,
   64,
   203,
   207,
   211,
   231,
   235,
   265,
   269,
   298,
   302,
   310,
   325,
   333,
   354,
   358,
   361,
   370,
   374,
   378,
   418,
   422,
   431,
   437,
   441,
   447,
   465,
   486,
   505,
   515,
   519,
   527,
   542,
   590,
   594,
   598,
   611,
   617,
   646,
   650,
   654,
   664,
   666,
   670,
   694,
   741,
   749,
   752,
   756
  ],
  "toc": {
   "base_numbering": 1,
   "nav_menu": {},
   "number_sections": true,
   "sideBar": true,
   "skip_h1_title": true,
   "title_cell": "Table of Contents",
   "title_sidebar": "Contents",
   "toc_cell": true,
   "toc_position": {},
   "toc_section_display": true,
   "toc_window_display": false
  }
 },
 "nbformat": 4,
 "nbformat_minor": 5
}