{
 "cells": [
  {
   "cell_type": "markdown",
   "id": "40436885",
   "metadata": {},
   "source": [
    "# One dimensional heat equation: implicit methods\n",
    "\n",
    "\n",
    "## Introduction"
   ]
  },
  {
   "cell_type": "markdown",
   "id": "d636e5cc",
   "metadata": {},
   "source": [
    "For convenience, we start by importing some modules needed below:"
   ]
  },
  {
   "cell_type": "code",
   "execution_count": 1,
   "id": "daa2514c",
   "metadata": {},
   "outputs": [],
   "source": [
    "import numpy as np\n",
    "import matplotlib.pyplot as plt\n",
    "\n",
    "%matplotlib inline\n",
    "\n",
    "plt.style.use('../styles/mainstyle.use')"
   ]
  },
  {
   "cell_type": "markdown",
   "id": "71cc3e1d",
   "metadata": {},
   "source": [
    "In the previous notebook we have described some explicit methods to solve the one dimensional heat equation;\n",
    "\n",
    "```{math}\n",
    ":label: eq:1Dheat2\n",
    "   \\partial_t T(x,t) = \\alpha \\frac{d^2 T} {dx^2}(x,t) + \\sigma (x,t).\n",
    "```\n",
    "\n",
    "where $T$ is the temperature and $\\sigma$ is an optional heat source term.\n",
    "\n",
    "In all cases considered, we have observed that stability of the algorithm requires a restriction on the time step proportional to $\\Delta x^2$. As this is rather restrictive, we focus here on some implicit methods and see how they compare."
   ]
  },
  {
   "cell_type": "markdown",
   "id": "5230eb94",
   "metadata": {},
   "source": [
    "## Backward Euler method"
   ]
  },
  {
   "cell_type": "markdown",
   "id": "927a064d",
   "metadata": {},
   "source": [
    "We begin by considering the backward Euler time advancement scheme in combination with the second-order accurate centered finite difference formula for $d^2T/dx^2$ and we do not include the source term for the stability analysis.\n",
    "\n",
    "We recall that for a generic ordinary differential equation $y'=f(y,t)$, the backward Euler method is,\n",
    "\n",
    "```{math}\n",
    "y^{n+1} = y^{n} + \\Delta t f(y^{n+1},t).\n",
    "```\n",
    "\n",
    "In our case, the discretization is therefore,\n",
    "\n",
    "```{math}\n",
    "\\frac{T^{n+1}_i - T^n_i}{\\Delta t}=\\alpha \\frac{T^{n+1}_{i-1}-2T^{n+1}_i+T^{n+1}_{i+1}}{\\Delta x^2}\n",
    "```\n",
    "\n",
    "In matrix notation this is equivalent to:\n",
    "\n",
    "```{math}\n",
    "    (I-A)\\boldsymbol{T}^{n+1} = \\boldsymbol{T}^{n}\\; \\; \\Leftrightarrow \\; \\; (I-A)^{n+1}\\boldsymbol{T}^{n+1} = \\boldsymbol{T}^{0},\n",
    "```\n",
    "\n",
    "where $I$ is the identity matrix. If we adopt Dirichlet boundary conditions, the matrix $A$ is identical to its counterpart for the forward Euler scheme (see previous notebook). For reference, the eigenvalues $m_k$ of $A$ are real and negative:\n",
    "\n",
    "```{math}\n",
    "m_k = 2\\frac{\\alpha dt}{dx^2}\\left(\\cos\\left(\\frac{\\pi k}{nx-1}\\right)-1\\right),\\; k=1,\\ldots, nx-2.\n",
    "```\n",
    "\n",
    "If we diagonalize $A$ and denote by $\\boldsymbol z=(z_1,\\ldots,z_{nx-2})$ the coordinates of $\\boldsymbol T$ in the basis of eigenvectors, we have:\n",
    "\n",
    "```{math}\n",
    "(I-\\Lambda)^{n+1} \\boldsymbol z^{n+1} = \\boldsymbol z^0 \n",
    "```\n",
    "\n",
    "where $\\Lambda$ is the diagonal matrix containing the eigenvalues of $A$. Each of the $nx-2$ decoupled equations may therefore be written as:\n",
    "\n",
    "```{math}\n",
    "z_k^{n+1} = \\left(\\frac{1}{1-m_k}\\right)^{n+1} z_k^0 \n",
    "```\n",
    "\n",
    "Since $m_k < 0\\; \\forall k$, all the coordinates $z_k$ remain bounded and the algorithm is unconditionally stable.\n",
    "\n",
    "We can also examine the stability of the algorithm for the case of periodic boundary conditions using the modified wavenumber analysis. We adopt the same notations as in the previous notebook and get the same expression for the evolution of the Fourier modes,\n",
    "\n",
    "```{math}\n",
    ":label: eq:matHeatBackwardEulerFourier\n",
    "    \\frac{d\\hat T(k_m,t)}{dt}&=\\alpha\\left(\\frac{e^{-ik_m \\Delta x} - 2 + e^{ik_m \\Delta x}}{\\Delta x^2}\\right) \\hat{T}(k_m,t) \\\\\n",
    "    &= -\\alpha k_m'^2 \\hat T(k_m,t) \\nonumber\n",
    "```\n",
    "\n",
    "with the modified wavenumbers being real and defined by,\n",
    "\n",
    "```{math}\n",
    "k_m'^2 = \\frac{2}{\\Delta x^2}(1 - \\cos(k_m \\Delta x)).\n",
    "```\n",
    "\n",
    "Because all the coefficients $-\\alpha k_m'^2$ are real and negative, the Fourier components remain bounded if we discretize eq. {eq}`eq:matHeatBackwardEulerFourier` using the backward time integration method. The algorithm is therefore also unconditionally stable in the case of periodic boundary conditions."
   ]
  },
  {
   "cell_type": "markdown",
   "id": "bec59a17",
   "metadata": {},
   "source": [
    "## Crank-Nicolson method\n",
    "\n",
    "A popular method for discretizing the diffusion term in the heat equation is the Crank-Nicolson scheme. It is a second-order accurate implicit method that is defined for a generic equation $y'=f(y,t)$ as:\n",
    "\n",
    "```{math}\n",
    "\\frac{y^{n+1} - y^n}{\\Delta t} = \\frac12(f(y^{n+1}, t^{n+1}) + f(y^n, t^n)).\n",
    "```\n",
    "\n",
    "You should check that this method is indeed second-order accurate in time by expanding $f(y^{n+1}, t^{n+1})$ in Taylor series.\n",
    "\n",
    "For the heat equation, the Crank-Nicolson method yields the following expression:\n",
    "\n",
    "```{math}\n",
    ":label: eq:heatCN\n",
    "\\frac{T^{n+1}_i - T^n_i}{\\Delta t}=\\frac{\\alpha}{2} \\left(\\frac{T^{n+1}_{i-1}-2T^{n+1}_i+T^{n+1}_{i+1}}{\\Delta x^2}  + \n",
    "\\frac{T^{n}_{i-1}-2T^{n}_i+T^{n}_{i+1}}{\\Delta x^2}\\right)\n",
    "```\n",
    "\n",
    "In matrix form (assuming Dirichlet boundary conditions), this is equivalent to:\n",
    "\n",
    "```{math}\n",
    "    (I-A_{cn})\\boldsymbol{T}^{n+1} = (I+A_{cn})\\boldsymbol{T}^{n}.\n",
    "```\n",
    "\n",
    "with $A_{cn}$ being the same matrix as in the previous section except for the prefactor that is now $\\displaystyle\\frac{\\alpha \\Delta t}{2\\Delta x^2}$.\n",
    "\n",
    "Both sides of the equation can be diagonalized using the same eigenvectors. Therefore, the coordinates of $\\boldsymbol{T}$ in the basis of eigenvectors evolve according to:\n",
    "\n",
    "```{math}\n",
    "    (I-\\frac{\\Lambda}{2}) \\boldsymbol z^{n+1} = (I+\\frac{\\Lambda}{2})\\boldsymbol z^n \\Rightarrow \\boldsymbol z^{n}_k = \\left(\\frac{1+m_k/2}{1-m_k/2}\\right)^n z^0_k.\n",
    "```\n",
    "\n",
    "Since $m_k < 0\\; \\forall k$, all the coordinates $z_k$ remain again bounded and the algorithm is unconditionally stable.\n",
    "\n",
    "In the case of periodic boundary conditions, we may again study the stability of the method by decomposing the temperature field in Fourier modes. According to eq. {eq}`eq:heatCN` we get:\n",
    "\n",
    "```{math}\n",
    "    \\frac{\\hat T^{n+1}(k_m)-\\hat T^{n}(k_m)}{\\Delta t}= \\frac{\\alpha}{2\\Delta x^2}((&2\\cos(k_m\\Delta x)-2)\\hat T^{n+1}(k_m) \\\\ &+(2\\cos(k_m\\Delta x)-2)\\hat T^{n}(k_m))\n",
    "```\n",
    "\n",
    "or equivalently\n",
    "\n",
    "```{math}\n",
    "    \\hat T^{n+1}(k_m) = \\frac{1-\\frac{\\alpha \\Delta t}{\\Delta x^2}(1-\\cos(k_m\\Delta x))}{1+\\frac{\\alpha \\Delta t}{\\Delta x^2}(1-\\cos(k_m\\Delta x))}\\hat T^{n}(k_m).\n",
    "```\n",
    "\n",
    "As the denominator is always larger than the numerator, all the Fourier modes remain bounded and we conclude again the algorithm is unconditionally stable.\n",
    "\n",
    "Let's use these implicit methods and compare them with the forward Euler method that we used in the previous notebook."
   ]
  },
  {
   "cell_type": "markdown",
   "id": "b31c3072",
   "metadata": {},
   "source": [
    "## Numerical solution\n",
    "\n",
    "To test the above numerical methods we use the same example as in the previous notebook. \n",
    "The source term in eq. {eq}`eq:1Dheat2` is $\\sigma = 2\\sin(\\pi x)$ and the initial condition is $T_0(x) = \\sin(2\\pi x)$. To make the algorithms work a bit more, we increase the diffusivity parameter to $\\alpha=0.1$. The exact solution of the equation is,\n",
    "\n",
    "```{math}\n",
    "T(x,t)=e^{-4\\pi^2\\alpha t}\\sin(2\\pi x) + \\frac{2}{\\pi^2\\alpha}(1-e^{-\\alpha\\pi^2 t})\\sin(\\pi x).\n",
    "```\n",
    "\n",
    "To get started we import some helper functions. The corresponding modules are part of the course's `module` directory and its path has to be added to the Python search path. The only exception is the `pde_module` that is located in the current notebook's directory, as it is not useful for other notebooks."
   ]
  },
  {
   "cell_type": "code",
   "execution_count": 2,
   "id": "1f3dafcb",
   "metadata": {},
   "outputs": [],
   "source": [
    "import sys\n",
    "sys.path.insert(0, '../modules')\n",
    "\n",
    "# Euler step functions\n",
    "from steppers import euler_step\n",
    "\n",
    "# Function to compute an error in L2 norm\n",
    "from norms import l2_diff\n",
    "\n",
    "# Function to compute d^2 / dx^2 with second-order \n",
    "# accurate centered scheme\n",
    "from matrices import d2_mat_dirichlet\n",
    "\n",
    "# Function for the RHS of the heat equation and\n",
    "# exact solution of our example problem\n",
    "from pde_module import rhs_heat_centered, exact_solution"
   ]
  },
  {
   "cell_type": "markdown",
   "id": "9bcec149",
   "metadata": {},
   "source": [
    "Physical and grid parameters to achieve a precision smaller than $10^{-6}$ in L2-norm:"
   ]
  },
  {
   "cell_type": "code",
   "execution_count": 3,
   "id": "462d3fb7",
   "metadata": {},
   "outputs": [],
   "source": [
    "# Physical parameters\n",
    "alpha = 0.1                    # Heat transfer coefficient\n",
    "lx = 1.                        # Size of computational domain\n",
    "ti = 0.0                       # Initial time\n",
    "tf = 5.0                       # Final time\n",
    "\n",
    "# Grid parameters\n",
    "nx = 513                       # number of grid points\n",
    "dx = lx / (nx-1)               # grid spacing\n",
    "x = np.linspace(0., lx, nx)    # coordinates of grid points"
   ]
  },
  {
   "cell_type": "markdown",
   "id": "fb2fc90e",
   "metadata": {},
   "source": [
    "To evaluate how much faster we can get our solution with the implicit scheme, we will time our algorithms. The first one we consider is the forward Euler scheme using the Euler step function. We know that in that case, we have to use a Fourier number $F<0.5$ (see the notebook `04_03_Diffusion_Explicit`).\n",
    "\n",
    "**Forward Euler method in component form:**"
   ]
  },
  {
   "cell_type": "code",
   "execution_count": 4,
   "id": "57fa8a69",
   "metadata": {},
   "outputs": [],
   "source": [
    "# Time parameters\n",
    "fourier = 0.49                      # Fourier number\n",
    "dt = fourier*dx**2/alpha            # time step\n",
    "nt = int((tf-ti) / dt)              # number of time steps\n",
    "\n",
    "# Solution parameters\n",
    "T0 = np.sin(2*np.pi*x)              # initial condition\n",
    "source = 2*np.sin(np.pi*x)          # heat source term\n",
    "sol = exact_solution(x, tf, alpha)  # Exact solution"
   ]
  },
  {
   "cell_type": "code",
   "execution_count": 5,
   "id": "b78551d3",
   "metadata": {},
   "outputs": [],
   "source": [
    "T = np.empty((nt+1, nx)) # Allocate storage for the solution\n",
    "T[0] = T0.copy()         # Set the initial condition"
   ]
  },
  {
   "cell_type": "code",
   "execution_count": 6,
   "id": "a804a9c2",
   "metadata": {},
   "outputs": [
    {
     "name": "stdout",
     "output_type": "stream",
     "text": [
      "2.49 s ± 88.7 ms per loop (mean ± std. dev. of 7 runs, 1 loop each)\n"
     ]
    }
   ],
   "source": [
    "%%timeit\n",
    "for i in range(nt):\n",
    "    T[i+1] = euler_step(T[i], rhs_heat_centered, dt, dx, alpha, source)"
   ]
  },
  {
   "cell_type": "code",
   "execution_count": 7,
   "id": "665f90e3",
   "metadata": {},
   "outputs": [
    {
     "name": "stdout",
     "output_type": "stream",
     "text": [
      "The L2-error made in the computed solution is 2.0316335156903923e-07\n",
      "Time integration required 267493 steps\n"
     ]
    }
   ],
   "source": [
    "diff_exact = l2_diff(T[-1], sol)\n",
    "print(f'The L2-error made in the computed solution is {diff_exact}')\n",
    "print(f'Time integration required {nt} steps')"
   ]
  },
  {
   "cell_type": "markdown",
   "id": "9f8139ec",
   "metadata": {},
   "source": [
    "Using $nx=513$, the accuracy is below our set target but it requires $267493$ time steps."
   ]
  },
  {
   "cell_type": "markdown",
   "id": "6684b4b5",
   "metadata": {},
   "source": [
    "**Forward Euler method in matrix form**\n",
    "\n",
    "For the implicit methods, we need to perform matrix multiplications to time advance the solution. As an extra test, we also evaluate the efficiency of the forward Euler scheme in matrix form to assess the time penalty required by the matrix multiplications.\n",
    "\n",
    "In this case, the time stepping is performed with:\n",
    "```{math}\n",
    "    \\boldsymbol{T}^{n+1} = (I+A)\\boldsymbol{T}^{n}\n",
    "```\n",
    "\n",
    "The needed matrices are computed as follows:"
   ]
  },
  {
   "cell_type": "code",
   "execution_count": 8,
   "id": "c4089747",
   "metadata": {},
   "outputs": [],
   "source": [
    "# d^2 / dx^2 matrix with Dirichlet boundary conditions\n",
    "D2 = d2_mat_dirichlet(nx, dx)     \n",
    "\n",
    "# I+A matrix\n",
    "M = np.eye(nx-2) + alpha*dt*D2"
   ]
  },
  {
   "cell_type": "markdown",
   "id": "f4ba4f32",
   "metadata": {},
   "source": [
    "Timing of the solution:"
   ]
  },
  {
   "cell_type": "code",
   "execution_count": 9,
   "id": "6f6abcb7",
   "metadata": {},
   "outputs": [],
   "source": [
    "T[0] = T0.copy()         # Set the initial condition"
   ]
  },
  {
   "cell_type": "code",
   "execution_count": 10,
   "id": "c309197c",
   "metadata": {},
   "outputs": [
    {
     "name": "stdout",
     "output_type": "stream",
     "text": [
      "4.69 s ± 726 ms per loop (mean ± std. dev. of 7 runs, 1 loop each)\n"
     ]
    }
   ],
   "source": [
    "%%timeit\n",
    "for i in range(nt):\n",
    "    T[i+1, 1:-1] = np.dot(M, T[i, 1:-1]) + source[1:-1]*dt\n",
    "\n",
    "# Set the boundary values\n",
    "T[-1,0] = 0.\n",
    "T[-1,-1] = 0."
   ]
  },
  {
   "cell_type": "code",
   "execution_count": 11,
   "id": "10cf7f30",
   "metadata": {},
   "outputs": [
    {
     "name": "stdout",
     "output_type": "stream",
     "text": [
      "The L2-error made in the computed solution is 2.031633425988164e-07\n",
      "Time integration required 267493 steps\n"
     ]
    }
   ],
   "source": [
    "diff_exact = l2_diff(T[-1], sol)\n",
    "print(f'The L2-error made in the computed solution is {diff_exact}')\n",
    "print(f'Time integration required {nt} steps')"
   ]
  },
  {
   "cell_type": "markdown",
   "id": "9c2f922d",
   "metadata": {},
   "source": [
    "As expected, the algorithm in matrix form gives nearly identical results as in component form. The tiny differences are due to round-off errors. \n",
    "\n",
    "We note that the algorithm implemented in a matrix form is two times slower than that implemented in a component form.\n",
    "\n",
    "Let's turn our attention to the implicit algorithms. For these, there is no limit on the time step but we still want to achieve the desired precision.\n",
    "\n",
    "**Backward Euler method**\n",
    "\n",
    "For this method, we have determined empirically that the desired precision is achieved by setting the Fourier number to $F=10$. To check this, let's apply the algorithm:"
   ]
  },
  {
   "cell_type": "code",
   "execution_count": 12,
   "id": "353738fc",
   "metadata": {},
   "outputs": [],
   "source": [
    "fourier = 10                   # Fourier number\n",
    "dt = fourier*dx**2/alpha       # time step\n",
    "nt = int((tf-ti) / dt)         # number of time steps\n",
    "\n",
    "# I-A matrix\n",
    "M = np.eye(nx-2) - alpha*dt*D2\n",
    "Minv = np.linalg.inv(M)"
   ]
  },
  {
   "cell_type": "code",
   "execution_count": 13,
   "id": "262b971a",
   "metadata": {},
   "outputs": [],
   "source": [
    "T = np.empty((nt+1, nx)) # Allocate storage for the solution    \n",
    "T[0] = T0.copy()         # Set the initial condition"
   ]
  },
  {
   "cell_type": "markdown",
   "id": "cde3605a",
   "metadata": {},
   "source": [
    "Timing of the solution:"
   ]
  },
  {
   "cell_type": "code",
   "execution_count": 14,
   "id": "b9833832",
   "metadata": {},
   "outputs": [
    {
     "name": "stdout",
     "output_type": "stream",
     "text": [
      "185 ms ± 5.96 ms per loop (mean ± std. dev. of 7 runs, 1 loop each)\n"
     ]
    }
   ],
   "source": [
    "%%timeit\n",
    "for i in range(nt):\n",
    "    T[i+1, 1:-1] = np.dot(Minv, T[i, 1:-1] + source[1:-1]*dt)\n",
    "\n",
    "# Set boundary values\n",
    "T[-1,0] = 0\n",
    "T[-1,-1] = 0"
   ]
  },
  {
   "cell_type": "code",
   "execution_count": 15,
   "id": "03e3002c",
   "metadata": {},
   "outputs": [
    {
     "name": "stdout",
     "output_type": "stream",
     "text": [
      "The L2-error made in the computed solution is 2.6677344754043943e-07\n",
      "Time integration required 13107 steps\n"
     ]
    }
   ],
   "source": [
    "diff_exact = l2_diff(T[-1], sol)\n",
    "print(f'The L2-error made in the computed solution is {diff_exact}')\n",
    "print(f'Time integration required {nt} steps')"
   ]
  },
  {
   "cell_type": "markdown",
   "id": "203cd5b7",
   "metadata": {},
   "source": [
    "Using the backward Euler method, the number of time steps has been reduced by a factor of 20 and the execution time by a factor 10 compared to the forward Euler method in component form!"
   ]
  },
  {
   "cell_type": "markdown",
   "id": "00253dd7",
   "metadata": {},
   "source": [
    "**Crank-Nicolson method**\n",
    "\n",
    "The last method we consider here is the Crank-Nicolson method. This methods is second-order accurate in time so we can expect even better improvement. After some testing, we have determined that the Fourier number could be raised to a value of $55$. Let's check this:"
   ]
  },
  {
   "cell_type": "code",
   "execution_count": 16,
   "id": "62011869",
   "metadata": {},
   "outputs": [],
   "source": [
    "fourier = 55              # Fourier number\n",
    "dt = fourier*dx**2/alpha  # time step\n",
    "\n",
    "nt = int((tf-ti)/dt)      # number of time steps\n",
    "\n",
    "# I-0.5*A matrix + inverse\n",
    "A = np.eye(nx-2) - 0.5*alpha*dt*D2\n",
    "Ainv = np.linalg.inv(A)\n",
    "\n",
    "# I+0.5*A matric\n",
    "B = np.eye(nx-2) + 0.5*alpha*dt*D2\n",
    "\n",
    "# (I+0.5A)^{-1} * (I-0.5*A)\n",
    "C = np.dot(Ainv, B)"
   ]
  },
  {
   "cell_type": "code",
   "execution_count": 17,
   "id": "008405fc",
   "metadata": {},
   "outputs": [],
   "source": [
    "T = np.empty((nt+1, nx)) # Allocate storage for the solution    \n",
    "T[0] = T0.copy()         # Set the initial condition"
   ]
  },
  {
   "cell_type": "code",
   "execution_count": 18,
   "id": "9b9b4dbf",
   "metadata": {},
   "outputs": [
    {
     "name": "stdout",
     "output_type": "stream",
     "text": [
      "81.5 ms ± 3.19 ms per loop (mean ± std. dev. of 7 runs, 10 loops each)\n"
     ]
    }
   ],
   "source": [
    "%%timeit\n",
    "\n",
    "for i in range(nt):\n",
    "    T[i+1, 1:-1] = np.dot(C, T[i, 1:-1]) + np.dot(Ainv,source[1:-1]*dt)\n",
    "\n",
    "# Set boundary values\n",
    "T[-1,0] = 0\n",
    "T[-1,-1] = 0"
   ]
  },
  {
   "cell_type": "code",
   "execution_count": 19,
   "id": "e42aba40",
   "metadata": {},
   "outputs": [
    {
     "name": "stdout",
     "output_type": "stream",
     "text": [
      "The L2-error made in the computed solution is 7.082191177848767e-08\n",
      "Time integration required 2383 steps\n"
     ]
    }
   ],
   "source": [
    "diff_exact = l2_diff(T[-1], sol)\n",
    "print(f'The L2-error made in the computed solution is {diff_exact}')\n",
    "print(f'Time integration required {nt} steps')"
   ]
  },
  {
   "cell_type": "markdown",
   "id": "207cf3ea",
   "metadata": {},
   "source": [
    "The number of time steps has been further reduced by a factor of 5 and the execution time is approximately 30 times faster than that with the forward Euler method!"
   ]
  },
  {
   "cell_type": "markdown",
   "id": "989177f6",
   "metadata": {},
   "source": [
    "## Summary"
   ]
  },
  {
   "cell_type": "markdown",
   "id": "3f6b2b4c",
   "metadata": {},
   "source": [
    "In this notebook we have discussed implicit discretization techniques for the the one-dimensional heat equation. These are particularly useful as explicit scheme requires a time step scaling with $dx^2$. We have shown that the backward Euler and Crank-Nicolson methods are unconditionally stable for this problem. Although they require more complex arithmetical operations than explicit schemes, they result in very significant reduction in computational cost. These reductions are problem dependent because achieving enough accuracy depends on several factors. However, the discussion indicates that it is always important to explore the various algorithms when trying to solve a numerical problem and there is vast literature available to do this."
   ]
  }
 ],
 "metadata": {
  "jupytext": {
   "formats": "ipynb,md:myst",
   "notebook_metadata_filter": "toc",
   "text_representation": {
    "extension": ".md",
    "format_name": "myst",
    "format_version": 0.13,
    "jupytext_version": "1.10.3"
   }
  },
  "kernelspec": {
   "display_name": "Python 3",
   "language": "python",
   "name": "python3"
  },
  "language_info": {
   "codemirror_mode": {
    "name": "ipython",
    "version": 3
   },
   "file_extension": ".py",
   "mimetype": "text/x-python",
   "name": "python",
   "nbconvert_exporter": "python",
   "pygments_lexer": "ipython3",
   "version": "3.9.6"
  },
  "source_map": [
   26,
   34,
   38,
   45,
   58,
   62,
   120,
   172,
   185,
   202,
   206,
   217,
   223,
   235,
   240,
   246,
   250,
   254,
   267,
   273,
   277,
   281,
   291,
   295,
   307,
   317,
   320,
   324,
   334,
   338,
   342,
   348,
   365,
   370,
   381,
   385,
   389,
   393
  ],
  "toc": {
   "base_numbering": 1,
   "nav_menu": {},
   "number_sections": true,
   "sideBar": true,
   "skip_h1_title": true,
   "title_cell": "Table of Contents",
   "title_sidebar": "Contents",
   "toc_cell": true,
   "toc_position": {},
   "toc_section_display": true,
   "toc_window_display": false
  }
 },
 "nbformat": 4,
 "nbformat_minor": 5
}