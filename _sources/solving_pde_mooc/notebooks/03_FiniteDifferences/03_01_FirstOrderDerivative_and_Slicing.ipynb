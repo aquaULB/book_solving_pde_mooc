{
 "cells": [
  {
   "cell_type": "markdown",
   "id": "380a6590",
   "metadata": {},
   "source": [
    "# First-order derivative and slicing\n",
    "\n",
    "\n",
    "## Introduction\n",
    "\n",
    "For convenience, we start with importing some modules needed below:"
   ]
  },
  {
   "cell_type": "code",
   "execution_count": 1,
   "id": "440379d9",
   "metadata": {},
   "outputs": [],
   "source": [
    "import numpy as np\n",
    "import matplotlib.pyplot as plt\n",
    "\n",
    "%matplotlib inline\n",
    "\n",
    "plt.style.use('../styles/mainstyle.use')"
   ]
  },
  {
   "cell_type": "markdown",
   "id": "874204e1",
   "metadata": {},
   "source": [
    "In this part of the course we describe how to compute numerically derivatives of functions such as,\n",
    "\n",
    "```{math}\n",
    ":label: eq:testfunc\n",
    "f(x)=e^x \\sin(3\\pi x)\n",
    "```\n",
    "\n",
    "There are several conceptually different ways to do this. Following the same approach as for time integration, we can rely on Taylor's theorem to use the value of $f(x)$ at some neighboring points of $x$. This approach relies on what are known as finite differences. Another way to compute derivatives relies on decomposing the function $f(x)$ on a basis of functions $T_k(x)$ and computing the derivatives of $f(x)$ from the known derivatives of $T_k(x)$. This method is known as the spectral method and will be described later on in the course.\n",
    "\n",
    "Let $x$ be the continuous variable defined in the interval $x\\in[x_0,x_n]$. In any numerical problem, we have to limit the number of points at which we store the values of $f(x)$ because the random access memory (RAM) of our computers is limited. We therefore need to introduce an approximation of our continuous interval - the numerical grid. It is a set of grid points at which we evaluate all physical quantities.\n",
    "\n",
    "For simplicity consider a uniform grid in which the $n+1$ grid points are evenly distributed. Therefore the coordinates of the grid points are:\n",
    "\n",
    "```{math}\n",
    " x_i = i \\Delta x, \\; \\; 0\\leq i \\leq n\n",
    "```\n",
    "\n",
    "with the endpoints of the grid located respectively at $x_0$ and $x_n$.\n",
    "\n",
    "We will refer to the continuous variable defined in $[x_0,x_n]$ by $x$, and to its discrete representation by $x_i$. $x_i$ is called a *grid point* or sometimes a *grid node*. The value of some function $f(x)$ at the grid point $x_i$ is then denoted as $f_i$.\n",
    "\n",
    "Using these notations, the approximation of a derivative through a finite-difference expression is generically given by:\n",
    "\n",
    "```{math}\n",
    ":label: eq:diffgeneric\n",
    "f^{(k)}_i = \\frac{1}{(\\Delta x)^k}\\sum_{j\\in\\mathcal{J}}c_j f_{i+j},\n",
    "```\n",
    "\n",
    "where $k$ represents the order of derivative, $\\mathcal{J}$ is called the *stencil* - the group of points used to build the finite-difference approximation - and $c_j$ is the finite-difference coefficient defined at the stencil point of index $j$.\n",
    "\n",
    "## First-order derivative\n",
    "\n",
    "As an example of how the finite-difference approximation for a derivative of a given order can be derived, let us consider the first-order derivative of $f(x)$. According to Taylor's theorem, we can approximate $f(x+\\Delta x)$ as follows:\n",
    "\n",
    "```{math}\n",
    ":label: TaylorSer\n",
    "f(x+\\Delta x)= f(x)+f'(x)\\Delta x+O(\\Delta x^2).\n",
    "```\n",
    "\n",
    "Expression {eq}`TaylorSer` is exact and allows us to get the following expression for the first-order derivative of $f$ at point $x$:\n",
    "\n",
    "```{math}\n",
    ":label: eq:forwardTaylorDiff1\n",
    "f'(x) = \\frac{f(x+\\Delta x) - f(x)}{\\Delta x}+O(\\Delta x)\n",
    "```\n",
    "\n",
    "This expression is the usual right derivative of $f(x)$.\n",
    "\n",
    "To approximate {eq}`eq:forwardTaylorDiff1` on the grid $x_0, x_1,\\dots, x_i,\\dots x_{n-1}, x_n$, we define the following first-order accurate approximation of $f'$ at $x_i$:\n",
    "\n",
    "```{math}\n",
    ":label: eq:forwardNodal\n",
    "f^{' \\rm f}_i = \\frac{f_{i+1} - f_i}{\\Delta x},\\;\\; \\hbox{forward finite difference}.\n",
    "```\n",
    "\n",
    "The stencil for this expression is given by the sequence `[0, 1]`, where `0` stands for the point at which the derivative is evaluated, and the corresponding finite-difference coefficients are `[-1, 1]` (see {eq}`eq:diffgeneric`).\n",
    "\n",
    "In the following figure we illustrate the stencil and mark in red the points involved in the computation:\n",
    "\n",
    "<img width=\"600px\" src=\"../figures/forwardDiff1.png\">\n",
    "\n",
    "Above the stencil, we display the quantity computed, and below the stencil we display the quantities involved in its computations.\n",
    "\n",
    "It is important to highlight that the *enumeration of a stencil has nothing to do with the enumeration of the grid points*. The enumeration of grid points usually starts at one of the grid boundaries ($x_0$ in our cases) and ends at another boundary. The enumeration of a stencil is characteristic of each particular approximation. The stencil point labeled $0$ corresponds to the grid point at which the derivative is being approximated. The stencil indices then decrease to the left of this point and increase to its right. This is why in the above example the stencil is `[0, 1]`.\n",
    "\n",
    "In the above stencil, we use two grid points - $x_i$ and $x_{i+1}$ - to obtain a first-order accurate expression for the first-order derivative at $x_i$. It is obvious that the forward finite difference formula {eq}`eq:forwardNodal` cannot be used at the right boundary node $x_n$. In section [One-sided finite differences](#One-sided-finite-differences), we discuss how the boundary nodes can be handled when the derivatives are being evaluated using finite differences.\n",
    "\n",
    "Let us now define the backward finite-differences scheme in an identical manner. As Taylor's theorem is valid for $x$ in the interval $a < x-\\Delta x \\le x \\le x+\\Delta x < b$, we can approximate $f(x-\\Delta x)$ as follows:\n",
    "\n",
    "```{math}\n",
    "f(x-\\Delta x) \\approx f(x) - f'(x)\\Delta x. \n",
    "```\n",
    "\n",
    "We can then define the first-order accurate backward finite-differences formula for the first-order derivative of $f(x)$ at $x_i$ as:\n",
    "\n",
    "```{math}\n",
    ":label: eq:backwardNodal\n",
    "f^{'\\rm b}_i = \\frac{f_i - f_{i-1}}{\\Delta x}, \\;\\; \\hbox{backward finite difference}. \n",
    "```\n",
    "\n",
    "It is based on the right derivative $f'(x)$. Highlighting in red the stencil points used to build expression {eq}`eq:backwardNodal`, we have:\n",
    "\n",
    "<img width=\"600px\" src=\"../figures/backwardDiff1.png\">\n",
    "\n",
    "As the forward finite-difference approximation cannot be used at the right boundary node $x_n$, the backward finite-difference approximation cannot be used at the left boundary node $x_0$. We also note that $f^{'\\rm b}_{i+1} = f^{'\\rm f}_i$.\n",
    "\n",
    "Let us now derive a higher-order accurate approximation for $f'(x)$. Resorting again to Taylor's theorem we write:\n",
    "\n",
    "```{math}\n",
    "& f(x+\\Delta x) \\approx f(x)+f'(x)\\Delta x+\\frac12 f''(x)\\Delta x^2 \\\\\n",
    "& f(x-\\Delta x) \\approx f(x)-f'(x)\\Delta x+\\frac12 f''(x)\\Delta x^2.\n",
    "```\n",
    "\n",
    "We substract equations both equations and get:\n",
    "\n",
    "```{math}\n",
    ":label: eq:centeredTaylorDiff\n",
    "f'(x) = \\frac{f(x+\\Delta x) - f(x-\\Delta x)}{2\\Delta x}+O(\\Delta x^2),\n",
    "```\n",
    "\n",
    "which leads us to the second-order accurate approximation of $f'(x)$ at $x_i$:\n",
    "\n",
    "```{math}\n",
    ":label: eq:centeredDiff\n",
    "f^{' \\rm c}_i = \\frac{f_{i+1} - f_{i-1}}{2\\Delta x},\\;\\; \\hbox{centered finite difference}.\n",
    "```\n",
    "\n",
    "This expression is called the centered finite difference first-order derivative and its stencil looks like this:\n",
    "\n",
    "<img width=\"600px\" src=\"../figures/centeredDiff1.png\">\n",
    "\n",
    "Using just two grid points, it's not possible to achieve an accuracy of higher order than $2$. The centered finite-difference scheme cannot be used both at the left or right boundary nodes of the grid.\n",
    "\n",
    "Let us check that our formulas are correct. We first create a fine grid to accurately represent the function {eq}`eq:testfunc` and its derivative in the interval $x\\in [0, \\pi]$."
   ]
  },
  {
   "cell_type": "code",
   "execution_count": 2,
   "id": "5073754d",
   "metadata": {},
   "outputs": [],
   "source": [
    "pi = np.pi       # 3.14...\n",
    "nx = 200         # number of grid points (fine grid)\n",
    "lx = pi          # length of the interval\n",
    "dx = lx / (nx-1) # grid spacing"
   ]
  },
  {
   "cell_type": "code",
   "execution_count": 3,
   "id": "1e37af82",
   "metadata": {},
   "outputs": [],
   "source": [
    "x = np.linspace(0, lx, nx)   # coordinates in the fine grid\n",
    "f = np.exp(x)*np.sin(3*pi*x) # function in the fine grid\n",
    "\n",
    "# Let us build a numpy array for the exact repre-\n",
    "# sentation of the first-order derivative of f(x).\n",
    "dfdx = np.exp(x)*(np.sin(3*pi*x) + 3*pi*np.cos(3*pi*x))"
   ]
  },
  {
   "cell_type": "markdown",
   "id": "470acd57",
   "metadata": {},
   "source": [
    "We have built a numpy array for the exact expression of the first-order derivative of $f(x)$. But what if we worked with a complicated function or required expressions for higher-order derivatives? It is useful to keep in mind that there is Python package just for that - for symbolic computations - [SymPy][20]. We won't get into details and leave it to you to explore SymPy. Note that SymPy is not part of the basic distribution of Anaconda, you would have to install it. \n",
    "\n",
    "Sympy supports [basic symbolic calculus][21], and provides [tools][22] to transform symbolic data to numerical representation. \n",
    "\n",
    "[20]: <https://docs.sympy.org/latest/index.html> \"SymPy\"\n",
    "[21]: <https://docs.sympy.org/latest/tutorial/calculus.html> \"Basic calculus\"\n",
    "[22]: <https://docs.sympy.org/latest/modules/utilities/lambdify.html?highlight=lambdify> \"From symbolic to numerical data\""
   ]
  },
  {
   "cell_type": "markdown",
   "id": "7bc9ff60",
   "metadata": {},
   "source": [
    "To experiment with our finite-difference approximations, we build a coarse grid with $80$ points, and evaluate the derivative:"
   ]
  },
  {
   "cell_type": "code",
   "execution_count": 4,
   "id": "20711123",
   "metadata": {},
   "outputs": [],
   "source": [
    "# We don't care about overwriting grid variables,\n",
    "# as we are not using them further than for con-\n",
    "# struction of x and f(x) arrays.\n",
    "nx = 80          # number of grid points (coarse grid)\n",
    "lx = pi          # length of interval\n",
    "dx = lx / (nx-1) # grid spacing"
   ]
  },
  {
   "cell_type": "code",
   "execution_count": 5,
   "id": "ecd192a6",
   "metadata": {},
   "outputs": [],
   "source": [
    "x_c = np.linspace(0, lx, nx)       # coordinates of the coarse grid points\n",
    "f_c = np.exp(x_c)*np.sin(3*pi*x_c) # function on the coarse grid\n",
    "\n",
    "# We create containers for the forward, backward\n",
    "# and centered finite difference points.\n",
    "df_forward = np.empty(nx)\n",
    "df_backward = np.empty(nx)\n",
    "df_centered = np.empty(nx)\n",
    "\n",
    "# We fill arrays in the Python loops, so that\n",
    "# you can explicitely see what grid nodes have\n",
    "# been taken into account.\n",
    "for i in range(0, nx-1): # last grid point is omitted\n",
    "    df_forward[i] = (f_c[i+1] - f_c[i]) / dx\n",
    "    \n",
    "for i in range(1, nx): # first grid point is omitted\n",
    "    df_backward[i] = (f_c[i] - f_c[i-1]) / dx\n",
    "\n",
    "for i in range(1, nx-1): # first and last grid points are omitted\n",
    "    df_centered[i] = (f_c[i+1] - f_c[i-1]) / (2*dx)"
   ]
  },
  {
   "cell_type": "markdown",
   "id": "e0698574",
   "metadata": {},
   "source": [
    "Let us now plot the forward, backward and centered finite-difference approximations of the first-order derivative of $f(x)$ against the curve obtained with the exact expression:"
   ]
  },
  {
   "cell_type": "code",
   "execution_count": 6,
   "id": "4ed900a7",
   "metadata": {},
   "outputs": [
    {
     "data": {
      "image/png": "[encoded data removed]",
      "text/plain": [
       "<Figure size 1200x500 with 3 Axes>"
      ]
     },
     "metadata": {
      "filenames": {
       "image/png": "/Users/bknaepen/Library/Mobile Documents/com~apple~CloudDocs/Documents/Workspace/courseMaterial/book_solving_pde_mooc/_build/jupyter_execute/solving_pde_mooc/notebooks/03_FiniteDifferences/03_01_FirstOrderDerivative_and_Slicing_10_0.png"
      }
     },
     "output_type": "display_data"
    }
   ],
   "source": [
    "fig, ax = plt.subplots(1, 3, figsize=(12, 5), tight_layout=True)\n",
    "\n",
    "fig.suptitle('Forward, backward and centered finite differences vs exact derivative')\n",
    "\n",
    "for axis in ax:\n",
    "    axis.set_xlim(x[0], x[-1])\n",
    "    \n",
    "    axis.set_xlabel('$x$')\n",
    "    axis.set_ylabel(\"f'\")\n",
    "\n",
    "ax[0].plot(x, dfdx)\n",
    "ax[0].plot(x_c[0:nx-1], df_forward[0: nx-1], '^g')\n",
    "\n",
    "ax[1].plot(x, dfdx)\n",
    "ax[1].plot(x_c[1:nx], df_backward[1: nx], '^m')\n",
    "\n",
    "ax[2].plot(x, dfdx)\n",
    "ax[2].plot(x_c[1:nx-1], df_centered[1: nx-1], '^c');"
   ]
  },
  {
   "cell_type": "markdown",
   "id": "06c507ca",
   "metadata": {},
   "source": [
    "What do you think about the agreement? What happens when you increase the number of points in the coarse grid?\n",
    "\n",
    "In the above cell, we have used the slicing of numpy arrays to extract the relevant entries from our arrays. For example, for the forward finite difference, the expression is not defined at the last grid point. Therefore, the relevant grid coordinates are not the complete `x_c` array but the *slice* `x_c[0:nx-1]`. For the centered finite differences we must exclude the first and last grid points. The appropriate coordinate array slice is then `x_c[1:nx-1]`. The notions of slicing of Python sequences are described in much more detail in the next section."
   ]
  },
  {
   "cell_type": "markdown",
   "id": "257b4e25",
   "metadata": {},
   "source": [
    "## Python slicing"
   ]
  },
  {
   "cell_type": "markdown",
   "id": "f5a126e7",
   "metadata": {},
   "source": [
    "### Motivation and syntax"
   ]
  },
  {
   "cell_type": "markdown",
   "id": "776588b4",
   "metadata": {},
   "source": [
    "We already mentioned a powerful tool of Python: negative indexing. When the programmer tries to access elements of the sequence by referring to a negative index, the enumeration of the elements starts from the tail of the sequence. Let's say we have a Python list,"
   ]
  },
  {
   "cell_type": "code",
   "execution_count": 7,
   "id": "803aff08",
   "metadata": {},
   "outputs": [],
   "source": [
    "a = [\n",
    "    'first',\n",
    "    'second',\n",
    "    'third'\n",
    "]"
   ]
  },
  {
   "cell_type": "markdown",
   "id": "86c194fe",
   "metadata": {},
   "source": [
    "and we want to iterate through its elements starting from `a[2]` to `a[0]`. It is a valid and even preferrable approach to do it using the negative indexing:"
   ]
  },
  {
   "cell_type": "code",
   "execution_count": 8,
   "id": "114da27c",
   "metadata": {},
   "outputs": [
    {
     "name": "stdout",
     "output_type": "stream",
     "text": [
      "index: -1, value: third.\n",
      "index: -2, value: second.\n",
      "index: -3, value: first.\n"
     ]
    }
   ],
   "source": [
    "for i in range(-1, -4, -1):\n",
    "    print(f\"index: {i}, value: {a[i]}.\")"
   ]
  },
  {
   "cell_type": "markdown",
   "id": "704c3f52",
   "metadata": {},
   "source": [
    "Now that we are fully equipped in terms of knowledge about Python indexing, let's proceed to the Python slicing. Python slicing provides simple access to subsequences in Python sequences and spares programmers the necessity to loop explicitly, as we would do in C++, for example. Moreover, Python slicing [is implemented in C and precompiled][30], so, it's considerably faster than the corresponding code implemented with a Python loop.\n",
    "\n",
    "The syntax for Python slicing is the following `sequence[i:j:k]`. `i` and `j` are respectively the start and the stop indices, while `k` is the step. Therefore, the slice is built from the sequence elements with indices: $i, i+k, i+2k, \\dots, i+nk < j$. **Always remember that `sequence[i]` is included in the slice while `sequence[j]` is not.**\n",
    "\n",
    "Below, we will use the notation `sequence[start:stop:step]` to be explicit about the meaning of the indices.\n",
    "\n",
    "Consider the following demo. First, we create large Python list.\n",
    "\n",
    "[30]: <https://github.com/python/cpython/blob/master/Objects/sliceobject.c> \"Slicing source\""
   ]
  },
  {
   "cell_type": "code",
   "execution_count": 9,
   "id": "8eeb90d1",
   "metadata": {},
   "outputs": [],
   "source": [
    "large_sequence = [i for i in range(10**5)]"
   ]
  },
  {
   "cell_type": "markdown",
   "id": "b016dae0",
   "metadata": {},
   "source": [
    "Suppose we want to extract the sublist with the first element equal to `large_sequence[5]` and the last element equal to `large_sequence[99994]`. We could just create an empty list and fill it in a loop."
   ]
  },
  {
   "cell_type": "code",
   "execution_count": 10,
   "id": "6795ed5c",
   "metadata": {},
   "outputs": [
    {
     "name": "stdout",
     "output_type": "stream",
     "text": [
      "7.4 ms ± 115 µs per loop (mean ± std. dev. of 7 runs, 100 loops each)\n"
     ]
    }
   ],
   "source": [
    "%%timeit\n",
    "\n",
    "i_was_filled_in_a_loop = []\n",
    "\n",
    "for i in range(5, 99995): # i ranges from 5 to 99994\n",
    "    i_was_filled_in_a_loop.append(large_sequence[i])"
   ]
  },
  {
   "cell_type": "markdown",
   "id": "906cc29e",
   "metadata": {},
   "source": [
    "But the more efficient way is to apply Python slicing:"
   ]
  },
  {
   "cell_type": "code",
   "execution_count": 11,
   "id": "86584d1e",
   "metadata": {},
   "outputs": [
    {
     "name": "stdout",
     "output_type": "stream",
     "text": [
      "238 µs ± 18.1 µs per loop (mean ± std. dev. of 7 runs, 1,000 loops each)\n"
     ]
    }
   ],
   "source": [
    "%timeit slice_of_it = large_sequence[5:99995]"
   ]
  },
  {
   "cell_type": "markdown",
   "id": "bf5bff2a",
   "metadata": {},
   "source": [
    "or as,"
   ]
  },
  {
   "cell_type": "code",
   "execution_count": 12,
   "id": "56fa7fac",
   "metadata": {},
   "outputs": [
    {
     "name": "stdout",
     "output_type": "stream",
     "text": [
      "243 µs ± 6.57 µs per loop (mean ± std. dev. of 7 runs, 1,000 loops each)\n"
     ]
    }
   ],
   "source": [
    "%timeit slice_of_it = large_sequence[5:-5]"
   ]
  },
  {
   "cell_type": "markdown",
   "id": "1657ea75",
   "metadata": {},
   "source": [
    "Python slicing obviously executes faster. Try to avoid Python loops when you can slice instead.\n",
    "\n",
    "When slicing as we did: `large_sequence[5:-5]`, we use Python slicing together with negative indexing. `5` stands for `start` and `-5` stands for `stop`. `step` is not specified, so it is set to `1` implicitly. What if we do not specify `start` or `stop`, or if we even omit *any* indexing when slicing?"
   ]
  },
  {
   "cell_type": "code",
   "execution_count": 13,
   "id": "daa6637b",
   "metadata": {},
   "outputs": [
    {
     "name": "stdout",
     "output_type": "stream",
     "text": [
      "['first', 'second', 'third', 'fourth', 'fifth', 'sixth']\n"
     ]
    }
   ],
   "source": [
    "# We now add a few elements to the a list for the\n",
    "# sake of doing a demo.\n",
    "#\n",
    "# list.extend method differs from list.append.\n",
    "# list.append adds an item as the last element\n",
    "# of the list, while list.extend expects a se-\n",
    "# quence as an argument and appends all its ele-\n",
    "# ments to the list one by one.\n",
    "#\n",
    "# For more info:\n",
    "# https://docs.python.org/3/tutorial/datastructures.html\n",
    "a.extend(['fourth', 'fifth', 'sixth'])\n",
    "print(a)"
   ]
  },
  {
   "cell_type": "markdown",
   "id": "fdfd146a",
   "metadata": {},
   "source": [
    "* Slicing when `start` is omitted"
   ]
  },
  {
   "cell_type": "code",
   "execution_count": 14,
   "id": "05e8d811",
   "metadata": {},
   "outputs": [
    {
     "name": "stdout",
     "output_type": "stream",
     "text": [
      "['first', 'second', 'third']\n",
      "['first', 'second', 'third', 'fourth', 'fifth']\n"
     ]
    }
   ],
   "source": [
    "# We pass few arguments to the print function.\n",
    "# When they are outputted, they are separated by\n",
    "# the value passed to the sep argument (its default\n",
    "# value is set to ' ').\n",
    "print(a[:3], a[:5], sep='\\n')"
   ]
  },
  {
   "cell_type": "markdown",
   "id": "ac32a3a1",
   "metadata": {},
   "source": [
    "The output basically tells us that when `start` is omitted it is implicitly set to `0`. Slicing a sequence with `sequence[:n]` is equivalent to *extracting subsequence of first $n$ elements*. It is important to keep in mind that the above statement concerns the case of `step > 0`. Consider the following example:"
   ]
  },
  {
   "cell_type": "code",
   "execution_count": 15,
   "id": "660fe26a",
   "metadata": {},
   "outputs": [
    {
     "name": "stdout",
     "output_type": "stream",
     "text": [
      "['sixth', 'fifth']\n"
     ]
    }
   ],
   "source": [
    "print(a[:-3:-1])"
   ]
  },
  {
   "cell_type": "markdown",
   "id": "4409ce87",
   "metadata": {},
   "source": [
    "Obviously, slicing in such a way is equivalent to doing `a[5:-3:-1]` or `a[-1:-3:-1]`. More generally, `sequence[:-n:-1]` is *extracting a subsequence consisting of the last $n-1$ elements enumerated from the tail of the sequence*."
   ]
  },
  {
   "cell_type": "markdown",
   "id": "d975aeb6",
   "metadata": {},
   "source": [
    "* Slicing when `stop` is omitted"
   ]
  },
  {
   "cell_type": "code",
   "execution_count": 16,
   "id": "d7f03f0f",
   "metadata": {},
   "outputs": [
    {
     "name": "stdout",
     "output_type": "stream",
     "text": [
      "['third', 'fifth']\n",
      "['sixth']\n",
      "['fifth', 'fourth', 'third', 'second', 'first']\n"
     ]
    }
   ],
   "source": [
    "print(a[2::2], a[5:], a[4::-1], sep='\\n')"
   ]
  },
  {
   "cell_type": "markdown",
   "id": "158972bb",
   "metadata": {},
   "source": [
    "If `stop` is omitted, `sequence[n::step]` for `step > 0` extracts the relevant elements from index n up to (and including) the last element of the sequence. If the `step < 0`, `sequence[n::step]` extracts the relevant elements from index n down to (and including) the first element of the sequence."
   ]
  },
  {
   "cell_type": "markdown",
   "id": "19a19d44",
   "metadata": {},
   "source": [
    "* Slicing when `start` and `stop` are omitted"
   ]
  },
  {
   "cell_type": "code",
   "execution_count": 17,
   "id": "1c0d0456",
   "metadata": {},
   "outputs": [
    {
     "name": "stdout",
     "output_type": "stream",
     "text": [
      "['first', 'second', 'third', 'fourth', 'fifth', 'sixth']\n",
      "['first', 'third', 'fifth']\n",
      "['sixth', 'fifth', 'fourth', 'third', 'second', 'first']\n"
     ]
    }
   ],
   "source": [
    "print(a[:], a[::2], a[::-1], sep='\\n')"
   ]
  },
  {
   "cell_type": "markdown",
   "id": "71773d87",
   "metadata": {},
   "source": [
    "Let's summarize our little tests by the exact citations taken from [documentation][31]:\n",
    "\n",
    "Consider the slice sequence `s` taken as follows: `s[i:j:k]`, then\n",
    "\n",
    "> If *i* or *j* are omitted or `None`, they become “end” values (which end depends on the sign of *k*). Note, *k* cannot be zero. If *k* is `None`, it is treated like `1`.\n",
    "\n",
    "That is pretty much what we've observed so far. We would comment on that `k` cannot be zero. This limitation implies that the implementation of this case raises an [exception][32] of type `ValueError`. By default occurrences of uncaught exceptions terminate code execution. We won't get into the details of the treatment of exceptions, but you can read about it on your own if you are interested.\n",
    "\n",
    "We would also cite another important piece of documentation on sequences slicing:\n",
    "\n",
    "> If *i* or *j* is greater than `len(s)`, use `len(s)`.\n",
    "\n",
    "What is so curious about it exactly? Consider the following examples:\n",
    "\n",
    "[31]: <https://docs.python.org/dev/library/stdtypes.html#sequence-types-list-tuple-range> \"Docs on Slicing sequences\"\n",
    "[32]: <https://docs.python.org/3/tutorial/errors.html> \"Errors and Exceptions\""
   ]
  },
  {
   "cell_type": "code",
   "execution_count": 18,
   "id": "e5076236",
   "metadata": {},
   "outputs": [
    {
     "name": "stdout",
     "output_type": "stream",
     "text": [
      "['first', 'second', 'third', 'fourth', 'fifth', 'sixth']\n",
      "['sixth', 'fifth', 'fourth', 'third', 'second', 'first']\n"
     ]
    }
   ],
   "source": [
    "print(a[:1000], a[350::-1], sep='\\n')"
   ]
  },
  {
   "cell_type": "markdown",
   "id": "a8d7f00a",
   "metadata": {},
   "source": [
    "Do you see the point now? **Index overflow does not raise exception in Python slicing**.\n",
    "\n",
    "And another important property of slicing:\n",
    "\n",
    "> If *i* is greater than or equal to *j*, the slice is empty.\n",
    "\n",
    "Note that this particular statement concerns the case of `step > 0`. Similarly, in the case `step < 0`, if `j` is greater than or equal to `i`, the slice is empty. Consider the demo:"
   ]
  },
  {
   "cell_type": "code",
   "execution_count": 19,
   "id": "c98f72d9",
   "metadata": {},
   "outputs": [
    {
     "name": "stdout",
     "output_type": "stream",
     "text": [
      "[]\n",
      "[]\n",
      "[]\n"
     ]
    }
   ],
   "source": [
    "print(a[10:1:1], a[1:10:-1], a[3:3], sep='\\n')"
   ]
  },
  {
   "cell_type": "markdown",
   "id": "77cae98e",
   "metadata": {},
   "source": [
    "### Referenced or copied?"
   ]
  },
  {
   "cell_type": "markdown",
   "id": "9bc52720",
   "metadata": {},
   "source": [
    "The important question to ask when you create one object from another in Python, is *whether I am copying or referencing it?* In other words, *does my old object get modified when I modify the new one?*\n",
    "\n",
    "This question is deeply rooted in the meaning of the `=` symbol in Python. In Python, the symbol `=` is used to *assign* the value on its right-hand side to the variable on the left-hand side.\n",
    "\n",
    "When you write this very simple statement,\n",
    "\n",
    "```python\n",
    "a=1\n",
    "```"
   ]
  },
  {
   "cell_type": "markdown",
   "id": "9f78d53a",
   "metadata": {},
   "source": [
    "Python does two things:\n",
    "\n",
    "* it creates an integer objects in memory containing the value 1\n",
    "* it attaches (assigns) the name `a` to this location in memory\n",
    "\n",
    "You have to remember that `a` is just a shortcut or name for the object containing the integer $1$. For numbers, this does not create much confusion. Consider for example the following lines of code:"
   ]
  },
  {
   "cell_type": "code",
   "execution_count": 20,
   "id": "e0ac9f52",
   "metadata": {},
   "outputs": [
    {
     "name": "stdout",
     "output_type": "stream",
     "text": [
      "Initial value of b: 1\n",
      "Value of b after re-assignment: 2\n",
      "Value of a after re-assignment: 1\n"
     ]
    }
   ],
   "source": [
    "a = 1\n",
    "b = a\n",
    "print(f'Initial value of b: {b}')\n",
    "b = 2\n",
    "print(f'Value of b after re-assignment: {b}')\n",
    "print(f'Value of a after re-assignment: {a}')"
   ]
  },
  {
   "cell_type": "markdown",
   "id": "907d0319",
   "metadata": {},
   "source": [
    "Things behave quite intuitively. For lists or arrays, one needs to pay special attention. Consider another example:"
   ]
  },
  {
   "cell_type": "code",
   "execution_count": 21,
   "id": "10a154a2",
   "metadata": {},
   "outputs": [
    {
     "name": "stdout",
     "output_type": "stream",
     "text": [
      "Initial value of b: [0, 1, 2, 3]\n",
      "Value of b after re-assignment: [5, 1, 2, 3]\n",
      "Value of a after re-assignment: [5, 1, 2, 3]\n"
     ]
    }
   ],
   "source": [
    "a = [0, 1, 2, 3]\n",
    "b = a\n",
    "print(f'Initial value of b: {b}')\n",
    "b[0] = 5\n",
    "print(f'Value of b after re-assignment: {b}')\n",
    "print(f'Value of a after re-assignment: {a}')"
   ]
  },
  {
   "cell_type": "markdown",
   "id": "fa196629",
   "metadata": {},
   "source": [
    "Do you notice something intriguing? The content of the list `a` has been modified by the statement `b[0]=5`. Let's discuss why this is so.\n",
    "\n",
    "The first line of code creates 4 integer objects and a list object. It gives the name `a` to this list. `a[0], a[1], a[2], a[3]` are just shortcuts for the integer objects storing the values `0, 1, 2, 3`.\n",
    "\n",
    "In the second line of code, we give another name to the list; we tell the code that `a` and `b` are two different names pointing to the same list. `b[0], b[1], b[2], b[3]` are then names pointing to the same integer objects as `a[0], a[1], a[2], a[3]`. For that reason, the initial `print` statement outputs the content of the list `a`. \n",
    "\n",
    "The statement `b[0]=5` then creates another integer object storing the value $5$ and `b[0]` becomes a shortcut to this new object. The list `b` is obviously affected. But the system has been told that `a` and `b` are nicknames for the same list. Note that we have not re-assigned `b` to another list, we have only changed the content of the list; this is allowed as a list in Python is mutable (you can change its content). So `a[0]` now also points to the integer object storing $5$ and this explains the output produced by the last print statement.\n",
    "\n",
    "If you really want to change the content of the list `b` without affecting `a`, you need to create a separate copy of `a` and give that copy the name `b`. This can be done as follows:"
   ]
  },
  {
   "cell_type": "code",
   "execution_count": 22,
   "id": "7ae0ed8e",
   "metadata": {},
   "outputs": [
    {
     "name": "stdout",
     "output_type": "stream",
     "text": [
      "Initial value of b: [0, 1, 2, 3]\n",
      "Value of b after re-assignment: [5, 1, 2, 3]\n",
      "Value of a after re-assignment: [0, 1, 2, 3]\n"
     ]
    }
   ],
   "source": [
    "a = [0, 1, 2, 3]\n",
    "b = a.copy()\n",
    "print(f'Initial value of b: {b}')\n",
    "b[0] = 5\n",
    "print(f'Value of b after re-assignment: {b}')\n",
    "print(f'Value of a after re-assignment: {a}')"
   ]
  },
  {
   "cell_type": "markdown",
   "id": "bfe38844",
   "metadata": {},
   "source": [
    "Now you see that `b` has been modified while `a` is unchanged. \n",
    "\n",
    "The whole discussion has been done using lists but the same behavior is true for `numpy.arrays`."
   ]
  },
  {
   "cell_type": "markdown",
   "id": "14dbfbaa",
   "metadata": {},
   "source": [
    "When it comes to slices, this translates to:\n",
    "\n",
    "* $n$-level-deep elements of the original sequence for $n=1$ become copied in the slice\n",
    "* $n$-level-deep elements of the original sequence for $n>1$ are references in the slice\n",
    "\n",
    "First, let's clarify what is meant by n level depth? Python sequences can have nested sequences, like in the following example:"
   ]
  },
  {
   "cell_type": "code",
   "execution_count": 23,
   "id": "f34fc27f",
   "metadata": {},
   "outputs": [],
   "source": [
    "i_have_nested_dict = [1, 2, 3, {'hello': 'world'}]"
   ]
  },
  {
   "cell_type": "markdown",
   "id": "aa7c7a48",
   "metadata": {},
   "source": [
    "We say that integers $1, 2$ and $3$ are one-level-deep in the sequence, keys and values of the nested [dictionary][33] `{'hello': 'world'}` are then two-level-deep. Let's first consider examples when there are no nested sequences in the outer sequence:\n",
    "\n",
    "[33]: <https://docs.python.org/3/tutorial/datastructures.html#dictionaries> \"Python dictionaries\""
   ]
  },
  {
   "cell_type": "code",
   "execution_count": 24,
   "id": "19be92b4",
   "metadata": {},
   "outputs": [
    {
     "name": "stdout",
     "output_type": "stream",
     "text": [
      "original sequence: [0, 1, 2, 3] \n",
      "slice: [0, 1, 2, 3]\n",
      "\n",
      "original sequence: [999, 1, 2, 3] \n",
      "slice: [0, 1, 2, 3]\n",
      "\n",
      "original sequence: [999, 1, 2, 3] \n",
      "slice: [0, False, 2, 3]\n"
     ]
    }
   ],
   "source": [
    "# First, we copy sequence a into the new variable\n",
    "# to keep a itself in its original state.\n",
    "original = a.copy()\n",
    "b = original[:]\n",
    "print('original sequence:', original, '\\nslice:', b)\n",
    "\n",
    "original[0] = 999\n",
    "print('\\noriginal sequence:', original, '\\nslice:', b)\n",
    "\n",
    "b[1] = False\n",
    "print('\\noriginal sequence:', original, '\\nslice:', b)"
   ]
  },
  {
   "cell_type": "markdown",
   "id": "b506a8dc",
   "metadata": {},
   "source": [
    "You can see that neither modifications made to the original sequence affect the slice, nor the modifications made to the slice affect the original sequence.\n",
    "\n",
    "But what if there were a nested sequence?"
   ]
  },
  {
   "cell_type": "code",
   "execution_count": 25,
   "id": "9c9843ea",
   "metadata": {},
   "outputs": [
    {
     "name": "stdout",
     "output_type": "stream",
     "text": [
      "\n",
      "original sequence: [1, 2, 3, {'hello': 'world'}] \n",
      "slice: [1, 2, 3, {'hello': 'world'}]\n",
      "\n",
      "original sequence: [1, 2, 3, {'hello': 'world', 'bye': 'world'}] \n",
      "slice: [1, 2, 3, {'hello': 'world', 'bye': 'world'}]\n",
      "\n",
      "original sequence: [1, 2, 3, {'hello': 'world', 'bye': 'world'}] \n",
      "slice: [9999999, 2, 3, {'hello': 'world', 'bye': 'world'}]\n"
     ]
    }
   ],
   "source": [
    "i_am_slice = i_have_nested_dict[:]\n",
    "print('\\noriginal sequence:', i_have_nested_dict, '\\nslice:', i_am_slice)\n",
    "\n",
    "i_am_slice[3]['bye'] = 'world'\n",
    "print('\\noriginal sequence:', i_have_nested_dict, '\\nslice:', i_am_slice)\n",
    "\n",
    "i_am_slice[0] = 9999999\n",
    "print('\\noriginal sequence:', i_have_nested_dict, '\\nslice:', i_am_slice)"
   ]
  },
  {
   "cell_type": "markdown",
   "id": "9ed3f011",
   "metadata": {},
   "source": [
    "We observe that while we change first-level-deep elements of the slice independently of those of the original sequence (**because they have been copied into a different location in memory**), the inner sequence is **referenced - the slice just points to the location in memory where the original sequence stores it**. In the example shown, we have added a new key-value pair in the dictionary.\n",
    "\n",
    "**Deep** and **shallow** copies are important concepts in Python. \n",
    "\n",
    "When you create a shallow copy, you rather copy a structure of the original sequence than its content. The elements of the original sequence that are more than one level deep, get referenced, not copied.\n",
    "\n",
    "Deep copy copies **everything**. Any level deep elements of the original sequenced are duplicated (stored in the separate place in memory).\n",
    "\n",
    "When you program you must always be aware with which one you are operating."
   ]
  },
  {
   "cell_type": "markdown",
   "id": "1d5dbbc4",
   "metadata": {},
   "source": [
    "## One-sided finite differences\n",
    "\n",
    "In section [First-order derivative](#First-order-derivative) we mentioned that the finite difference expressions provided cannot be applied at all grid points. The centered finite difference formula is not valid at both endpoints of the domain as it requires at those locations extra points not included in the domain. At the left boundary - $x_0$ - we could compute the first order derivative using the forward finite difference formula and at the right boundary - $x_n$ - we could use the backward finite difference formula. Throughout the domain we would then have:\n",
    "\n",
    "```{math}\n",
    "    \\begin{cases}\n",
    "\t& \\displaystyle f'(x_0) = \\frac{f(x_{1}) - f(x_0)}{\\Delta x}, \\\\\n",
    "    & \\displaystyle f'(x_i) = \\frac{f(x_{i+1}) - f(x_{i-1})}{2\\Delta x},\\; \\; 1 \\leq i \\leq n-1 \\\\\n",
    "\t& \\displaystyle f'(x_n) = \\frac{f(x_{n}) - f(x_{n-1})}{\\Delta x}.\n",
    "    \\end{cases}\n",
    "```\n",
    "\n",
    "The inconvenience of this formulation is that it is second-order accurate for interior grid points but only first-order accurate at boundary nodes. It might not seem a big issue, but for certain problems the overall accuracy of the solution will be first order throughout the domain and not second order as we might have wished.\n",
    "\n",
    "To improve our discretized operator, we have to find second-order accurate expressions for the boundary nodes and we can use Taylor's theorem to achieve this goal. At the left boundary node we have:\n",
    "\n",
    "```{math}\n",
    "f(x_0 + \\Delta x) = f(x_0) +f'(x_0)\\Delta x+\\frac12 f''(x_0)\\Delta x^2+O(\\Delta x^3)\\\\\n",
    "f(x_0 + 2\\Delta x) = f(x_0) +2f'(x_0)\\Delta x+4\\frac12 f''(x_0)\\Delta x^2+O(\\Delta x^3)\n",
    "```\n",
    "\n",
    "If we multiply the first equation by four and then substract the second one, we get:\n",
    "\n",
    "```{math}\n",
    "4 f(x_0 + \\Delta x) - f(x_0 + 2\\Delta x) = 3 f(x_0) + 2f'(x_0)\\Delta x + O(\\Delta x^3)\n",
    "```\n",
    "\n",
    "We can then define the following second-order accurate approximation of $f'$ at $x_0$:\n",
    "\n",
    "```{math}\n",
    "f'_0 = \\frac{-\\frac32 f_0 + 2f_1 - \\frac12 f_2}{\\Delta x}\n",
    "```\n",
    "\n",
    "The stencil for this expression is represented as:\n",
    "\n",
    "<img width=\"600px\" src=\"../figures/onesideDiff1.png\">\n",
    "\n",
    "Similarly, the following expression constitutes a second-order accurate approximation of $f'$ at $x_n$,\n",
    "\n",
    "```{math}\n",
    "f'(x_n) = \\frac{\\frac32 f_n - 2f_{n-1} + \\frac12 f_{n-2}}{\\Delta x}\n",
    "```\n",
    "\n",
    "and its stencil is:\n",
    "\n",
    "<img width=\"600px\" src=\"../figures/onesideDiff1_2.png\">\n",
    "\n",
    "We can now construct a second-order discretized operator throughout the domain by using the above two expressions at the boundary nodes. Our complete computation of the second-order accurate first-order derivative then looks like (for the sake of completeness, we repeat the whole code here):"
   ]
  },
  {
   "cell_type": "code",
   "execution_count": 26,
   "id": "c75e4669",
   "metadata": {},
   "outputs": [],
   "source": [
    "nx = 80          # number of grid points (coarse grid)\n",
    "lx = np.pi       # length of interval\n",
    "dx = lx / (nx-1) # grid spacing"
   ]
  },
  {
   "cell_type": "code",
   "execution_count": 27,
   "id": "c5ec3e9d",
   "metadata": {},
   "outputs": [],
   "source": [
    "x_c = np.linspace(0, lx, nx)          # coordinates in the coarse grid\n",
    "f_c = np.exp(x_c)*np.sin(3*np.pi*x_c) # function in the coarse grid\n",
    "\n",
    "df_2 = np.empty(nx)\n",
    "\n",
    "# Here we take advantage of Python slicing instead\n",
    "# of Python looping.\n",
    "df_2[0] = (-3./2*f_c[0] + 2*f_c[1] - 1./2.*f_c[2]) / dx\n",
    "df_2[-1] = (3./2*f_c[-1] - 2*f_c[-2] + 1./2.*f_c[-3]) / dx\n",
    "df_2[1:-1] = (f_c[2:] - f_c[:-2]) / (2*dx)"
   ]
  },
  {
   "cell_type": "code",
   "execution_count": 28,
   "id": "07db0ce9",
   "metadata": {},
   "outputs": [
    {
     "data": {
      "image/png": "[encoded data removed]",
      "text/plain": [
       "<Figure size 1000x500 with 1 Axes>"
      ]
     },
     "metadata": {
      "filenames": {
       "image/png": "/Users/bknaepen/Library/Mobile Documents/com~apple~CloudDocs/Documents/Workspace/courseMaterial/book_solving_pde_mooc/_build/jupyter_execute/solving_pde_mooc/notebooks/03_FiniteDifferences/03_01_FirstOrderDerivative_and_Slicing_61_0.png"
      }
     },
     "output_type": "display_data"
    }
   ],
   "source": [
    "fig, ax = plt.subplots(figsize=(10, 5))\n",
    "\n",
    "# We only display x-axis starting from the minimum\n",
    "# of sequence (x[0], x_c[0]) to the maximum of\n",
    "# sequence (x[-1], x_c[-1]).\n",
    "ax.set_xlim(min(x[0], x_c[0]), max(x[-1], x_c[-1]))\n",
    "\n",
    "ax.plot(x, dfdx, label='Exact')\n",
    "ax.plot(x_c, df_2, '^g', label='Approximated')\n",
    "ax.set_xlabel('$x$')\n",
    "ax.set_ylabel(\"$f'$\")\n",
    "\n",
    "ax.legend(loc='upper left');"
   ]
  },
  {
   "cell_type": "markdown",
   "id": "6f681bed",
   "metadata": {},
   "source": [
    "## Summary"
   ]
  },
  {
   "cell_type": "markdown",
   "id": "351c1bb3",
   "metadata": {},
   "source": [
    "In this notebook, we learned how to approximate derivatives using finite differences. We illustrated how finite-difference formulas can be derived and showed how to treat boundary nodes in the numerical grid.\n",
    "\n",
    "Besides that, we've explained the Python slicing and motivated its usage showing its advantage over Python looping. In the next notebook we extend our knowledge on finite differences by considering higher-order derivatives."
   ]
  }
 ],
 "metadata": {
  "jupytext": {
   "formats": "ipynb,md:myst",
   "notebook_metadata_filter": "toc",
   "text_representation": {
    "extension": ".md",
    "format_name": "myst",
    "format_version": 0.13,
    "jupytext_version": "1.10.3"
   }
  },
  "kernelspec": {
   "display_name": "Python 3",
   "language": "python",
   "name": "python3"
  },
  "language_info": {
   "codemirror_mode": {
    "name": "ipython",
    "version": 3
   },
   "file_extension": ".py",
   "mimetype": "text/x-python",
   "name": "python",
   "nbconvert_exporter": "python",
   "pygments_lexer": "ipython3",
   "version": "3.10.6"
  },
  "source_map": [
   26,
   36,
   43,
   160,
   167,
   174,
   184,
   188,
   197,
   218,
   222,
   241,
   247,
   251,
   255,
   259,
   265,
   269,
   272,
   284,
   286,
   290,
   297,
   301,
   303,
   307,
   309,
   315,
   329,
   333,
   339,
   343,
   345,
   349,
   353,
   355,
   359,
   363,
   365,
   384,
   386,
   396,
   398,
   402,
   414,
   423,
   430,
   434,
   441,
   453,
   460,
   466,
   475,
   477,
   483,
   495,
   501,
   510,
   522,
   573,
   579,
   592,
   606,
   610
  ],
  "toc": {
   "base_numbering": 1,
   "nav_menu": {},
   "number_sections": true,
   "sideBar": true,
   "skip_h1_title": true,
   "title_cell": "Table of Contents",
   "title_sidebar": "Contents",
   "toc_cell": true,
   "toc_position": {},
   "toc_section_display": true,
   "toc_window_display": false
  }
 },
 "nbformat": 4,
 "nbformat_minor": 5
}