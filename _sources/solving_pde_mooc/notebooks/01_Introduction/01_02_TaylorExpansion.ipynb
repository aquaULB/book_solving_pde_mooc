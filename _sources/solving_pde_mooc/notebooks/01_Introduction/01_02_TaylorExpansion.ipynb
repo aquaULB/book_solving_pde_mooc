{
 "cells": [
  {
   "cell_type": "markdown",
   "id": "d59e4c6b",
   "metadata": {},
   "source": [
    "# Approximations and Taylor expansion\n",
    "\n",
    "\n",
    "## Introduction\n",
    "\n",
    "In general, the resolution of numerical problems require some approximations.\n",
    "\n",
    "**The first one** is related to the fact that most real numbers need an infinite numbers of digits after the decimal point to be properly represented. To store these numbers in the memory of a computer one, therefore, needs to cut their representation at some point beyond the decimal point. To quantify the numerical representation of data, one uses *precision*. Precision is usually measured *in bits or number of decimal digits*. For example, a number in *single precision* usually occupies 32 bits of computer memory. At the same time it is associated with 7 or fewer decimal digits. The number of digits kept is called the precision of the representation. To make a concrete example, in *single precision* and *double precision*, $\\pi$ is approximated as follows:\n",
    "\n",
    "```{math}\n",
    "\\pi &= 3.1415927 \\quad\\quad &\\text{(single precision)}\\\\\n",
    "\\pi &= 3.141592653589793 \\quad\\quad &\\text{(double precision)}\\\\\n",
    "```\n",
    "\n",
    "In this course we always use double precision for real numbers, as this is the default precision used by Python. It provides a good approximation for the kind of numerical problems we consider, but the reader should still be aware that rounding off errors can cause some difficulties, as they can get amplified when certain operations are performed or when some iterative procedures are used. Two good references to get started on the subject are:\n",
    "\n",
    "- https://docs.python.org/3/tutorial/floatingpoint.html\n",
    "- https://floating-point-gui.de\n",
    "\n",
    "In the context of the numerical solution of ordinary or partial diffential equations, **the second more significant approximation** comes from that the computer resources are limited. From the physical point of view, both time and space are continuous variables, but continuous data does not exist in the numerical world, as it would require infinite computer memory. Therefore, continuous variables are approximated using a discrete representation. For that purpose, we can for example introduce *grid points* at which the functions are evaluated. A small grid spacing results in a higher accuracy, but it comes at a higher computational cost. Some balance always has to be found.\n",
    "\n",
    "## Taylor's theorem\n",
    "\n",
    "Taylor's theorem provides a valuable tool to estimate the accuracy of discretized differential operators or time integration schemes {cite}`2e1eee-arfken2012`.\n",
    "\n",
    "***Theorem.** Let $x$ be any point in the interval $[a, b]$ and $\\Delta x$ a small positive real number. Schematically we have*:\n",
    "\n",
    "<img src=\"../figures/taylor.png\">\n",
    "\n",
    "*Let $f(x)$ be some $k+1$ times differentiable function defined in $[a, b]$, then for each $\\Delta x>0$ there exists a $\\xi$, so that*\n",
    "\n",
    "```{math}\n",
    ":label: eq:taylorExpansion\n",
    "f(x+\\Delta x)=f(x)+f'(x)\\Delta x+\\frac{f''(x)}{2!}\\Delta x^2+\\dots + \\frac{f^{(k)}(x)}{k!}\\Delta x^k + R_{k+1}\n",
    "```\n",
    "\n",
    "*where $R_{k+1}$ is a **remainder term**:*\n",
    "\n",
    "```{math}\n",
    "R_{k+1} = \\frac{f^{(k+1)}(\\xi)}{(k+1)!}\\Delta x^{k+1}, \\quad\\quad x\\leq \\xi \\leq x+\\Delta x.\n",
    "```\n",
    "\n",
    "In the above formula, $f^{(k)}$ denotes the $k$-th derivative of $f$. Note, that at this stage, no approximations have been made.\n",
    "\n",
    "Assuming that $\\vert f^{(k+1)}\\vert$ is bounded by a constant $C$ in $[a\\ b]$, read $\\vert f^{(k+1)} \\vert \\leq C$, we can then write:\n",
    "\n",
    "```{math}\n",
    ":label: eq:remainder\n",
    "\\vert R_{k+1}\\vert \\leq \\frac{C}{(k+1)!}\\Delta x^{k+1}\n",
    "```\n",
    "\n",
    "Equation {eq}`eq:remainder` gives a bound on the error made by dropping terms beyond $\\displaystyle\\frac{f^{(k)}(x)}{k!}\\Delta x^k$ in {eq}`eq:taylorExpansion`. One then gets as estimate for the remainder $R_{k+1}$:\n",
    "\n",
    "```{math}\n",
    "R_{k+1} = O(\\Delta x^{k+1})\n",
    "```\n",
    "\n",
    "The above notation means that $\\vert R_{k+1}\\vert$ goes to $0$ at least as fast as $\\Delta x^{k+1}$ for $\\Delta x \\rightarrow 0$:\n",
    "\n",
    "```{math}\n",
    "\\lim_{\\Delta x^{k+1}\\rightarrow 0} R_{k+1} = 0.\n",
    "```\n",
    "\n",
    "We then say that the approximation,\n",
    "\n",
    "```{math}\n",
    "f(x+\\Delta x)\\approx f(x)+f'(x)\\Delta x+\\frac{f''(x)}{2!}\\Delta x^2+\\dots + \\frac{f^{(k)}(x)}{k!}\\Delta x^k\n",
    "```\n",
    "\n",
    "is of order $k+1$. Importantly, this implies that the remainder is at least reduced by a factor of $2^{k+1}$ if $\\Delta x$ is divided by $2$. This is a very important concept that will be discussed numerous times in this course.\n",
    "\n",
    "### Expansion of exponential function\n",
    "\n",
    "To make things more concrete and to write our first Python code of the course, let us consider the Taylor expansion of the exponential function $e^x$ around $x=0$. According to {eq}`eq:taylorExpansion`, one has:\n",
    "\n",
    "```{math}\n",
    ":label: eq:residual\n",
    "e^{\\Delta x} = 1 + \\Delta x + \\frac{\\Delta x^2}{2} + R_3,\\quad\\quad R_3=e^{\\xi} \\frac{\\Delta x^3}{3!}, \\quad\\quad 0\\leq \\xi \\leq \\Delta x.\n",
    "```\n",
    "\n",
    "As $e^x$ is monotonously increasing, we certainly can bound $e^{\\xi}$ by $e$ when $\\Delta x \\rightarrow 0$. Therefore, $\\vert R_3 \\vert \\leq e \\frac{\\Delta x^3}{3!} = \\mathcal{O}(\\Delta x^3)$.\n",
    "\n",
    "Let's write a Python code to check if this is indeed the case.\n",
    "\n",
    "First of all, we need to *import* some Python packages into our code. One Python file can access the content of another by *importing* it. Packages we are going to be interested in the most throughout the course are:\n",
    "\n",
    "* ``NumPy``\n",
    "\n",
    "    > [NumPy][10] is the fundamental package for scientific computing in Python. It is a Python library that provides a multidimensional array object, various derived objects (such as masked arrays and matrices), and an assortment of routines for fast operations on arrays, including mathematical, logical, shape manipulation, sorting, selecting, I/O, discrete Fourier transforms, basic linear algebra, basic statistical operations, random simulation and much more.\n",
    "\n",
    "* ``SciPy``\n",
    "\n",
    "    > [SciPy][11] is a collection of mathematical algorithms and convenience functions built on the NumPy extension of Python. It adds significant power to the interactive Python session by providing the user with high-level commands and classes for manipulating and visualizing data. With SciPy, an interactive Python session becomes a data-processing and system-prototyping environment rivaling systems, such as MATLAB, IDL, Octave, R-Lab, and SciLab.\n",
    "\n",
    "* ``Matplotlib``\n",
    "    > [Matplotlib][12] is a comprehensive library for creating static, animated, and interactive visualizations in Python.\n",
    "\n",
    "*NumPy*, *SciPy* and *Matplotlib* are fundamental packages for scientific computations in Python.\n",
    "\n",
    "*NumPy* and *SciPy* are better to be understood together, because *SciPy actually builds on NumPy*.\n",
    "\n",
    "> [Both NumPy and SciPy][13] are Python libraries used for used mathematical and numerical analysis. NumPy contains array data and basic operations such as sorting, indexing, etc, whereas SciPy consists of all the numerical code. Though NumPy provides a number of functions that can help resolve linear algebra, Fourier transforms, etc, SciPy is the library that actually contains fully-featured versions of these functions along with many others.\n",
    "\n",
    "*Matplotlib* provides tools to visualize any kind of numerical data.\n",
    "\n",
    "Imports in Python are performed using `import` statement:\n",
    "\n",
    "[10]: <https://numpy.org/doc/stable/user/whatisnumpy.html> \"Why NumPy?\"\n",
    "[11]: <https://docs.scipy.org/doc/scipy/reference/tutorial/general.html> \"SciPy\"\n",
    "[12]: <https://matplotlib.org> \"Matplotlib\"\n",
    "[13]: <https://medium.com/edureka/scipy-tutorial-38723361ba4b> \"NumPy vs SciPy\""
   ]
  },
  {
   "cell_type": "code",
   "execution_count": 1,
   "id": "2ef82780",
   "metadata": {},
   "outputs": [],
   "source": [
    "import numpy"
   ]
  },
  {
   "cell_type": "markdown",
   "id": "6b7970af",
   "metadata": {},
   "source": [
    "In order to access the tools of a module (unit of Python code), we put the name of this module in front of the name of a given object:"
   ]
  },
  {
   "cell_type": "code",
   "execution_count": 2,
   "id": "67a625ec",
   "metadata": {},
   "outputs": [
    {
     "name": "stdout",
     "output_type": "stream",
     "text": [
      "3.141592653589793\n"
     ]
    }
   ],
   "source": [
    "print(numpy.pi)"
   ]
  },
  {
   "cell_type": "markdown",
   "id": "8d1a27ba",
   "metadata": {},
   "source": [
    "Another option is to create a **shortcut** for the module name using the `as` keyword:"
   ]
  },
  {
   "cell_type": "code",
   "execution_count": 3,
   "id": "7b6ee147",
   "metadata": {},
   "outputs": [
    {
     "name": "stdout",
     "output_type": "stream",
     "text": [
      "3.141592653589793\n"
     ]
    }
   ],
   "source": [
    "import numpy as np\n",
    "\n",
    "print(np.pi)"
   ]
  },
  {
   "cell_type": "markdown",
   "id": "617a81fa",
   "metadata": {},
   "source": [
    "In some cases it will even make more sense to import **only** the object you require from module:"
   ]
  },
  {
   "cell_type": "code",
   "execution_count": 4,
   "id": "427667d0",
   "metadata": {},
   "outputs": [],
   "source": [
    "from numpy import cos"
   ]
  },
  {
   "cell_type": "markdown",
   "id": "57a5096b",
   "metadata": {},
   "source": [
    "Imports are usually performed at the beginning of the Python file before any other code.\n",
    "\n",
    "In order to create comments in Python (text in your code which will be ignored by Python), put `#` in front of the text."
   ]
  },
  {
   "cell_type": "code",
   "execution_count": 5,
   "id": "860ce7fe",
   "metadata": {},
   "outputs": [],
   "source": [
    "# Note that numpy has already been imported above.\n",
    "# Here it is imported repeatedly for the sake of\n",
    "# demonstrating what your code should look like.\n",
    "#\n",
    "# matplotlib.pyplot provides all the tools which\n",
    "# are usually necessary for 2D plotting.\n",
    "\n",
    "import numpy as np\n",
    "import matplotlib.pyplot as plt"
   ]
  },
  {
   "cell_type": "markdown",
   "id": "43e44ac8",
   "metadata": {},
   "source": [
    "As we are working in *Jupyter*, we will take advantage of so-called **magic commands**. They are crazily helpful in some cases, but note that they are *specific to IPython and Jupyter* (IPython and Jupyter are projects offering interactive shell for Python programming).\n",
    "\n",
    "What magic command does? It basically creates an *alias* to some command.\n",
    "\n",
    "Magic commands have `%` in front of them.\n",
    "\n",
    "A simple example of the usefulness of a magic command can be made with `%pinfo`. It outputs the documentation of an object, which is useful both for beginners and for the advanced programmers, and spares you the need to 'google' it. We've already used the `print` function above to output the value of $\\pi$ - run the following cell to see documentation of `print`:"
   ]
  },
  {
   "cell_type": "code",
   "execution_count": 6,
   "id": "2b9d189e",
   "metadata": {},
   "outputs": [],
   "source": [
    "%pinfo print"
   ]
  },
  {
   "cell_type": "markdown",
   "id": "382f3e19",
   "metadata": {},
   "source": [
    "To use matplotlib in notebooks, a very useful magic command is:"
   ]
  },
  {
   "cell_type": "code",
   "execution_count": 7,
   "id": "b35731b2",
   "metadata": {},
   "outputs": [],
   "source": [
    "%matplotlib inline"
   ]
  },
  {
   "cell_type": "markdown",
   "id": "c612442c",
   "metadata": {},
   "source": [
    "From now on, whatever we plot will appear inline - in our notebook, right below the code which produced graphical output.\n",
    "\n",
    "We then set the style of our plots, which will be universal throughout the whole course. Matplotlib has several predefined styles encoded in files. You, of course, can always create your own style."
   ]
  },
  {
   "cell_type": "code",
   "execution_count": 8,
   "id": "5081dbc3",
   "metadata": {},
   "outputs": [],
   "source": [
    "plt.style.use('../styles/mainstyle.use')"
   ]
  },
  {
   "cell_type": "markdown",
   "id": "c4a30f68",
   "metadata": {},
   "source": [
    "Let us now create the first mathematical object that will represent the error term $R_3$ of the approximation of the exponential function (see {eq}`eq:residual`).\n",
    "\n",
    "When we want to define a given quantity at a set of points, we might use *either* built-in *Python* sequences (list, tuple, range etc.) *or* 1D *NumPy* arrays. What to choose? In many cases your choice will not affect the result, **but** usually a *NumPy* array is better because of the following [reasons][3]:\n",
    "* *Memory*\n",
    "\n",
    "    They occupy less space.\n",
    "\n",
    "\n",
    "* *Performance*\n",
    "\n",
    "    They are faster.\n",
    "\n",
    "\n",
    "* *Functionality*\n",
    "\n",
    "    They support **way more** mathematical operations.\n",
    "\n",
    "\n",
    "[3]: <https://webcourses.ucf.edu/courses/1249560/pages/python-lists-vs-numpy-arrays-what-is-the-difference> \"Lists vs NumPy arrays\"\n",
    "\n",
    "Keep in mind, though, that you will encounter situations when it will be more convenient for you to create a list first and then transform it into *NumPy* array.\n",
    "\n",
    "Let us consider <a name=\"exc1\"> a few ways </a> of building a numerical sequence. Assume $\\Delta x=f(k)$, where $k$ is an integer number defined in $k=1, 2,...,9$. To demonstrate the advantages of one approach over the others, we will use the *cell* magic command `%%timeit`. Double `%` here means that the command is applied to the *whole* cell. A word of caution is necessary. `%timeit` or `%%timeit` execute the measured code in a *private* scope. This means that they don't affect the values of the variables outside of the cell (or line for %timeit) in which the execution takes places. This also means than any variable defined within the cell (or line for %timeit) cease to exist after the timing operation.\n",
    "\n",
    "Note, that the concept of *cell* in Python does not exist - it is unique to Jupyter Notebook, just as magic commands are unique to IPython. A notebook in Jupyter Notebook is a sequence of cells, which can be filled with Python code, documentation text written in [Markdown][14], or *raw* text, that is not evaluated by Jupyter Notebook.\n",
    "\n",
    "[14]: <https://www.markdownguide.org/getting-started/> \"Markdown\""
   ]
  },
  {
   "cell_type": "markdown",
   "id": "9bfef7a0",
   "metadata": {},
   "source": [
    "1. *Create a Python list in a loop and then transform it into a NumPy array*"
   ]
  },
  {
   "cell_type": "code",
   "execution_count": 9,
   "id": "5085732f",
   "metadata": {},
   "outputs": [
    {
     "name": "stdout",
     "output_type": "stream",
     "text": [
      "2.14 µs ± 71.6 ns per loop (mean ± std. dev. of 7 runs, 100000 loops each)\n"
     ]
    }
   ],
   "source": [
    "%%timeit\n",
    "\n",
    "# First create an empty Python list, which\n",
    "# will contain values of delta for all k.\n",
    "delta_list = []\n",
    "\n",
    "# We loop for k = 1, 2, ..., 9. We use the built-in\n",
    "# range(min, max, step) function. It returns the\n",
    "# sequence of integer numbers, such as:\n",
    "# min, min+step, min+2*step,..., max-step.\n",
    "# As you can see, max value is not included in\n",
    "# the sequence. Min and step arguments are OPTIONAL\n",
    "# for the range function => if you don't pass them\n",
    "# to the function, they will be at their default values:\n",
    "# min = 0, step = 1.\n",
    "# For more info:\n",
    "# https://docs.python.org/3/library/functions.html#func-range\n",
    "#\n",
    "# Example:\n",
    "# range(5) will produce the following sequence:\n",
    "# 0, 1, 2, 3, 4.\n",
    "#\n",
    "# We use the append method of Python class to add\n",
    "# values to the list at each iteration. As\n",
    "# a function method it is a piece of code which\n",
    "# executes specific task, BUT unlike a simple\n",
    "# function it is bound to a specific object.\n",
    "# In this particular case, the append method is bound to\n",
    "# the list.\n",
    "# For more info:\n",
    "# https://docs.python.org/3/tutorial/datastructures.html#more-on-lists\n",
    "for k in range(1, 10):\n",
    "    delta_list.append(2**(-k))\n",
    "\n",
    "# We now convert the list into a NumPy array.\n",
    "# For that particular purpose there is a NumPy\n",
    "# function - numpy.array(a). Here a is some\n",
    "# sequence.\n",
    "# For more info:\n",
    "# https://numpy.org/doc/stable/reference/generated/numpy.array.html\n",
    "delta = np.array(delta_list)"
   ]
  },
  {
   "cell_type": "markdown",
   "id": "c402121a",
   "metadata": {},
   "source": [
    "2. *Create a Python list using a list comprehension and then convert it to a NumPy array*\n",
    "\n",
    "    This method is conceptually equivalent to the one described above, except for that we use a *list comprehension* for the list creation - it is a shortened way to generate lists in Python. Such an approach is the preferred one when possible."
   ]
  },
  {
   "cell_type": "code",
   "execution_count": 10,
   "id": "02854237",
   "metadata": {},
   "outputs": [
    {
     "name": "stdout",
     "output_type": "stream",
     "text": [
      "1.91 µs ± 42.6 ns per loop (mean ± std. dev. of 7 runs, 100000 loops each)\n"
     ]
    }
   ],
   "source": [
    "%%timeit\n",
    "\n",
    "# As you can see we managed to shorten our code -\n",
    "# what has been previously accomplished in 3 lines,\n",
    "# is now done in 1 line.\n",
    "# For more info:\n",
    "# https://docs.python.org/3/tutorial/datastructures.html#list-comprehensions\n",
    "delta_list = [2**(-k) for k in range(1, 10)]\n",
    "\n",
    "delta = np.array(delta_list)"
   ]
  },
  {
   "cell_type": "markdown",
   "id": "e80623b6",
   "metadata": {},
   "source": [
    "3. *Create an empty NumPy array and then fill it with values in a loop*"
   ]
  },
  {
   "cell_type": "code",
   "execution_count": 11,
   "id": "14dc7365",
   "metadata": {},
   "outputs": [
    {
     "name": "stdout",
     "output_type": "stream",
     "text": [
      "2.08 µs ± 51.9 ns per loop (mean ± std. dev. of 7 runs, 100000 loops each)\n"
     ]
    }
   ],
   "source": [
    "%%timeit\n",
    "\n",
    "delta = np.zeros(9)\n",
    "\n",
    "for i in range(len(delta)):\n",
    "    delta[i] = 2**(-i-1)"
   ]
  },
  {
   "cell_type": "markdown",
   "id": "ba610fbd",
   "metadata": {},
   "source": [
    "For such a small piece of data we cannot see any advantages in speed for one method over the other. Sometimes you will certainly encounter situations when the efficiency advantage of one approach over the other will not be evident. A good recommendation would be **to keep the balance between efficiency and good programming style in your code**. You might think that style only affects the looks and, therefore, is not that important for production code, but this would be wrong. Whatever your results, you will barely find a person who is going to get interested in your code if it is not readable. Moreover, in 99% of the cases, programming is a collaborative work, so there are *coding conventions* in each programmimg language which regulate the style of coding. Python's coding conventions are provided by [PEP 8][15].\n",
    "\n",
    "We are now <a name=\"exc2\"> all set to build $R_3$</a>.\n",
    "\n",
    "[15]: <https://www.python.org/dev/peps/pep-0008/> \"PEP 8\""
   ]
  },
  {
   "cell_type": "code",
   "execution_count": 12,
   "id": "2e7ff83b",
   "metadata": {},
   "outputs": [],
   "source": [
    "# Here you can clearly see the advantage of\n",
    "# NumPy over built-in tools of Python.\n",
    "#\n",
    "# NumPy functions, such as exp, sin, cos, log etc.,\n",
    "# can be applied on the WHOLE array and\n",
    "# the corresponding mathematical operation will\n",
    "# be applied on each element of array. This is\n",
    "# not possible with the corresponding functions from\n",
    "# Python's standard math module - there you\n",
    "# would have to loop.\n",
    "#\n",
    "# NumPy arrays provide the possibility to avoid\n",
    "# looping when applying the same operation\n",
    "# on each element.\n",
    "\n",
    "# Because %timeit executes all the code in a\n",
    "# `private` scope, we need to redefine delta here\n",
    "delta = np.zeros(9)\n",
    "\n",
    "for i in range(len(delta)):\n",
    "    delta[i] = 2**(-i-1)\n",
    "\n",
    "R3 = np.exp(delta) - (1 + delta + delta**2 / 2)\n",
    "\n",
    "slope = delta**3"
   ]
  },
  {
   "cell_type": "markdown",
   "id": "b3ea3c47",
   "metadata": {},
   "source": [
    "As we have built the set of numerical data, we are ready to visualize it.\n",
    "\n",
    "The fundamental object of *Matplotlib* is [`matplotlib.pyplot.figure`][4]. Whenever you created a plot, all the data is stored inside the instance of this object. *If you don't create the figure explicitly, it will be created implicitly*, but an explicit call to the object allows you to manipulate your plots in a more flexible way.\n",
    "\n",
    "Figure is just your *blank sheet of paper* (metaphorically) - it is empty from the start. To have a plot, we would need to draw axes.\n",
    "\n",
    "The most efficient way to add *Matplotlib* axes to a figure is through the methods of figure dedicated to this purpose. These are `add_axes` and `add_subplot` methods - they both return instances of a `matplotlib.axes.Axes` object - *Matplotlib* object which contains all the tools corresponding to the visualization of axes. The difference is that `add_axes` accepts as its arguments the *location* at which you place your axes - location is passed in units of figure sizing; `add_subplot` allows you to divide your figure in parts and you configure the locations of these parts by setting the amount of *rows and columns* in your figures.\n",
    "\n",
    "We have create 2 figures - *figure 0* and *figure 1*, - and use them to demonstrate each of these two approaches.\n",
    "\n",
    "[4]: <https://matplotlib.org/3.3.0/api/_as_gen/matplotlib.pyplot.figure.html> \"Matplotlib figure\""
   ]
  },
  {
   "cell_type": "code",
   "execution_count": 13,
   "id": "ebd0f7c7",
   "metadata": {},
   "outputs": [
    {
     "data": {
      "text/plain": [
       "Text(0.5, 1.05, 'Subplots')"
      ]
     },
     "execution_count": 13,
     "metadata": {},
     "output_type": "execute_result"
    },
    {
     "data": {
      "image/png": "[encoded data removed]",
      "text/plain": [
       "<Figure size 432x288 with 2 Axes>"
      ]
     },
     "metadata": {
      "filenames": {
       "image/png": "/Users/bknaepen/Library/Mobile Documents/com~apple~CloudDocs/Documents/Workspace/courseMaterial/book_solving_pde_mooc/_build/jupyter_execute/solving_pde_mooc/notebooks/01_Introduction/01_02_TaylorExpansion_26_1.png"
      },
      "needs_background": "light"
     },
     "output_type": "display_data"
    },
    {
     "data": {
      "image/png": "[encoded data removed]",
      "text/plain": [
       "<Figure size 432x288 with 4 Axes>"
      ]
     },
     "metadata": {
      "filenames": {
       "image/png": "/Users/bknaepen/Library/Mobile Documents/com~apple~CloudDocs/Documents/Workspace/courseMaterial/book_solving_pde_mooc/_build/jupyter_execute/solving_pde_mooc/notebooks/01_Introduction/01_02_TaylorExpansion_26_2.png"
      },
      "needs_background": "light"
     },
     "output_type": "display_data"
    }
   ],
   "source": [
    "# We create first figures of the course.\n",
    "# When creating figure 0, we set tight_layout\n",
    "# keyword to False. We do it, because in a\n",
    "# style we use it is set to True. tight_layout,\n",
    "# when set to True, tries to optimize organi-\n",
    "# zation of your plot - how the subplots, labels,\n",
    "# legends are placed in a figure. In most cases\n",
    "# it is a useful feature, but sometimes you\n",
    "# will face a problem, that it won't know\n",
    "# how to optimize your figure just because of\n",
    "# how you have organized it manually. We disable\n",
    "# it for the first figure, so that it doesn't\n",
    "# complain about that we INTENTIONALLY overlap\n",
    "# one subplot with another.\n",
    "fig_0 = plt.figure(tight_layout=False)\n",
    "fig_1 = plt.figure()\n",
    "\n",
    "# Position axes in figure 0 using add_axes.\n",
    "# We pass coordinates for our axes in a list\n",
    "# of 4 floats as [left, bottom, width, height].\n",
    "# See that axes, which are given name ax_1,\n",
    "# is positioned at 0.25 of a figure from the left,\n",
    "# 0.1 - from the bottom, and its width=height=0.65.\n",
    "ax_0 = fig_0.add_axes([0., 0., 0.5, 0.5])\n",
    "ax_1 = fig_0.add_axes([0.25, 0.1, 0.5, 0.5])\n",
    "\n",
    "# Add title to figure 0.\n",
    "fig_0.suptitle('Random axes',fontsize=18)\n",
    "\n",
    "# Add 4 subplots to the figure 1. See that the\n",
    "# first two numbers are the same for all sub-\n",
    "# plots, which means that we specify that\n",
    "# there are 2 subplots per row and 2 subplots\n",
    "# per column. The third numbers identify the order\n",
    "# in which subplots appear.\n",
    "ax_2 = fig_1.add_subplot(221)\n",
    "ax_3 = fig_1.add_subplot(222)\n",
    "ax_4 = fig_1.add_subplot(223)\n",
    "ax_5 = fig_1.add_subplot(224)\n",
    "\n",
    "fig_1.suptitle('Subplots', fontsize=18, y=1.05)"
   ]
  },
  {
   "cell_type": "markdown",
   "id": "39202e3a",
   "metadata": {},
   "source": [
    "It is mostly a matter of your taste which approach you use, but certainly, in cases where you want to create multiple subplots in one figure, the approach of using `add_subplots` is more convenient and, therefore, more reasonable.\n",
    "\n",
    "Let's now talk even more reasonable. It has already been mentioned how important it is to shorten your code when possible. There is a way to create a figure with multiple subplots in it *in one call* by means of [`matplotlib.pyplot.subplots`][5]. **It is recommended that you stick to it**. While there is nothing one can have against the previously described ways, programmers should take as a habit to make their code *reasonably short*.\n",
    "\n",
    "The logic behind subplotting with `subplots` is very similar to the one of `add_subplots`:\n",
    "\n",
    "[5]: <https://matplotlib.org/api/_as_gen/matplotlib.pyplot.subplots.html> \"Subplots\""
   ]
  },
  {
   "cell_type": "code",
   "execution_count": 14,
   "id": "af270902",
   "metadata": {},
   "outputs": [
    {
     "data": {
      "image/png": "[encoded data removed]",
      "text/plain": [
       "<Figure size 432x288 with 3 Axes>"
      ]
     },
     "metadata": {
      "filenames": {
       "image/png": "/Users/bknaepen/Library/Mobile Documents/com~apple~CloudDocs/Documents/Workspace/courseMaterial/book_solving_pde_mooc/_build/jupyter_execute/solving_pde_mooc/notebooks/01_Introduction/01_02_TaylorExpansion_28_0.png"
      },
      "needs_background": "light"
     },
     "output_type": "display_data"
    }
   ],
   "source": [
    "# Assume I want 3 subplots per row\n",
    "# and 1 - per column.\n",
    "fig, (ax_1, ax_2, ax_3) = plt.subplots(1, 3)"
   ]
  },
  {
   "cell_type": "markdown",
   "id": "ea2a42a7",
   "metadata": {},
   "source": [
    "But we only need to create one plot at the moment, so we don't provide any arguments to `subplots` - single subplot in a figure is its default.\n",
    "\n",
    "We then want to plot $R_3$ as a function of $\\Delta x$ and use *log scaling* for both $x$ and $y$ axes - there is a function just for that - [`matplotlib.pyplot.loglog`][6]. For the plot with linear scaling refer to [`matplotlib.pyplot.plot`][7], which has the same syntax.\n",
    "\n",
    "[6]: <https://matplotlib.org/3.1.1/api/_as_gen/matplotlib.pyplot.loglog.html> \"loglog\"\n",
    "[7]: <https://matplotlib.org/3.1.1/api/_as_gen/matplotlib.pyplot.plot.html#matplotlib.pyplot.plot> \"plot\""
   ]
  },
  {
   "cell_type": "code",
   "execution_count": 15,
   "id": "bf8f98fe",
   "metadata": {},
   "outputs": [
    {
     "data": {
      "image/png": "[encoded data removed]",
      "text/plain": [
       "<Figure size 432x288 with 1 Axes>"
      ]
     },
     "metadata": {
      "filenames": {
       "image/png": "/Users/bknaepen/Library/Mobile Documents/com~apple~CloudDocs/Documents/Workspace/courseMaterial/book_solving_pde_mooc/_build/jupyter_execute/solving_pde_mooc/notebooks/01_Introduction/01_02_TaylorExpansion_30_0.png"
      },
      "needs_background": "light"
     },
     "output_type": "display_data"
    }
   ],
   "source": [
    "fig, ax = plt.subplots()\n",
    "\n",
    "# Create a plot with log scaling.\n",
    "# Pass x-data as first argument, y-data\n",
    "# as second argument, other arguments are\n",
    "# optional. '*' means that we want a dot\n",
    "# plot with stars as markers. label argument\n",
    "# defines the description for the data, which will\n",
    "# be displayed in the legend.\n",
    "ax.loglog(delta, R3, '*', label='$R_3$')\n",
    "\n",
    "# We plot delta^3 with the same log scaling\n",
    "# to show that R3 is of order delta^3. See\n",
    "# that you can configure the color of dots and\n",
    "# lines you plot with the color argument.\n",
    "#\n",
    "# This is one way to set a color of a curve -\n",
    "# by simply passing the name of a color to\n",
    "# the function. But this way is limited to only\n",
    "# 8 colors. If you need bigger variety,\n",
    "# Matplotlib supports RGBA format. You can either\n",
    "# pass a tuple of float values in range [0, 1]\n",
    "# as (red, green, blue, alpha), or you can\n",
    "# pass an RGBA string.\n",
    "# More info\n",
    "# https://matplotlib.org/3.1.1/tutorials/colors/colors.html\n",
    "#\n",
    "ax.loglog(delta, slope, color='green', label=r'$\\Delta^{3}$')\n",
    "\n",
    "# We set labels of x axis and y axis.\n",
    "ax.set_xlabel(r'$\\Delta x$')\n",
    "ax.set_ylabel('$R_3$')\n",
    "\n",
    "# We set the title, which in this case is only\n",
    "# related to the subplot referred by ax, but\n",
    "# as we have only 1 subplot, it is then re-\n",
    "# lated to the whole figure and can be used\n",
    "# instead of 'fig.suptitle'.\n",
    "ax.set_title('Accuracy')\n",
    "\n",
    "# Enable automatic detection of elements\n",
    "# to be shown in legend.\n",
    "ax.legend()\n",
    "\n",
    "# Save figure. Default format is png.\n",
    "# dpi defines the resolution in dots per inch.\n",
    "fig.savefig('../figures/taylorSlope', dpi=300)"
   ]
  },
  {
   "cell_type": "markdown",
   "id": "9cf8dcca",
   "metadata": {},
   "source": [
    "You've seen above textual sequences created as follows:\n",
    "\n",
    "    text_data = 'Hello, world!'\n",
    "\n",
    "They are called [strings][8]. There are special characters in Python called *escape characters* which are meant for formatting. For example, `\\n` would mean that the line is broken. The following code\n",
    "\n",
    "    print('Hello\\nworld')\n",
    "\n",
    "will produce the output:\n",
    "\n",
    "    Hello\n",
    "    world\n",
    "\n",
    "But there are also so-called *raw strings* in Python. All escape characters are ignored in a raw string. We would have this\n",
    "\n",
    "    print(r'Hello\\nworld')\n",
    "\n",
    "to produce the following output:\n",
    "\n",
    "    Hello\\nworld\n",
    "\n",
    "A nice feature of matplotlib is that it can display rendered LaTeX equations in place of regular strings. This is possible by enclosing the desired LaTeX code between ```$ $``` as we did above.\n",
    "\n",
    "\n",
    "[8]: <https://docs.python.org/3/library/stdtypes.html#text-sequence-type-str> \"Python strings\"\n",
    "\n",
    "\n",
    "## Summary\n",
    "\n",
    "In this notebook we have introduced the concepts of numerical precision and numerical error. We also discussed different approaches to build numerical sequences in Python and learned about NumPy arrays - fundamental objects for scientific programming in Python. Using the Matplotlib package, we gave a trivial overview on 2D visualization and illustrated that the error term in Taylor series is of order $\\mathcal{O}(\\Delta x^{n+1})$ when the last expansion term considered is of order $\\mathcal{O}(\\Delta x^{n})$.\n",
    "\n",
    "In the next notebook we will introduce Euler time-advancement schemes - numerical procedures for solving ordinary differential equations -, define numerical stability of the time-advancement scheme and the concepts of explicit and implicit time integration methods.\n",
    "\n",
    "\n",
    "## References\n",
    "```{bibliography} biblio.bib\n",
    ":filter: docname in docnames\n",
    ":labelprefix: 2e1eee\n",
    ":keyprefix: 2e1eee-\n",
    "```"
   ]
  }
 ],
 "metadata": {
  "jupytext": {
   "formats": "ipynb,md:myst",
   "notebook_metadata_filter": "toc",
   "text_representation": {
    "extension": ".md",
    "format_name": "myst",
    "format_version": 0.13,
    "jupytext_version": "1.10.3"
   }
  },
  "kernelspec": {
   "display_name": "Python 3",
   "language": "python",
   "name": "python3"
  },
  "language_info": {
   "codemirror_mode": {
    "name": "ipython",
    "version": 3
   },
   "file_extension": ".py",
   "mimetype": "text/x-python",
   "name": "python",
   "nbconvert_exporter": "python",
   "pygments_lexer": "ipython3",
   "version": "3.9.6"
  },
  "source_map": [
   26,
   141,
   143,
   147,
   149,
   153,
   157,
   161,
   163,
   169,
   179,
   189,
   191,
   195,
   197,
   203,
   205,
   235,
   239,
   281,
   287,
   298,
   302,
   309,
   317,
   343,
   357,
   399,
   409,
   413,
   422,
   470
  ],
  "toc": {
   "base_numbering": 1,
   "nav_menu": {},
   "number_sections": true,
   "sideBar": true,
   "skip_h1_title": true,
   "title_cell": "Table of Contents",
   "title_sidebar": "Contents",
   "toc_cell": true,
   "toc_position": {},
   "toc_section_display": true,
   "toc_window_display": false
  }
 },
 "nbformat": 4,
 "nbformat_minor": 5
}