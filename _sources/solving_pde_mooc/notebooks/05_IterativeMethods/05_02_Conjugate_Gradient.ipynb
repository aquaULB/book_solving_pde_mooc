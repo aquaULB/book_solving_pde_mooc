{
 "cells": [
  {
   "cell_type": "markdown",
   "metadata": {},
   "source": [
    "# The conjugate gradient method\n",
    "\n",
    "\n",
    "## Introduction\n",
    "\n",
    "For convenience, we start by importing some modules needed below:"
   ]
  },
  {
   "cell_type": "code",
   "execution_count": 1,
   "metadata": {},
   "outputs": [],
   "source": [
    "import numpy as np\n",
    "import matplotlib.pyplot as plt\n",
    "from scipy.sparse import diags\n",
    "from tqdm.notebook import tqdm\n",
    "\n",
    "import sys\n",
    "sys.path.insert(0, '../modules')\n",
    "# Function to compute an error in L2 norm\n",
    "from norms import l2_diff\n",
    "\n",
    "%matplotlib inline\n",
    "\n",
    "plt.style.use('../styles/mainstyle.use')"
   ]
  },
  {
   "cell_type": "markdown",
   "metadata": {},
   "source": [
    "In the previous notebooks we have already considered several ways to iteratively solve matrix problems like $A\\boldsymbol p =\\boldsymbol b$.\n",
    "\n",
    "If $A$ has some particular characteristics it's possible to devise even faster methods. Here we will assume that $A$ is symmetric and positive-definite:\n",
    "\n",
    "\\begin{equation*}\n",
    "A=A^{T} \\hbox{ and } \\boldsymbol{p}^{T}A\\boldsymbol p > 0 \\hbox{ for any } \\boldsymbol p\\not = 0. \n",
    "\\end{equation*}\n",
    "\n",
    "The resolution of the linear system may then be viewed as a minimization problem and one of the most popular method to use in that case is the conjugate gradient method.\n",
    "\n",
    "In this notebook we will describe the conjugate gradient method algorithm but let us first introduce some key concepts and a more primitive algorithm called the method of steepest descent."
   ]
  },
  {
   "cell_type": "markdown",
   "metadata": {},
   "source": [
    "## Projection methods"
   ]
  },
  {
   "cell_type": "markdown",
   "metadata": {},
   "source": [
    "Let's consider the following quadratic functional of the vector $\\boldsymbol p$,\n",
    "\n",
    "\\begin{equation*}\n",
    "  J (\\boldsymbol p) = \\frac12\\boldsymbol{p}^{T}A\\boldsymbol{p} - \\boldsymbol{p}^{T}\\boldsymbol{b},\n",
    "\\end{equation*}\n",
    "\n",
    "where $A$ is a symmetric positive-definite matrix and $\\boldsymbol b$ is any vector. Then there is exactly one vector that minimizes $\\boldsymbol J (\\boldsymbol p)$ and this vector is the solution of the linear equation,\n",
    "\n",
    "```{math}\n",
    ":label: eq:linearSystem\n",
    "  A\\boldsymbol{p} = \\boldsymbol{b}.\n",
    "```\n",
    "\n",
    "The proof of this statement is straightforward. Let us compute the gradient of $J$:\n",
    "\n",
    "\\begin{equation*}\n",
    "  \\boldsymbol{\\nabla} J = A\\boldsymbol{p}-\\boldsymbol{b}\n",
    "\\end{equation*}\n",
    "\n",
    "To get the above expression we have used $A=A^T$. The gradient of $J$ is therefore equal to zero if $A\\boldsymbol{p} = \\boldsymbol{b}$. Furthermore, because $A$ is positive-definite, $\\boldsymbol p$ defines a minimum of $J$."
   ]
  },
  {
   "cell_type": "markdown",
   "metadata": {},
   "source": [
    "If $\\boldsymbol q$ is not a solution of the linear system {eq}`eq:linearSystem`, we have:\n",
    "\n",
    "```{math}\n",
    "\\boldsymbol r = \\boldsymbol b - A\\boldsymbol q \\not = 0\n",
    "```\n",
    "\n",
    "$\\boldsymbol r$ is called the **residual** and measures by how much the system is not satisfied. The residual is proportional to the gradient of $J$ and therefore indicates the direction of steepest descent along $J$.\n",
    "\n",
    "In the projection methods we describe below, the residual is used to search for the solution. These methods are quite general and define the iteration procedure using the following formula:\n",
    "\n",
    "```{math}\n",
    "{\\boldsymbol p}^{k+1}={\\boldsymbol p}^k + \\alpha_k {\\boldsymbol d}^k\n",
    "```\n",
    "\n",
    "Similarly to the Jacobi or Gauss-Seidel methods, the iteration starts with a guess $\\boldsymbol p_0$. Each method also requires a definition of the so-called search directions $\\boldsymbol d_k$ and the coefficients $\\alpha_k$ defining the magnitude of the jumps along the search directions.\n",
    "\n",
    "Some projection methods are suitable for non-symmetric matrices $A$ but we don't consider them here."
   ]
  },
  {
   "cell_type": "markdown",
   "metadata": {},
   "source": [
    "## Steepest descend method"
   ]
  },
  {
   "cell_type": "markdown",
   "metadata": {},
   "source": [
    "The first method we consider is the *steepest descent method*. \n",
    "\n",
    "We showed in the previous section that the solution of the linear system minimizes the quadratic functional $J$ and that the residual is aligned with the gradient of $J$. To rapidly lower the value of $J$, one can therefore head in that direction to go from ${\\boldsymbol p}^{k}$ to ${\\boldsymbol p}^{k+1}$. This is exactly what the steepest descent method does and it also chooses $\\alpha_k$ so that $J({\\boldsymbol p}^{k+1})$ is as small as possible. We therefore have,\n",
    "\n",
    "```{math}\n",
    "{\\boldsymbol d}^{k} &= {\\boldsymbol r}^{k}, \\\\\n",
    "\\frac{\\partial}{\\partial \\alpha_k}{J({\\boldsymbol p}^{k+1})}=\\frac{\\partial}{\\partial \\alpha_k}J({\\boldsymbol p}^{k}+ \\alpha_k {\\boldsymbol r}^{k})&= 0.\n",
    "```\n",
    "\n",
    "The second condition implies that:\n",
    "\n",
    "```{math}\n",
    "\\alpha_k = \\frac{{\\boldsymbol r}^k \\cdot {\\boldsymbol r}^k}{A{\\boldsymbol r}^k \\cdot {\\boldsymbol r}^k}.\n",
    "```\n",
    "\n",
    "Let's see how this algorithm applies to the Poisson equation (with Dirichlet boundary conditions). We recall that our discretized equation reads:\n",
    "\n",
    "```{math}\n",
    "    \\frac{p_{i-1,j}-2p_{i,j} + p_{i+1,j}}{\\Delta x^2} + \\frac{p_{i,j-1}-2p_{i,j} + p_{i,j+1}}{\\Delta y^2}= b_{i,j} \n",
    "```\n",
    "\n",
    "For the theoretical considerations developed above, the unknowns $p_{i,j}$ are grouped into a $nx-2\\times ny-2$ vector $\\boldsymbol p$ (for example using row major ordering). However, as we only have to know the action of the matrix on vectors, we never have to construct these 1D arrays explicitly and we can use the $(i,j)$ labeling directly (this will become clear when examining the algorithm below). There is however two conditions we need check. First, is the discretized Laplacian symmetric? If you look back at notebook `05_01_Iteration_and_2D` you will see that it is indeed the case. Second, is the corresponding matrix positive-definite? In fact, the discretized Laplacian is negative-definite because it is diagonalizable and all its eigenvalues are negative. They are given by {cite}`watkins2010`:\n",
    "\n",
    "\\begin{equation*}\n",
    "  \\lambda_{kl} = -4\\left[\\sin^2 \\frac{k\\pi}{2(nx-1)} + \\sin^2 \\frac{l\\pi}{2(ny-1)}\\right ],\\; k=1,\\ldots, nx-2,\\; l=1,\\ldots ny-2.\n",
    "\\end{equation*}\n",
    "\n",
    "Because the the discretized Laplacian is negative-defined, we will solve the equivalent $-\\nabla^2 p=-b$ instead to stay connected with the conventions adopted above. But we could also think of the steepest iterative method in terms of a maximizing problem and rephrase all the statements accordingly. \n",
    "\n",
    "We will solve the Poisson equation with the same grid and parameters as in notebook `05_01_Iteration_and_2D`. We also choose the same right-hand side:\n",
    "\n",
    "```{math}\n",
    "b = \\sin(\\pi x) \\cos(\\pi y) + \\sin(5\\pi x) \\cos(5\\pi y)\n",
    "```\n",
    "\n",
    "and the exact solution is again:\n",
    "\n",
    "```{math}\n",
    "p_e = -\\frac{1}{2\\pi^2}\\sin(\\pi x) \\cos(\\pi y) -\\frac{1}{50\\pi^2}\\sin(5\\pi x) \\cos(5\\pi y)\n",
    "```"
   ]
  },
  {
   "cell_type": "markdown",
   "metadata": {},
   "source": [
    "These two functions can be obtained by calling the corresponding Python functions we have defined in the file `iter_module.py` so we import them:"
   ]
  },
  {
   "cell_type": "code",
   "execution_count": 2,
   "metadata": {},
   "outputs": [],
   "source": [
    "from iter_module import p_exact_2d, rhs_2d"
   ]
  },
  {
   "cell_type": "markdown",
   "metadata": {},
   "source": [
    "The grid parameters are:"
   ]
  },
  {
   "cell_type": "code",
   "execution_count": 3,
   "metadata": {},
   "outputs": [],
   "source": [
    "# Grid parameters.\n",
    "nx = 101                  # number of points in the x direction\n",
    "ny = 101                  # number of points in the y direction\n",
    "xmin, xmax = 0.0, 1.0     # limits in the x direction\n",
    "ymin, ymax = -0.5, 0.5    # limits in the y direction\n",
    "lx = xmax - xmin          # domain length in the x direction\n",
    "ly = ymax - ymin          # domain length in the y direction\n",
    "dx = lx / (nx - 1)        # grid spacing in the x direction\n",
    "dy = ly / (ny - 1)        # grid spacing in the y direction\n",
    "\n",
    "# Create the gridline locations and the mesh grid;\n",
    "# see notebook 02_02_Runge_Kutta for more details\n",
    "x = np.linspace(xmin, xmax, nx)\n",
    "y = np.linspace(ymin, ymax, ny)\n",
    "X, Y = np.meshgrid(x, y)\n",
    "\n",
    "# Create the source term.\n",
    "b = rhs_2d(X, Y)\n",
    "\n",
    "# Compute the exact solution.\n",
    "p_exact = p_exact_2d(X, Y)"
   ]
  },
  {
   "cell_type": "markdown",
   "metadata": {},
   "source": [
    "We now define a function that computes the action of $-A$ on any vector. Remember, we still use $(i, j)$ labeling so that all we need to know is $(-A\\boldsymbol v)_{ij}$."
   ]
  },
  {
   "cell_type": "code",
   "execution_count": 4,
   "metadata": {},
   "outputs": [],
   "source": [
    "def A(v, dx, dy):\n",
    "    \"\"\"\n",
    "    Computes the action of (-) the Poisson operator on any\n",
    "    vector v_{ij} for the interior grid nodes\n",
    "    \n",
    "    Parameters\n",
    "    ----------\n",
    "    v : numpy.ndarray\n",
    "        input vector\n",
    "    dx : float\n",
    "         grid spacing in the x direction\n",
    "    dy : float\n",
    "        grid spacing in the y direction\n",
    "        \n",
    "\n",
    "    Returns\n",
    "    -------\n",
    "    Av : numpy.ndarray\n",
    "        action of A on v\n",
    "    \"\"\"\n",
    "    \n",
    "    Av = -((v[:-2, 1:-1]-2.0*v[1:-1, 1:-1]+v[2:, 1:-1])/dx**2 \n",
    "       + (v[1:-1, :-2]-2.0*v[1:-1,1:-1]+v[1:-1, 2:])/dy**2)\n",
    "    \n",
    "    return Av"
   ]
  },
  {
   "cell_type": "markdown",
   "metadata": {},
   "source": [
    "Let's now compute the initial guess and create storages for the residual $r$ and $A(r)$:"
   ]
  },
  {
   "cell_type": "code",
   "execution_count": 5,
   "metadata": {},
   "outputs": [],
   "source": [
    "# Initial guess\n",
    "p0 = np.zeros((nx, ny))\n",
    "\n",
    "# Place holders for the residual r and A(r)\n",
    "r = np.zeros((nx, ny))\n",
    "Ar = np.zeros((nx, ny))"
   ]
  },
  {
   "cell_type": "markdown",
   "metadata": {},
   "source": [
    "We then specify our convergence parameters:"
   ]
  },
  {
   "cell_type": "code",
   "execution_count": 6,
   "metadata": {},
   "outputs": [],
   "source": [
    "tolerance = 1e-10\n",
    "max_it = 20000"
   ]
  },
  {
   "cell_type": "markdown",
   "metadata": {},
   "source": [
    "And we are now ready to iterate:"
   ]
  },
  {
   "cell_type": "code",
   "execution_count": 7,
   "metadata": {},
   "outputs": [
    {
     "data": {
      "application/vnd.jupyter.widget-view+json": {
       "model_id": "66709b1a9d9b4456a93fd12af6ef1d18",
       "version_major": 2,
       "version_minor": 0
      },
      "text/plain": [
       "HBox(children=(HTML(value=''), FloatProgress(value=0.0, max=20000.0), HTML(value='')))"
      ]
     },
     "metadata": {},
     "output_type": "display_data"
    },
    {
     "name": "stdout",
     "output_type": "stream",
     "text": [
      "\n",
      "The solution converged after 12154 iterations\n",
      "\n"
     ]
    }
   ],
   "source": [
    "pbar = tqdm(total=max_it)\n",
    "pbar.set_description(\"iter / max_it\");\n",
    "\n",
    "it = 0 # iteration counter\n",
    "diff = 1.0\n",
    "tol_hist_jac = []\n",
    "\n",
    "p = p0.copy()\n",
    "\n",
    "while (diff > tolerance):\n",
    "    if it > max_it:\n",
    "        print('\\nSolution did not converged within the maximum'\n",
    "              ' number of iterations'\n",
    "              f'\\nLast l2_diff was: {diff:.5e}')\n",
    "        break\n",
    "    \n",
    "    # Residual\n",
    "    r[1:-1, 1:-1] = -b[1:-1, 1:-1] - A(p, dx, dy)\n",
    "    # Laplacian of the residual\n",
    "    Ar[1:-1, 1:-1] = A(r, dx, dy)\n",
    "    # Magnitude of jump\n",
    "    alpha = np.sum(r*r) / np.sum(r*Ar)\n",
    "    # Iterated solution\n",
    "    pnew = p + alpha*r\n",
    "\n",
    "    diff = l2_diff(pnew, p)\n",
    "    tol_hist_jac.append(diff)\n",
    "    \n",
    "    # Get ready for next iteration\n",
    "    it += 1\n",
    "    np.copyto(p, pnew)\n",
    "    \n",
    "    # We update our progress bar\n",
    "    pbar.update(1)\n",
    "\n",
    "else:\n",
    "    print(f'\\nThe solution converged after {it} iterations')\n",
    "\n",
    "# When the progress bar will not be used\n",
    "# further, it has to be closed\n",
    "pbar.close()"
   ]
  },
  {
   "cell_type": "markdown",
   "metadata": {},
   "source": [
    "We can measure the accuracy of our solution with the same diagnostics as above."
   ]
  },
  {
   "cell_type": "code",
   "execution_count": 8,
   "metadata": {},
   "outputs": [
    {
     "name": "stdout",
     "output_type": "stream",
     "text": [
      "The l2 difference between the computed solution and the exact solution is:\n",
      "1.3690442902216607e-07\n"
     ]
    }
   ],
   "source": [
    "diff = l2_diff(pnew, p_exact)\n",
    "print(f'The l2 difference between the computed solution '\n",
    "      f'and the exact solution is:\\n{diff}')"
   ]
  },
  {
   "cell_type": "code",
   "execution_count": 9,
   "metadata": {},
   "outputs": [
    {
     "data": {
      "image/png": "[encoded data removed]",
      "text/plain": [
       "<Figure size 1152x360 with 3 Axes>"
      ]
     },
     "metadata": {
      "filenames": {
       "image/png": "/Users/bknaepen/Documents/Bernard/Workspace/Teaching/MATH-F314/courseMaterial/book_solving_pde_mooc/_build/jupyter_execute/solving_pde_mooc/notebooks/05_IterativeMethods/05_02_Conjugate_Gradient_22_0.png"
      },
      "needs_background": "light"
     },
     "output_type": "display_data"
    }
   ],
   "source": [
    "fig, (ax_1, ax_2, ax_3) = plt.subplots(1, 3, figsize=(16,5))\n",
    "# We shall now use the\n",
    "# matplotlib.pyplot.contourf function.\n",
    "# As X and Y, we pass the mesh data.\n",
    "#\n",
    "# For more info\n",
    "# https://matplotlib.org/3.1.1/api/_as_gen/matplotlib.pyplot.contourf.html\n",
    "#\n",
    "ax_1.contourf(X, Y, pnew, 20)\n",
    "ax_2.contourf(X, Y, p_exact, 20)\n",
    "\n",
    "# plot along the line y=0:\n",
    "jc = int(ly/(2*dy))\n",
    "ax_3.plot(x, p_exact[:,jc], '*', color='red', markevery=2, label=r'$p_e$')\n",
    "ax_3.plot(x, pnew[:,jc], label=r'$pnew$')\n",
    "\n",
    "# add some labels and titles\n",
    "ax_1.set_xlabel(r'$x$')\n",
    "ax_1.set_ylabel(r'$y$')\n",
    "ax_1.set_title('Exact solution')\n",
    "\n",
    "ax_2.set_xlabel(r'$x$')\n",
    "ax_2.set_ylabel(r'$y$')\n",
    "ax_2.set_title('Numerical solution')\n",
    "\n",
    "ax_3.set_xlabel(r'$x$')\n",
    "ax_3.set_ylabel(r'$p$')\n",
    "ax_3.set_title(r'$p(x,0)$')\n",
    "\n",
    "ax_3.legend();"
   ]
  },
  {
   "cell_type": "markdown",
   "metadata": {},
   "source": [
    "This looks good: we have converged close to the exact solution. The bad news is that if you time the solution you will see that it more than two times slower than the Jacobi method. This is not a big surprise as the algorithm needs two evaluations of $A(v)$ per iteration. But the good news is that by changing the algorithm a bit, we can drastically cut the number of iterations. To that end, let us discuss the conjugate gradient algorithm."
   ]
  },
  {
   "cell_type": "markdown",
   "metadata": {},
   "source": [
    "## Conjugate gradient method"
   ]
  },
  {
   "cell_type": "markdown",
   "metadata": {},
   "source": [
    "With steepest descent, we use the residual as the search direction. If you compute ${\\boldsymbol r}^{k+1}\\cdot {\\boldsymbol r}^k$ you will see that two successive residuals are orthogonal and so are the search directions. But there is nothing to prevent the algorithm from making several jumps in the same (or a similar) direction.  Imagine you wanted to go from the intersection of the 5th avenue and 23rd street to the intersection of the 9th avenue and 30th street. Knowing that each segment costs the same number of computations (one iteration), would you follow the red path or green path?"
   ]
  },
  {
   "cell_type": "markdown",
   "metadata": {},
   "source": [
    "<img src=\"../figures/jumps.png\" width=350>"
   ]
  },
  {
   "cell_type": "markdown",
   "metadata": {
    "variables": {
     "\\bf r}^{k+1} \\cdot {\\bf r}^{k+1": {}
    }
   },
   "source": [
    "The conjugate gradient method is built upon the idea of reducing the number of jumps and make sure the algorithm never selects the same direction twice. To achieve this, one needs the following choices for the size of the jumps and search directions:\n",
    "\n",
    "```{math}\n",
    "\\alpha^n &= \\frac{{\\boldsymbol r}^n \\cdot {\\boldsymbol r}^n}{A{\\boldsymbol d}^n \\cdot {\\boldsymbol d}^n} \\\\\n",
    "{\\boldsymbol d}^{n+1}&={\\boldsymbol r}^{n+1}+\\beta^{n+1}{\\boldsymbol d}^{n}, \\hbox{ with } \\beta^{n+1} = \\frac{{\\boldsymbol r}^{n+1} \\cdot {\\boldsymbol r}^{n+1}}{{\\boldsymbol r}^n \\cdot {\\boldsymbol r}^n}\\\\ \\hbox{ and } {\\boldsymbol d}^{0} &= {\\boldsymbol r}^{0}.\n",
    "```\n",
    "\n",
    "Obviously, the search directions are no longer equal to the residuals but they are a linear combination of the residual and the previous search direction. What is remarkable about this algorithm is that the residual at iteration $k+1$ is orthogonal not only to the previous residual but to all of them. As a vector space of dimension $n$ can only contain $n$ orthogonal vectors, we immediately conclude that the conjugate gradient method necessarily converges (remember the restriction we put on $A$ though)! The derivation of the properties of the conjugate gradient method can cause some severe headaches. However, they are beautifully explained in this elegant paper: {cite}`Shewchuk1994`. Here we only apply the algorithm to our sample problem and refer the interested reader to this paper.\n",
    "\n",
    "A possible implementation of the method is as follows:"
   ]
  },
  {
   "cell_type": "code",
   "execution_count": 10,
   "metadata": {},
   "outputs": [],
   "source": [
    "# Initial guess\n",
    "p0 = np.zeros((nx, ny))\n",
    "\n",
    "# Place holders for the residual r and A(d)\n",
    "r = np.zeros((nx, ny))\n",
    "Ad = np.zeros((nx, ny))"
   ]
  },
  {
   "cell_type": "code",
   "execution_count": 11,
   "metadata": {},
   "outputs": [
    {
     "data": {
      "application/vnd.jupyter.widget-view+json": {
       "model_id": "48f16e0dbdd344b1b6b4f53939777d76",
       "version_major": 2,
       "version_minor": 0
      },
      "text/plain": [
       "HBox(children=(HTML(value=''), FloatProgress(value=0.0), HTML(value='')))"
      ]
     },
     "metadata": {},
     "output_type": "display_data"
    },
    {
     "name": "stdout",
     "output_type": "stream",
     "text": [
      "\n",
      "The solution converged after 3 iterations\n",
      "\n"
     ]
    }
   ],
   "source": [
    "tolerance = 1e-10\n",
    "max_it = 100\n",
    "\n",
    "pbar = tqdm(total=max_it)\n",
    "pbar.set_description(\"iter / max_it\");\n",
    "\n",
    "it = 0 # iteration counter\n",
    "diff = 1.0\n",
    "tol_hist_jac = []\n",
    "\n",
    "p = p0.copy()\n",
    "\n",
    "# Initial residual r0 and initial search direction d0\n",
    "r[1:-1, 1:-1] = -b[1:-1, 1:-1] - A(p, dx, dy)\n",
    "d = r.copy()\n",
    "\n",
    "while (diff > tolerance):\n",
    "    if it > max_it:\n",
    "        print('\\nSolution did not converged within the maximum'\n",
    "              ' number of iterations'\n",
    "              f'\\nLast l2_diff was: {diff:.5e}')\n",
    "        break\n",
    "\n",
    "    # Laplacian of the search direction.\n",
    "    Ad[1:-1, 1:-1] = A(d, dx, dy)\n",
    "    # Magnitude of jump.\n",
    "    alpha = np.sum(r*r) / np.sum(d*Ad)\n",
    "    # Iterated solution\n",
    "    pnew = p + alpha*d\n",
    "    # Intermediate computation\n",
    "    beta_denom = np.sum(r*r)\n",
    "    # Update the residual.\n",
    "    r = r - alpha*Ad\n",
    "    # Compute beta\n",
    "    beta = np.sum(r*r) / beta_denom\n",
    "    # Update the search direction.\n",
    "    d = r + beta*d\n",
    "    \n",
    "    diff = l2_diff(pnew, p)\n",
    "    tol_hist_jac.append(diff)\n",
    "    \n",
    "    # Get ready for next iteration\n",
    "    it += 1\n",
    "    np.copyto(p, pnew)\n",
    "    \n",
    "    # We update our progress bar\n",
    "    pbar.update(1)\n",
    "\n",
    "else:\n",
    "    print(f'\\nThe solution converged after {it} iterations')\n",
    "\n",
    "# When the progress bar will not be used\n",
    "# further, it has to be closed\n",
    "pbar.close()"
   ]
  },
  {
   "cell_type": "markdown",
   "metadata": {},
   "source": [
    "You are not mistaken, it only took 3 iterations to reach the desired tolerance! This is a rather a special case because the right-hand side of the equation is simple. But you can try other choices and still observe the conjugate gradient method to be much faster than the steepest descent method.\n",
    "\n",
    "To be sure, let's measure the accuracy of our solution using our usual diagnostics:"
   ]
  },
  {
   "cell_type": "code",
   "execution_count": 12,
   "metadata": {},
   "outputs": [
    {
     "name": "stdout",
     "output_type": "stream",
     "text": [
      "The l2 difference between the computed solution and the exact solution is:\n",
      "2.890080056046258e-08\n"
     ]
    }
   ],
   "source": [
    "diff = l2_diff(pnew, p_exact)\n",
    "print(f'The l2 difference between the computed solution '\n",
    "      f'and the exact solution is:\\n{diff}')"
   ]
  },
  {
   "cell_type": "code",
   "execution_count": 13,
   "metadata": {},
   "outputs": [
    {
     "data": {
      "image/png": "[encoded data removed]",
      "text/plain": [
       "<Figure size 1152x360 with 3 Axes>"
      ]
     },
     "metadata": {
      "filenames": {
       "image/png": "/Users/bknaepen/Documents/Bernard/Workspace/Teaching/MATH-F314/courseMaterial/book_solving_pde_mooc/_build/jupyter_execute/solving_pde_mooc/notebooks/05_IterativeMethods/05_02_Conjugate_Gradient_32_0.png"
      },
      "needs_background": "light"
     },
     "output_type": "display_data"
    }
   ],
   "source": [
    "fig, (ax_1, ax_2, ax_3) = plt.subplots(1, 3, figsize=(16,5))\n",
    "# We shall now use the\n",
    "# matplotlib.pyplot.contourf function.\n",
    "# As X and Y, we pass the mesh data.\n",
    "#\n",
    "# For more info\n",
    "# https://matplotlib.org/3.1.1/api/_as_gen/matplotlib.pyplot.contourf.html\n",
    "#\n",
    "ax_1.contourf(X, Y, pnew, 20)\n",
    "ax_2.contourf(X, Y, p_exact, 20)\n",
    "\n",
    "# plot along the line y=0:\n",
    "jc = int(ly/(2*dy))\n",
    "ax_3.plot(x, p_exact[:,jc], '*', color='red', markevery=2, label=r'$p_e$')\n",
    "ax_3.plot(x, pnew[:,jc], label=r'$pnew$')\n",
    "\n",
    "# add some labels and titles\n",
    "ax_1.set_xlabel(r'$x$')\n",
    "ax_1.set_ylabel(r'$y$')\n",
    "ax_1.set_title('Exact solution')\n",
    "\n",
    "ax_2.set_xlabel(r'$x$')\n",
    "ax_2.set_ylabel(r'$y$')\n",
    "ax_2.set_title('Numerical solution')\n",
    "\n",
    "ax_3.set_xlabel(r'$x$')\n",
    "ax_3.set_ylabel(r'$p$')\n",
    "ax_3.set_title(r'$p(x,0)$')\n",
    "\n",
    "ax_3.legend();"
   ]
  },
  {
   "cell_type": "markdown",
   "metadata": {},
   "source": [
    "## Summary\n",
    "\n",
    "In this notebook we provided an illustration of methods known as projection methods. They are called in this way because the jump from one iteration to the next one is along specific search directions.\n",
    "\n",
    "The method of steepest descent and the conjugate gradient methods are basic methods belonging to this class. The literature on this topic is vast and there exists a large collection of sophisticated methods tailored to many specific cases. Here we have only scratched the surface.\n",
    "\n",
    "The last notebook of this chapter will be devoted to a programming topic. As promised, we will show you how to speed up your Python code when you cannot rely directly on some precompiled function available in `numpy` or `scipy`."
   ]
  },
  {
   "cell_type": "markdown",
   "metadata": {},
   "source": [
    "## References\n",
    "```{bibliography} biblio.bib\n",
    ":filter: docname in docnames\n",
    "```"
   ]
  }
 ],
 "metadata": {
  "jupytext": {
   "formats": "ipynb,md:myst",
   "notebook_metadata_filter": "toc",
   "text_representation": {
    "extension": ".md",
    "format_name": "myst",
    "format_version": 0.12,
    "jupytext_version": "1.6.0"
   }
  },
  "kernelspec": {
   "display_name": "Python 3",
   "language": "python",
   "name": "python3"
  },
  "language_info": {
   "codemirror_mode": {
    "name": "ipython",
    "version": 3
   },
   "file_extension": ".py",
   "mimetype": "text/x-python",
   "name": "python",
   "nbconvert_exporter": "python",
   "pygments_lexer": "ipython3",
   "version": "3.8.5"
  },
  "source_map": [
   29,
   38,
   52,
   66,
   70,
   93,
   113,
   117,
   160,
   164,
   166,
   170,
   192,
   196,
   222,
   226,
   233,
   237,
   240,
   244,
   286,
   290,
   296,
   327,
   331,
   335,
   339,
   343,
   356,
   365,
   420,
   426,
   432,
   463,
   473
  ],
  "toc": {
   "base_numbering": 1,
   "nav_menu": {},
   "number_sections": true,
   "sideBar": true,
   "skip_h1_title": true,
   "title_cell": "Table of Contents",
   "title_sidebar": "Contents",
   "toc_cell": true,
   "toc_position": {},
   "toc_section_display": true,
   "toc_window_display": false
  },
  "widgets": {
   "application/vnd.jupyter.widget-state+json": {
    "state": {
     "08e31d18c0e144fb8be037939b9b9eb9": {
      "model_module": "@jupyter-widgets/controls",
      "model_module_version": "1.5.0",
      "model_name": "ProgressStyleModel",
      "state": {
       "_model_module": "@jupyter-widgets/controls",
       "_model_module_version": "1.5.0",
       "_model_name": "ProgressStyleModel",
       "_view_count": null,
       "_view_module": "@jupyter-widgets/base",
       "_view_module_version": "1.2.0",
       "_view_name": "StyleView",
       "bar_color": null,
       "description_width": ""
      }
     },
     "131cf18f2c2d47078b7eb9eb3c8a301e": {
      "model_module": "@jupyter-widgets/controls",
      "model_module_version": "1.5.0",
      "model_name": "DescriptionStyleModel",
      "state": {
       "_model_module": "@jupyter-widgets/controls",
       "_model_module_version": "1.5.0",
       "_model_name": "DescriptionStyleModel",
       "_view_count": null,
       "_view_module": "@jupyter-widgets/base",
       "_view_module_version": "1.2.0",
       "_view_name": "StyleView",
       "description_width": ""
      }
     },
     "201b7ca855a24b4ead506bc4474a07d1": {
      "model_module": "@jupyter-widgets/controls",
      "model_module_version": "1.5.0",
      "model_name": "DescriptionStyleModel",
      "state": {
       "_model_module": "@jupyter-widgets/controls",
       "_model_module_version": "1.5.0",
       "_model_name": "DescriptionStyleModel",
       "_view_count": null,
       "_view_module": "@jupyter-widgets/base",
       "_view_module_version": "1.2.0",
       "_view_name": "StyleView",
       "description_width": ""
      }
     },
     "27ddc40c49654db7a5bb1d9ae1b708e4": {
      "model_module": "@jupyter-widgets/base",
      "model_module_version": "1.2.0",
      "model_name": "LayoutModel",
      "state": {
       "_model_module": "@jupyter-widgets/base",
       "_model_module_version": "1.2.0",
       "_model_name": "LayoutModel",
       "_view_count": null,
       "_view_module": "@jupyter-widgets/base",
       "_view_module_version": "1.2.0",
       "_view_name": "LayoutView",
       "align_content": null,
       "align_items": null,
       "align_self": null,
       "border": null,
       "bottom": null,
       "display": null,
       "flex": null,
       "flex_flow": null,
       "grid_area": null,
       "grid_auto_columns": null,
       "grid_auto_flow": null,
       "grid_auto_rows": null,
       "grid_column": null,
       "grid_gap": null,
       "grid_row": null,
       "grid_template_areas": null,
       "grid_template_columns": null,
       "grid_template_rows": null,
       "height": null,
       "justify_content": null,
       "justify_items": null,
       "left": null,
       "margin": null,
       "max_height": null,
       "max_width": null,
       "min_height": null,
       "min_width": null,
       "object_fit": null,
       "object_position": null,
       "order": null,
       "overflow": null,
       "overflow_x": null,
       "overflow_y": null,
       "padding": null,
       "right": null,
       "top": null,
       "visibility": null,
       "width": null
      }
     },
     "355f4dddb4c740929dd9f68b740951b9": {
      "model_module": "@jupyter-widgets/controls",
      "model_module_version": "1.5.0",
      "model_name": "HTMLModel",
      "state": {
       "_dom_classes": [],
       "_model_module": "@jupyter-widgets/controls",
       "_model_module_version": "1.5.0",
       "_model_name": "HTMLModel",
       "_view_count": null,
       "_view_module": "@jupyter-widgets/controls",
       "_view_module_version": "1.5.0",
       "_view_name": "HTMLView",
       "description": "",
       "description_tooltip": null,
       "layout": "IPY_MODEL_cb684cdfadfe41e58e8730177cf1a1dc",
       "placeholder": "​",
       "style": "IPY_MODEL_201b7ca855a24b4ead506bc4474a07d1",
       "value": " 3/100 [00:00&lt;00:00, 127.65it/s]"
      }
     },
     "4113812e5f2749e5928b72e937da1ec6": {
      "model_module": "@jupyter-widgets/base",
      "model_module_version": "1.2.0",
      "model_name": "LayoutModel",
      "state": {
       "_model_module": "@jupyter-widgets/base",
       "_model_module_version": "1.2.0",
       "_model_name": "LayoutModel",
       "_view_count": null,
       "_view_module": "@jupyter-widgets/base",
       "_view_module_version": "1.2.0",
       "_view_name": "LayoutView",
       "align_content": null,
       "align_items": null,
       "align_self": null,
       "border": null,
       "bottom": null,
       "display": null,
       "flex": null,
       "flex_flow": null,
       "grid_area": null,
       "grid_auto_columns": null,
       "grid_auto_flow": null,
       "grid_auto_rows": null,
       "grid_column": null,
       "grid_gap": null,
       "grid_row": null,
       "grid_template_areas": null,
       "grid_template_columns": null,
       "grid_template_rows": null,
       "height": null,
       "justify_content": null,
       "justify_items": null,
       "left": null,
       "margin": null,
       "max_height": null,
       "max_width": null,
       "min_height": null,
       "min_width": null,
       "object_fit": null,
       "object_position": null,
       "order": null,
       "overflow": null,
       "overflow_x": null,
       "overflow_y": null,
       "padding": null,
       "right": null,
       "top": null,
       "visibility": null,
       "width": null
      }
     },
     "4698a2ab33224364aea1c619fce909ee": {
      "model_module": "@jupyter-widgets/controls",
      "model_module_version": "1.5.0",
      "model_name": "HTMLModel",
      "state": {
       "_dom_classes": [],
       "_model_module": "@jupyter-widgets/controls",
       "_model_module_version": "1.5.0",
       "_model_name": "HTMLModel",
       "_view_count": null,
       "_view_module": "@jupyter-widgets/controls",
       "_view_module_version": "1.5.0",
       "_view_name": "HTMLView",
       "description": "",
       "description_tooltip": null,
       "layout": "IPY_MODEL_bf500359951640bc8289ce4cac80015a",
       "placeholder": "​",
       "style": "IPY_MODEL_956354aff2554d77932a9cd7db4dfbd2",
       "value": "iter / max_it:   3%"
      }
     },
     "48f16e0dbdd344b1b6b4f53939777d76": {
      "model_module": "@jupyter-widgets/controls",
      "model_module_version": "1.5.0",
      "model_name": "HBoxModel",
      "state": {
       "_dom_classes": [],
       "_model_module": "@jupyter-widgets/controls",
       "_model_module_version": "1.5.0",
       "_model_name": "HBoxModel",
       "_view_count": null,
       "_view_module": "@jupyter-widgets/controls",
       "_view_module_version": "1.5.0",
       "_view_name": "HBoxView",
       "box_style": "",
       "children": [
        "IPY_MODEL_4698a2ab33224364aea1c619fce909ee",
        "IPY_MODEL_d2747c04c73046a9bad04661823f1ddd",
        "IPY_MODEL_355f4dddb4c740929dd9f68b740951b9"
       ],
       "layout": "IPY_MODEL_4113812e5f2749e5928b72e937da1ec6"
      }
     },
     "4f1210b76cbb400c93487eac8f48e9f5": {
      "model_module": "@jupyter-widgets/controls",
      "model_module_version": "1.5.0",
      "model_name": "HTMLModel",
      "state": {
       "_dom_classes": [],
       "_model_module": "@jupyter-widgets/controls",
       "_model_module_version": "1.5.0",
       "_model_name": "HTMLModel",
       "_view_count": null,
       "_view_module": "@jupyter-widgets/controls",
       "_view_module_version": "1.5.0",
       "_view_name": "HTMLView",
       "description": "",
       "description_tooltip": null,
       "layout": "IPY_MODEL_27ddc40c49654db7a5bb1d9ae1b708e4",
       "placeholder": "​",
       "style": "IPY_MODEL_5d0f10f7174d4441a98e481aad0970a8",
       "value": "iter / max_it:  61%"
      }
     },
     "5d0f10f7174d4441a98e481aad0970a8": {
      "model_module": "@jupyter-widgets/controls",
      "model_module_version": "1.5.0",
      "model_name": "DescriptionStyleModel",
      "state": {
       "_model_module": "@jupyter-widgets/controls",
       "_model_module_version": "1.5.0",
       "_model_name": "DescriptionStyleModel",
       "_view_count": null,
       "_view_module": "@jupyter-widgets/base",
       "_view_module_version": "1.2.0",
       "_view_name": "StyleView",
       "description_width": ""
      }
     },
     "66709b1a9d9b4456a93fd12af6ef1d18": {
      "model_module": "@jupyter-widgets/controls",
      "model_module_version": "1.5.0",
      "model_name": "HBoxModel",
      "state": {
       "_dom_classes": [],
       "_model_module": "@jupyter-widgets/controls",
       "_model_module_version": "1.5.0",
       "_model_name": "HBoxModel",
       "_view_count": null,
       "_view_module": "@jupyter-widgets/controls",
       "_view_module_version": "1.5.0",
       "_view_name": "HBoxView",
       "box_style": "",
       "children": [
        "IPY_MODEL_4f1210b76cbb400c93487eac8f48e9f5",
        "IPY_MODEL_a3e2326d027543eeba5e5e1e2597cae5",
        "IPY_MODEL_c2c8b35b987941219e038566faf64f44"
       ],
       "layout": "IPY_MODEL_ca87eca937994746994fab9e46a6284a"
      }
     },
     "78c766e7eb9a4f198ef359f5ea21b016": {
      "model_module": "@jupyter-widgets/base",
      "model_module_version": "1.2.0",
      "model_name": "LayoutModel",
      "state": {
       "_model_module": "@jupyter-widgets/base",
       "_model_module_version": "1.2.0",
       "_model_name": "LayoutModel",
       "_view_count": null,
       "_view_module": "@jupyter-widgets/base",
       "_view_module_version": "1.2.0",
       "_view_name": "LayoutView",
       "align_content": null,
       "align_items": null,
       "align_self": null,
       "border": null,
       "bottom": null,
       "display": null,
       "flex": null,
       "flex_flow": null,
       "grid_area": null,
       "grid_auto_columns": null,
       "grid_auto_flow": null,
       "grid_auto_rows": null,
       "grid_column": null,
       "grid_gap": null,
       "grid_row": null,
       "grid_template_areas": null,
       "grid_template_columns": null,
       "grid_template_rows": null,
       "height": null,
       "justify_content": null,
       "justify_items": null,
       "left": null,
       "margin": null,
       "max_height": null,
       "max_width": null,
       "min_height": null,
       "min_width": null,
       "object_fit": null,
       "object_position": null,
       "order": null,
       "overflow": null,
       "overflow_x": null,
       "overflow_y": null,
       "padding": null,
       "right": null,
       "top": null,
       "visibility": null,
       "width": null
      }
     },
     "956354aff2554d77932a9cd7db4dfbd2": {
      "model_module": "@jupyter-widgets/controls",
      "model_module_version": "1.5.0",
      "model_name": "DescriptionStyleModel",
      "state": {
       "_model_module": "@jupyter-widgets/controls",
       "_model_module_version": "1.5.0",
       "_model_name": "DescriptionStyleModel",
       "_view_count": null,
       "_view_module": "@jupyter-widgets/base",
       "_view_module_version": "1.2.0",
       "_view_name": "StyleView",
       "description_width": ""
      }
     },
     "a3e2326d027543eeba5e5e1e2597cae5": {
      "model_module": "@jupyter-widgets/controls",
      "model_module_version": "1.5.0",
      "model_name": "FloatProgressModel",
      "state": {
       "_dom_classes": [],
       "_model_module": "@jupyter-widgets/controls",
       "_model_module_version": "1.5.0",
       "_model_name": "FloatProgressModel",
       "_view_count": null,
       "_view_module": "@jupyter-widgets/controls",
       "_view_module_version": "1.5.0",
       "_view_name": "ProgressView",
       "bar_style": "danger",
       "description": "",
       "description_tooltip": null,
       "layout": "IPY_MODEL_78c766e7eb9a4f198ef359f5ea21b016",
       "max": 20000.0,
       "min": 0.0,
       "orientation": "horizontal",
       "style": "IPY_MODEL_e3a4d82de0dd4cd9af54b9568cefc3af",
       "value": 12154.0
      }
     },
     "aef5365a876140b4ade7bb2ac95a4b2a": {
      "model_module": "@jupyter-widgets/base",
      "model_module_version": "1.2.0",
      "model_name": "LayoutModel",
      "state": {
       "_model_module": "@jupyter-widgets/base",
       "_model_module_version": "1.2.0",
       "_model_name": "LayoutModel",
       "_view_count": null,
       "_view_module": "@jupyter-widgets/base",
       "_view_module_version": "1.2.0",
       "_view_name": "LayoutView",
       "align_content": null,
       "align_items": null,
       "align_self": null,
       "border": null,
       "bottom": null,
       "display": null,
       "flex": null,
       "flex_flow": null,
       "grid_area": null,
       "grid_auto_columns": null,
       "grid_auto_flow": null,
       "grid_auto_rows": null,
       "grid_column": null,
       "grid_gap": null,
       "grid_row": null,
       "grid_template_areas": null,
       "grid_template_columns": null,
       "grid_template_rows": null,
       "height": null,
       "justify_content": null,
       "justify_items": null,
       "left": null,
       "margin": null,
       "max_height": null,
       "max_width": null,
       "min_height": null,
       "min_width": null,
       "object_fit": null,
       "object_position": null,
       "order": null,
       "overflow": null,
       "overflow_x": null,
       "overflow_y": null,
       "padding": null,
       "right": null,
       "top": null,
       "visibility": null,
       "width": null
      }
     },
     "bf500359951640bc8289ce4cac80015a": {
      "model_module": "@jupyter-widgets/base",
      "model_module_version": "1.2.0",
      "model_name": "LayoutModel",
      "state": {
       "_model_module": "@jupyter-widgets/base",
       "_model_module_version": "1.2.0",
       "_model_name": "LayoutModel",
       "_view_count": null,
       "_view_module": "@jupyter-widgets/base",
       "_view_module_version": "1.2.0",
       "_view_name": "LayoutView",
       "align_content": null,
       "align_items": null,
       "align_self": null,
       "border": null,
       "bottom": null,
       "display": null,
       "flex": null,
       "flex_flow": null,
       "grid_area": null,
       "grid_auto_columns": null,
       "grid_auto_flow": null,
       "grid_auto_rows": null,
       "grid_column": null,
       "grid_gap": null,
       "grid_row": null,
       "grid_template_areas": null,
       "grid_template_columns": null,
       "grid_template_rows": null,
       "height": null,
       "justify_content": null,
       "justify_items": null,
       "left": null,
       "margin": null,
       "max_height": null,
       "max_width": null,
       "min_height": null,
       "min_width": null,
       "object_fit": null,
       "object_position": null,
       "order": null,
       "overflow": null,
       "overflow_x": null,
       "overflow_y": null,
       "padding": null,
       "right": null,
       "top": null,
       "visibility": null,
       "width": null
      }
     },
     "c2c8b35b987941219e038566faf64f44": {
      "model_module": "@jupyter-widgets/controls",
      "model_module_version": "1.5.0",
      "model_name": "HTMLModel",
      "state": {
       "_dom_classes": [],
       "_model_module": "@jupyter-widgets/controls",
       "_model_module_version": "1.5.0",
       "_model_name": "HTMLModel",
       "_view_count": null,
       "_view_module": "@jupyter-widgets/controls",
       "_view_module_version": "1.5.0",
       "_view_name": "HTMLView",
       "description": "",
       "description_tooltip": null,
       "layout": "IPY_MODEL_dbb298b4eb894c059954a35233282df5",
       "placeholder": "​",
       "style": "IPY_MODEL_131cf18f2c2d47078b7eb9eb3c8a301e",
       "value": " 12154/20000 [00:03&lt;00:02, 3154.26it/s]"
      }
     },
     "ca87eca937994746994fab9e46a6284a": {
      "model_module": "@jupyter-widgets/base",
      "model_module_version": "1.2.0",
      "model_name": "LayoutModel",
      "state": {
       "_model_module": "@jupyter-widgets/base",
       "_model_module_version": "1.2.0",
       "_model_name": "LayoutModel",
       "_view_count": null,
       "_view_module": "@jupyter-widgets/base",
       "_view_module_version": "1.2.0",
       "_view_name": "LayoutView",
       "align_content": null,
       "align_items": null,
       "align_self": null,
       "border": null,
       "bottom": null,
       "display": null,
       "flex": null,
       "flex_flow": null,
       "grid_area": null,
       "grid_auto_columns": null,
       "grid_auto_flow": null,
       "grid_auto_rows": null,
       "grid_column": null,
       "grid_gap": null,
       "grid_row": null,
       "grid_template_areas": null,
       "grid_template_columns": null,
       "grid_template_rows": null,
       "height": null,
       "justify_content": null,
       "justify_items": null,
       "left": null,
       "margin": null,
       "max_height": null,
       "max_width": null,
       "min_height": null,
       "min_width": null,
       "object_fit": null,
       "object_position": null,
       "order": null,
       "overflow": null,
       "overflow_x": null,
       "overflow_y": null,
       "padding": null,
       "right": null,
       "top": null,
       "visibility": null,
       "width": null
      }
     },
     "cb684cdfadfe41e58e8730177cf1a1dc": {
      "model_module": "@jupyter-widgets/base",
      "model_module_version": "1.2.0",
      "model_name": "LayoutModel",
      "state": {
       "_model_module": "@jupyter-widgets/base",
       "_model_module_version": "1.2.0",
       "_model_name": "LayoutModel",
       "_view_count": null,
       "_view_module": "@jupyter-widgets/base",
       "_view_module_version": "1.2.0",
       "_view_name": "LayoutView",
       "align_content": null,
       "align_items": null,
       "align_self": null,
       "border": null,
       "bottom": null,
       "display": null,
       "flex": null,
       "flex_flow": null,
       "grid_area": null,
       "grid_auto_columns": null,
       "grid_auto_flow": null,
       "grid_auto_rows": null,
       "grid_column": null,
       "grid_gap": null,
       "grid_row": null,
       "grid_template_areas": null,
       "grid_template_columns": null,
       "grid_template_rows": null,
       "height": null,
       "justify_content": null,
       "justify_items": null,
       "left": null,
       "margin": null,
       "max_height": null,
       "max_width": null,
       "min_height": null,
       "min_width": null,
       "object_fit": null,
       "object_position": null,
       "order": null,
       "overflow": null,
       "overflow_x": null,
       "overflow_y": null,
       "padding": null,
       "right": null,
       "top": null,
       "visibility": null,
       "width": null
      }
     },
     "d2747c04c73046a9bad04661823f1ddd": {
      "model_module": "@jupyter-widgets/controls",
      "model_module_version": "1.5.0",
      "model_name": "FloatProgressModel",
      "state": {
       "_dom_classes": [],
       "_model_module": "@jupyter-widgets/controls",
       "_model_module_version": "1.5.0",
       "_model_name": "FloatProgressModel",
       "_view_count": null,
       "_view_module": "@jupyter-widgets/controls",
       "_view_module_version": "1.5.0",
       "_view_name": "ProgressView",
       "bar_style": "danger",
       "description": "",
       "description_tooltip": null,
       "layout": "IPY_MODEL_aef5365a876140b4ade7bb2ac95a4b2a",
       "max": 100.0,
       "min": 0.0,
       "orientation": "horizontal",
       "style": "IPY_MODEL_08e31d18c0e144fb8be037939b9b9eb9",
       "value": 3.0
      }
     },
     "dbb298b4eb894c059954a35233282df5": {
      "model_module": "@jupyter-widgets/base",
      "model_module_version": "1.2.0",
      "model_name": "LayoutModel",
      "state": {
       "_model_module": "@jupyter-widgets/base",
       "_model_module_version": "1.2.0",
       "_model_name": "LayoutModel",
       "_view_count": null,
       "_view_module": "@jupyter-widgets/base",
       "_view_module_version": "1.2.0",
       "_view_name": "LayoutView",
       "align_content": null,
       "align_items": null,
       "align_self": null,
       "border": null,
       "bottom": null,
       "display": null,
       "flex": null,
       "flex_flow": null,
       "grid_area": null,
       "grid_auto_columns": null,
       "grid_auto_flow": null,
       "grid_auto_rows": null,
       "grid_column": null,
       "grid_gap": null,
       "grid_row": null,
       "grid_template_areas": null,
       "grid_template_columns": null,
       "grid_template_rows": null,
       "height": null,
       "justify_content": null,
       "justify_items": null,
       "left": null,
       "margin": null,
       "max_height": null,
       "max_width": null,
       "min_height": null,
       "min_width": null,
       "object_fit": null,
       "object_position": null,
       "order": null,
       "overflow": null,
       "overflow_x": null,
       "overflow_y": null,
       "padding": null,
       "right": null,
       "top": null,
       "visibility": null,
       "width": null
      }
     },
     "e3a4d82de0dd4cd9af54b9568cefc3af": {
      "model_module": "@jupyter-widgets/controls",
      "model_module_version": "1.5.0",
      "model_name": "ProgressStyleModel",
      "state": {
       "_model_module": "@jupyter-widgets/controls",
       "_model_module_version": "1.5.0",
       "_model_name": "ProgressStyleModel",
       "_view_count": null,
       "_view_module": "@jupyter-widgets/base",
       "_view_module_version": "1.2.0",
       "_view_name": "StyleView",
       "bar_color": null,
       "description_width": ""
      }
     }
    },
    "version_major": 2,
    "version_minor": 0
   }
  }
 },
 "nbformat": 4,
 "nbformat_minor": 4
}