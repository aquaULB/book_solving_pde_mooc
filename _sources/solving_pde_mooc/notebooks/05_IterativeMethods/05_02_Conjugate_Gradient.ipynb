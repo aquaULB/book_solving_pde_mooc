{
 "cells": [
  {
   "cell_type": "markdown",
   "id": "9d067265",
   "metadata": {},
   "source": [
    "# The conjugate gradient method\n",
    "\n",
    "\n",
    "## Introduction\n",
    "\n",
    "For convenience, we start by importing some modules needed below:"
   ]
  },
  {
   "cell_type": "code",
   "execution_count": 1,
   "id": "2acc693f",
   "metadata": {},
   "outputs": [],
   "source": [
    "import numpy as np\n",
    "import matplotlib.pyplot as plt\n",
    "from scipy.sparse import diags\n",
    "from tqdm.notebook import tqdm\n",
    "\n",
    "import sys\n",
    "sys.path.insert(0, '../modules')\n",
    "# Function to compute an error in L2 norm\n",
    "from norms import l2_diff\n",
    "\n",
    "%matplotlib inline\n",
    "\n",
    "plt.style.use('../styles/mainstyle.use')"
   ]
  },
  {
   "cell_type": "markdown",
   "id": "af85c027",
   "metadata": {},
   "source": [
    "In the previous notebooks we have already considered several ways to iteratively solve matrix problems like $A\\boldsymbol p =\\boldsymbol b$.\n",
    "\n",
    "If $A$ has some particular characteristics it's possible to devise even faster methods. Here we will assume that $A$ is symmetric and positive-definite:\n",
    "\n",
    "```{math}\n",
    "A=A^{T} \\hbox{ and } \\boldsymbol{p}^{T}A\\boldsymbol p > 0 \\hbox{ for any } \\boldsymbol p\\not = 0. \n",
    "```\n",
    "\n",
    "The resolution of the linear system may then be viewed as a minimization problem and one of the most popular method to use in that case is the conjugate gradient method.\n",
    "\n",
    "In this notebook we will describe the conjugate gradient method algorithm but let us first introduce some key concepts and a more primitive algorithm called the method of steepest descent."
   ]
  },
  {
   "cell_type": "markdown",
   "id": "73876be3",
   "metadata": {},
   "source": [
    "## Projection methods"
   ]
  },
  {
   "cell_type": "markdown",
   "id": "63ef8f2c",
   "metadata": {},
   "source": [
    "Let's consider the following quadratic functional of the vector $\\boldsymbol p$,\n",
    "\n",
    "```{math}\n",
    "  J (\\boldsymbol p) = \\frac12\\boldsymbol{p}^{T}A\\boldsymbol{p} - \\boldsymbol{p}^{T}\\boldsymbol{b},\n",
    "```\n",
    "\n",
    "where $A$ is a symmetric positive-definite matrix and $\\boldsymbol b$ is any vector. Then there is exactly one vector that minimizes $\\boldsymbol J (\\boldsymbol p)$ and this vector is the solution of the linear equation,\n",
    "\n",
    "```{math}\n",
    ":label: eq:linearSystem\n",
    "  A\\boldsymbol{p} = \\boldsymbol{b}.\n",
    "```\n",
    "\n",
    "The proof of this statement is straightforward. Let us compute the gradient of $J$:\n",
    "\n",
    "```{math}\n",
    "  \\boldsymbol{\\nabla} J = A\\boldsymbol{p}-\\boldsymbol{b}\n",
    "```\n",
    "\n",
    "To get the above expression we have used $A=A^T$. The gradient of $J$ is therefore equal to zero if $A\\boldsymbol{p} = \\boldsymbol{b}$. Furthermore, because $A$ is positive-definite, $\\boldsymbol p$ defines a minimum of $J$."
   ]
  },
  {
   "cell_type": "markdown",
   "id": "5bc04d34",
   "metadata": {},
   "source": [
    "If $\\boldsymbol q$ is not a solution of the linear system {eq}`eq:linearSystem`, we have:\n",
    "\n",
    "```{math}\n",
    "\\boldsymbol r = \\boldsymbol b - A\\boldsymbol q \\not = 0\n",
    "```\n",
    "\n",
    "$\\boldsymbol r$ is called the **residual** and measures by how much the system is not satisfied. The residual is proportional to the gradient of $J$ and therefore indicates the direction of steepest descent along $J$.\n",
    "\n",
    "In the projection methods we describe below, the residual is used to search for the solution. These methods are quite general and define the iteration procedure using the following formula:\n",
    "\n",
    "```{math}\n",
    "{\\boldsymbol p}^{k+1}={\\boldsymbol p}^k + \\alpha_k {\\boldsymbol d}^k\n",
    "```\n",
    "\n",
    "Similarly to the Jacobi or Gauss-Seidel methods, the iteration starts with a guess $\\boldsymbol p_0$. Each method also requires a definition of the so-called search directions $\\boldsymbol d_k$ and the coefficients $\\alpha_k$ defining the magnitude of the jumps along the search directions.\n",
    "\n",
    "Some projection methods are suitable for non-symmetric matrices $A$ but we don't consider them here."
   ]
  },
  {
   "cell_type": "markdown",
   "id": "9bb64e82",
   "metadata": {},
   "source": [
    "## Steepest descend method"
   ]
  },
  {
   "cell_type": "markdown",
   "id": "20b11f28",
   "metadata": {},
   "source": [
    "The first method we consider is the *steepest descent method*. \n",
    "\n",
    "We showed in the previous section that the solution of the linear system minimizes the quadratic functional $J$ and that the residual is aligned with the gradient of $J$. To rapidly lower the value of $J$, one can therefore head in that direction to go from ${\\boldsymbol p}^{k}$ to ${\\boldsymbol p}^{k+1}$. This is exactly what the steepest descent method does and it also chooses $\\alpha_k$ so that $J({\\boldsymbol p}^{k+1})$ is as small as possible. We therefore have,\n",
    "\n",
    "```{math}\n",
    "{\\boldsymbol d}^{k} &= {\\boldsymbol r}^{k}, \\\\\n",
    "\\frac{\\partial}{\\partial \\alpha_k}{J({\\boldsymbol p}^{k+1})}=\\frac{\\partial}{\\partial \\alpha_k}J({\\boldsymbol p}^{k}+ \\alpha_k {\\boldsymbol r}^{k})&= 0.\n",
    "```\n",
    "\n",
    "The second condition implies that:\n",
    "\n",
    "```{math}\n",
    "\\alpha_k = \\frac{{\\boldsymbol r}^k \\cdot {\\boldsymbol r}^k}{A{\\boldsymbol r}^k \\cdot {\\boldsymbol r}^k}.\n",
    "```\n",
    "\n",
    "Let's see how this algorithm applies to the Poisson equation (with Dirichlet boundary conditions). We recall that our discretized equation reads:\n",
    "\n",
    "```{math}\n",
    "    \\frac{p_{i-1,j}-2p_{i,j} + p_{i+1,j}}{\\Delta x^2} + \\frac{p_{i,j-1}-2p_{i,j} + p_{i,j+1}}{\\Delta y^2}= b_{i,j} \n",
    "```\n",
    "\n",
    "For the theoretical considerations developed above, the unknowns $p_{i,j}$ are grouped into a $nx-2\\times ny-2$ vector $\\boldsymbol p$ (for example using row major ordering). However, as we only have to know the action of the matrix on vectors, we never have to construct these 1D arrays explicitly and we can use the $(i,j)$ labeling directly (this will become clear when examining the algorithm below). There is however two conditions we need check. First, is the discretized Laplacian symmetric? If you look back at notebook `05_01_Iteration_and_2D` you will see that it is indeed the case. Second, is the corresponding matrix positive-definite? In fact, the discretized Laplacian is negative-definite because it is diagonalizable and all its eigenvalues are negative. They are given by {cite}`d47220-watkins2010`:\n",
    "\n",
    "```{math}\n",
    "  \\lambda_{kl} = -4\\left[\\sin^2 \\frac{k\\pi}{2(nx-1)} + \\sin^2 \\frac{l\\pi}{2(ny-1)}\\right ],\\; k=1,\\ldots, nx-2,\\; l=1,\\ldots ny-2.\n",
    "```\n",
    "\n",
    "Because the the discretized Laplacian is negative-defined, we will solve the equivalent $-\\nabla^2 p=-b$ instead to stay connected with the conventions adopted above. But we could also think of the steepest iterative method in terms of a maximizing problem and rephrase all the statements accordingly. \n",
    "\n",
    "We will solve the Poisson equation with the same grid and parameters as in notebook `05_01_Iteration_and_2D`. We also choose the same right-hand side:\n",
    "\n",
    "```{math}\n",
    "b = \\sin(\\pi x) \\cos(\\pi y) + \\sin(5\\pi x) \\cos(5\\pi y)\n",
    "```\n",
    "\n",
    "and the exact solution is again:\n",
    "\n",
    "```{math}\n",
    "p_e = -\\frac{1}{2\\pi^2}\\sin(\\pi x) \\cos(\\pi y) -\\frac{1}{50\\pi^2}\\sin(5\\pi x) \\cos(5\\pi y)\n",
    "```"
   ]
  },
  {
   "cell_type": "markdown",
   "id": "e6ce0ccf",
   "metadata": {},
   "source": [
    "These two functions can be obtained by calling the corresponding Python functions we have defined in the file `iter_module.py` so we import them:"
   ]
  },
  {
   "cell_type": "code",
   "execution_count": 2,
   "id": "cf17da4a",
   "metadata": {},
   "outputs": [],
   "source": [
    "from iter_module import p_exact_2d, rhs_2d"
   ]
  },
  {
   "cell_type": "markdown",
   "id": "2ef12121",
   "metadata": {},
   "source": [
    "The grid parameters are:"
   ]
  },
  {
   "cell_type": "code",
   "execution_count": 3,
   "id": "36ca1e9e",
   "metadata": {},
   "outputs": [],
   "source": [
    "# Grid parameters.\n",
    "nx = 101                  # number of points in the x direction\n",
    "ny = 101                  # number of points in the y direction\n",
    "xmin, xmax = 0.0, 1.0     # limits in the x direction\n",
    "ymin, ymax = -0.5, 0.5    # limits in the y direction\n",
    "lx = xmax - xmin          # domain length in the x direction\n",
    "ly = ymax - ymin          # domain length in the y direction\n",
    "dx = lx / (nx - 1)        # grid spacing in the x direction\n",
    "dy = ly / (ny - 1)        # grid spacing in the y direction\n",
    "\n",
    "# Create the gridline locations and the mesh grid;\n",
    "# see notebook 02_02_Runge_Kutta for more details\n",
    "x = np.linspace(xmin, xmax, nx)\n",
    "y = np.linspace(ymin, ymax, ny)\n",
    "X, Y = np.meshgrid(x, y, indexing='ij')\n",
    "\n",
    "# Create the source term.\n",
    "b = rhs_2d(X, Y)\n",
    "\n",
    "# Compute the exact solution.\n",
    "p_exact = p_exact_2d(X, Y)"
   ]
  },
  {
   "cell_type": "markdown",
   "id": "348032ab",
   "metadata": {},
   "source": [
    "We now define a function that computes the action of $-A$ on any vector. Remember, we still use $(i, j)$ labeling so that all we need to know is $(-A\\boldsymbol v)_{ij}$."
   ]
  },
  {
   "cell_type": "code",
   "execution_count": 4,
   "id": "d12d3a4c",
   "metadata": {},
   "outputs": [],
   "source": [
    "def A(v, dx, dy):\n",
    "    \"\"\"\n",
    "    Computes the action of (-) the Poisson operator on any\n",
    "    vector v_{ij} for the interior grid nodes\n",
    "    \n",
    "    Parameters\n",
    "    ----------\n",
    "    v : numpy.ndarray\n",
    "        input vector\n",
    "    dx : float\n",
    "         grid spacing in the x direction\n",
    "    dy : float\n",
    "        grid spacing in the y direction\n",
    "        \n",
    "\n",
    "    Returns\n",
    "    -------\n",
    "    Av : numpy.ndarray\n",
    "        action of A on v\n",
    "    \"\"\"\n",
    "    \n",
    "    Av = -((v[:-2, 1:-1]-2.0*v[1:-1, 1:-1]+v[2:, 1:-1])/dx**2 \n",
    "       + (v[1:-1, :-2]-2.0*v[1:-1,1:-1]+v[1:-1, 2:])/dy**2)\n",
    "    \n",
    "    return Av"
   ]
  },
  {
   "cell_type": "markdown",
   "id": "c0dba55a",
   "metadata": {},
   "source": [
    "Let's now compute the initial guess and create storages for the residual $r$ and $A(r)$:"
   ]
  },
  {
   "cell_type": "code",
   "execution_count": 5,
   "id": "5e5348bf",
   "metadata": {},
   "outputs": [],
   "source": [
    "# Initial guess\n",
    "p0 = np.zeros((nx, ny))\n",
    "\n",
    "# Place holders for the residual r and A(r)\n",
    "r = np.zeros((nx, ny))\n",
    "Ar = np.zeros((nx, ny))"
   ]
  },
  {
   "cell_type": "markdown",
   "id": "eb17df12",
   "metadata": {},
   "source": [
    "We then specify our convergence parameters:"
   ]
  },
  {
   "cell_type": "code",
   "execution_count": 6,
   "id": "b6f82898",
   "metadata": {},
   "outputs": [],
   "source": [
    "tolerance = 1e-10\n",
    "max_it = 20000"
   ]
  },
  {
   "cell_type": "markdown",
   "id": "3eb8376c",
   "metadata": {},
   "source": [
    "And we are now ready to iterate:"
   ]
  },
  {
   "cell_type": "code",
   "execution_count": 7,
   "id": "0e9ff1fc",
   "metadata": {},
   "outputs": [
    {
     "data": {
      "application/vnd.jupyter.widget-view+json": {
       "model_id": "558ff929f6cb4564a41e35ddc3526fb3",
       "version_major": 2,
       "version_minor": 0
      },
      "text/plain": [
       "  0%|          | 0/20000 [00:00<?, ?it/s]"
      ]
     },
     "metadata": {},
     "output_type": "display_data"
    },
    {
     "name": "stdout",
     "output_type": "stream",
     "text": [
      "\n",
      "The solution converged after 12154 iterations\n"
     ]
    }
   ],
   "source": [
    "pbar = tqdm(total=max_it)\n",
    "pbar.set_description(\"iter / max_it\");\n",
    "\n",
    "it = 0 # iteration counter\n",
    "diff = 1.0\n",
    "tol_hist_jac = []\n",
    "\n",
    "p = p0.copy()\n",
    "\n",
    "while (diff > tolerance):\n",
    "    if it > max_it:\n",
    "        print('\\nSolution did not converged within the maximum'\n",
    "              ' number of iterations'\n",
    "              f'\\nLast l2_diff was: {diff:.5e}')\n",
    "        break\n",
    "    \n",
    "    # Residual\n",
    "    r[1:-1, 1:-1] = -b[1:-1, 1:-1] - A(p, dx, dy)\n",
    "    # Laplacian of the residual\n",
    "    Ar[1:-1, 1:-1] = A(r, dx, dy)\n",
    "    # Magnitude of jump\n",
    "    alpha = np.sum(r*r) / np.sum(r*Ar)\n",
    "    # Iterated solution\n",
    "    pnew = p + alpha*r\n",
    "\n",
    "    diff = l2_diff(pnew, p)\n",
    "    tol_hist_jac.append(diff)\n",
    "    \n",
    "    # Get ready for next iteration\n",
    "    it += 1\n",
    "    np.copyto(p, pnew)\n",
    "    \n",
    "    # We update our progress bar\n",
    "    pbar.update(1)\n",
    "\n",
    "else:\n",
    "    print(f'\\nThe solution converged after {it} iterations')\n",
    "\n",
    "# When the progress bar will not be used\n",
    "# further, it has to be closed\n",
    "del(pbar)"
   ]
  },
  {
   "cell_type": "markdown",
   "id": "fe609d1e",
   "metadata": {},
   "source": [
    "We can measure the accuracy of our solution with the same diagnostics as above."
   ]
  },
  {
   "cell_type": "code",
   "execution_count": 8,
   "id": "9d037ddf",
   "metadata": {},
   "outputs": [
    {
     "name": "stdout",
     "output_type": "stream",
     "text": [
      "The l2 difference between the computed solution and the exact solution is:\n",
      "1.3690442492780553e-07\n"
     ]
    }
   ],
   "source": [
    "diff = l2_diff(pnew, p_exact)\n",
    "print(f'The l2 difference between the computed solution '\n",
    "      f'and the exact solution is:\\n{diff}')"
   ]
  },
  {
   "cell_type": "code",
   "execution_count": 9,
   "id": "77024c69",
   "metadata": {},
   "outputs": [
    {
     "data": {
      "image/png": "[encoded data removed]",
      "text/plain": [
       "<Figure size 1152x360 with 3 Axes>"
      ]
     },
     "metadata": {
      "filenames": {
       "image/png": "/Users/bknaepen/Documents/Bernard/Workspace/Teaching/MATH-F314/courseMaterial/book_solving_pde_mooc/_build/jupyter_execute/solving_pde_mooc/notebooks/05_IterativeMethods/05_02_Conjugate_Gradient_22_0.png"
      },
      "needs_background": "light"
     },
     "output_type": "display_data"
    }
   ],
   "source": [
    "fig, (ax_1, ax_2, ax_3) = plt.subplots(1, 3, figsize=(16,5))\n",
    "# We shall now use the\n",
    "# matplotlib.pyplot.contourf function.\n",
    "# As X and Y, we pass the mesh data.\n",
    "#\n",
    "# For more info\n",
    "# https://matplotlib.org/3.1.1/api/_as_gen/matplotlib.pyplot.contourf.html\n",
    "#\n",
    "ax_1.contourf(X, Y, pnew, 20)\n",
    "ax_2.contourf(X, Y, p_exact, 20)\n",
    "\n",
    "# plot along the line y=0:\n",
    "jc = int(ly/(2*dy))\n",
    "ax_3.plot(x, p_exact[:,jc], '*', color='red', markevery=2, label=r'$p_e$')\n",
    "ax_3.plot(x, pnew[:,jc], label=r'$pnew$')\n",
    "\n",
    "# add some labels and titles\n",
    "ax_1.set_xlabel(r'$x$')\n",
    "ax_1.set_ylabel(r'$y$')\n",
    "ax_1.set_title('Exact solution')\n",
    "\n",
    "ax_2.set_xlabel(r'$x$')\n",
    "ax_2.set_ylabel(r'$y$')\n",
    "ax_2.set_title('Numerical solution')\n",
    "\n",
    "ax_3.set_xlabel(r'$x$')\n",
    "ax_3.set_ylabel(r'$p$')\n",
    "ax_3.set_title(r'$p(x,0)$')\n",
    "\n",
    "ax_3.legend();"
   ]
  },
  {
   "cell_type": "markdown",
   "id": "234c4aee",
   "metadata": {},
   "source": [
    "This looks good: we have converged close to the exact solution. The bad news is that if you time the solution you will see that it more than two times slower than the Jacobi method. This is not a big surprise as the algorithm needs two evaluations of $A(v)$ per iteration. But the good news is that by changing the algorithm a bit, we can drastically cut the number of iterations. To that end, let us discuss the conjugate gradient algorithm."
   ]
  },
  {
   "cell_type": "markdown",
   "id": "1e1ea8b7",
   "metadata": {},
   "source": [
    "## Conjugate gradient method"
   ]
  },
  {
   "cell_type": "markdown",
   "id": "61be1770",
   "metadata": {},
   "source": [
    "With steepest descent, we use the residual as the search direction. If you compute ${\\boldsymbol r}^{k+1}\\cdot {\\boldsymbol r}^k$ you will see that two successive residuals are orthogonal and so are the search directions. But there is nothing to prevent the algorithm from making several jumps in the same (or a similar) direction.  Imagine you wanted to go from the intersection of the 5th avenue and 23rd street to the intersection of the 9th avenue and 30th street. Knowing that each segment costs the same number of computations (one iteration), would you follow the red path or green path?"
   ]
  },
  {
   "cell_type": "markdown",
   "id": "b8f65537",
   "metadata": {},
   "source": [
    "<img src=\"../figures/jumps.png\" width=350>"
   ]
  },
  {
   "cell_type": "markdown",
   "id": "9963d90e",
   "metadata": {
    "variables": {
     "\\bf r}^{k+1} \\cdot {\\bf r}^{k+1": {}
    }
   },
   "source": [
    "The conjugate gradient method is built upon the idea of reducing the number of jumps and make sure the algorithm never selects the same direction twice. To achieve this, one needs the following choices for the size of the jumps and search directions:\n",
    "\n",
    "```{math}\n",
    "\\alpha^n &= \\frac{{\\boldsymbol r}^n \\cdot {\\boldsymbol r}^n}{A{\\boldsymbol d}^n \\cdot {\\boldsymbol d}^n} \\\\\n",
    "{\\boldsymbol d}^{n+1}&={\\boldsymbol r}^{n+1}+\\beta^{n+1}{\\boldsymbol d}^{n}, \\hbox{ with } \\beta^{n+1} = \\frac{{\\boldsymbol r}^{n+1} \\cdot {\\boldsymbol r}^{n+1}}{{\\boldsymbol r}^n \\cdot {\\boldsymbol r}^n}\\\\ \\hbox{ and } {\\boldsymbol d}^{0} &= {\\boldsymbol r}^{0}.\n",
    "```\n",
    "\n",
    "Obviously, the search directions are no longer equal to the residuals but they are a linear combination of the residual and the previous search direction. What is remarkable about this algorithm is that the residual at iteration $k+1$ is orthogonal not only to the previous residual but to all of them. As a vector space of dimension $n$ can only contain $n$ orthogonal vectors, we immediately conclude that the conjugate gradient method necessarily converges (remember the restriction we put on $A$ though)! The derivation of the properties of the conjugate gradient method can cause some severe headaches. However, they are beautifully explained in this elegant paper: {cite}`d47220-Shewchuk1994`. Here we only apply the algorithm to our sample problem and refer the interested reader to this paper.\n",
    "\n",
    "A possible implementation of the method is as follows:"
   ]
  },
  {
   "cell_type": "code",
   "execution_count": 10,
   "id": "0cb62a38",
   "metadata": {},
   "outputs": [],
   "source": [
    "# Initial guess\n",
    "p0 = np.zeros((nx, ny))\n",
    "\n",
    "# Place holders for the residual r and A(d)\n",
    "r = np.zeros((nx, ny))\n",
    "Ad = np.zeros((nx, ny))"
   ]
  },
  {
   "cell_type": "code",
   "execution_count": 11,
   "id": "b834bd83",
   "metadata": {},
   "outputs": [
    {
     "data": {
      "application/vnd.jupyter.widget-view+json": {
       "model_id": "73c2c8d2e47244e4a6e6c9f19b87434c",
       "version_major": 2,
       "version_minor": 0
      },
      "text/plain": [
       "  0%|          | 0/100 [00:00<?, ?it/s]"
      ]
     },
     "metadata": {},
     "output_type": "display_data"
    },
    {
     "name": "stdout",
     "output_type": "stream",
     "text": [
      "\n",
      "The solution converged after 3 iterations\n"
     ]
    }
   ],
   "source": [
    "tolerance = 1e-10\n",
    "max_it = 100\n",
    "\n",
    "pbar = tqdm(total=max_it)\n",
    "pbar.set_description(\"iter / max_it\");\n",
    "\n",
    "it = 0 # iteration counter\n",
    "diff = 1.0\n",
    "tol_hist_jac = []\n",
    "\n",
    "p = p0.copy()\n",
    "\n",
    "# Initial residual r0 and initial search direction d0\n",
    "r[1:-1, 1:-1] = -b[1:-1, 1:-1] - A(p, dx, dy)\n",
    "d = r.copy()\n",
    "\n",
    "while (diff > tolerance):\n",
    "    if it > max_it:\n",
    "        print('\\nSolution did not converged within the maximum'\n",
    "              ' number of iterations'\n",
    "              f'\\nLast l2_diff was: {diff:.5e}')\n",
    "        break\n",
    "\n",
    "    # Laplacian of the search direction.\n",
    "    Ad[1:-1, 1:-1] = A(d, dx, dy)\n",
    "    # Magnitude of jump.\n",
    "    alpha = np.sum(r*r) / np.sum(d*Ad)\n",
    "    # Iterated solution\n",
    "    pnew = p + alpha*d\n",
    "    # Intermediate computation\n",
    "    beta_denom = np.sum(r*r)\n",
    "    # Update the residual.\n",
    "    r = r - alpha*Ad\n",
    "    # Compute beta\n",
    "    beta = np.sum(r*r) / beta_denom\n",
    "    # Update the search direction.\n",
    "    d = r + beta*d\n",
    "    \n",
    "    diff = l2_diff(pnew, p)\n",
    "    tol_hist_jac.append(diff)\n",
    "    \n",
    "    # Get ready for next iteration\n",
    "    it += 1\n",
    "    np.copyto(p, pnew)\n",
    "    \n",
    "    # We update our progress bar\n",
    "    pbar.update(1)\n",
    "\n",
    "else:\n",
    "    print(f'\\nThe solution converged after {it} iterations')\n",
    "\n",
    "# When the progress bar will not be used\n",
    "# further, it has to be closed\n",
    "del(pbar)"
   ]
  },
  {
   "cell_type": "markdown",
   "id": "5c8129ce",
   "metadata": {},
   "source": [
    "You are not mistaken, it only took 3 iterations to reach the desired tolerance! This is a rather a special case because the right-hand side of the equation is simple. But you can try other choices and still observe the conjugate gradient method to be much faster than the steepest descent method.\n",
    "\n",
    "To be sure, let's measure the accuracy of our solution using our usual diagnostics:"
   ]
  },
  {
   "cell_type": "code",
   "execution_count": 12,
   "id": "37fb5982",
   "metadata": {},
   "outputs": [
    {
     "name": "stdout",
     "output_type": "stream",
     "text": [
      "The l2 difference between the computed solution and the exact solution is:\n",
      "2.8900800560462564e-08\n"
     ]
    }
   ],
   "source": [
    "diff = l2_diff(pnew, p_exact)\n",
    "print(f'The l2 difference between the computed solution '\n",
    "      f'and the exact solution is:\\n{diff}')"
   ]
  },
  {
   "cell_type": "code",
   "execution_count": 13,
   "id": "ebabc5e9",
   "metadata": {},
   "outputs": [
    {
     "data": {
      "image/png": "[encoded data removed]",
      "text/plain": [
       "<Figure size 1152x360 with 3 Axes>"
      ]
     },
     "metadata": {
      "filenames": {
       "image/png": "/Users/bknaepen/Documents/Bernard/Workspace/Teaching/MATH-F314/courseMaterial/book_solving_pde_mooc/_build/jupyter_execute/solving_pde_mooc/notebooks/05_IterativeMethods/05_02_Conjugate_Gradient_32_0.png"
      },
      "needs_background": "light"
     },
     "output_type": "display_data"
    }
   ],
   "source": [
    "fig, (ax_1, ax_2, ax_3) = plt.subplots(1, 3, figsize=(16,5))\n",
    "# We shall now use the\n",
    "# matplotlib.pyplot.contourf function.\n",
    "# As X and Y, we pass the mesh data.\n",
    "#\n",
    "# For more info\n",
    "# https://matplotlib.org/3.1.1/api/_as_gen/matplotlib.pyplot.contourf.html\n",
    "#\n",
    "ax_1.contourf(X, Y, pnew, 20)\n",
    "ax_2.contourf(X, Y, p_exact, 20)\n",
    "\n",
    "# plot along the line y=0:\n",
    "jc = int(ly/(2*dy))\n",
    "ax_3.plot(x, p_exact[:,jc], '*', color='red', markevery=2, label=r'$p_e$')\n",
    "ax_3.plot(x, pnew[:,jc], label=r'$pnew$')\n",
    "\n",
    "# add some labels and titles\n",
    "ax_1.set_xlabel(r'$x$')\n",
    "ax_1.set_ylabel(r'$y$')\n",
    "ax_1.set_title('Exact solution')\n",
    "\n",
    "ax_2.set_xlabel(r'$x$')\n",
    "ax_2.set_ylabel(r'$y$')\n",
    "ax_2.set_title('Numerical solution')\n",
    "\n",
    "ax_3.set_xlabel(r'$x$')\n",
    "ax_3.set_ylabel(r'$p$')\n",
    "ax_3.set_title(r'$p(x,0)$')\n",
    "\n",
    "ax_3.legend();"
   ]
  },
  {
   "cell_type": "markdown",
   "id": "f163f491",
   "metadata": {},
   "source": [
    "## Summary\n",
    "\n",
    "In this notebook we provided an illustration of methods known as projection methods. They are called in this way because the jump from one iteration to the next one is along specific search directions.\n",
    "\n",
    "The method of steepest descent and the conjugate gradient methods are basic methods belonging to this class. The literature on this topic is vast and there exists a large collection of sophisticated methods tailored to many specific cases. Here we have only scratched the surface.\n",
    "\n",
    "The last notebook of this chapter will be devoted to a programming topic. As promised, we will show you how to speed up your Python code when you cannot rely directly on some precompiled function available in `numpy` or `scipy`."
   ]
  },
  {
   "cell_type": "markdown",
   "id": "aaca5b74",
   "metadata": {},
   "source": [
    "## References\n",
    "```{bibliography} biblio.bib\n",
    ":filter: docname in docnames\n",
    ":labelprefix: d47220\n",
    ":keyprefix: d47220-\n",
    "```"
   ]
  }
 ],
 "metadata": {
  "jupytext": {
   "formats": "ipynb,md:myst",
   "notebook_metadata_filter": "toc",
   "text_representation": {
    "extension": ".md",
    "format_name": "myst",
    "format_version": 0.13,
    "jupytext_version": "1.10.3"
   }
  },
  "kernelspec": {
   "display_name": "Python 3",
   "language": "python",
   "name": "python3"
  },
  "language_info": {
   "codemirror_mode": {
    "name": "ipython",
    "version": 3
   },
   "file_extension": ".py",
   "mimetype": "text/x-python",
   "name": "python",
   "nbconvert_exporter": "python",
   "pygments_lexer": "ipython3",
   "version": "3.9.6"
  },
  "source_map": [
   29,
   38,
   52,
   66,
   70,
   93,
   113,
   117,
   160,
   164,
   166,
   170,
   192,
   196,
   222,
   226,
   233,
   237,
   240,
   244,
   286,
   290,
   296,
   327,
   331,
   335,
   339,
   343,
   356,
   365,
   420,
   426,
   432,
   463,
   473
  ],
  "toc": {
   "base_numbering": 1,
   "nav_menu": {},
   "number_sections": true,
   "sideBar": true,
   "skip_h1_title": true,
   "title_cell": "Table of Contents",
   "title_sidebar": "Contents",
   "toc_cell": true,
   "toc_position": {},
   "toc_section_display": true,
   "toc_window_display": false
  },
  "widgets": {
   "application/vnd.jupyter.widget-state+json": {
    "state": {
     "070bc14fe68d470d98be5ceeeb107cdf": {
      "model_module": "@jupyter-widgets/controls",
      "model_module_version": "1.5.0",
      "model_name": "FloatProgressModel",
      "state": {
       "_dom_classes": [],
       "_model_module": "@jupyter-widgets/controls",
       "_model_module_version": "1.5.0",
       "_model_name": "FloatProgressModel",
       "_view_count": null,
       "_view_module": "@jupyter-widgets/controls",
       "_view_module_version": "1.5.0",
       "_view_name": "ProgressView",
       "bar_style": "",
       "description": "",
       "description_tooltip": null,
       "layout": "IPY_MODEL_5cadd68cb2194c4385121b503826800c",
       "max": 100.0,
       "min": 0.0,
       "orientation": "horizontal",
       "style": "IPY_MODEL_fdc07dcf3fc241a889e5888163130a92",
       "value": 0.0
      }
     },
     "092b7c34cbd84760afc2a2d9ee54cff4": {
      "model_module": "@jupyter-widgets/controls",
      "model_module_version": "1.5.0",
      "model_name": "FloatProgressModel",
      "state": {
       "_dom_classes": [],
       "_model_module": "@jupyter-widgets/controls",
       "_model_module_version": "1.5.0",
       "_model_name": "FloatProgressModel",
       "_view_count": null,
       "_view_module": "@jupyter-widgets/controls",
       "_view_module_version": "1.5.0",
       "_view_name": "ProgressView",
       "bar_style": "",
       "description": "",
       "description_tooltip": null,
       "layout": "IPY_MODEL_0aa436dc3e0c4812886153d6fc6cfbdc",
       "max": 20000.0,
       "min": 0.0,
       "orientation": "horizontal",
       "style": "IPY_MODEL_235ca16b465c438a8eea74ddbcc41493",
       "value": 12066.0
      }
     },
     "0a8749dd8f384ff981323f4f64473e7c": {
      "model_module": "@jupyter-widgets/controls",
      "model_module_version": "1.5.0",
      "model_name": "DescriptionStyleModel",
      "state": {
       "_model_module": "@jupyter-widgets/controls",
       "_model_module_version": "1.5.0",
       "_model_name": "DescriptionStyleModel",
       "_view_count": null,
       "_view_module": "@jupyter-widgets/base",
       "_view_module_version": "1.2.0",
       "_view_name": "StyleView",
       "description_width": ""
      }
     },
     "0aa436dc3e0c4812886153d6fc6cfbdc": {
      "model_module": "@jupyter-widgets/base",
      "model_module_version": "1.2.0",
      "model_name": "LayoutModel",
      "state": {
       "_model_module": "@jupyter-widgets/base",
       "_model_module_version": "1.2.0",
       "_model_name": "LayoutModel",
       "_view_count": null,
       "_view_module": "@jupyter-widgets/base",
       "_view_module_version": "1.2.0",
       "_view_name": "LayoutView",
       "align_content": null,
       "align_items": null,
       "align_self": null,
       "border": null,
       "bottom": null,
       "display": null,
       "flex": null,
       "flex_flow": null,
       "grid_area": null,
       "grid_auto_columns": null,
       "grid_auto_flow": null,
       "grid_auto_rows": null,
       "grid_column": null,
       "grid_gap": null,
       "grid_row": null,
       "grid_template_areas": null,
       "grid_template_columns": null,
       "grid_template_rows": null,
       "height": null,
       "justify_content": null,
       "justify_items": null,
       "left": null,
       "margin": null,
       "max_height": null,
       "max_width": null,
       "min_height": null,
       "min_width": null,
       "object_fit": null,
       "object_position": null,
       "order": null,
       "overflow": null,
       "overflow_x": null,
       "overflow_y": null,
       "padding": null,
       "right": null,
       "top": null,
       "visibility": null,
       "width": null
      }
     },
     "11e02903bae243bb9c6277b3e2883942": {
      "model_module": "@jupyter-widgets/base",
      "model_module_version": "1.2.0",
      "model_name": "LayoutModel",
      "state": {
       "_model_module": "@jupyter-widgets/base",
       "_model_module_version": "1.2.0",
       "_model_name": "LayoutModel",
       "_view_count": null,
       "_view_module": "@jupyter-widgets/base",
       "_view_module_version": "1.2.0",
       "_view_name": "LayoutView",
       "align_content": null,
       "align_items": null,
       "align_self": null,
       "border": null,
       "bottom": null,
       "display": null,
       "flex": null,
       "flex_flow": null,
       "grid_area": null,
       "grid_auto_columns": null,
       "grid_auto_flow": null,
       "grid_auto_rows": null,
       "grid_column": null,
       "grid_gap": null,
       "grid_row": null,
       "grid_template_areas": null,
       "grid_template_columns": null,
       "grid_template_rows": null,
       "height": null,
       "justify_content": null,
       "justify_items": null,
       "left": null,
       "margin": null,
       "max_height": null,
       "max_width": null,
       "min_height": null,
       "min_width": null,
       "object_fit": null,
       "object_position": null,
       "order": null,
       "overflow": null,
       "overflow_x": null,
       "overflow_y": null,
       "padding": null,
       "right": null,
       "top": null,
       "visibility": null,
       "width": null
      }
     },
     "1b67739bc8f2445cb7258ff3f1c9b291": {
      "model_module": "@jupyter-widgets/base",
      "model_module_version": "1.2.0",
      "model_name": "LayoutModel",
      "state": {
       "_model_module": "@jupyter-widgets/base",
       "_model_module_version": "1.2.0",
       "_model_name": "LayoutModel",
       "_view_count": null,
       "_view_module": "@jupyter-widgets/base",
       "_view_module_version": "1.2.0",
       "_view_name": "LayoutView",
       "align_content": null,
       "align_items": null,
       "align_self": null,
       "border": null,
       "bottom": null,
       "display": null,
       "flex": null,
       "flex_flow": null,
       "grid_area": null,
       "grid_auto_columns": null,
       "grid_auto_flow": null,
       "grid_auto_rows": null,
       "grid_column": null,
       "grid_gap": null,
       "grid_row": null,
       "grid_template_areas": null,
       "grid_template_columns": null,
       "grid_template_rows": null,
       "height": null,
       "justify_content": null,
       "justify_items": null,
       "left": null,
       "margin": null,
       "max_height": null,
       "max_width": null,
       "min_height": null,
       "min_width": null,
       "object_fit": null,
       "object_position": null,
       "order": null,
       "overflow": null,
       "overflow_x": null,
       "overflow_y": null,
       "padding": null,
       "right": null,
       "top": null,
       "visibility": null,
       "width": null
      }
     },
     "235ca16b465c438a8eea74ddbcc41493": {
      "model_module": "@jupyter-widgets/controls",
      "model_module_version": "1.5.0",
      "model_name": "ProgressStyleModel",
      "state": {
       "_model_module": "@jupyter-widgets/controls",
       "_model_module_version": "1.5.0",
       "_model_name": "ProgressStyleModel",
       "_view_count": null,
       "_view_module": "@jupyter-widgets/base",
       "_view_module_version": "1.2.0",
       "_view_name": "StyleView",
       "bar_color": null,
       "description_width": ""
      }
     },
     "4be1af6ab42e4d0d94ddb6d2f28104bb": {
      "model_module": "@jupyter-widgets/controls",
      "model_module_version": "1.5.0",
      "model_name": "HTMLModel",
      "state": {
       "_dom_classes": [],
       "_model_module": "@jupyter-widgets/controls",
       "_model_module_version": "1.5.0",
       "_model_name": "HTMLModel",
       "_view_count": null,
       "_view_module": "@jupyter-widgets/controls",
       "_view_module_version": "1.5.0",
       "_view_name": "HTMLView",
       "description": "",
       "description_tooltip": null,
       "layout": "IPY_MODEL_1b67739bc8f2445cb7258ff3f1c9b291",
       "placeholder": "​",
       "style": "IPY_MODEL_f3bb8d9e2f7348339e5683be47a76e37",
       "value": "iter / max_it:   0%"
      }
     },
     "558ff929f6cb4564a41e35ddc3526fb3": {
      "model_module": "@jupyter-widgets/controls",
      "model_module_version": "1.5.0",
      "model_name": "HBoxModel",
      "state": {
       "_dom_classes": [],
       "_model_module": "@jupyter-widgets/controls",
       "_model_module_version": "1.5.0",
       "_model_name": "HBoxModel",
       "_view_count": null,
       "_view_module": "@jupyter-widgets/controls",
       "_view_module_version": "1.5.0",
       "_view_name": "HBoxView",
       "box_style": "",
       "children": [
        "IPY_MODEL_fe7696e93dac46418d66b47f60eacebd",
        "IPY_MODEL_092b7c34cbd84760afc2a2d9ee54cff4",
        "IPY_MODEL_5c7c63376aa145e59ef125679df7dea0"
       ],
       "layout": "IPY_MODEL_6d8d312bcfe949e497f96f44d854cbd4"
      }
     },
     "5c7c63376aa145e59ef125679df7dea0": {
      "model_module": "@jupyter-widgets/controls",
      "model_module_version": "1.5.0",
      "model_name": "HTMLModel",
      "state": {
       "_dom_classes": [],
       "_model_module": "@jupyter-widgets/controls",
       "_model_module_version": "1.5.0",
       "_model_name": "HTMLModel",
       "_view_count": null,
       "_view_module": "@jupyter-widgets/controls",
       "_view_module_version": "1.5.0",
       "_view_name": "HTMLView",
       "description": "",
       "description_tooltip": null,
       "layout": "IPY_MODEL_b7d199f4ce7b4c9887caded44af2579d",
       "placeholder": "​",
       "style": "IPY_MODEL_e739aaee2d70402a93b465650998db76",
       "value": " 12066/20000 [00:03&lt;00:01, 4422.24it/s]"
      }
     },
     "5cadd68cb2194c4385121b503826800c": {
      "model_module": "@jupyter-widgets/base",
      "model_module_version": "1.2.0",
      "model_name": "LayoutModel",
      "state": {
       "_model_module": "@jupyter-widgets/base",
       "_model_module_version": "1.2.0",
       "_model_name": "LayoutModel",
       "_view_count": null,
       "_view_module": "@jupyter-widgets/base",
       "_view_module_version": "1.2.0",
       "_view_name": "LayoutView",
       "align_content": null,
       "align_items": null,
       "align_self": null,
       "border": null,
       "bottom": null,
       "display": null,
       "flex": null,
       "flex_flow": null,
       "grid_area": null,
       "grid_auto_columns": null,
       "grid_auto_flow": null,
       "grid_auto_rows": null,
       "grid_column": null,
       "grid_gap": null,
       "grid_row": null,
       "grid_template_areas": null,
       "grid_template_columns": null,
       "grid_template_rows": null,
       "height": null,
       "justify_content": null,
       "justify_items": null,
       "left": null,
       "margin": null,
       "max_height": null,
       "max_width": null,
       "min_height": null,
       "min_width": null,
       "object_fit": null,
       "object_position": null,
       "order": null,
       "overflow": null,
       "overflow_x": null,
       "overflow_y": null,
       "padding": null,
       "right": null,
       "top": null,
       "visibility": null,
       "width": null
      }
     },
     "63b44d796ff846e389901540c5d8e319": {
      "model_module": "@jupyter-widgets/base",
      "model_module_version": "1.2.0",
      "model_name": "LayoutModel",
      "state": {
       "_model_module": "@jupyter-widgets/base",
       "_model_module_version": "1.2.0",
       "_model_name": "LayoutModel",
       "_view_count": null,
       "_view_module": "@jupyter-widgets/base",
       "_view_module_version": "1.2.0",
       "_view_name": "LayoutView",
       "align_content": null,
       "align_items": null,
       "align_self": null,
       "border": null,
       "bottom": null,
       "display": null,
       "flex": null,
       "flex_flow": null,
       "grid_area": null,
       "grid_auto_columns": null,
       "grid_auto_flow": null,
       "grid_auto_rows": null,
       "grid_column": null,
       "grid_gap": null,
       "grid_row": null,
       "grid_template_areas": null,
       "grid_template_columns": null,
       "grid_template_rows": null,
       "height": null,
       "justify_content": null,
       "justify_items": null,
       "left": null,
       "margin": null,
       "max_height": null,
       "max_width": null,
       "min_height": null,
       "min_width": null,
       "object_fit": null,
       "object_position": null,
       "order": null,
       "overflow": null,
       "overflow_x": null,
       "overflow_y": null,
       "padding": null,
       "right": null,
       "top": null,
       "visibility": null,
       "width": null
      }
     },
     "6d8d312bcfe949e497f96f44d854cbd4": {
      "model_module": "@jupyter-widgets/base",
      "model_module_version": "1.2.0",
      "model_name": "LayoutModel",
      "state": {
       "_model_module": "@jupyter-widgets/base",
       "_model_module_version": "1.2.0",
       "_model_name": "LayoutModel",
       "_view_count": null,
       "_view_module": "@jupyter-widgets/base",
       "_view_module_version": "1.2.0",
       "_view_name": "LayoutView",
       "align_content": null,
       "align_items": null,
       "align_self": null,
       "border": null,
       "bottom": null,
       "display": null,
       "flex": null,
       "flex_flow": null,
       "grid_area": null,
       "grid_auto_columns": null,
       "grid_auto_flow": null,
       "grid_auto_rows": null,
       "grid_column": null,
       "grid_gap": null,
       "grid_row": null,
       "grid_template_areas": null,
       "grid_template_columns": null,
       "grid_template_rows": null,
       "height": null,
       "justify_content": null,
       "justify_items": null,
       "left": null,
       "margin": null,
       "max_height": null,
       "max_width": null,
       "min_height": null,
       "min_width": null,
       "object_fit": null,
       "object_position": null,
       "order": null,
       "overflow": null,
       "overflow_x": null,
       "overflow_y": null,
       "padding": null,
       "right": null,
       "top": null,
       "visibility": null,
       "width": null
      }
     },
     "73c2c8d2e47244e4a6e6c9f19b87434c": {
      "model_module": "@jupyter-widgets/controls",
      "model_module_version": "1.5.0",
      "model_name": "HBoxModel",
      "state": {
       "_dom_classes": [],
       "_model_module": "@jupyter-widgets/controls",
       "_model_module_version": "1.5.0",
       "_model_name": "HBoxModel",
       "_view_count": null,
       "_view_module": "@jupyter-widgets/controls",
       "_view_module_version": "1.5.0",
       "_view_name": "HBoxView",
       "box_style": "",
       "children": [
        "IPY_MODEL_4be1af6ab42e4d0d94ddb6d2f28104bb",
        "IPY_MODEL_070bc14fe68d470d98be5ceeeb107cdf",
        "IPY_MODEL_af2a6b6e72244153a6bb6a36f15f296a"
       ],
       "layout": "IPY_MODEL_11e02903bae243bb9c6277b3e2883942"
      }
     },
     "af2a6b6e72244153a6bb6a36f15f296a": {
      "model_module": "@jupyter-widgets/controls",
      "model_module_version": "1.5.0",
      "model_name": "HTMLModel",
      "state": {
       "_dom_classes": [],
       "_model_module": "@jupyter-widgets/controls",
       "_model_module_version": "1.5.0",
       "_model_name": "HTMLModel",
       "_view_count": null,
       "_view_module": "@jupyter-widgets/controls",
       "_view_module_version": "1.5.0",
       "_view_name": "HTMLView",
       "description": "",
       "description_tooltip": null,
       "layout": "IPY_MODEL_df502576b2a541ef88c7288cf1b25d97",
       "placeholder": "​",
       "style": "IPY_MODEL_f30c33465be14ad18abf81201f3a0d86",
       "value": " 0/100 [00:00&lt;?, ?it/s]"
      }
     },
     "b7d199f4ce7b4c9887caded44af2579d": {
      "model_module": "@jupyter-widgets/base",
      "model_module_version": "1.2.0",
      "model_name": "LayoutModel",
      "state": {
       "_model_module": "@jupyter-widgets/base",
       "_model_module_version": "1.2.0",
       "_model_name": "LayoutModel",
       "_view_count": null,
       "_view_module": "@jupyter-widgets/base",
       "_view_module_version": "1.2.0",
       "_view_name": "LayoutView",
       "align_content": null,
       "align_items": null,
       "align_self": null,
       "border": null,
       "bottom": null,
       "display": null,
       "flex": null,
       "flex_flow": null,
       "grid_area": null,
       "grid_auto_columns": null,
       "grid_auto_flow": null,
       "grid_auto_rows": null,
       "grid_column": null,
       "grid_gap": null,
       "grid_row": null,
       "grid_template_areas": null,
       "grid_template_columns": null,
       "grid_template_rows": null,
       "height": null,
       "justify_content": null,
       "justify_items": null,
       "left": null,
       "margin": null,
       "max_height": null,
       "max_width": null,
       "min_height": null,
       "min_width": null,
       "object_fit": null,
       "object_position": null,
       "order": null,
       "overflow": null,
       "overflow_x": null,
       "overflow_y": null,
       "padding": null,
       "right": null,
       "top": null,
       "visibility": null,
       "width": null
      }
     },
     "df502576b2a541ef88c7288cf1b25d97": {
      "model_module": "@jupyter-widgets/base",
      "model_module_version": "1.2.0",
      "model_name": "LayoutModel",
      "state": {
       "_model_module": "@jupyter-widgets/base",
       "_model_module_version": "1.2.0",
       "_model_name": "LayoutModel",
       "_view_count": null,
       "_view_module": "@jupyter-widgets/base",
       "_view_module_version": "1.2.0",
       "_view_name": "LayoutView",
       "align_content": null,
       "align_items": null,
       "align_self": null,
       "border": null,
       "bottom": null,
       "display": null,
       "flex": null,
       "flex_flow": null,
       "grid_area": null,
       "grid_auto_columns": null,
       "grid_auto_flow": null,
       "grid_auto_rows": null,
       "grid_column": null,
       "grid_gap": null,
       "grid_row": null,
       "grid_template_areas": null,
       "grid_template_columns": null,
       "grid_template_rows": null,
       "height": null,
       "justify_content": null,
       "justify_items": null,
       "left": null,
       "margin": null,
       "max_height": null,
       "max_width": null,
       "min_height": null,
       "min_width": null,
       "object_fit": null,
       "object_position": null,
       "order": null,
       "overflow": null,
       "overflow_x": null,
       "overflow_y": null,
       "padding": null,
       "right": null,
       "top": null,
       "visibility": null,
       "width": null
      }
     },
     "e739aaee2d70402a93b465650998db76": {
      "model_module": "@jupyter-widgets/controls",
      "model_module_version": "1.5.0",
      "model_name": "DescriptionStyleModel",
      "state": {
       "_model_module": "@jupyter-widgets/controls",
       "_model_module_version": "1.5.0",
       "_model_name": "DescriptionStyleModel",
       "_view_count": null,
       "_view_module": "@jupyter-widgets/base",
       "_view_module_version": "1.2.0",
       "_view_name": "StyleView",
       "description_width": ""
      }
     },
     "f30c33465be14ad18abf81201f3a0d86": {
      "model_module": "@jupyter-widgets/controls",
      "model_module_version": "1.5.0",
      "model_name": "DescriptionStyleModel",
      "state": {
       "_model_module": "@jupyter-widgets/controls",
       "_model_module_version": "1.5.0",
       "_model_name": "DescriptionStyleModel",
       "_view_count": null,
       "_view_module": "@jupyter-widgets/base",
       "_view_module_version": "1.2.0",
       "_view_name": "StyleView",
       "description_width": ""
      }
     },
     "f3bb8d9e2f7348339e5683be47a76e37": {
      "model_module": "@jupyter-widgets/controls",
      "model_module_version": "1.5.0",
      "model_name": "DescriptionStyleModel",
      "state": {
       "_model_module": "@jupyter-widgets/controls",
       "_model_module_version": "1.5.0",
       "_model_name": "DescriptionStyleModel",
       "_view_count": null,
       "_view_module": "@jupyter-widgets/base",
       "_view_module_version": "1.2.0",
       "_view_name": "StyleView",
       "description_width": ""
      }
     },
     "fdc07dcf3fc241a889e5888163130a92": {
      "model_module": "@jupyter-widgets/controls",
      "model_module_version": "1.5.0",
      "model_name": "ProgressStyleModel",
      "state": {
       "_model_module": "@jupyter-widgets/controls",
       "_model_module_version": "1.5.0",
       "_model_name": "ProgressStyleModel",
       "_view_count": null,
       "_view_module": "@jupyter-widgets/base",
       "_view_module_version": "1.2.0",
       "_view_name": "StyleView",
       "bar_color": null,
       "description_width": ""
      }
     },
     "fe7696e93dac46418d66b47f60eacebd": {
      "model_module": "@jupyter-widgets/controls",
      "model_module_version": "1.5.0",
      "model_name": "HTMLModel",
      "state": {
       "_dom_classes": [],
       "_model_module": "@jupyter-widgets/controls",
       "_model_module_version": "1.5.0",
       "_model_name": "HTMLModel",
       "_view_count": null,
       "_view_module": "@jupyter-widgets/controls",
       "_view_module_version": "1.5.0",
       "_view_name": "HTMLView",
       "description": "",
       "description_tooltip": null,
       "layout": "IPY_MODEL_63b44d796ff846e389901540c5d8e319",
       "placeholder": "​",
       "style": "IPY_MODEL_0a8749dd8f384ff981323f4f64473e7c",
       "value": "iter / max_it:  60%"
      }
     }
    },
    "version_major": 2,
    "version_minor": 0
   }
  }
 },
 "nbformat": 4,
 "nbformat_minor": 5
}