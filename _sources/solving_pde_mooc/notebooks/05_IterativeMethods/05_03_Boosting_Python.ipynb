{
 "cells": [
  {
   "cell_type": "markdown",
   "id": "09212737",
   "metadata": {},
   "source": [
    "# Boosting Python\n",
    "\n",
    "\n",
    "## Introduction"
   ]
  },
  {
   "cell_type": "markdown",
   "id": "665676e9",
   "metadata": {},
   "source": [
    "Python has plenty of appeal to the programming community: it's simple, interactive and free. But Fortran, C, C++ dominate high-performance programming. Why? Python is *slow*. There are two major reasons for that: **Python is a dynamically typed language** and **Python is an interpreted language**.\n",
    "\n",
    "It doesn't make Python *a bad* programming language. On the contrary, Python is a great tool for various tasks that do not require running expensive simulations (web-development, scripting). Python also dominates the data-science due to availability of packages such as NumPy, SciPy and versatile machine learning tools (e.g. scikit-learn or TensorFlow).\n",
    "\n",
    "As we discussed earlier, NumPy and SciPy integrate optimized and precompiled C code into Python and, therefore, might provide a significant speed up. But we have already encountered situations when it was not possible to avoid running Python loops that easily end up being painfully slow.\n",
    "\n",
    "In this notebook we are going to discuss tools designed to provide C-like performance to Python code: *Cython* and *Numba*. What are they, what are they good for and why people still use C/C++ with much more complicated syntax?"
   ]
  },
  {
   "cell_type": "markdown",
   "id": "24b92c29",
   "metadata": {},
   "source": [
    "## Interpreters VS compilers"
   ]
  },
  {
   "cell_type": "markdown",
   "id": "d2a2da13",
   "metadata": {},
   "source": [
    "Before we can precisely understand what are Cython and Numba, let's discuss the basics of compilers and interpreters.\n",
    "\n",
    "A common mistake when understanding compilers is to think that the output of the compiler is necessarily [*machine code*][1] - code written in a low-level programming language that is used to directly manipulate the central processing unit (CPU). In fact, a *compiler* is a program that *translates* a source code written in a certain programming language into any other programming language (normally lower-lever). An *interpreter* is also a computer program. It executes the source code without translating it into the machine code. *But this doesn't make compilation and interpretation mutually exclusive:*\n",
    "\n",
    "> [...most interpreting systems also perform some translation work, just like compilers][2].\n",
    "\n",
    "Let's take the example of CPython. CPython is the default implementation of Python and is a [bytecode interpreter][3]. At the intermediate stage it compiles the source code into the lower-level language called bytecode, or p-code (portable code). Bytecode is universal to all platforms, or platform-independent. There is no further compilation of the bytecode into the machine code. Bytecode is executed *at runtime* by the so-called Python Virtual Machine (PVM) and CPython provides a C implementation of this virtual machine. When virtual machines, or p-code machines, are explained, it is often said that p-code can be viewed as machine code for a *hypothetical* CPU. Virtual machines, unlike real CPUs, are implemented as part of an interpreter program and not in the hardware of the platform.\n",
    "\n",
    "Whenever you hear that \"interpreters are slower than compilers\", you must have in mind that it is not just a generic translator program that is meant by compiler in that context. CPython performs the compilation itself, as we know. The compilers meant in this context are the programs that translate the source code into machine code. Why are interpreters slower? The fact that p-code is *interpreted* and *executed* by the interpreter *at runtime* is partially the answer, but we still have to understand what compiler systems do.\n",
    "\n",
    "There are two types of compilers: *ahead-of-time* (AOT) compilers and *just-in-time* (JIT) compilers.\n",
    "\n",
    "> [AOT compilation][4] is the act of compiling a higher-level programming language into a native (system-dependent) machine code so that the resulting binary file can be executed natively.\n",
    "\n",
    "In this way, the code executed at runtime produces the behaviour that has been predefined at compile time. On the other hand, the interpreter must both define and produce the desired behaviour at runtime by performing a statement-by-statement analysis. But note that:\n",
    "\n",
    "> [It generally takes longer][2] to run a program under an interpreter than to run the compiled code but it can take less time to interpret it than the total time required to compile and run it.\n",
    "\n",
    "What about the JIT compilers then? First of all,\n",
    "\n",
    "> [JIT compilation][5] ... is a way of executing computer code that involves compilation during execution of a program – at runtime – rather than before execution.\n",
    "\n",
    "Following the logic used to explain speed gain for AOT compilers versus interpreters, you might wonder: how can a JIT compiler be faster if it also defines the desired behaviour at runtime? There is good example that could explain the difference in performance between typical interpreter and JIT compiler. Suppose the source code contains a loop that has to be executed $n$ times. An interpreter will have to analyze the bytecode statement-by-statement at each iteration. A well-implemented JIT compiler will produce the translation into the machine code, which is the most computationally expensive operation, only once.\n",
    "\n",
    "How JIT compilers compare to AOT compilers is a somewhat more sophisticated discussion that we won't enter but you are free to investigate this question on your own.\n",
    "\n",
    "[1]: <https://en.wikipedia.org/wiki/Machine_code> \"Machine code\"\n",
    "[2]: <https://en.wikipedia.org/wiki/Interpreter_(computing)> \"Interpreter\"\n",
    "[3]: <https://en.wikipedia.org/wiki/Interpreter_(computing)#Bytecode_interpreters> \"Bytecode interpreters\"\n",
    "[4]: <https://en.wikipedia.org/wiki/Ahead-of-time_compilation> \"AOT compilation\"\n",
    "[5]: <https://en.wikipedia.org/wiki/Just-in-time_compilation> \"JIT compilation\""
   ]
  },
  {
   "cell_type": "markdown",
   "id": "050dc6af",
   "metadata": {},
   "source": [
    "## Cython and Numba: what, when and how?"
   ]
  },
  {
   "cell_type": "markdown",
   "id": "1176fc9b",
   "metadata": {},
   "source": [
    "We are now well-equipped to discuss Cython and Numba. What are they? \n",
    "\n",
    "*Cython* is a *compiled programming language* itself. It aims to run at C-like speed using Python-like syntax. If well designed, Cython code speeds up the program by several order(s) of magnitude in comparison to its Python analogue.\n",
    "\n",
    "*Numba* is a *JIT compiler*. It translates Python source code into the machine code using the open source [LLVM compiler][6] written in C++.\n",
    "\n",
    "Cython and Numba generally show similar performance for the same kinds of problems but each of them might fit better in certain situations.\n",
    "\n",
    "Cython has the advantage of being very flexible meaning that normally any Python code can be rewritten in Cython without global rethinking of the original logic.\n",
    "\n",
    "The major \"disadvantage\" of Cython is that it obviously requires some programming effort to \"translate\" the Python code into Cython. It is said, though, that for the Python programmer it must take relatively insignificant effort to learn Cython. Being a compiled language, Cython also requires compilation instructions to be provided - so-called Makefiles. Python's Makefiles are usually named `setup.py`. As they are simply Python modules, they do not require a lot of extra knowledge for Python programmers.\n",
    "\n",
    "Even though it has been said that Cython does not require enormous effort from the Python programmer, Numba is an absolute winner when it comes to simplicity of implementation. It very often does not require anything but a simple Python decorator applied on a Python function. *A Python decorator is a tool provided in standard python distribution and will be explained further in this notebook.*\n",
    "\n",
    "The disadvantage of Numba is interconnected with what we have called its advantage. While being very simple to use, it comes with [certain limitations, such as][7]:\n",
    "\n",
    "* Not compiling the whole program but only the Python function;\n",
    "* Not integrating well with some Python packages (such as Pandas);\n",
    "* Providing limited support to some types of data (such as strings);\n",
    "* Not integrating as efficiently as Cython with C and C++.\n",
    "\n",
    "In some cases it might be quite a challenge to use Numba in your program, as it will require radical changes to the source code.\n",
    "\n",
    "Cython and Numba are powerful tools. They have their \"downsides\", which does not mean that one is to be *always* chosen over the other. The programmer must always have his mind open and decisions balanced. Whenever you have troubles explaining your designing decisions, it usually means that they must be questioned.\n",
    "\n",
    "For the problems considered in this course, Numba suffices. Nevertheless, we further demonstrate how to use both Cython and Numba. Let us first define the model problem. In the previous notebook you were introduced to the Gauss-Seidel method. We have implemented the numerical solver using Python loops and saw considerable slow down in comparison with the Jacobi solver. We will further show how this code can be sped up using both Cython and Numba.\n",
    "\n",
    "But before we introduce the Python tool that Numba strongly relies on - *Python decorators*.\n",
    "\n",
    "[6]: <https://en.wikipedia.org/wiki/LLVM> \"LLVM\"\n",
    "[7]: <https://christinakouridi.blog/2019/12/29/intro-numba/> \"Limitations of Numba\""
   ]
  },
  {
   "cell_type": "markdown",
   "id": "3bc599a1",
   "metadata": {},
   "source": [
    "### Python decorators"
   ]
  },
  {
   "cell_type": "markdown",
   "id": "13377f18",
   "metadata": {},
   "source": [
    "So called wrapper functions are widely used in various programming languages. They take a function or a method as a parameter and extend its behaviour. Wrapper functions usually intend to *abstract* the code. They, therefore, might shorten and simplify it *by a lot*. Python decorators are unique to Python - they are basically shortcuts (syntactic sugars) for calling a wrapper function. Consider the implementation of a sample decorator function:"
   ]
  },
  {
   "cell_type": "code",
   "execution_count": 1,
   "id": "d502aaf1",
   "metadata": {},
   "outputs": [],
   "source": [
    "def decorator(func):\n",
    "    def wrapper(*args, **kwargs):\n",
    "        print('Preprocessing...')\n",
    "        \n",
    "        res = func(*args, **kwargs)\n",
    "        \n",
    "        print('Postprocessing...')\n",
    "        \n",
    "        return res\n",
    "    return wrapper"
   ]
  },
  {
   "cell_type": "markdown",
   "id": "113fc0cd",
   "metadata": {},
   "source": [
    "*Note* that the choice of names `decorator` and `wrapper` is not restricted in any way in Python. Whatever is allowed for regular Python functions is also allowed for the names of decorating and wrapping functions.\n",
    "\n",
    "This decorator does nothing but simply prints something before and after the internal function is called. We propose you to view it as an abstraction for some computations. Note that a decorator function returns *a function*. When decorating functions, you will ultimately want to normally return what the internal function returns *but* also perform certain computations before and after it executes.\n",
    "\n",
    "If we proceed without using Python decorators, two more extra steps are required. First, we must implement the function we want to decorate. Let's go for something trivial:"
   ]
  },
  {
   "cell_type": "code",
   "execution_count": 2,
   "id": "9e809c44",
   "metadata": {},
   "outputs": [],
   "source": [
    "def print_identity(name, age):\n",
    "    print(f'Your name is {name}. You are {age} year(s) old.')"
   ]
  },
  {
   "cell_type": "markdown",
   "id": "8c2453fd",
   "metadata": {},
   "source": [
    "Second, we have to perform the actual decoration:"
   ]
  },
  {
   "cell_type": "code",
   "execution_count": 3,
   "id": "cabc2270",
   "metadata": {},
   "outputs": [],
   "source": [
    "print_identity_and_more = decorator(print_identity)"
   ]
  },
  {
   "cell_type": "markdown",
   "id": "19ed587d",
   "metadata": {},
   "source": [
    "`print_identity_and_more` is a function that accepts the same parameters as `print_identity` and prints certain strings before and after it executes."
   ]
  },
  {
   "cell_type": "code",
   "execution_count": 4,
   "id": "e04b6101",
   "metadata": {},
   "outputs": [
    {
     "name": "stdout",
     "output_type": "stream",
     "text": [
      "Preprocessing...\n",
      "Your name is Marichka. You are 42 year(s) old.\n",
      "Postprocessing...\n"
     ]
    }
   ],
   "source": [
    "print_identity_and_more('Marichka', 42)"
   ]
  },
  {
   "cell_type": "markdown",
   "id": "9a2992e4",
   "metadata": {},
   "source": [
    "Python decorator decorates the function in a single step using the @ symbol:"
   ]
  },
  {
   "cell_type": "code",
   "execution_count": 5,
   "id": "d9345f2b",
   "metadata": {},
   "outputs": [],
   "source": [
    "@decorator\n",
    "def print_identity(name, age):\n",
    "    print(f'Your name is {name}. You are {age} year(s) old.')"
   ]
  },
  {
   "cell_type": "markdown",
   "id": "38fdd42f",
   "metadata": {},
   "source": [
    "We can simply call `print_identity` now:"
   ]
  },
  {
   "cell_type": "code",
   "execution_count": 6,
   "id": "5aab1959",
   "metadata": {},
   "outputs": [
    {
     "name": "stdout",
     "output_type": "stream",
     "text": [
      "Preprocessing...\n",
      "Your name is Mao. You are 33 year(s) old.\n",
      "Postprocessing...\n"
     ]
    }
   ],
   "source": [
    "print_identity('Mao', 33)"
   ]
  },
  {
   "cell_type": "markdown",
   "id": "e7a82613",
   "metadata": {},
   "source": [
    "Let's consider slightly less trivial but a very useful example. Until now, whenever we needed to time the execution of some code, we were using `time` or `timeit` magics. Magic commands are nice tools but they are unique to IPython and the usage of IPython is quite limited. The programmer is paying the price of lowered performance for the graphical interface. So, after all IPython is great for debugging, testing and visualization but in optimized code you will have it disabled. Let's then implement a *decorator* that will be a timer for an arbitrary function:"
   ]
  },
  {
   "cell_type": "code",
   "execution_count": 7,
   "id": "777f8dfb",
   "metadata": {},
   "outputs": [],
   "source": [
    "from timeit import default_timer\n",
    "\n",
    "def timing(func):\n",
    "    def wrapper(*args, **kwargs):\n",
    "        t_init = default_timer()\n",
    "        res = func(*args, **kwargs)\n",
    "        t_fin = default_timer()\n",
    "        \n",
    "        print(f'Time elapsed: {t_fin-t_init} s')\n",
    "        \n",
    "        return res\n",
    "    return wrapper"
   ]
  },
  {
   "cell_type": "code",
   "execution_count": 8,
   "id": "43d91bd6",
   "metadata": {},
   "outputs": [],
   "source": [
    "@timing\n",
    "def print_identity(name, age):\n",
    "    print(f'Your name is {name}. You are {age} year(s) old.')"
   ]
  },
  {
   "cell_type": "code",
   "execution_count": 9,
   "id": "63fcd539",
   "metadata": {},
   "outputs": [
    {
     "name": "stdout",
     "output_type": "stream",
     "text": [
      "Your name is Mark. You are 24 year(s) old.\n",
      "Time elapsed: 2.351799776079133e-05 s\n"
     ]
    }
   ],
   "source": [
    "print_identity('Mark', 24)"
   ]
  },
  {
   "cell_type": "markdown",
   "id": "14845d53",
   "metadata": {},
   "source": [
    "It is possible to wrap the function in multiple decorators if necessary. Note that the outer decorator must go before the inner one:"
   ]
  },
  {
   "cell_type": "code",
   "execution_count": 10,
   "id": "08edf25f",
   "metadata": {},
   "outputs": [],
   "source": [
    "@timing\n",
    "@decorator\n",
    "def print_identity(name, age):\n",
    "    print(f'Your name is {name}. You are {age} year(s) old.')"
   ]
  },
  {
   "cell_type": "code",
   "execution_count": 11,
   "id": "3d292a80",
   "metadata": {},
   "outputs": [
    {
     "name": "stdout",
     "output_type": "stream",
     "text": [
      "Preprocessing...\n",
      "Your name is Jacques. You are 9 year(s) old.\n",
      "Postprocessing...\n",
      "Time elapsed: 2.514299558242783e-05 s\n"
     ]
    }
   ],
   "source": [
    "print_identity('Jacques', 9)"
   ]
  },
  {
   "cell_type": "markdown",
   "id": "4aa647f3",
   "metadata": {},
   "source": [
    "In the end of the day Python decorators are simply functions, so it is possible to pass parameters to the decorator. The syntax for that, though, is a bit different and requires an additional layer of decoration called the *decorator factory*. A decorator factory is a decorator function that accepts certain parameters and returns the actual decorator. Consider an example where the timing is made optional using the decorator factory:"
   ]
  },
  {
   "cell_type": "code",
   "execution_count": 12,
   "id": "4ce5b8c4",
   "metadata": {},
   "outputs": [],
   "source": [
    "def timing(timing_on=True):\n",
    "    def inner_timing(func):\n",
    "        def wrapper(*args, **kwargs):\n",
    "            if not timing_on:\n",
    "                return func(*args, **kwargs)\n",
    "\n",
    "            t_init = default_timer()\n",
    "            res = func(*args, **kwargs)\n",
    "            t_fin = default_timer()\n",
    "\n",
    "            print(f'Time elapsed: {t_fin-t_init} s')\n",
    "\n",
    "            return res\n",
    "\n",
    "        return wrapper\n",
    "    return inner_timing"
   ]
  },
  {
   "cell_type": "markdown",
   "id": "9792e62c",
   "metadata": {},
   "source": [
    "We can now have timing enabled or disabled with the same decorator:"
   ]
  },
  {
   "cell_type": "code",
   "execution_count": 13,
   "id": "c45301f0",
   "metadata": {},
   "outputs": [
    {
     "name": "stdout",
     "output_type": "stream",
     "text": [
      "Your name is Donald. You are 74 year(s) old.\n",
      "Time elapsed: 0.00021204299991950393 s\n",
      "\n",
      "\n",
      "Your name is Joe. You are 78 year(s) old.\n"
     ]
    }
   ],
   "source": [
    "@timing()\n",
    "def time_printing_identity(name, age):\n",
    "    print(f'Your name is {name}. You are {age} year(s) old.')\n",
    "\n",
    "@timing(False)\n",
    "def print_identity(name, age):\n",
    "    print(f'Your name is {name}. You are {age} year(s) old.')\n",
    "\n",
    "time_printing_identity('Donald', 74)\n",
    "\n",
    "print('\\n')\n",
    "\n",
    "print_identity('Joe', 78)"
   ]
  },
  {
   "cell_type": "markdown",
   "id": "b8cdce44",
   "metadata": {},
   "source": [
    "Implementation of the timing function is accessible in `modules/timers.py` by the name `dummy_timer`. You are free to use it as an alternative to the `time` magic. Note that it does not implement the decorator factory, as in the above example, and does not provide the functionality of the `timeit` magic that estimates the time averaged among $n$ runs. Consider this example using `dummy_timer`:"
   ]
  },
  {
   "cell_type": "code",
   "execution_count": 14,
   "id": "013e34ce",
   "metadata": {},
   "outputs": [
    {
     "name": "stdout",
     "output_type": "stream",
     "text": [
      "Your name is Jacob. You are 65 year(s) old.\n",
      "print_identity executed in 4.169200110482052e-05 s\n"
     ]
    }
   ],
   "source": [
    "import sys\n",
    "import os.path\n",
    "\n",
    "sys.path.insert(0, '../modules')\n",
    "\n",
    "import timers\n",
    "\n",
    "@timers.dummy_timer\n",
    "def print_identity(name, age):\n",
    "    print(f'Your name is {name}. You are {age} year(s) old.')\n",
    "\n",
    "print_identity('Jacob', 65)"
   ]
  },
  {
   "cell_type": "markdown",
   "id": "048f3c58",
   "metadata": {},
   "source": [
    "### Implementing Gauss-Seidel solver"
   ]
  },
  {
   "cell_type": "markdown",
   "id": "4b2233d7",
   "metadata": {},
   "source": [
    "We remind you the setup of the problem. We solve the Poisson equation in 2D domain $\\displaystyle [0, 1]\\times [-\\frac12, \\frac12]$ with the following right-hand side term:\n",
    "\n",
    "```{math}\n",
    "b = \\sin(\\pi x) \\cos(\\pi y) + \\sin(5\\pi x) \\cos(5\\pi y)\n",
    "```\n",
    "\n",
    "The exact solution of the equation is:\n",
    "\n",
    "```{math}\n",
    "p_e = -\\frac{1}{2\\pi^2}\\sin(\\pi x) \\cos(\\pi y) -\\frac{1}{50\\pi^2}\\sin(5\\pi x) \\cos(5\\pi y)\n",
    "```\n",
    "\n",
    "Sample solvers written in Python and Cython are provided along with the course in the directory `solving_pde_mooc/notebooks/demos/BoostingPython`. The Python solver can be used with or without Numba.\n",
    "\n",
    "The Cython solver is hosted in `BoostingPython/cy`. `BoostingPython/cy/csolver.pyx` contains the source Cython code. The library compiled from the source code is located in `BoostingPython/cy/lib`. You therefore don't have to recompile the source code but you can simply import the library by running:\n",
    "```\n",
    "import cy.lib.csolver as csolver\n",
    "```\n",
    "If you're willing to recompile it, we refer you to `BoostingPython/README.md` for the instructions and to the generic tutorial from Cython's [official documentation][8].\n",
    "\n",
    "The Python and Cython codes we provide are thoroughly documented but we will still provide some extra information here.\n",
    "\n",
    "#### Efficiency\n",
    "\n",
    "But first run the cells below and see by yourself how the performance compare.\n",
    "\n",
    "[8]: <https://cython.readthedocs.io/en/latest/src/userguide/source_files_and_compilation.html> \"Cython compilation\""
   ]
  },
  {
   "cell_type": "code",
   "execution_count": 15,
   "id": "7de42617",
   "metadata": {},
   "outputs": [
    {
     "ename": "ModuleNotFoundError",
     "evalue": "No module named 'cy.lib.csolver'",
     "output_type": "error",
     "traceback": [
      "\u001b[0;31m---------------------------------------------------------------------------\u001b[0m",
      "\u001b[0;31mModuleNotFoundError\u001b[0m                       Traceback (most recent call last)",
      "Cell \u001b[0;32mIn [15], line 9\u001b[0m\n\u001b[1;32m      6\u001b[0m sys\u001b[38;5;241m.\u001b[39mpath\u001b[38;5;241m.\u001b[39minsert(\u001b[38;5;241m0\u001b[39m, \u001b[38;5;124m'\u001b[39m\u001b[38;5;124m../demos/BoostingPython\u001b[39m\u001b[38;5;124m'\u001b[39m)\n\u001b[1;32m      8\u001b[0m \u001b[38;5;28;01mimport\u001b[39;00m \u001b[38;5;21;01mpy\u001b[39;00m\u001b[38;5;21;01m.\u001b[39;00m\u001b[38;5;21;01msolvers\u001b[39;00m \u001b[38;5;28;01mas\u001b[39;00m \u001b[38;5;21;01msolvers\u001b[39;00m\n\u001b[0;32m----> 9\u001b[0m \u001b[38;5;28;01mimport\u001b[39;00m \u001b[38;5;21;01mcy\u001b[39;00m\u001b[38;5;21;01m.\u001b[39;00m\u001b[38;5;21;01mlib\u001b[39;00m\u001b[38;5;21;01m.\u001b[39;00m\u001b[38;5;21;01mcsolver\u001b[39;00m \u001b[38;5;28;01mas\u001b[39;00m \u001b[38;5;21;01mcsolver\u001b[39;00m\n",
      "\u001b[0;31mModuleNotFoundError\u001b[0m: No module named 'cy.lib.csolver'"
     ]
    }
   ],
   "source": [
    "import sys\n",
    "\n",
    "import numpy as np\n",
    "import matplotlib.pyplot as plt\n",
    "\n",
    "sys.path.insert(0, '../demos/BoostingPython')\n",
    "\n",
    "import py.solvers as solvers\n",
    "import cy.lib.csolver as csolver"
   ]
  },
  {
   "cell_type": "code",
   "execution_count": 16,
   "id": "d234a348",
   "metadata": {},
   "outputs": [],
   "source": [
    "%matplotlib inline"
   ]
  },
  {
   "cell_type": "code",
   "execution_count": 17,
   "id": "8ac2fda2",
   "metadata": {},
   "outputs": [],
   "source": [
    "# Grid parameters\n",
    "nx = 61                   # number of points in the x direction\n",
    "ny = 61                   # number of points in the y direction\n",
    "xmin, xmax = 0.0, 1.0     # limits in the x direction\n",
    "ymin, ymax = -0.5, 0.5    # limits in the y direction\n",
    "lx = xmax - xmin          # domain length in the x direction\n",
    "ly = ymax - ymin          # domain length in the y direction\n",
    "dx = lx / (nx-1)          # grid spacing in the x direction\n",
    "dy = ly / (ny-1)          # grid spacing in the y direction\n",
    "\n",
    "# Iteration parameters\n",
    "tol = 1e-10               # convergence precision\n",
    "max_it = 10000            # maximal amount of iterations allowed"
   ]
  },
  {
   "cell_type": "code",
   "execution_count": 18,
   "id": "a2d0e202",
   "metadata": {},
   "outputs": [],
   "source": [
    "# Create the gridline locations and the mesh grid\n",
    "x = np.linspace(xmin, xmax, nx)\n",
    "y = np.linspace(ymin, ymax, ny)\n",
    "X, Y = np.meshgrid(x, y, indexing='ij')\n",
    "\n",
    "# Compute the rhs\n",
    "b = (np.sin(np.pi*X)*np.cos(np.pi*Y)\n",
    "  + np.sin(5.0*np.pi*X)*np.cos(5.0*np.pi*Y))"
   ]
  },
  {
   "cell_type": "code",
   "execution_count": 19,
   "id": "1ca088db",
   "metadata": {},
   "outputs": [],
   "source": [
    "p = np.zeros((nx, ny)) # container for solution with Numba disabled\n",
    "nb_p = p.copy()        # container for solution with Numba enabled\n",
    "c_p = np.zeros((nx, ny), dtype=np.float64) # container for solution obtained with Cython"
   ]
  },
  {
   "cell_type": "markdown",
   "id": "6c944b7a",
   "metadata": {},
   "source": [
    "The `gauss_seidel` function is implemented in Python. It has an optional parameter `use_numba`. Its default value is `False`.\n",
    "\n",
    "Note usage of underscore `_`. It has special meaning in Python. `_` stores the value of the last statement executed by interpreter. It is normally *not* used to *access* the value but rather to *ignore* it. Here the function returns three values but we are only interesting in storing one, so we assign others to the underscore variable. That is not the only meaning underscore can have in Python but this topic won't be covered further in this course. We invite you to [read about the underscore in Python][9] on your own if you're interested.\n",
    "\n",
    "[9]: <https://www.datacamp.com/community/tutorials/role-underscore-python> \"Role of underscore in Python\""
   ]
  },
  {
   "cell_type": "code",
   "execution_count": 20,
   "id": "5c702639",
   "metadata": {},
   "outputs": [
    {
     "data": {
      "application/vnd.jupyter.widget-view+json": {
       "model_id": "e6ffa39763f548f9a04616a6fd2d3ea6",
       "version_major": 2,
       "version_minor": 0
      },
      "text/plain": [
       "  0%|          | 0/10000 [00:00<?, ?it/s]"
      ]
     },
     "metadata": {},
     "output_type": "display_data"
    },
    {
     "name": "stdout",
     "output_type": "stream",
     "text": [
      "\n",
      "Solution converged after 3401 iterations\n",
      "CPU times: user 12.8 s, sys: 99.4 ms, total: 12.9 s\n",
      "Wall time: 12.9 s\n"
     ]
    }
   ],
   "source": [
    "%time _, p, _ = solvers.gauss_seidel(p, b, dx, tol, max_it)"
   ]
  },
  {
   "cell_type": "code",
   "execution_count": 21,
   "id": "5ef21702",
   "metadata": {},
   "outputs": [
    {
     "data": {
      "application/vnd.jupyter.widget-view+json": {
       "model_id": "ca01d2d3fabe457692c1f30065305dc1",
       "version_major": 2,
       "version_minor": 0
      },
      "text/plain": [
       "  0%|          | 0/10000 [00:00<?, ?it/s]"
      ]
     },
     "metadata": {},
     "output_type": "display_data"
    },
    {
     "name": "stdout",
     "output_type": "stream",
     "text": [
      "\n",
      "Solution converged after 3401 iterations\n",
      "CPU times: user 958 ms, sys: 86 ms, total: 1.04 s\n",
      "Wall time: 1.42 s\n"
     ]
    }
   ],
   "source": [
    "%time _, nb_p, _ = solvers.gauss_seidel(nb_p, b, dx, tol, max_it, use_numba=True)"
   ]
  },
  {
   "cell_type": "code",
   "execution_count": 22,
   "id": "70105bfe",
   "metadata": {},
   "outputs": [
    {
     "ename": "NameError",
     "evalue": "name 'csolver' is not defined",
     "output_type": "error",
     "traceback": [
      "\u001b[0;31m---------------------------------------------------------------------------\u001b[0m",
      "\u001b[0;31mNameError\u001b[0m                                 Traceback (most recent call last)",
      "File \u001b[0;32m<timed exec>:1\u001b[0m\n",
      "\u001b[0;31mNameError\u001b[0m: name 'csolver' is not defined"
     ]
    }
   ],
   "source": [
    "%time _, c_p, _ = csolver.c_gauss_seidel(c_p, b, dx, tol, max_it)"
   ]
  },
  {
   "cell_type": "markdown",
   "id": "ea31cbc4",
   "metadata": {},
   "source": [
    "We check that the solutions provided by Python and Cython agree:"
   ]
  },
  {
   "cell_type": "code",
   "execution_count": 23,
   "id": "ca04e235",
   "metadata": {},
   "outputs": [],
   "source": [
    "# We want to plot aling y=0\n",
    "jc = int(ly/(2*dy))"
   ]
  },
  {
   "cell_type": "code",
   "execution_count": 24,
   "id": "dc7b2528",
   "metadata": {},
   "outputs": [
    {
     "data": {
      "image/png": "[encoded data removed]",
      "text/plain": [
       "<Figure size 1200x350 with 3 Axes>"
      ]
     },
     "metadata": {
      "filenames": {
       "image/png": "/Volumes/T7/Documents/Workspace/courseMaterial/book_solving_pde_mooc/_build/jupyter_execute/solving_pde_mooc/notebooks/05_IterativeMethods/05_03_Boosting_Python_45_0.png"
      }
     },
     "output_type": "display_data"
    }
   ],
   "source": [
    "fig, ax = plt.subplots(1, 3, figsize=(12, 3.5), tight_layout=True)\n",
    "\n",
    "ax[0].contourf(X, Y, nb_p, 20)\n",
    "ax[1].contourf(X, Y, c_p, 20)\n",
    "\n",
    "ax[2].plot(x, nb_p[:,jc], 'o', label='Python', markerfacecolor='None')\n",
    "ax[2].plot(x, nb_p[:,jc], '*', label='Python+Numba')\n",
    "ax[2].plot(x, c_p[:,jc], '--', label='Cython')\n",
    "\n",
    "for axis in ax:\n",
    "    axis.set_xlabel('$x$')\n",
    "\n",
    "ax[0].set_ylabel('$y$')\n",
    "ax[2].set_ylabel('$p(x,0)$')\n",
    "\n",
    "ax[0].set_title('Solution with Python+Numba')\n",
    "ax[1].set_title('Solution with Cython')\n",
    "\n",
    "ax[2].legend(loc='upper center');"
   ]
  },
  {
   "cell_type": "markdown",
   "id": "25866f52",
   "metadata": {},
   "source": [
    "First of all, both Numba and Cython provide quite a significant speedup. However, the execution time for the Python code with Numba and for Cython differs by almost a factor of $10$? It is in fact caused by *how* Numba is integrated into the Python code in this particular example. If you look into the source code, you'll see that the only piece of code that depends on whether Numba is used or not, is this one:\n",
    "\n",
    "```\n",
    "if use_numba:\n",
    "    pnew = gauss_seidel_step(p, pnew, b, nx, ny, dx)\n",
    "    diff = norms.l2_diff(pnew, p)\n",
    "else:\n",
    "    pnew = py_gauss_seidel_step(p, pnew, b, nx, ny, dx)\n",
    "    diff = norms.py_l2_diff(pnew, p)\n",
    "```\n",
    "This is the only piece of code that will be compiled by Numba. The rest of the code will still be treated by the Python interpreter causing the *interpreter overhead*.\n",
    "\n",
    "Could this function be implemented otherwise? Yes, it could. The choice has been made deliberately. The thing is that *Numba cannot be used with `tqdm` package*. And even if we have reverted to the standard `print` function, it would have been tricky, as Numba would not allow us to use raw or formatted strings, as well as it doesn't support some of the optional arguments of `print`. We therefore sacrificed some performance for having a fancy logging output. Even though the factor of (almost) $10$ is a significant difference, the time taken by the Python code -partially - compiled with Numba in this particular case is still very little to the human perception.\n",
    "\n",
    "It is fair to say though that Numba is a very fast evolving package, so we would easily expect the support for `tqdm` to come in some of the future releases.\n",
    "\n",
    "#### Syntax for Numba integration\n",
    "\n",
    "Let us now look at how exactly Numba is integrated into the `gauss_seidel_step` function (example of `l2_diff` function is absolutely equivalent):\n",
    "```\n",
    "from numba import jit\n",
    "\n",
    "@jit(nopython=True)\n",
    "def gauss_seidel_step(p, pnew, b, nx, ny, dx):\n",
    "    '''Performs one Gauss-Seidel iteration'''\n",
    "    for j in range(1, ny-1):\n",
    "        for i in range(1, nx-1):\n",
    "            pnew[i, j] = (0.25*(pnew[i-1, j] + p[i+1, j] + pnew[i, j-1]\n",
    "                       + p[i, j+1] - b[i, j]*dx**2))\n",
    "    return pnew\n",
    "```\n",
    "Yes, it is as easy, as it looks. For the majority of problems it would only take decorating your function with a `jit` decorator. The parameter `nopython`, when evaluated to `True`, enables the so-called *nopython* mode. When `nopython` is set to `False`, the *object* mode is enabled. Nopython mode produces higher performance, as it does not use the Python interpreter. Nevertheless it might fail depending on your implementation; compilation will fall back to the object mode only if `nopython` is set to false.\n",
    "\n",
    "Sometimes you'll also see the notation `@njit`. It is the shortcut to `@jit(nopython=True)`.\n",
    "\n",
    "#### Minimum on Exception Handling\n",
    "\n",
    "There is another fragment of the source Python code that must be explained:\n",
    "```\n",
    "try:\n",
    "    from tqdm.auto import tqdm\n",
    "except ModuleNotFoundError:\n",
    "    pass\n",
    "```\n",
    "This is an example of exceptions handling in Python. Exceptions are mostly errors that occur during the execution. But some of them are warnings or events.\n",
    "\n",
    "The minimal exception handling block consists of the `try` and `except` clauses. Inside the `try` clause you specify the code that is not exception-safe. `try` clause is not stand-alone and *must* be \"accompanied\" by the `except` clause. Inside the `except` clause you must specify code that is do be executed if that from the `try` clause fails. If no exceptions occur inside the `try` clause, the `except` clause is skipped. The `pass` statement is used when you want do nothing.\n",
    "\n",
    "The main purpose of exception handling is making them not fatal.\n",
    "\n",
    "The example made above perfectly fits this purpose. tqdm, unlike Numba or NumPy, *is not required* for the Gauss-Seidel solver to execute. It is rather a \"luxury\", not a necessity. We therefore try to import it inside the `try` clause and if the exception of type `ModuleNotFoundError` is raised (tqdm is not found in system), the code doesn't terminate but just proceeds to the further statements.\n",
    "\n",
    "You can also raise exceptions yourself to prevent and undesired behavior and to provide more informative logging of the code. Inside the `gauss_seidel` function you can see the following lines:\n",
    "```\n",
    "if p.shape != b.shape:\n",
    "    raise ValueError('p and b must have the same shape')\n",
    "```\n",
    "As we haven't provided try/except block when calling the function, the `ValueError` exception will be raised and the execution will be terminated if you supply `p` and `b` of different shapes. If you supply `p` and `b` that are not of type `numpy.ndarray`, the execution will crash at the stage when trying to execute the `if` statement with the `AttributeError` being raised.\n",
    "\n",
    "In a well-designed program, exception handling must provide a certain level of [exception safety][10].\n",
    "\n",
    "We will not further concentrate on exception handling and will proceed to understanding the Cython implementation of the Gauss-Seidel solver. If you are willing to learn more about exception handling in Python on your own, the good place to start is from the [tutorial provided in the official documentation][11].\n",
    "\n",
    "#### Cython syntax\n",
    "\n",
    "If you look into the `csolver.pyx` file, you'll see that there is a bit of unfamiliar syntax. It is not *drastically* different though. Cython syntax builds upon the Python syntax and adds some extra. \"Extra\" that appeared to be enough to implement the Gauss-Seidel solver consists of ...\n",
    "\n",
    "* ... type declaration ...\n",
    "\n",
    "    As it has been mentioned, dynamic typing is the major source for interpreter overhead in Python. In Cython we can use `cdef` statement to declare C variables. In this way Cython won't have to do the type conversion from Python types to C types.\n",
    "\n",
    "    You can declare and initialize variable at once:\n",
    "    ```\n",
    "    cdef int it = 0\n",
    "    ```\n",
    "    Or you can declare variable without initialization:\n",
    "    ```\n",
    "    cdef Py_ssize_t i, j\n",
    "    ```\n",
    "    Note that `Py_ssize_t` is a C type for the indexing.\n",
    "\n",
    "    As you can see, we also declare types of the objects that we pass to the function:\n",
    "    ```\n",
    "    def c_gauss_seidel(<...>, DTYPE_t dx, DTYPE_t tol, int max_it):\n",
    "        <...>\n",
    "    ```\n",
    "    `DTYPE_t` here is just a shortcut we have created for the C type `np.float64_t` that corresponds to the Python type `np.float64` (double precision float):\n",
    "    ```\n",
    "    ctypedef np.float64_t DTYPE_t\n",
    "    ```\n",
    "\n",
    "    When specifying types of function arguments like this, Python objects are immediately converted into C objects, and `dx`, `tol` and `max_it` are then local C variables.\n",
    "\n",
    "* ... and Cython memoryviews.\n",
    "\n",
    "    Cython supports NumPy arrays just as well as Python does. If we looped over NumPy arrays though, it would barely provide any speedup. The reason for that is that `numpy.ndarray` is a Python type and cannot be combined in the same expression with C types. Each time we access elements of `numpy.ndarray`, C integers must be converted to Python integers.\n",
    "\n",
    "    > [In short, memoryviews][12] are C structures that can hold a pointer to the data of a NumPy array and all the necessary buffer metadata to provide efficient and safe access: dimensions, strides, item size, item type information, etc…\n",
    "\n",
    "    Syntax to create memoryview from the NumPy array is very simple:\n",
    "    ```\n",
    "    cdef np.ndarray[DTYPE_t, ndim=1] tol_hist_gs = np.zeros(max_it, dtype=DTYPE)\n",
    "    cdef DTYPE_t[:] tol_hist_gs_view = tol_hist_gs\n",
    "    ```\n",
    "\n",
    "    Now note how `p` and `b` are passed to the function:\n",
    "    ```\n",
    "    def c_gauss_seidel(DTYPE_t[:, :] p, DTYPE_t[:, :] b,\n",
    "                   DTYPE_t dx, DTYPE_t tol, int max_it):\n",
    "        <...>\n",
    "    ```\n",
    "    This way, when we originally pass the object of type `numpy.ndarray`, their memoryviews are created right away and can be accessed through the variables `p` and `b`.\n",
    "\n",
    "    NumPy array that is pointed to by the memoryview can be accessed through the `base` attribute of the memoryview:\n",
    "    ```\n",
    "    return <...>, p.base, <...>\n",
    "    ```\n",
    "\n",
    "    It is due to the reason that we use memoryvies in the main loop of the program, that we gain such a speedup:\n",
    "    ```\n",
    "    for j in range(1, ny-1):\n",
    "        for i in range(1, nx-1):\n",
    "            p_new_view[i, j] = (0.25*(p_new_view[i-1, j] + p[i+1, j]\n",
    "                + p_new_view[i, j-1] + p[i, j+1] - b[i, j]*dx**2))\n",
    "    ```\n",
    "    Note that as well as for the most of the rest of code, syntax for the loops in Cython is exactly that of Python.\n",
    "\n",
    "    The downside we get when using memoryviews is that they are not as flexible as Numpy arrays. Many NumPy functions though still support memoryviews. Memoryviews even support some of the \"same\" methods and attributes that Numpy arrays do but the return values are always of the C type.\n",
    "\n",
    "Generally almost *any* Python code is valid in Cython. This is no surprise, as aside from when working with C types directly, Cython makes calls to the Python interpreter. We have introduced typing and memoryvies as an extra of Cython to gain the speedup but the pure Python code should also compile.\n",
    "\n",
    "As it has been said, learning to program efficiently in Cython should not be a complicated task for the Python programmer. Nevertheless, aside from writing the source code, it is also necessary to provide proper compile instructions (makefile). The makefile used in this demo is trivial:\n",
    "```\n",
    "from setuptools import setup\n",
    "from Cython.Build import cythonize\n",
    "import numpy\n",
    "\n",
    "setup(\n",
    "    ext_modules=cythonize('csolver.pyx',\n",
    "                        build_dir='build',\n",
    "                        annotate=True,\n",
    "                        language_level = '3'),\n",
    "    include_dirs=[numpy.get_include()],\n",
    ")\n",
    "```\n",
    "`Cython.Build.cythonize` function is responsible for that the source Cython file (`csolver.pyx` in this case) is compiled into C code that is further compiled into machine code, and the shared library is created. The latter is directly importable into Python code, as we have showed above. `build_dir` parameter specifies the location where the files created at compile time are stored. `language_level` specifies the standard of Python that is used.\n",
    "\n",
    "The line\n",
    "```\n",
    "include_dirs=[numpy.get_include()]\n",
    "```\n",
    "is important to our code because we have imported the *definition* numpy file using `cimport` command:\n",
    "```\n",
    "cimport numpy as np\n",
    "```\n",
    "\n",
    "Definition file is the Cython analogy to the C header file. We needed numpy definition file for the C type `np.float64_t`.\n",
    "\n",
    "To run the Cython makefile, the following command must be executed:\n",
    "```\n",
    "python setup.py build_ext --build-lib <target_dir>\n",
    "```\n",
    "where the `<target_dir>` specifies the location for the shared library.\n",
    "\n",
    "Overall, as you see, there is much more information to absorb when understanding Cython than when understanding Numba. Numba should certainly be your first choice when it is easily integratable. Cython though communicates much more naturally with C (and C++) code.\n",
    "\n",
    "[10]: <https://en.wikipedia.org/wiki/Exception_safety> \"Exception safety\"\n",
    "[11]: <https://docs.python.org/3/tutorial/errors.html> \"Exception handling\"\n",
    "[12]: <https://cython.readthedocs.io/en/latest/src/userguide/numpy_tutorial.html#efficient-indexing-with-memoryviews> \"Memoryviews\""
   ]
  },
  {
   "cell_type": "markdown",
   "id": "d804451b",
   "metadata": {},
   "source": [
    "## Summary\n",
    "\n",
    "In this notebook we have dug deeper into the basic programming concepts, such as compilers and interpreters. We have investigated alternative tools to get C-like performance with Python - Numba and Cython. The sample implementation of Gauss-Seidel solver has been sped up by the factor of about $20$ with Numba and $100$ with Cython. It is important to note though that generally Numba and Cython show similar performance for the same kind of problems. We chose to implement partial compilation with Numba in order to use the logging tools of tqdm package. Python decorators and exception handling were introduced as a part of the tutorial.\n",
    "We therefore conclude the chapter on iterative methods with numerical tools for efficient implementation of iterative solvers."
   ]
  }
 ],
 "metadata": {
  "jupytext": {
   "formats": "ipynb,md:myst",
   "notebook_metadata_filter": "toc",
   "text_representation": {
    "extension": ".md",
    "format_name": "myst",
    "format_version": 0.13,
    "jupytext_version": "1.10.3"
   }
  },
  "kernelspec": {
   "display_name": "Python 3",
   "language": "python",
   "name": "python3"
  },
  "language_info": {
   "codemirror_mode": {
    "name": "ipython",
    "version": 3
   },
   "file_extension": ".py",
   "mimetype": "text/x-python",
   "name": "python",
   "nbconvert_exporter": "python",
   "pygments_lexer": "ipython3",
   "version": "3.10.6"
  },
  "source_map": [
   29,
   36,
   46,
   50,
   84,
   88,
   122,
   126,
   130,
   141,
   149,
   152,
   156,
   158,
   162,
   164,
   168,
   172,
   176,
   178,
   182,
   197,
   203,
   205,
   209,
   216,
   218,
   222,
   239,
   243,
   257,
   261,
   274,
   278,
   308,
   320,
   324,
   340,
   351,
   355,
   363,
   367,
   371,
   373,
   377,
   382,
   402,
   574
  ],
  "toc": {
   "base_numbering": 1,
   "nav_menu": {},
   "number_sections": true,
   "sideBar": true,
   "skip_h1_title": true,
   "title_cell": "Table of Contents",
   "title_sidebar": "Contents",
   "toc_cell": true,
   "toc_position": {},
   "toc_section_display": true,
   "toc_window_display": false
  },
  "widgets": {
   "application/vnd.jupyter.widget-state+json": {
    "state": {
     "04cb461c49dc44f9a364597ffe798de6": {
      "model_module": "@jupyter-widgets/controls",
      "model_module_version": "1.5.0",
      "model_name": "HBoxModel",
      "state": {
       "_dom_classes": [],
       "_model_module": "@jupyter-widgets/controls",
       "_model_module_version": "1.5.0",
       "_model_name": "HBoxModel",
       "_view_count": null,
       "_view_module": "@jupyter-widgets/controls",
       "_view_module_version": "1.5.0",
       "_view_name": "HBoxView",
       "box_style": "",
       "children": [
        "IPY_MODEL_5136259407954021a8384e5f4367e236",
        "IPY_MODEL_cb63e2f2b4e140f2ba77bf565dee812f",
        "IPY_MODEL_d73f8f24b32046c7b2c8f39f224cd793"
       ],
       "layout": "IPY_MODEL_0b6e5cec5e57476ca9edf42928f3f81d"
      }
     },
     "08f42290ce484412a91e10e92bba38a6": {
      "model_module": "@jupyter-widgets/base",
      "model_module_version": "1.2.0",
      "model_name": "LayoutModel",
      "state": {
       "_model_module": "@jupyter-widgets/base",
       "_model_module_version": "1.2.0",
       "_model_name": "LayoutModel",
       "_view_count": null,
       "_view_module": "@jupyter-widgets/base",
       "_view_module_version": "1.2.0",
       "_view_name": "LayoutView",
       "align_content": null,
       "align_items": null,
       "align_self": null,
       "border": null,
       "bottom": null,
       "display": null,
       "flex": null,
       "flex_flow": null,
       "grid_area": null,
       "grid_auto_columns": null,
       "grid_auto_flow": null,
       "grid_auto_rows": null,
       "grid_column": null,
       "grid_gap": null,
       "grid_row": null,
       "grid_template_areas": null,
       "grid_template_columns": null,
       "grid_template_rows": null,
       "height": null,
       "justify_content": null,
       "justify_items": null,
       "left": null,
       "margin": null,
       "max_height": null,
       "max_width": null,
       "min_height": null,
       "min_width": null,
       "object_fit": null,
       "object_position": null,
       "order": null,
       "overflow": null,
       "overflow_x": null,
       "overflow_y": null,
       "padding": null,
       "right": null,
       "top": null,
       "visibility": null,
       "width": null
      }
     },
     "0a8e364a4d4646c8aa3d01cc520ea683": {
      "model_module": "@jupyter-widgets/controls",
      "model_module_version": "1.5.0",
      "model_name": "HTMLModel",
      "state": {
       "_dom_classes": [],
       "_model_module": "@jupyter-widgets/controls",
       "_model_module_version": "1.5.0",
       "_model_name": "HTMLModel",
       "_view_count": null,
       "_view_module": "@jupyter-widgets/controls",
       "_view_module_version": "1.5.0",
       "_view_name": "HTMLView",
       "description": "",
       "description_tooltip": null,
       "layout": "IPY_MODEL_f96a7bf26ff44addb3e7897e9ed882ba",
       "placeholder": "​",
       "style": "IPY_MODEL_bb2c85d58ff042c9929d536a2f10f9b3",
       "value": ""
      }
     },
     "0b6e5cec5e57476ca9edf42928f3f81d": {
      "model_module": "@jupyter-widgets/base",
      "model_module_version": "1.2.0",
      "model_name": "LayoutModel",
      "state": {
       "_model_module": "@jupyter-widgets/base",
       "_model_module_version": "1.2.0",
       "_model_name": "LayoutModel",
       "_view_count": null,
       "_view_module": "@jupyter-widgets/base",
       "_view_module_version": "1.2.0",
       "_view_name": "LayoutView",
       "align_content": null,
       "align_items": null,
       "align_self": null,
       "border": null,
       "bottom": null,
       "display": null,
       "flex": null,
       "flex_flow": null,
       "grid_area": null,
       "grid_auto_columns": null,
       "grid_auto_flow": null,
       "grid_auto_rows": null,
       "grid_column": null,
       "grid_gap": null,
       "grid_row": null,
       "grid_template_areas": null,
       "grid_template_columns": null,
       "grid_template_rows": null,
       "height": null,
       "justify_content": null,
       "justify_items": null,
       "left": null,
       "margin": null,
       "max_height": null,
       "max_width": null,
       "min_height": null,
       "min_width": null,
       "object_fit": null,
       "object_position": null,
       "order": null,
       "overflow": null,
       "overflow_x": null,
       "overflow_y": null,
       "padding": null,
       "right": null,
       "top": null,
       "visibility": null,
       "width": null
      }
     },
     "21d41f915aa74665aa3d93c46d313c51": {
      "model_module": "@jupyter-widgets/base",
      "model_module_version": "1.2.0",
      "model_name": "LayoutModel",
      "state": {
       "_model_module": "@jupyter-widgets/base",
       "_model_module_version": "1.2.0",
       "_model_name": "LayoutModel",
       "_view_count": null,
       "_view_module": "@jupyter-widgets/base",
       "_view_module_version": "1.2.0",
       "_view_name": "LayoutView",
       "align_content": null,
       "align_items": null,
       "align_self": null,
       "border": null,
       "bottom": null,
       "display": null,
       "flex": null,
       "flex_flow": null,
       "grid_area": null,
       "grid_auto_columns": null,
       "grid_auto_flow": null,
       "grid_auto_rows": null,
       "grid_column": null,
       "grid_gap": null,
       "grid_row": null,
       "grid_template_areas": null,
       "grid_template_columns": null,
       "grid_template_rows": null,
       "height": null,
       "justify_content": null,
       "justify_items": null,
       "left": null,
       "margin": null,
       "max_height": null,
       "max_width": null,
       "min_height": null,
       "min_width": null,
       "object_fit": null,
       "object_position": null,
       "order": null,
       "overflow": null,
       "overflow_x": null,
       "overflow_y": null,
       "padding": null,
       "right": null,
       "top": null,
       "visibility": null,
       "width": null
      }
     },
     "267c1585cb3c48328c77761f9c370bd5": {
      "model_module": "@jupyter-widgets/controls",
      "model_module_version": "1.5.0",
      "model_name": "DescriptionStyleModel",
      "state": {
       "_model_module": "@jupyter-widgets/controls",
       "_model_module_version": "1.5.0",
       "_model_name": "DescriptionStyleModel",
       "_view_count": null,
       "_view_module": "@jupyter-widgets/base",
       "_view_module_version": "1.2.0",
       "_view_name": "StyleView",
       "description_width": ""
      }
     },
     "268b01b5c2a84ccca9f87cacd4920eae": {
      "model_module": "@jupyter-widgets/base",
      "model_module_version": "1.2.0",
      "model_name": "LayoutModel",
      "state": {
       "_model_module": "@jupyter-widgets/base",
       "_model_module_version": "1.2.0",
       "_model_name": "LayoutModel",
       "_view_count": null,
       "_view_module": "@jupyter-widgets/base",
       "_view_module_version": "1.2.0",
       "_view_name": "LayoutView",
       "align_content": null,
       "align_items": null,
       "align_self": null,
       "border": null,
       "bottom": null,
       "display": null,
       "flex": null,
       "flex_flow": null,
       "grid_area": null,
       "grid_auto_columns": null,
       "grid_auto_flow": null,
       "grid_auto_rows": null,
       "grid_column": null,
       "grid_gap": null,
       "grid_row": null,
       "grid_template_areas": null,
       "grid_template_columns": null,
       "grid_template_rows": null,
       "height": null,
       "justify_content": null,
       "justify_items": null,
       "left": null,
       "margin": null,
       "max_height": null,
       "max_width": null,
       "min_height": null,
       "min_width": null,
       "object_fit": null,
       "object_position": null,
       "order": null,
       "overflow": null,
       "overflow_x": null,
       "overflow_y": null,
       "padding": null,
       "right": null,
       "top": null,
       "visibility": null,
       "width": null
      }
     },
     "2cecfd0151314482b99ea2cb7864e5bd": {
      "model_module": "@jupyter-widgets/base",
      "model_module_version": "1.2.0",
      "model_name": "LayoutModel",
      "state": {
       "_model_module": "@jupyter-widgets/base",
       "_model_module_version": "1.2.0",
       "_model_name": "LayoutModel",
       "_view_count": null,
       "_view_module": "@jupyter-widgets/base",
       "_view_module_version": "1.2.0",
       "_view_name": "LayoutView",
       "align_content": null,
       "align_items": null,
       "align_self": null,
       "border": null,
       "bottom": null,
       "display": null,
       "flex": null,
       "flex_flow": null,
       "grid_area": null,
       "grid_auto_columns": null,
       "grid_auto_flow": null,
       "grid_auto_rows": null,
       "grid_column": null,
       "grid_gap": null,
       "grid_row": null,
       "grid_template_areas": null,
       "grid_template_columns": null,
       "grid_template_rows": null,
       "height": null,
       "justify_content": null,
       "justify_items": null,
       "left": null,
       "margin": null,
       "max_height": null,
       "max_width": null,
       "min_height": null,
       "min_width": null,
       "object_fit": null,
       "object_position": null,
       "order": null,
       "overflow": null,
       "overflow_x": null,
       "overflow_y": null,
       "padding": null,
       "right": null,
       "top": null,
       "visibility": null,
       "width": null
      }
     },
     "2f31ec3b9f0b4814bbafb5b79c8e397c": {
      "model_module": "@jupyter-widgets/controls",
      "model_module_version": "1.5.0",
      "model_name": "DescriptionStyleModel",
      "state": {
       "_model_module": "@jupyter-widgets/controls",
       "_model_module_version": "1.5.0",
       "_model_name": "DescriptionStyleModel",
       "_view_count": null,
       "_view_module": "@jupyter-widgets/base",
       "_view_module_version": "1.2.0",
       "_view_name": "StyleView",
       "description_width": ""
      }
     },
     "313ab9a6e41243e4b1c06c996f9efd86": {
      "model_module": "@jupyter-widgets/controls",
      "model_module_version": "1.5.0",
      "model_name": "HTMLModel",
      "state": {
       "_dom_classes": [],
       "_model_module": "@jupyter-widgets/controls",
       "_model_module_version": "1.5.0",
       "_model_name": "HTMLModel",
       "_view_count": null,
       "_view_module": "@jupyter-widgets/controls",
       "_view_module_version": "1.5.0",
       "_view_name": "HTMLView",
       "description": "",
       "description_tooltip": null,
       "layout": "IPY_MODEL_08f42290ce484412a91e10e92bba38a6",
       "placeholder": "​",
       "style": "IPY_MODEL_2f31ec3b9f0b4814bbafb5b79c8e397c",
       "value": ""
      }
     },
     "3ac93fae3981484eb0a15a5ee5252550": {
      "model_module": "@jupyter-widgets/controls",
      "model_module_version": "1.5.0",
      "model_name": "HTMLModel",
      "state": {
       "_dom_classes": [],
       "_model_module": "@jupyter-widgets/controls",
       "_model_module_version": "1.5.0",
       "_model_name": "HTMLModel",
       "_view_count": null,
       "_view_module": "@jupyter-widgets/controls",
       "_view_module_version": "1.5.0",
       "_view_name": "HTMLView",
       "description": "",
       "description_tooltip": null,
       "layout": "IPY_MODEL_5893751afa95467d8fdaeb42a1ea71a5",
       "placeholder": "​",
       "style": "IPY_MODEL_411c79b0d843476dbfc4a85e089b42e6",
       "value": ""
      }
     },
     "3d3465cb61d24eeb97ece37d7540bb26": {
      "model_module": "@jupyter-widgets/controls",
      "model_module_version": "1.5.0",
      "model_name": "DescriptionStyleModel",
      "state": {
       "_model_module": "@jupyter-widgets/controls",
       "_model_module_version": "1.5.0",
       "_model_name": "DescriptionStyleModel",
       "_view_count": null,
       "_view_module": "@jupyter-widgets/base",
       "_view_module_version": "1.2.0",
       "_view_name": "StyleView",
       "description_width": ""
      }
     },
     "3e0a882ed6bd4ae3a4151aba37ac453e": {
      "model_module": "@jupyter-widgets/base",
      "model_module_version": "1.2.0",
      "model_name": "LayoutModel",
      "state": {
       "_model_module": "@jupyter-widgets/base",
       "_model_module_version": "1.2.0",
       "_model_name": "LayoutModel",
       "_view_count": null,
       "_view_module": "@jupyter-widgets/base",
       "_view_module_version": "1.2.0",
       "_view_name": "LayoutView",
       "align_content": null,
       "align_items": null,
       "align_self": null,
       "border": null,
       "bottom": null,
       "display": null,
       "flex": null,
       "flex_flow": null,
       "grid_area": null,
       "grid_auto_columns": null,
       "grid_auto_flow": null,
       "grid_auto_rows": null,
       "grid_column": null,
       "grid_gap": null,
       "grid_row": null,
       "grid_template_areas": null,
       "grid_template_columns": null,
       "grid_template_rows": null,
       "height": null,
       "justify_content": null,
       "justify_items": null,
       "left": null,
       "margin": null,
       "max_height": null,
       "max_width": null,
       "min_height": null,
       "min_width": null,
       "object_fit": null,
       "object_position": null,
       "order": null,
       "overflow": null,
       "overflow_x": null,
       "overflow_y": null,
       "padding": null,
       "right": null,
       "top": null,
       "visibility": null,
       "width": null
      }
     },
     "411c79b0d843476dbfc4a85e089b42e6": {
      "model_module": "@jupyter-widgets/controls",
      "model_module_version": "1.5.0",
      "model_name": "DescriptionStyleModel",
      "state": {
       "_model_module": "@jupyter-widgets/controls",
       "_model_module_version": "1.5.0",
       "_model_name": "DescriptionStyleModel",
       "_view_count": null,
       "_view_module": "@jupyter-widgets/base",
       "_view_module_version": "1.2.0",
       "_view_name": "StyleView",
       "description_width": ""
      }
     },
     "476dc9edead94c2da3f99c556817a781": {
      "model_module": "@jupyter-widgets/controls",
      "model_module_version": "1.5.0",
      "model_name": "DescriptionStyleModel",
      "state": {
       "_model_module": "@jupyter-widgets/controls",
       "_model_module_version": "1.5.0",
       "_model_name": "DescriptionStyleModel",
       "_view_count": null,
       "_view_module": "@jupyter-widgets/base",
       "_view_module_version": "1.2.0",
       "_view_name": "StyleView",
       "description_width": ""
      }
     },
     "490c4769f4fa48a69f70b678340112b3": {
      "model_module": "@jupyter-widgets/controls",
      "model_module_version": "1.5.0",
      "model_name": "DescriptionStyleModel",
      "state": {
       "_model_module": "@jupyter-widgets/controls",
       "_model_module_version": "1.5.0",
       "_model_name": "DescriptionStyleModel",
       "_view_count": null,
       "_view_module": "@jupyter-widgets/base",
       "_view_module_version": "1.2.0",
       "_view_name": "StyleView",
       "description_width": ""
      }
     },
     "4cc60074f79e4e91b0d748e2c124461e": {
      "model_module": "@jupyter-widgets/controls",
      "model_module_version": "1.5.0",
      "model_name": "FloatProgressModel",
      "state": {
       "_dom_classes": [],
       "_model_module": "@jupyter-widgets/controls",
       "_model_module_version": "1.5.0",
       "_model_name": "FloatProgressModel",
       "_view_count": null,
       "_view_module": "@jupyter-widgets/controls",
       "_view_module_version": "1.5.0",
       "_view_name": "ProgressView",
       "bar_style": "",
       "description": "",
       "description_tooltip": null,
       "layout": "IPY_MODEL_5f31d23f0cce4dcfa90e4250a1260350",
       "max": 10000.0,
       "min": 0.0,
       "orientation": "horizontal",
       "style": "IPY_MODEL_905d65f30f924bc0bfd73edc3fbafc9a",
       "value": 0.0
      }
     },
     "5136259407954021a8384e5f4367e236": {
      "model_module": "@jupyter-widgets/controls",
      "model_module_version": "1.5.0",
      "model_name": "HTMLModel",
      "state": {
       "_dom_classes": [],
       "_model_module": "@jupyter-widgets/controls",
       "_model_module_version": "1.5.0",
       "_model_name": "HTMLModel",
       "_view_count": null,
       "_view_module": "@jupyter-widgets/controls",
       "_view_module_version": "1.5.0",
       "_view_name": "HTMLView",
       "description": "",
       "description_tooltip": null,
       "layout": "IPY_MODEL_f96a7bf26ff44addb3e7897e9ed882ba",
       "placeholder": "​",
       "style": "IPY_MODEL_bb2c85d58ff042c9929d536a2f10f9b3",
       "value": "it / max_it:  34%"
      }
     },
     "551df78ff4d94b93b7c8c3dde9abed0e": {
      "model_module": "@jupyter-widgets/base",
      "model_module_version": "1.2.0",
      "model_name": "LayoutModel",
      "state": {
       "_model_module": "@jupyter-widgets/base",
       "_model_module_version": "1.2.0",
       "_model_name": "LayoutModel",
       "_view_count": null,
       "_view_module": "@jupyter-widgets/base",
       "_view_module_version": "1.2.0",
       "_view_name": "LayoutView",
       "align_content": null,
       "align_items": null,
       "align_self": null,
       "border": null,
       "bottom": null,
       "display": null,
       "flex": null,
       "flex_flow": null,
       "grid_area": null,
       "grid_auto_columns": null,
       "grid_auto_flow": null,
       "grid_auto_rows": null,
       "grid_column": null,
       "grid_gap": null,
       "grid_row": null,
       "grid_template_areas": null,
       "grid_template_columns": null,
       "grid_template_rows": null,
       "height": null,
       "justify_content": null,
       "justify_items": null,
       "left": null,
       "margin": null,
       "max_height": null,
       "max_width": null,
       "min_height": null,
       "min_width": null,
       "object_fit": null,
       "object_position": null,
       "order": null,
       "overflow": null,
       "overflow_x": null,
       "overflow_y": null,
       "padding": null,
       "right": null,
       "top": null,
       "visibility": null,
       "width": null
      }
     },
     "5893751afa95467d8fdaeb42a1ea71a5": {
      "model_module": "@jupyter-widgets/base",
      "model_module_version": "1.2.0",
      "model_name": "LayoutModel",
      "state": {
       "_model_module": "@jupyter-widgets/base",
       "_model_module_version": "1.2.0",
       "_model_name": "LayoutModel",
       "_view_count": null,
       "_view_module": "@jupyter-widgets/base",
       "_view_module_version": "1.2.0",
       "_view_name": "LayoutView",
       "align_content": null,
       "align_items": null,
       "align_self": null,
       "border": null,
       "bottom": null,
       "display": null,
       "flex": null,
       "flex_flow": null,
       "grid_area": null,
       "grid_auto_columns": null,
       "grid_auto_flow": null,
       "grid_auto_rows": null,
       "grid_column": null,
       "grid_gap": null,
       "grid_row": null,
       "grid_template_areas": null,
       "grid_template_columns": null,
       "grid_template_rows": null,
       "height": null,
       "justify_content": null,
       "justify_items": null,
       "left": null,
       "margin": null,
       "max_height": null,
       "max_width": null,
       "min_height": null,
       "min_width": null,
       "object_fit": null,
       "object_position": null,
       "order": null,
       "overflow": null,
       "overflow_x": null,
       "overflow_y": null,
       "padding": null,
       "right": null,
       "top": null,
       "visibility": null,
       "width": null
      }
     },
     "5c01d7f439f84fac877949f317731ca7": {
      "model_module": "@jupyter-widgets/controls",
      "model_module_version": "1.5.0",
      "model_name": "ProgressStyleModel",
      "state": {
       "_model_module": "@jupyter-widgets/controls",
       "_model_module_version": "1.5.0",
       "_model_name": "ProgressStyleModel",
       "_view_count": null,
       "_view_module": "@jupyter-widgets/base",
       "_view_module_version": "1.2.0",
       "_view_name": "StyleView",
       "bar_color": null,
       "description_width": ""
      }
     },
     "5f11cd7b05a1443a8322a49e4dd390d3": {
      "model_module": "@jupyter-widgets/controls",
      "model_module_version": "1.5.0",
      "model_name": "ProgressStyleModel",
      "state": {
       "_model_module": "@jupyter-widgets/controls",
       "_model_module_version": "1.5.0",
       "_model_name": "ProgressStyleModel",
       "_view_count": null,
       "_view_module": "@jupyter-widgets/base",
       "_view_module_version": "1.2.0",
       "_view_name": "StyleView",
       "bar_color": null,
       "description_width": ""
      }
     },
     "5f31d23f0cce4dcfa90e4250a1260350": {
      "model_module": "@jupyter-widgets/base",
      "model_module_version": "1.2.0",
      "model_name": "LayoutModel",
      "state": {
       "_model_module": "@jupyter-widgets/base",
       "_model_module_version": "1.2.0",
       "_model_name": "LayoutModel",
       "_view_count": null,
       "_view_module": "@jupyter-widgets/base",
       "_view_module_version": "1.2.0",
       "_view_name": "LayoutView",
       "align_content": null,
       "align_items": null,
       "align_self": null,
       "border": null,
       "bottom": null,
       "display": null,
       "flex": null,
       "flex_flow": null,
       "grid_area": null,
       "grid_auto_columns": null,
       "grid_auto_flow": null,
       "grid_auto_rows": null,
       "grid_column": null,
       "grid_gap": null,
       "grid_row": null,
       "grid_template_areas": null,
       "grid_template_columns": null,
       "grid_template_rows": null,
       "height": null,
       "justify_content": null,
       "justify_items": null,
       "left": null,
       "margin": null,
       "max_height": null,
       "max_width": null,
       "min_height": null,
       "min_width": null,
       "object_fit": null,
       "object_position": null,
       "order": null,
       "overflow": null,
       "overflow_x": null,
       "overflow_y": null,
       "padding": null,
       "right": null,
       "top": null,
       "visibility": null,
       "width": null
      }
     },
     "71266f3b02c5446884b0a18c2eab020f": {
      "model_module": "@jupyter-widgets/base",
      "model_module_version": "1.2.0",
      "model_name": "LayoutModel",
      "state": {
       "_model_module": "@jupyter-widgets/base",
       "_model_module_version": "1.2.0",
       "_model_name": "LayoutModel",
       "_view_count": null,
       "_view_module": "@jupyter-widgets/base",
       "_view_module_version": "1.2.0",
       "_view_name": "LayoutView",
       "align_content": null,
       "align_items": null,
       "align_self": null,
       "border": null,
       "bottom": null,
       "display": null,
       "flex": null,
       "flex_flow": null,
       "grid_area": null,
       "grid_auto_columns": null,
       "grid_auto_flow": null,
       "grid_auto_rows": null,
       "grid_column": null,
       "grid_gap": null,
       "grid_row": null,
       "grid_template_areas": null,
       "grid_template_columns": null,
       "grid_template_rows": null,
       "height": null,
       "justify_content": null,
       "justify_items": null,
       "left": null,
       "margin": null,
       "max_height": null,
       "max_width": null,
       "min_height": null,
       "min_width": null,
       "object_fit": null,
       "object_position": null,
       "order": null,
       "overflow": null,
       "overflow_x": null,
       "overflow_y": null,
       "padding": null,
       "right": null,
       "top": null,
       "visibility": null,
       "width": null
      }
     },
     "7c81a414c53b46379bcf1d7e9948ef79": {
      "model_module": "@jupyter-widgets/base",
      "model_module_version": "1.2.0",
      "model_name": "LayoutModel",
      "state": {
       "_model_module": "@jupyter-widgets/base",
       "_model_module_version": "1.2.0",
       "_model_name": "LayoutModel",
       "_view_count": null,
       "_view_module": "@jupyter-widgets/base",
       "_view_module_version": "1.2.0",
       "_view_name": "LayoutView",
       "align_content": null,
       "align_items": null,
       "align_self": null,
       "border": null,
       "bottom": null,
       "display": null,
       "flex": null,
       "flex_flow": null,
       "grid_area": null,
       "grid_auto_columns": null,
       "grid_auto_flow": null,
       "grid_auto_rows": null,
       "grid_column": null,
       "grid_gap": null,
       "grid_row": null,
       "grid_template_areas": null,
       "grid_template_columns": null,
       "grid_template_rows": null,
       "height": null,
       "justify_content": null,
       "justify_items": null,
       "left": null,
       "margin": null,
       "max_height": null,
       "max_width": null,
       "min_height": null,
       "min_width": null,
       "object_fit": null,
       "object_position": null,
       "order": null,
       "overflow": null,
       "overflow_x": null,
       "overflow_y": null,
       "padding": null,
       "right": null,
       "top": null,
       "visibility": null,
       "width": null
      }
     },
     "7fe7fe287c6845b5865a43fe375b99df": {
      "model_module": "@jupyter-widgets/controls",
      "model_module_version": "1.5.0",
      "model_name": "HTMLModel",
      "state": {
       "_dom_classes": [],
       "_model_module": "@jupyter-widgets/controls",
       "_model_module_version": "1.5.0",
       "_model_name": "HTMLModel",
       "_view_count": null,
       "_view_module": "@jupyter-widgets/controls",
       "_view_module_version": "1.5.0",
       "_view_name": "HTMLView",
       "description": "",
       "description_tooltip": null,
       "layout": "IPY_MODEL_08f42290ce484412a91e10e92bba38a6",
       "placeholder": "​",
       "style": "IPY_MODEL_2f31ec3b9f0b4814bbafb5b79c8e397c",
       "value": " 3401/10000 [00:01&lt;00:02, 2826.23it/s]"
      }
     },
     "86adac1e2db044ddad8a75a637dbc38d": {
      "model_module": "@jupyter-widgets/base",
      "model_module_version": "1.2.0",
      "model_name": "LayoutModel",
      "state": {
       "_model_module": "@jupyter-widgets/base",
       "_model_module_version": "1.2.0",
       "_model_name": "LayoutModel",
       "_view_count": null,
       "_view_module": "@jupyter-widgets/base",
       "_view_module_version": "1.2.0",
       "_view_name": "LayoutView",
       "align_content": null,
       "align_items": null,
       "align_self": null,
       "border": null,
       "bottom": null,
       "display": null,
       "flex": null,
       "flex_flow": null,
       "grid_area": null,
       "grid_auto_columns": null,
       "grid_auto_flow": null,
       "grid_auto_rows": null,
       "grid_column": null,
       "grid_gap": null,
       "grid_row": null,
       "grid_template_areas": null,
       "grid_template_columns": null,
       "grid_template_rows": null,
       "height": null,
       "justify_content": null,
       "justify_items": null,
       "left": null,
       "margin": null,
       "max_height": null,
       "max_width": null,
       "min_height": null,
       "min_width": null,
       "object_fit": null,
       "object_position": null,
       "order": null,
       "overflow": null,
       "overflow_x": null,
       "overflow_y": null,
       "padding": null,
       "right": null,
       "top": null,
       "visibility": null,
       "width": null
      }
     },
     "8eed392f3dc447309fac44c84a14d395": {
      "model_module": "@jupyter-widgets/controls",
      "model_module_version": "1.5.0",
      "model_name": "HTMLModel",
      "state": {
       "_dom_classes": [],
       "_model_module": "@jupyter-widgets/controls",
       "_model_module_version": "1.5.0",
       "_model_name": "HTMLModel",
       "_view_count": null,
       "_view_module": "@jupyter-widgets/controls",
       "_view_module_version": "1.5.0",
       "_view_name": "HTMLView",
       "description": "",
       "description_tooltip": null,
       "layout": "IPY_MODEL_c340ed7b744445a188c0714dd8c1ff40",
       "placeholder": "​",
       "style": "IPY_MODEL_490c4769f4fa48a69f70b678340112b3",
       "value": "it / max_it:  34%"
      }
     },
     "905d65f30f924bc0bfd73edc3fbafc9a": {
      "model_module": "@jupyter-widgets/controls",
      "model_module_version": "1.5.0",
      "model_name": "ProgressStyleModel",
      "state": {
       "_model_module": "@jupyter-widgets/controls",
       "_model_module_version": "1.5.0",
       "_model_name": "ProgressStyleModel",
       "_view_count": null,
       "_view_module": "@jupyter-widgets/base",
       "_view_module_version": "1.2.0",
       "_view_name": "StyleView",
       "bar_color": null,
       "description_width": ""
      }
     },
     "9a27ec6f0a1542918feb2a4b549607a5": {
      "model_module": "@jupyter-widgets/controls",
      "model_module_version": "1.5.0",
      "model_name": "HBoxModel",
      "state": {
       "_dom_classes": [],
       "_model_module": "@jupyter-widgets/controls",
       "_model_module_version": "1.5.0",
       "_model_name": "HBoxModel",
       "_view_count": null,
       "_view_module": "@jupyter-widgets/controls",
       "_view_module_version": "1.5.0",
       "_view_name": "HBoxView",
       "box_style": "",
       "children": [
        "IPY_MODEL_8eed392f3dc447309fac44c84a14d395",
        "IPY_MODEL_de2c377cca424b538965323a4c1b6325",
        "IPY_MODEL_7fe7fe287c6845b5865a43fe375b99df"
       ],
       "layout": "IPY_MODEL_551df78ff4d94b93b7c8c3dde9abed0e"
      }
     },
     "9d4509d309fd43acbea6b13c9806845d": {
      "model_module": "@jupyter-widgets/controls",
      "model_module_version": "1.5.0",
      "model_name": "HTMLModel",
      "state": {
       "_dom_classes": [],
       "_model_module": "@jupyter-widgets/controls",
       "_model_module_version": "1.5.0",
       "_model_name": "HTMLModel",
       "_view_count": null,
       "_view_module": "@jupyter-widgets/controls",
       "_view_module_version": "1.5.0",
       "_view_name": "HTMLView",
       "description": "",
       "description_tooltip": null,
       "layout": "IPY_MODEL_c340ed7b744445a188c0714dd8c1ff40",
       "placeholder": "​",
       "style": "IPY_MODEL_490c4769f4fa48a69f70b678340112b3",
       "value": ""
      }
     },
     "b339dfe31d3d4fb286fe2eedbebe8ce2": {
      "model_module": "@jupyter-widgets/base",
      "model_module_version": "1.2.0",
      "model_name": "LayoutModel",
      "state": {
       "_model_module": "@jupyter-widgets/base",
       "_model_module_version": "1.2.0",
       "_model_name": "LayoutModel",
       "_view_count": null,
       "_view_module": "@jupyter-widgets/base",
       "_view_module_version": "1.2.0",
       "_view_name": "LayoutView",
       "align_content": null,
       "align_items": null,
       "align_self": null,
       "border": null,
       "bottom": null,
       "display": null,
       "flex": null,
       "flex_flow": null,
       "grid_area": null,
       "grid_auto_columns": null,
       "grid_auto_flow": null,
       "grid_auto_rows": null,
       "grid_column": null,
       "grid_gap": null,
       "grid_row": null,
       "grid_template_areas": null,
       "grid_template_columns": null,
       "grid_template_rows": null,
       "height": null,
       "justify_content": null,
       "justify_items": null,
       "left": null,
       "margin": null,
       "max_height": null,
       "max_width": null,
       "min_height": null,
       "min_width": null,
       "object_fit": null,
       "object_position": null,
       "order": null,
       "overflow": null,
       "overflow_x": null,
       "overflow_y": null,
       "padding": null,
       "right": null,
       "top": null,
       "visibility": null,
       "width": null
      }
     },
     "bb2c85d58ff042c9929d536a2f10f9b3": {
      "model_module": "@jupyter-widgets/controls",
      "model_module_version": "1.5.0",
      "model_name": "DescriptionStyleModel",
      "state": {
       "_model_module": "@jupyter-widgets/controls",
       "_model_module_version": "1.5.0",
       "_model_name": "DescriptionStyleModel",
       "_view_count": null,
       "_view_module": "@jupyter-widgets/base",
       "_view_module_version": "1.2.0",
       "_view_name": "StyleView",
       "description_width": ""
      }
     },
     "c0d6c45d9e8349b2824472ed142b1a3a": {
      "model_module": "@jupyter-widgets/base",
      "model_module_version": "1.2.0",
      "model_name": "LayoutModel",
      "state": {
       "_model_module": "@jupyter-widgets/base",
       "_model_module_version": "1.2.0",
       "_model_name": "LayoutModel",
       "_view_count": null,
       "_view_module": "@jupyter-widgets/base",
       "_view_module_version": "1.2.0",
       "_view_name": "LayoutView",
       "align_content": null,
       "align_items": null,
       "align_self": null,
       "border": null,
       "bottom": null,
       "display": null,
       "flex": null,
       "flex_flow": null,
       "grid_area": null,
       "grid_auto_columns": null,
       "grid_auto_flow": null,
       "grid_auto_rows": null,
       "grid_column": null,
       "grid_gap": null,
       "grid_row": null,
       "grid_template_areas": null,
       "grid_template_columns": null,
       "grid_template_rows": null,
       "height": null,
       "justify_content": null,
       "justify_items": null,
       "left": null,
       "margin": null,
       "max_height": null,
       "max_width": null,
       "min_height": null,
       "min_width": null,
       "object_fit": null,
       "object_position": null,
       "order": null,
       "overflow": null,
       "overflow_x": null,
       "overflow_y": null,
       "padding": null,
       "right": null,
       "top": null,
       "visibility": null,
       "width": null
      }
     },
     "c340ed7b744445a188c0714dd8c1ff40": {
      "model_module": "@jupyter-widgets/base",
      "model_module_version": "1.2.0",
      "model_name": "LayoutModel",
      "state": {
       "_model_module": "@jupyter-widgets/base",
       "_model_module_version": "1.2.0",
       "_model_name": "LayoutModel",
       "_view_count": null,
       "_view_module": "@jupyter-widgets/base",
       "_view_module_version": "1.2.0",
       "_view_name": "LayoutView",
       "align_content": null,
       "align_items": null,
       "align_self": null,
       "border": null,
       "bottom": null,
       "display": null,
       "flex": null,
       "flex_flow": null,
       "grid_area": null,
       "grid_auto_columns": null,
       "grid_auto_flow": null,
       "grid_auto_rows": null,
       "grid_column": null,
       "grid_gap": null,
       "grid_row": null,
       "grid_template_areas": null,
       "grid_template_columns": null,
       "grid_template_rows": null,
       "height": null,
       "justify_content": null,
       "justify_items": null,
       "left": null,
       "margin": null,
       "max_height": null,
       "max_width": null,
       "min_height": null,
       "min_width": null,
       "object_fit": null,
       "object_position": null,
       "order": null,
       "overflow": null,
       "overflow_x": null,
       "overflow_y": null,
       "padding": null,
       "right": null,
       "top": null,
       "visibility": null,
       "width": null
      }
     },
     "c6e87d91701d413687cf1627e482ba23": {
      "model_module": "@jupyter-widgets/controls",
      "model_module_version": "1.5.0",
      "model_name": "ProgressStyleModel",
      "state": {
       "_model_module": "@jupyter-widgets/controls",
       "_model_module_version": "1.5.0",
       "_model_name": "ProgressStyleModel",
       "_view_count": null,
       "_view_module": "@jupyter-widgets/base",
       "_view_module_version": "1.2.0",
       "_view_name": "StyleView",
       "bar_color": null,
       "description_width": ""
      }
     },
     "ca01d2d3fabe457692c1f30065305dc1": {
      "model_module": "@jupyter-widgets/controls",
      "model_module_version": "1.5.0",
      "model_name": "HBoxModel",
      "state": {
       "_dom_classes": [],
       "_model_module": "@jupyter-widgets/controls",
       "_model_module_version": "1.5.0",
       "_model_name": "HBoxModel",
       "_view_count": null,
       "_view_module": "@jupyter-widgets/controls",
       "_view_module_version": "1.5.0",
       "_view_name": "HBoxView",
       "box_style": "",
       "children": [
        "IPY_MODEL_8eed392f3dc447309fac44c84a14d395",
        "IPY_MODEL_de2c377cca424b538965323a4c1b6325",
        "IPY_MODEL_7fe7fe287c6845b5865a43fe375b99df"
       ],
       "layout": "IPY_MODEL_551df78ff4d94b93b7c8c3dde9abed0e"
      }
     },
     "cb63e2f2b4e140f2ba77bf565dee812f": {
      "model_module": "@jupyter-widgets/controls",
      "model_module_version": "1.5.0",
      "model_name": "FloatProgressModel",
      "state": {
       "_dom_classes": [],
       "_model_module": "@jupyter-widgets/controls",
       "_model_module_version": "1.5.0",
       "_model_name": "FloatProgressModel",
       "_view_count": null,
       "_view_module": "@jupyter-widgets/controls",
       "_view_module_version": "1.5.0",
       "_view_name": "ProgressView",
       "bar_style": "danger",
       "description": "",
       "description_tooltip": null,
       "layout": "IPY_MODEL_5f31d23f0cce4dcfa90e4250a1260350",
       "max": 10000.0,
       "min": 0.0,
       "orientation": "horizontal",
       "style": "IPY_MODEL_905d65f30f924bc0bfd73edc3fbafc9a",
       "value": 3401.0
      }
     },
     "d73f8f24b32046c7b2c8f39f224cd793": {
      "model_module": "@jupyter-widgets/controls",
      "model_module_version": "1.5.0",
      "model_name": "HTMLModel",
      "state": {
       "_dom_classes": [],
       "_model_module": "@jupyter-widgets/controls",
       "_model_module_version": "1.5.0",
       "_model_name": "HTMLModel",
       "_view_count": null,
       "_view_module": "@jupyter-widgets/controls",
       "_view_module_version": "1.5.0",
       "_view_name": "HTMLView",
       "description": "",
       "description_tooltip": null,
       "layout": "IPY_MODEL_5893751afa95467d8fdaeb42a1ea71a5",
       "placeholder": "​",
       "style": "IPY_MODEL_411c79b0d843476dbfc4a85e089b42e6",
       "value": " 3401/10000 [00:12&lt;00:22, 291.42it/s]"
      }
     },
     "de2c377cca424b538965323a4c1b6325": {
      "model_module": "@jupyter-widgets/controls",
      "model_module_version": "1.5.0",
      "model_name": "FloatProgressModel",
      "state": {
       "_dom_classes": [],
       "_model_module": "@jupyter-widgets/controls",
       "_model_module_version": "1.5.0",
       "_model_name": "FloatProgressModel",
       "_view_count": null,
       "_view_module": "@jupyter-widgets/controls",
       "_view_module_version": "1.5.0",
       "_view_name": "ProgressView",
       "bar_style": "danger",
       "description": "",
       "description_tooltip": null,
       "layout": "IPY_MODEL_7c81a414c53b46379bcf1d7e9948ef79",
       "max": 10000.0,
       "min": 0.0,
       "orientation": "horizontal",
       "style": "IPY_MODEL_5c01d7f439f84fac877949f317731ca7",
       "value": 3401.0
      }
     },
     "e1cb4464897d465c8627b0a10883a707": {
      "model_module": "@jupyter-widgets/controls",
      "model_module_version": "1.5.0",
      "model_name": "FloatProgressModel",
      "state": {
       "_dom_classes": [],
       "_model_module": "@jupyter-widgets/controls",
       "_model_module_version": "1.5.0",
       "_model_name": "FloatProgressModel",
       "_view_count": null,
       "_view_module": "@jupyter-widgets/controls",
       "_view_module_version": "1.5.0",
       "_view_name": "ProgressView",
       "bar_style": "",
       "description": "",
       "description_tooltip": null,
       "layout": "IPY_MODEL_7c81a414c53b46379bcf1d7e9948ef79",
       "max": 10000.0,
       "min": 0.0,
       "orientation": "horizontal",
       "style": "IPY_MODEL_5c01d7f439f84fac877949f317731ca7",
       "value": 0.0
      }
     },
     "e6ffa39763f548f9a04616a6fd2d3ea6": {
      "model_module": "@jupyter-widgets/controls",
      "model_module_version": "1.5.0",
      "model_name": "HBoxModel",
      "state": {
       "_dom_classes": [],
       "_model_module": "@jupyter-widgets/controls",
       "_model_module_version": "1.5.0",
       "_model_name": "HBoxModel",
       "_view_count": null,
       "_view_module": "@jupyter-widgets/controls",
       "_view_module_version": "1.5.0",
       "_view_name": "HBoxView",
       "box_style": "",
       "children": [
        "IPY_MODEL_5136259407954021a8384e5f4367e236",
        "IPY_MODEL_cb63e2f2b4e140f2ba77bf565dee812f",
        "IPY_MODEL_d73f8f24b32046c7b2c8f39f224cd793"
       ],
       "layout": "IPY_MODEL_0b6e5cec5e57476ca9edf42928f3f81d"
      }
     },
     "ed0855cfa7b04ab086e2471b07583b2b": {
      "model_module": "@jupyter-widgets/controls",
      "model_module_version": "1.5.0",
      "model_name": "DescriptionStyleModel",
      "state": {
       "_model_module": "@jupyter-widgets/controls",
       "_model_module_version": "1.5.0",
       "_model_name": "DescriptionStyleModel",
       "_view_count": null,
       "_view_module": "@jupyter-widgets/base",
       "_view_module_version": "1.2.0",
       "_view_name": "StyleView",
       "description_width": ""
      }
     },
     "f96a7bf26ff44addb3e7897e9ed882ba": {
      "model_module": "@jupyter-widgets/base",
      "model_module_version": "1.2.0",
      "model_name": "LayoutModel",
      "state": {
       "_model_module": "@jupyter-widgets/base",
       "_model_module_version": "1.2.0",
       "_model_name": "LayoutModel",
       "_view_count": null,
       "_view_module": "@jupyter-widgets/base",
       "_view_module_version": "1.2.0",
       "_view_name": "LayoutView",
       "align_content": null,
       "align_items": null,
       "align_self": null,
       "border": null,
       "bottom": null,
       "display": null,
       "flex": null,
       "flex_flow": null,
       "grid_area": null,
       "grid_auto_columns": null,
       "grid_auto_flow": null,
       "grid_auto_rows": null,
       "grid_column": null,
       "grid_gap": null,
       "grid_row": null,
       "grid_template_areas": null,
       "grid_template_columns": null,
       "grid_template_rows": null,
       "height": null,
       "justify_content": null,
       "justify_items": null,
       "left": null,
       "margin": null,
       "max_height": null,
       "max_width": null,
       "min_height": null,
       "min_width": null,
       "object_fit": null,
       "object_position": null,
       "order": null,
       "overflow": null,
       "overflow_x": null,
       "overflow_y": null,
       "padding": null,
       "right": null,
       "top": null,
       "visibility": null,
       "width": null
      }
     }
    },
    "version_major": 2,
    "version_minor": 0
   }
  }
 },
 "nbformat": 4,
 "nbformat_minor": 5
}