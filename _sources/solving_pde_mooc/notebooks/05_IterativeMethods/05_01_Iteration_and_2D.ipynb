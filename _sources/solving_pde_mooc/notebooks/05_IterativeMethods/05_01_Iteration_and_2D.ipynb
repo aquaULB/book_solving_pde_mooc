{
 "cells": [
  {
   "cell_type": "markdown",
   "metadata": {},
   "source": [
    "# Iteration methods\n",
    "\n",
    "\n",
    "## Introduction\n",
    "\n",
    "For convenience, we start by importing some modules needed below:"
   ]
  },
  {
   "cell_type": "code",
   "execution_count": 1,
   "metadata": {},
   "outputs": [],
   "source": [
    "import numpy as np\n",
    "import matplotlib.pyplot as plt\n",
    "from scipy.sparse import diags\n",
    "\n",
    "import sys\n",
    "sys.path.insert(0, '../modules')\n",
    "# Function to compute an error in L2 norm\n",
    "from norms import l2_diff\n",
    "\n",
    "%matplotlib inline\n",
    "\n",
    "plt.style.use('../styles/mainstyle.use')"
   ]
  },
  {
   "cell_type": "markdown",
   "metadata": {},
   "source": [
    "In the previous chapter we have discussed how to discretize two examples of partial differential equations: the one dimensional first order wave equation and the heat equation.\n",
    "\n",
    "For the heat equation, the stability criteria requires a strong restriction on the time step and implicit methods offer a significant reduction in computational cost compared to explicit methods. Their implementation is a bit more complicated in the sense that they require the inversion of a matrix. When the size of the matrix is not too large, one can rely on efficient direct solvers. However, for very large systems, matrix inversion becomes an expensive operation in terms of computational time and memory. This is especially true when solving multi-dimensional problems. Consider as an example the Poisson equation in three dimensions:\n",
    "\n",
    "```{math}\n",
    "    \\nabla^2 p(x,y,z)= \\frac{\\partial^2 p(x,y,z)}{\\partial x^2} + \\frac{\\partial^2 p(x,y,z)}{\\partial y^2} + \\frac{\\partial^2 p(x,y,z)}{\\partial z^2} = b(x,y,z)\n",
    "```\n",
    "\n",
    "where $p$ is the unknown function and $b$ is the right-hand side. To solve this equation using finite differences we need to introduce a three-dimensional grid. If the right-hand side term has sharp gradients, the number of grid points in each direction must be high in order to obtain an accurate solution. Say we need $1000$ points in each direction. That translates into a grid containing $1000\\times 1000\\times 1000$ grid points. We thus have $10^9$ (one billion) unknowns $p(x_i, y_k, z_l)$ in our problem. If we work in double precision, storing the solution requires approximatively $8$ Gb of memory. On modern desktop or laptop computers, this represents a significant amount of memory but it's not extravagant. If we now turn our  attention to the discretized matrix, this is a different story. As we have $10^9$ unknowns, the discretized Laplace operator in matrix form contains $10^9$ lines and $10^9$ columns for a total of $10^{18}$ entries! Allocating the memory to store such a matrix is therefore out of sight for even for the largest supercomputer available today (see the [list of world's largest supercomputers][51]). Fortunately, the matrix for the Laplace operator is *sparse* (see notebook `03_02_HigherOrderDerivative_and_Functions`). If we store only the non-zero elements of the matrix, the memory needed is drastically reduced. Even though direct solvers may take advantage of this, they are still pushed to their limits.\n",
    "\n",
    "We will further explain in more detail how to discretize partial differential equations in more than one dimension and introduce some of the simplest iterative solvers - the Jacobi and Gauss-Seidel iteration methods - to obtain the solution of the Poisson equation.\n",
    "\n",
    "[51]: <https://www.top500.org/lists/top500/> \"Largest supercomputers\"\n",
    "\n",
    "## Higher-dimensional discretizations\n",
    "\n",
    "### Discretization\n",
    "\n",
    "To make the discussion concrete, we focus on the Poisson equation in two dimensions:\n",
    "\n",
    "```{math}\n",
    ":label: eq:Poisson2D\n",
    "    \\nabla^2 p(x,y)= \\frac{\\partial^2 p(x,y)}{\\partial x^2} + \\frac{\\partial^2 p(x,y)}{\\partial y^2} = b(x,y)\n",
    "```\n",
    "\n",
    "We solve this equation in a rectangular domain defined by:\n",
    "\n",
    "```{math}\n",
    "x_0 \\leq x \\leq x_0+l_x\\;\\;\\;\\; y_0 \\leq y \\leq y_0+l_y\n",
    "```\n",
    "\n",
    "To close the problem, some boundary conditions are needed on the sides of the rectangles. They can be of three different types: Dirichlet, Neumann or Robin.\n",
    "\n",
    "To solve the equation numerically, we first need to introduce a 2D grid to hold our unknowns. It is a set of grid points, at which we evaluate all physical quantities. For simplicity we work with a uniform gird and the coordinates of our grid points are therefore:\n",
    "\n",
    "```{math}\n",
    " (x_i, y_j) = (x_0, y_0) + (i \\Delta x, j \\Delta y), \\; \\; 0\\leq i \\leq nx - 1,\\; 0\\leq  j \\leq ny - 1\n",
    "```\n",
    "\n",
    "with,\n",
    "\n",
    "```{math}\n",
    "    \\Delta x=\\frac{l_x}{nx-1}, \\;\\;\\;\\; \\Delta y=\\frac{l_y}{ny-1}.\n",
    "```\n",
    "\n",
    "Note that we don't necessarily take $nx=ny$ nor $\\Delta x =\\Delta y$ to allow for rectangular domains with anisotropic grid spacing.\n",
    "\n",
    "We thus have $nx\\times ny$ variables $p_{i,j} = p(x_i, y_j)$ distributed on the grid like this:\n",
    "\n",
    "<img width=\"500px\" src=\"../figures/2Dgrid.png\">\n",
    "\n",
    "The discretization of {eq}`eq:Poisson2D` using finite differences is straightforward if we discretize the two second-order derivatives along their respective directions. We then get:\n",
    "\n",
    "```{math}\n",
    ":label: eq:discPoisson2D\n",
    "    \\frac{p_{i-1,j}-2p_{i,j} + p_{i+1,j}}{\\Delta x^2} &+ \\frac{p_{i,j-1}-2p_{i,j} + p_{i,j+1}}{\\Delta y^2}= b_{i,j} \\\\\n",
    "    &\\Leftrightarrow \\nonumber \\\\\n",
    "    a p_{i-1,j} + cp_{i,j} + a &p_{i+1,j} + gp_{i,j-1}+ gp_{i,j+1} = b_{i,j} \\nonumber\n",
    "```\n",
    "\n",
    "with $a=\\displaystyle \\frac{1}{\\Delta x^2}$, $g=\\displaystyle \\frac{1}{\\Delta y^2}$, $c=\\displaystyle -\\frac{2}{\\Delta x^2}-\\frac{2}{\\Delta y^2}$.\n",
    "\n",
    "This equation is valid for any couple $(i,j)$ located away from the boundaries. At boundary nodes, the expression needs to be modified to take into account boundary conditions. To continue the discussion, we adopt *Dirichlet boundary conditions*:\n",
    "\n",
    "```{math}\n",
    "p_{0, j} = p_{nx-1, j} = 0\\;\\; \\forall j,\\;\\;p_{i,0} = p_{i,ny-1}=0\\;\\; \\forall i.\n",
    "```\n",
    "\n",
    "This implies that we have to solve a system containing a total of $(nx-2)\\times (ny-2)$ unknowns.\n",
    "If we want to represent this equation in matrix form, things get a bit more intricate. We need to store all the unknowns consecutively in a vector. Here we choose to order all grid points in *column-major order*. The first components of our vector are then $p_{1,1}, p_{2,1},\\ldots, p_{nx-2,1}$. The list then goes on with $p_{1,2}, p_{2,2},\\ldots, p_{nx-2,2}$ and so on until we reach the last components $p_{1,ny-2}, p_{2,ny-2},\\ldots, p_{nx-2,ny-2}$. The index of any unknown $p_{i,j}$ in this vector is therefore $(i-1)+(j-1)\\times (nx-2)$.\n",
    "\n",
    "Let's take for example $nx=ny=6$. The system of equations {eq}`eq:discPoisson2D` may then be written as:\n",
    "\n",
    "```{math}\n",
    "    \\left(\n",
    "      \\begin{array}{*{16}c}\n",
    "        c & a &   &   & g &   &   &   &   &   &   &   &   &   &   &   \\\\\n",
    "        a & c & a &   &   & g &   &   &   &   &   &   &   &   &   &   \\\\\n",
    "          & a & c & a &   &   & g &   &   &   &   &   &   &   &   &   \\\\\n",
    "          &   & a & c &   &   &   & g &   &   &   &   &   &   &   &   \\\\\n",
    "          g & &   &   & c & a &   &   & g &   &   &   &   &   &   &   \\\\\n",
    "          & g &   &   & a & c & a &   &   & g &   &   &   &   &   &   \\\\\n",
    "          &   & g &   &   & a & c & a &   &   & g &   &   &   &   &   \\\\\n",
    "          &   &   & g &   &   & a & c &   &   &   & g &   &   &   &   \\\\\n",
    "          &   &   &   & g &   &   &   & c & a &   &   & g &   &   &   \\\\\n",
    "          &   &   &   &   & g &   &   & a & c & a &   &   & g &   &   \\\\\n",
    "          &   &   &   &   &   & g &   &   & a & c & a &   &   & g &   \\\\\n",
    "          &   &   &   &   &   &   & g &   &   & a & c &   &   &   & g \\\\\n",
    "          &   &   &   &   &   &   &   & g &   &   &   & c & a &   &   \\\\\n",
    "          &   &   &   &   &   &   &   &   & g &   &   & a & c & a &   \\\\\n",
    "          &   &   &   &   &   &   &   &   &   & g &   &   & a & c & a \\\\\n",
    "          &   &   &   &   &   &   &   &   &   &   & g &   &   & a & c\n",
    "      \\end{array}\n",
    "    \\right)\n",
    "    \\left(\n",
    "      \\begin{array}{*{1}c}\n",
    "        p_{1,1} \\\\ p_{2,1} \\\\  p_{3,1} \\\\ p_{4,1} \\\\ p_{1,2} \\\\ p_{2,2}  \\\\  p_{3,2} \\\\  p_{4,2} \\\\  p_{1,3} \\\\  p_{2,3} \\\\ p_{3,3}  \\\\  p_{4,3} \\\\  p_{1,4} \\\\  p_{2,4} \\\\ p_{3,4}  \\\\  p_{4,4}\n",
    "      \\end{array}\n",
    "    \\right)\n",
    "    =\n",
    "    \\left(\n",
    "      \\begin{array}{*{1}c}\n",
    "        b_{1,1} \\\\ b_{2,1} \\\\  b_{3,1} \\\\ b_{4,1} \\\\ b_{1,2} \\\\ b_{2,2}  \\\\  b_{3,2} \\\\  b_{4,2} \\\\  b_{1,3} \\\\  b_{2,3} \\\\ b_{3,3}  \\\\  b_{4,3} \\\\  b_{1,4} \\\\  b_{2,4} \\\\ b_{3,4}  \\\\  b_{4,4}\n",
    "      \\end{array}\n",
    "    \\right)\n",
    "```\n",
    "\n",
    "All the blank areas are filled fill zeros and the matrix is sparse. Pay attention to the extra zeros on the diagonals that occur because of the boundary conditions.\n",
    "\n",
    "As we did in the one dimensional case, we can graphically represent the stencil we are using. Assuming that $\\Delta x=\\Delta y$, the stencil we just introduced looks like:\n",
    "\n",
    "<img width=\"300px\" src=\"../figures/2Dstencil5pt.png\">\n",
    "\n",
    "The factor $\\frac{1}{\\Delta x^2}$ in the drawing is there to remind you that all the values in the stencil need to be divided by this factor to get the correct finite difference formula.\n",
    "\n",
    "Note that several other stencils are possible. If we had adopted fourth-order accurate centered finite differences, the stencil would be:\n",
    "\n",
    "<img width=\"350px\" src=\"../figures/2Dstencil4th.png\">\n",
    "\n",
    "But there are also some more complex possibilities in which one uses more neighbouring grid points around the central grid point:\n",
    "\n",
    "<img width=\"300px\" src=\"../figures/2Dstencil9pt.png\">\n",
    "\n",
    "With more points in the stencil, we would expect to achieve higher-order accuracy. For the Poisson equation, the last stencil is in fact only second-order accurate. But it is fourth-order accurate for the Laplace equation {cite}`iserles2008`."
   ]
  },
  {
   "cell_type": "markdown",
   "metadata": {},
   "source": [
    "### Direct inversion\n",
    "\n",
    "As an example, let us solve the Poisson equation in the domain $\\displaystyle [0, 1]\\times [-\\frac12, \\frac12]$ using one of `scipy` built-in routines with the following right-hand side term:\n",
    "\n",
    "```{math}\n",
    "b = \\sin(\\pi x) \\cos(\\pi y) + \\sin(5\\pi x) \\cos(5\\pi y)\n",
    "```\n",
    "\n",
    "The exact solution of the equation is:\n",
    "\n",
    "```{math}\n",
    "p_e = -\\frac{1}{2\\pi^2}\\sin(\\pi x) \\cos(\\pi y) -\\frac{1}{50\\pi^2}\\sin(5\\pi x) \\cos(5\\pi y)\n",
    "```"
   ]
  },
  {
   "cell_type": "markdown",
   "metadata": {},
   "source": [
    "Let's define some grid parameters for the numerical discretization."
   ]
  },
  {
   "cell_type": "code",
   "execution_count": 2,
   "metadata": {},
   "outputs": [],
   "source": [
    "# Grid parameters.\n",
    "nx = 101                  # number of points in the x direction\n",
    "ny = 101                  # number of points in the y direction\n",
    "xmin, xmax = 0.0, 1.0     # limits in the x direction\n",
    "ymin, ymax = -0.5, 0.5    # limits in the y direction\n",
    "lx = xmax - xmin          # domain length in the x direction\n",
    "ly = ymax - ymin          # domain length in the y direction\n",
    "dx = lx / (nx-1)          # grid spacing in the x direction\n",
    "dy = ly / (ny-1)          # grid spacing in the y direction"
   ]
  },
  {
   "cell_type": "markdown",
   "metadata": {},
   "source": [
    "We now create the grid, the right-hand side of the equation and allocate an array to store the solution."
   ]
  },
  {
   "cell_type": "code",
   "execution_count": 3,
   "metadata": {},
   "outputs": [],
   "source": [
    "# Create the gridline locations and the mesh grid;\n",
    "# see notebook 02_02_Runge_Kutta for more details\n",
    "x = np.linspace(xmin, xmax, nx)\n",
    "y = np.linspace(ymin, ymax, ny)\n",
    "# We pass the argument `indexing='ij'` to np.meshgrid\n",
    "# as x and y should be associated respectively with the\n",
    "# rows and columns of X, Y.\n",
    "X, Y = np.meshgrid(x, y, indexing='ij')\n",
    "\n",
    "# Compute the rhs. Note that we non-dimensionalize the coordinates\n",
    "# x and y with the size of the domain in their respective dire-\n",
    "# ctions.\n",
    "b = (np.sin(np.pi*X)*np.cos(np.pi*Y)\n",
    "  + np.sin(5.0*np.pi*X)*np.cos(5.0*np.pi*Y))\n",
    "\n",
    "# b is currently a 2D array. We need to convert it to a column-major\n",
    "# ordered 1D array. This is done with the flatten numpy function.\n",
    "# We use the parameter 'F' to specify that we want want column-major\n",
    "# ordering. The letter 'F' is used because this is the natural\n",
    "# ordering of the popular Fortran language. For row-major\n",
    "# ordering you can pass 'C' as paremeter, which is the natural\n",
    "# ordering for the C language.\n",
    "# More info\n",
    "# https://numpy.org/doc/stable/reference/generated/numpy.ndarray.flatten.html\n",
    "bflat = b[1:-1, 1:-1].flatten('F')\n",
    "\n",
    "# Allocate array for the (full) solution, including boundary values\n",
    "p = np.empty((nx, ny))"
   ]
  },
  {
   "cell_type": "markdown",
   "metadata": {},
   "source": [
    "In the following two cells, we define a routine to construct the differential matrix (using again the `diags`routine from the `scipy.sparse` module) and a routine to compute the exact solution."
   ]
  },
  {
   "cell_type": "code",
   "execution_count": 4,
   "metadata": {},
   "outputs": [],
   "source": [
    "def d2_mat_dirichlet_2d(nx, ny, dx, dy):\n",
    "    \"\"\"\n",
    "    Constructs the matrix for the centered second-order accurate\n",
    "    second-order derivative for Dirichlet boundary conditions in 2D\n",
    "\n",
    "    Parameters\n",
    "    ----------\n",
    "    nx : integer\n",
    "        number of grid points in the x direction\n",
    "    ny : integer\n",
    "        number of grid points in the y direction\n",
    "    dx : float\n",
    "        grid spacing in the x direction\n",
    "    dy : float\n",
    "        grid spacing in the y direction\n",
    "\n",
    "    Returns\n",
    "    -------\n",
    "    d2mat : numpy.ndarray\n",
    "        matrix to compute the centered second-order accurate first-order deri-\n",
    "        vative with Dirichlet boundary conditions\n",
    "    \"\"\"\n",
    "    a = 1.0 / dx**2\n",
    "    g = 1.0 / dy**2\n",
    "    c = -2.0*a - 2.0*g\n",
    "\n",
    "    diag_a = a * np.ones((nx-2)*(ny-2)-1)\n",
    "    diag_a[nx-3::nx-2] = 0.0\n",
    "    diag_g = g * np.ones((nx-2)*(ny-3))\n",
    "    diag_c = c * np.ones((nx-2)*(ny-2))\n",
    "\n",
    "    # We construct a sequence of main diagonal elements,\n",
    "    diagonals = [diag_g, diag_a, diag_c, diag_a, diag_g]\n",
    "    # and a sequence of positions of the diagonal entries relative to the main\n",
    "    # diagonal.\n",
    "    offsets = [-(nx-2), -1, 0, 1, nx-2]\n",
    "\n",
    "    # Call to the diags routine; note that diags return a representation of the\n",
    "    # array; to explicitly obtain its ndarray realisation, the call to .toarray()\n",
    "    # is needed. Note how the matrix has dimensions (nx-2)*(nx-2).\n",
    "    d2mat = diags(diagonals, offsets).toarray()\n",
    "\n",
    "    # Return the final array\n",
    "    return d2mat"
   ]
  },
  {
   "cell_type": "code",
   "execution_count": 5,
   "metadata": {},
   "outputs": [],
   "source": [
    "def p_exact_2d(X, Y):\n",
    "    \"\"\"Computes the exact solution of the Poisson equation in the domain\n",
    "    [0, 1]x[-0.5, 0.5] with rhs:\n",
    "    b = (np.sin(np.pi * X) * np.cos(np.pi * Y) +\n",
    "    np.sin(5.0 * np.pi * X) * np.cos(5.0 * np.pi * Y))\n",
    "\n",
    "    Parameters\n",
    "    ----------\n",
    "    X : numpy.ndarray\n",
    "        array of x coordinates for all grid points\n",
    "    Y : numpy.ndarray\n",
    "        array of y coordinates for all grid points\n",
    "\n",
    "    Returns\n",
    "    -------\n",
    "    sol : numpy.ndarray\n",
    "        exact solution of the Poisson equation\n",
    "    \"\"\"\n",
    "\n",
    "    sol = (-1.0/(2.0*np.pi**2)*np.sin(np.pi*X)*np.cos(np.pi*Y)\n",
    "        - 1.0/(50.0*np.pi**2)*np.sin(5.0*np.pi*X)*np.cos(5.0*np.pi*Y))\n",
    "\n",
    "    return sol"
   ]
  },
  {
   "cell_type": "markdown",
   "metadata": {},
   "source": [
    "We now build the matrix, invert it, and compute the solution. We also store the exact solution in the variable `p_e`."
   ]
  },
  {
   "cell_type": "code",
   "execution_count": 6,
   "metadata": {},
   "outputs": [],
   "source": [
    "A = d2_mat_dirichlet_2d(nx, ny, dx, dy)\n",
    "Ainv = np.linalg.inv(A)\n",
    "\n",
    "# The numerical solution is obtained by performing\n",
    "# the multiplication A^{-1}*b. This returns a vector\n",
    "# in column-major ordering. To convert it back to a 2D array\n",
    "# that is of the form p(x,y) we pass it immediately to\n",
    "# the reshape function.\n",
    "# For more info:\n",
    "# https://numpy.org/doc/stable/reference/generated/numpy.reshape.html\n",
    "#\n",
    "# Note that we have specified the array dimensions nx-2,\n",
    "# ny-2 and passed 'F' as the value for the 'order' argument.\n",
    "# This indicates that we are working with a vector in column-major order\n",
    "# as standard in the Fortran programming language.\n",
    "pvec = np.reshape(np.dot(Ainv, bflat), (nx-2, ny-2), order='F')\n",
    "\n",
    "# Construct the full solution and apply boundary conditions\n",
    "p[1:-1, 1:-1] = pvec\n",
    "p[0, :] = 0\n",
    "p[-1, :] = 0\n",
    "p[:, 0] = 0\n",
    "p[:, -1] = 0\n",
    "\n",
    "# Compute the exact solution\n",
    "p_e = p_exact_2d(X, Y)"
   ]
  },
  {
   "cell_type": "markdown",
   "metadata": {},
   "source": [
    "At the beginning of the notebook, we have imported the `l2_diff` function from our module file `module.py`. Let's use it to assess the precision of our solution:"
   ]
  },
  {
   "cell_type": "code",
   "execution_count": 7,
   "metadata": {},
   "outputs": [
    {
     "name": "stdout",
     "output_type": "stream",
     "text": [
      "The l2 difference between the computed solution and the exact solution is:\n",
      "2.890080055927166e-08\n"
     ]
    }
   ],
   "source": [
    "diff = l2_diff(p, p_e)\n",
    "print(f'The l2 difference between the computed solution '\n",
    "      f'and the exact solution is:\\n{diff}')"
   ]
  },
  {
   "cell_type": "markdown",
   "metadata": {},
   "source": [
    "We can represent graphically the exact solution and the computed solution in contour plots and compare them along one line in the computational domain:"
   ]
  },
  {
   "cell_type": "code",
   "execution_count": 8,
   "metadata": {},
   "outputs": [
    {
     "data": {
      "image/png": "[encoded data removed]",
      "text/plain": [
       "<Figure size 1152x360 with 3 Axes>"
      ]
     },
     "metadata": {
      "filenames": {
       "image/png": "/Users/bknaepen/Documents/Bernard/Workspace/Teaching/MATH-F314/courseMaterial/book_solving_pde_mooc/_build/jupyter_execute/solving_pde_mooc/notebooks/05_IterativeMethods/05_01_Iteration_and_2D_16_0.png"
      },
      "needs_background": "light"
     },
     "output_type": "display_data"
    }
   ],
   "source": [
    "fig, (ax_1, ax_2, ax_3) = plt.subplots(1, 3, figsize=(16,5))\n",
    "# We shall now use the\n",
    "# matplotlib.pyplot.contourf function.\n",
    "# As X and Y, we pass the mesh data.\n",
    "#\n",
    "# For more info\n",
    "# https://matplotlib.org/3.1.1/api/_as_gen/matplotlib.pyplot.contourf.html\n",
    "#\n",
    "ax_1.contourf(X, Y, p_e, 20)\n",
    "ax_2.contourf(X, Y, p, 20)\n",
    "\n",
    "# plot along the line y=0:\n",
    "jc = int(ly/(2*dy))\n",
    "ax_3.plot(x, p_e[:,jc], '*', color='red', markevery=2, label=r'$p_e$')\n",
    "ax_3.plot(x, p[:,jc], label=r'$p$')\n",
    "\n",
    "# add some labels and titles\n",
    "ax_1.set_xlabel(r'$x$')\n",
    "ax_1.set_ylabel(r'$y$')\n",
    "ax_1.set_title('Exact solution')\n",
    "\n",
    "ax_2.set_xlabel(r'$x$')\n",
    "ax_2.set_ylabel(r'$y$')\n",
    "ax_2.set_title('Numerical solution')\n",
    "\n",
    "ax_3.set_xlabel(r'$x$')\n",
    "ax_3.set_ylabel(r'$p$')\n",
    "ax_3.set_title(r'$p(x,0)$')\n",
    "\n",
    "ax_3.legend();"
   ]
  },
  {
   "cell_type": "markdown",
   "metadata": {},
   "source": [
    "We have collected some conclusive evidence that our procedure worked very nicely!\n",
    "\n",
    "There is however a significant drawback. If you want to increase the precision, you need to refine the grid. But beware, on a fairly recent Macbook Pro with $16$ Gb of memory, the computation literally stalled when the number of grid points in both direction was multiplied by $2$. We therefore need another way of handling this type of problems."
   ]
  },
  {
   "cell_type": "markdown",
   "metadata": {},
   "source": [
    "## Jacobi method\n",
    "\n",
    "In the previous section we have solved the Poisson equation by inverting the discretized Laplace operator. This requires the explicit construction of the corresponding matrix and incurs a high storage cost associated with the computation of the inverse matrix. In this section we follow a radically different strategy and introduce a simple iterative method: the Jacobi method.\n",
    "\n",
    "Let's go back to our discretised Poisson equation. To simplify the notation, we assume here that $\\Delta x=\\Delta y = \\Delta$; the extension to the more general case is quite simple.\n",
    "\n",
    "If we isolate $p_{i,j}$ in equation {eq}`eq:discPoisson2D` we get:\n",
    "\n",
    "```{math}\n",
    ":label: eq:iterSolPoisson\n",
    "p_{i,j}=\\frac14(p_{i-1,j}+p_{i+1,j}+p_{i,j-1}+p_{i,j+1})-\\frac14b_{i,j}\\Delta^2\n",
    "```\n",
    "\n",
    "In other words, the value of the solution of the discretized Poisson equation at any grid point must be equal to its average computed at all other grid points in the stencil, plus a contribution from the source term.\n",
    "\n",
    "Imagine we pick any initial guess $p^0_{i,j}$ for the solution we are seeking. Except if we are extremely lucky it will not satisfy {eq}`eq:iterSolPoisson`. However we can compute an *updated* value,\n",
    "\n",
    "```{math}\n",
    "    p^1_{i,j}=\\frac14(p^0_{i-1,j}+p^0_{i+1,j}+p^0_{i,j-1}+p^0_{i,j+1})-\\frac14b_{i,j}\\Delta^2\n",
    "```\n",
    "\n",
    "Again, unless we are extremely lucky, the updated value $p^1_{i,j}$ will not satisfy {eq}`eq:iterSolPoisson` but maybe it will get closer. The idea behind iterative methods is to continue this process until the updated values converge to the desired solution.\n",
    "\n",
    "The simple iterative procedure we outlined above is called the Jacobi method. Below we will prove mathematically that for the Poisson equation it does indeed converge to the exact solution. Here we will implement it and empirically observe that this is the case for our toy problem.\n",
    "\n",
    "In the Jacobi method, the iterated value is computed as follows:\n",
    "\n",
    "```{math}\n",
    ":label: eq:iterkSolPoisson\n",
    "p^{k+1}_{i,j}=\\frac14(p^k_{i-1,j}+p^k_{i+1,j}+p^k_{i,j-1}+p^k_{i,j+1})-\\frac14b_{i,j}\\Delta^2\n",
    "```\n",
    "\n",
    "There is of course no exact way to determine if we have performed enough iterations. However, if the iterative method is able to solve the equation, the difference between too successive iterated values should become increasingly small, as we converge to the exact solution. We will therefore adopt the same strategy as the one we used for the grid convergence study. We will measure the difference in $L2$-norm between $p^{k+1}$ and $p^k$ and stop iterating once it falls below a given values."
   ]
  },
  {
   "cell_type": "markdown",
   "metadata": {},
   "source": [
    "Let's now implement and describe the algorithm. We first copy/paste our grid parameters so that we can easily change them here:"
   ]
  },
  {
   "cell_type": "code",
   "execution_count": 9,
   "metadata": {},
   "outputs": [],
   "source": [
    "# Grid parameters.\n",
    "nx = 101                  # number of points in the x direction\n",
    "ny = 101                  # number of points in the y direction\n",
    "xmin, xmax = 0.0, 1.0     # limits in the x direction\n",
    "ymin, ymax = -0.5, 0.5    # limits in the y direction\n",
    "lx = xmax - xmin          # domain length in the x direction\n",
    "ly = ymax - ymin          # domain length in the y direction\n",
    "dx = lx / (nx-1)          # grid spacing in the x direction\n",
    "dy = ly / (ny-1)          # grid spacing in the y direction\n",
    "\n",
    "# Create the gridline locations and the mesh grid;\n",
    "# see notebook 02_02_Runge_Kutta for more details\n",
    "x = np.linspace(xmin, xmax, nx)\n",
    "y = np.linspace(ymin, ymax, ny)\n",
    "X, Y = np.meshgrid(x, y, indexing='ij')\n",
    "\n",
    "# Compute the rhs\n",
    "b = (np.sin(np.pi*X)*np.cos(np.pi*Y)\n",
    "  + np.sin(5.0*np.pi*X)*np.cos(5.0*np.pi*Y))\n",
    "\n",
    "# Compute the exact solution\n",
    "p_e = p_exact_2d(X, Y)"
   ]
  },
  {
   "cell_type": "markdown",
   "metadata": {},
   "source": [
    "For the initial guess of the Jacobi iteration we simply choose $p^0 = 0$:"
   ]
  },
  {
   "cell_type": "code",
   "execution_count": 10,
   "metadata": {},
   "outputs": [],
   "source": [
    "p0 = np.zeros((nx, ny))\n",
    "pnew = p0.copy()"
   ]
  },
  {
   "cell_type": "markdown",
   "metadata": {},
   "source": [
    "We then iterate using a `while` loop and stop the loop once the $L2$-norm gets smaller than the desired tolerance. We also add a break statement to exit the loop if the number of iterations exceeds the limit we set."
   ]
  },
  {
   "cell_type": "code",
   "execution_count": 11,
   "metadata": {},
   "outputs": [],
   "source": [
    "tolerance = 1e-10\n",
    "max_it = 100000"
   ]
  },
  {
   "cell_type": "markdown",
   "metadata": {},
   "source": [
    "When your programs might take an extended time to execute, it is useful to add a progress bar while it executes. A nice Python package that provides this functionality without adding a significant overhead to the execution time is `tqdm` (you may want to check out its [documentation][51]). To use it, you first have to install it in your Python environment (if it's not already done). To do so, open a terminal and type the following commands:\n",
    "\n",
    "```\n",
    "conda activate course\n",
    "conda install -c conda-forge tqdm\n",
    "```\n",
    "\n",
    "To use `tqdm` in `jupyter` notebooks, you also need a dependency called `pywidgets`. Depending on your installation, it might already be present in your environment. You can check if it appears in the output of the following command:\n",
    "```\n",
    "conda list\n",
    "```\n",
    "If it doesn't, install it by running:\n",
    "\n",
    "```\n",
    "conda install -c conda-forge ipywidgets\n",
    "```\n",
    "\n",
    "You should then close this notebook and relaunch it to make the package available. After that, you can import the submodule of `tqdm`that we are goind to use:\n",
    "\n",
    "[51]: <https://tqdm.github.io> \"TQDM documentation\""
   ]
  },
  {
   "cell_type": "code",
   "execution_count": 12,
   "metadata": {},
   "outputs": [],
   "source": [
    "from tqdm.notebook import tqdm"
   ]
  },
  {
   "cell_type": "markdown",
   "metadata": {},
   "source": [
    "In your notebook, a progress bar can then be created by calling the `tqdm()`function. We pass the `max_it` argument as the `total` number of iterations so that `tqdm`knows how to size the progress bar. We also change the default prefix legend for the progress bar to be more informative. Then we can iterate towards the solution:"
   ]
  },
  {
   "cell_type": "code",
   "execution_count": 13,
   "metadata": {},
   "outputs": [
    {
     "data": {
      "application/vnd.jupyter.widget-view+json": {
       "model_id": "1362cac8cc73415cb7cd820f21d2f5e3",
       "version_major": 2,
       "version_minor": 0
      },
      "text/plain": [
       "HBox(children=(HTML(value=''), FloatProgress(value=0.0, max=100000.0), HTML(value='')))"
      ]
     },
     "metadata": {},
     "output_type": "display_data"
    },
    {
     "name": "stdout",
     "output_type": "stream",
     "text": [
      "\n",
      "The solution converged after 14409 iterations\n"
     ]
    }
   ],
   "source": [
    "pbar = tqdm(total=max_it)\n",
    "pbar.set_description(\"it / max_it\");\n",
    "\n",
    "# Let's iterate...\n",
    "\n",
    "it = 0 # iteration counter\n",
    "diff = 1.0\n",
    "tol_hist_jac = []\n",
    "\n",
    "while (diff > tolerance):\n",
    "    if it > max_it:\n",
    "        print('\\nSolution did not converged within the maximum'\n",
    "              ' number of iterations'\n",
    "              f'\\nLast l2_diff was: {diff:.5e}')\n",
    "        break\n",
    "\n",
    "    np.copyto(p, pnew)\n",
    "    # We only modify interior nodes. The boundary nodes remain equal to\n",
    "    # zero and the Dirichlet boundary conditions are therefore automatically\n",
    "    # enforced.\n",
    "    pnew[1:-1, 1:-1] = (0.25*(p[:-2, 1:-1]+p[2:, 1:-1]+p[1:-1, :-2]\n",
    "                     + p[1:-1, 2:]-b[1:-1, 1:-1]*dx**2))\n",
    "\n",
    "    diff = l2_diff(pnew, p)\n",
    "    tol_hist_jac.append(diff)\n",
    "\n",
    "    it += 1\n",
    "    # We update our progress bar\n",
    "    pbar.update(1)\n",
    "\n",
    "else:\n",
    "    print(f'\\nThe solution converged after {it} iterations')\n",
    "\n",
    "# When the progress bar will not be used\n",
    "# further, it has to be closed\n",
    "del(pbar)"
   ]
  },
  {
   "cell_type": "markdown",
   "metadata": {},
   "source": [
    "We can measure the accuracy of our solution with the same diagnostics as above."
   ]
  },
  {
   "cell_type": "code",
   "execution_count": 14,
   "metadata": {},
   "outputs": [
    {
     "name": "stdout",
     "output_type": "stream",
     "text": [
      "The l2 difference between the computed solution and the exact solution is:\n",
      "1.83232195168421e-07\n"
     ]
    }
   ],
   "source": [
    "diff = l2_diff(pnew, p_e)\n",
    "print(f'The l2 difference between the computed solution and '\n",
    "      f'the exact solution is:\\n{diff}')"
   ]
  },
  {
   "cell_type": "code",
   "execution_count": 15,
   "metadata": {},
   "outputs": [
    {
     "name": "stdout",
     "output_type": "stream",
     "text": [
      "\n"
     ]
    },
    {
     "data": {
      "image/png": "[encoded data removed]",
      "text/plain": [
       "<Figure size 1152x360 with 3 Axes>"
      ]
     },
     "metadata": {
      "filenames": {
       "image/png": "/Users/bknaepen/Documents/Bernard/Workspace/Teaching/MATH-F314/courseMaterial/book_solving_pde_mooc/_build/jupyter_execute/solving_pde_mooc/notebooks/05_IterativeMethods/05_01_Iteration_and_2D_31_1.png"
      },
      "needs_background": "light"
     },
     "output_type": "display_data"
    }
   ],
   "source": [
    "fig, (ax_1, ax_2, ax_3) = plt.subplots(1, 3, figsize=(16,5))\n",
    "# We shall now use the\n",
    "# matplotlib.pyplot.contourf function.\n",
    "# As X and Y, we pass the mesh data.\n",
    "#\n",
    "# For more info\n",
    "# https://matplotlib.org/3.1.1/api/_as_gen/matplotlib.pyplot.contourf.html\n",
    "#\n",
    "ax_1.contourf(X, Y, pnew, 20)\n",
    "ax_2.contourf(X, Y, p_e, 20)\n",
    "\n",
    "# plot along the line y=0:\n",
    "jc = int(ly/(2*dy))\n",
    "ax_3.plot(x, p_e[:,jc], '*', color='red', markevery=2, label=r'$p_e$')\n",
    "ax_3.plot(x, pnew[:,jc], label=r'$pnew$')\n",
    "\n",
    "# add some labels and titles\n",
    "ax_1.set_xlabel(r'$x$')\n",
    "ax_1.set_ylabel(r'$y$')\n",
    "ax_1.set_title('Exact solution')\n",
    "\n",
    "ax_2.set_xlabel(r'$x$')\n",
    "ax_2.set_ylabel(r'$y$')\n",
    "ax_2.set_title('Numerical solution')\n",
    "\n",
    "ax_3.set_xlabel(r'$x$')\n",
    "ax_3.set_ylabel(r'$p$')\n",
    "ax_3.set_title(r'$p(x,0)$')\n",
    "\n",
    "ax_3.legend();"
   ]
  },
  {
   "cell_type": "markdown",
   "metadata": {},
   "source": [
    "Note that to achieve this $L2$ precision we used a tolerance of $10^{-10}$. Be careful not to confuse the accuracy of the solution and the tolerance. One measures the quality of the solution and the other is just a stop criteria for the iteration method. To achieve the accuracy of the direct solver, one can reduce the tolerance to even smaller values.\n",
    "\n",
    "A last diagnostic we report here is the sequence of the `l2_diff` during the iterative procedure. It shows how `l2_diff` progressively decays below the desired tolerance."
   ]
  },
  {
   "cell_type": "code",
   "execution_count": 16,
   "metadata": {},
   "outputs": [
    {
     "data": {
      "image/png": "[encoded data removed]",
      "text/plain": [
       "<Figure size 720x360 with 1 Axes>"
      ]
     },
     "metadata": {
      "filenames": {
       "image/png": "/Users/bknaepen/Documents/Bernard/Workspace/Teaching/MATH-F314/courseMaterial/book_solving_pde_mooc/_build/jupyter_execute/solving_pde_mooc/notebooks/05_IterativeMethods/05_01_Iteration_and_2D_33_0.png"
      },
      "needs_background": "light"
     },
     "output_type": "display_data"
    }
   ],
   "source": [
    "fig, ax = plt.subplots(figsize=(10, 5))\n",
    "ax.semilogy(tol_hist_jac)\n",
    "\n",
    "# We set labels of x axis and y axis.\n",
    "ax.set_xlabel('iteration')\n",
    "ax.set_ylabel('l2_diff')\n",
    "ax.set_title('l2_diff decay');"
   ]
  },
  {
   "cell_type": "markdown",
   "metadata": {},
   "source": [
    "For the problem considered, we observe that the tolerance decreases smoothly (in semi-log scale) during the iterative procedure. But this is not systematic for all iterative methods, the decay may more erratic in some cases.\n",
    "\n",
    "Now the good news. You may safely repeat the above iteration method with larger values of `nx` or `ny`. Multiplying those values by 2 or 3 will likely not exhaust your computer."
   ]
  },
  {
   "cell_type": "markdown",
   "metadata": {},
   "source": [
    "## Gauss-Seidel method"
   ]
  },
  {
   "cell_type": "markdown",
   "metadata": {},
   "source": [
    "For the Jacobi method we made use of `numpy` slicing and array operations to avoid Python loops. If we had performed the looping explicitly, we could have done it like this:\n",
    "\n",
    "```python\n",
    "for j in range(1, ny-1):\n",
    "        for i in range(1, nx-1):\n",
    "            pnew[i, j] = (0.25 * (p[i-1, j]+p[i+1, j]+p[i, j-1]\n",
    "                       + p[i, j+1]-b[i, j]*dx**2))\n",
    "```\n",
    "\n",
    "Note how we are looping in column-major order. For each value of `j`, the inner loops updates `i` from `1` to `nx-1` before proceeding to the next value of `j`. Graphically, the loops scan the domain in this order:\n",
    "\n",
    "<img width=\"450px\" src=\"../figures/GSgrid_e.png\">"
   ]
  },
  {
   "cell_type": "markdown",
   "metadata": {},
   "source": [
    "In the Gauss-Seidel method, one takes advantage of this looping order to use updated values as soon as they become available. The iteration procedure then reads:\n",
    "\n",
    "```{math}\n",
    ":label: eq:iterkSolGS\n",
    "p^{k+1}_{i,j}=\\frac14(p^{k+1}_{i-1,j}+p^k_{i+1,j}+p^{k+1}_{i,j-1}+p^k_{i,j+1})-\\frac14b_{i,j}\\Delta^2\n",
    "```"
   ]
  },
  {
   "cell_type": "markdown",
   "metadata": {},
   "source": [
    "This strategy allows to cut the number of iterations by a factor of $2$! Unfortunately, the algorithm requires to explicitly perform the loops and we know that if we do this using Python loops, our code will slow down considerably. For example, solving the same problem as earlier using the Gauss-Seidel algorithm takes about 2.5 minutes on a fairly recent MacBook Pro whereas the Jacobi method took a few seconds.\n",
    "\n",
    "So you might think that the Gauss-Seidel method is completely useless. But if we could speedup the Python loops somehow, we could benefit from the fewer iterations. In the third notebook of this chapter we will show you a simple way to do this and make the Gauss-Seidel method achieve full potential.\n",
    "\n",
    "Let's solve our problem with the Gauss-Seidel method, **but beware**, it will take some time..."
   ]
  },
  {
   "cell_type": "code",
   "execution_count": 17,
   "metadata": {},
   "outputs": [],
   "source": [
    "tolerance = 1e-10\n",
    "max_iter = 10000\n",
    "\n",
    "p0 = np.zeros((nx, ny))\n",
    "pnew = p0.copy()"
   ]
  },
  {
   "cell_type": "code",
   "execution_count": 18,
   "metadata": {},
   "outputs": [
    {
     "data": {
      "application/vnd.jupyter.widget-view+json": {
       "model_id": "6859f83163a847b0a97510618ca37ad9",
       "version_major": 2,
       "version_minor": 0
      },
      "text/plain": [
       "HBox(children=(HTML(value=''), FloatProgress(value=0.0, max=100000.0), HTML(value='')))"
      ]
     },
     "metadata": {},
     "output_type": "display_data"
    },
    {
     "name": "stdout",
     "output_type": "stream",
     "text": [
      "\n",
      "The solution converged after 7908 iterations\n"
     ]
    }
   ],
   "source": [
    "pbar = tqdm(total=max_it)\n",
    "pbar.set_description(\"it / max_it\")\n",
    "\n",
    "it = 0 # iteration counter\n",
    "diff = 1.0\n",
    "tol_hist_gs = []\n",
    "while (diff > tolerance):\n",
    "    if it > max_it:\n",
    "        print('\\nSolution did not converged within the maximum'\n",
    "              ' number of iterations'\n",
    "              f'\\nLast l2_diff was: {diff:.5e}')\n",
    "        break\n",
    "\n",
    "    np.copyto(p, pnew)\n",
    "\n",
    "    # We only modify interior nodes. The boundary nodes remain equal to\n",
    "    # zero and the Dirichlet boundary conditions are therefore automatically\n",
    "    # enforced.\n",
    "    for j in range(1, ny-1):\n",
    "        for i in range(1, nx-1):\n",
    "            pnew[i, j] = (0.25 * (pnew[i-1, j]+p[i+1, j]+pnew[i, j-1]\n",
    "                       + p[i, j+1]-b[i, j]*dx**2))\n",
    "\n",
    "    diff = l2_diff(pnew, p)\n",
    "    tol_hist_gs.append(diff)\n",
    "\n",
    "    it += 1\n",
    "    pbar.update(1)\n",
    "\n",
    "else:\n",
    "    print(f'\\nThe solution converged after {it} iterations')\n",
    "\n",
    "del(pbar)"
   ]
  },
  {
   "cell_type": "markdown",
   "metadata": {},
   "source": [
    "The number of iterations was indeed cut by approximately a factor of $2$. We can even compare how `l2_diff` decreases during the iteration procedure and compare the output with the Jacobi method:"
   ]
  },
  {
   "cell_type": "code",
   "execution_count": 19,
   "metadata": {},
   "outputs": [
    {
     "name": "stdout",
     "output_type": "stream",
     "text": [
      "\n"
     ]
    },
    {
     "data": {
      "image/png": "[encoded data removed]",
      "text/plain": [
       "<Figure size 720x360 with 1 Axes>"
      ]
     },
     "metadata": {
      "filenames": {
       "image/png": "/Users/bknaepen/Documents/Bernard/Workspace/Teaching/MATH-F314/courseMaterial/book_solving_pde_mooc/_build/jupyter_execute/solving_pde_mooc/notebooks/05_IterativeMethods/05_01_Iteration_and_2D_42_1.png"
      },
      "needs_background": "light"
     },
     "output_type": "display_data"
    }
   ],
   "source": [
    "fig, ax = plt.subplots(figsize=(10, 5))\n",
    "ax.semilogy(tol_hist_jac, label='Jacobi')\n",
    "ax.semilogy(tol_hist_gs, color='red', label='Gauss-Seidel')\n",
    "\n",
    "\n",
    "# We set labels of x axis and y axis.\n",
    "ax.set_xlabel('iteration')\n",
    "ax.set_ylabel('l2_diff')\n",
    "ax.set_title('l2_diff decay')\n",
    "ax.legend();"
   ]
  },
  {
   "cell_type": "markdown",
   "metadata": {},
   "source": [
    "## Convergence of Jacobi and Gauss-Seidel methods\n",
    "\n",
    "We have observed empirically that the Jacobi and Gauss-Seidel methods converge to the solution of the discretized Poisson equation. In this section we explore this convergence process in more detail.\n",
    "\n",
    "The definition of the Jacobi method is given by {eq}`eq:iterkSolPoisson` (we keep the assumption that $\\Delta x=\\Delta y = \\Delta$).\n",
    "If we represent all the unknowns as a vector $\\boldsymbol p = [p_{i,j}]$ (using again column-major ordering), we can write this formula as:\n",
    "\n",
    "\\begin{equation*}\n",
    "    A^J_1\\boldsymbol p^{k+1} = A^J_2 \\boldsymbol p^k - \\boldsymbol b \\Delta^2.\n",
    "\\end{equation*}\n",
    "\n",
    "$A^J_1=-4\\times I$ and $A^J_2=L+U$ where, for $nx=6, ny=4$:\n",
    "\n",
    "\\begin{align*}\n",
    "  L=\n",
    "  \\left(\n",
    "    \\begin{array}{*{16}c}\n",
    "       . &  &   &   &  &   &   &   \\\\\n",
    "      1 & .  &  &   &   &  &   &   \\\\\n",
    "        & 1 & . &  &   &   &  &   \\\\\n",
    "        &   & 1 & . &   &   &   &  \\\\\n",
    "      1 &   &   &   & . &  &   &     \\\\\n",
    "        & 1 &   &   & 1 & . &  &      \\\\\n",
    "        &   & 1 &   &   & 1 & . &    \\\\\n",
    "        &   &   & 1 &   &   & 1 & .   \\\\\n",
    "    \\end{array}\n",
    "  \\right),\n",
    "\\end{align*}\n",
    "and\n",
    "\\begin{align*}\n",
    "  U=\n",
    "  \\left(\n",
    "    \\begin{array}{*{16}c}\n",
    "      . & 1 &   &   & 1 &   &   &   \\\\\n",
    "       & . & 1 &   &   & 1 &   &   \\\\\n",
    "        &  & . & 1 &   &   & 1 &   \\\\\n",
    "        &   &  & . &   &   &   & 1 \\\\\n",
    "       &   &   &   & . & 1 &   &     \\\\\n",
    "        &  &   &   &  & . & 1 &      \\\\\n",
    "        &   &  &   &   &  & . & 1   \\\\\n",
    "        &   &   &  &   &   &  & .   \\\\\n",
    "    \\end{array}\n",
    "  \\right),\n",
    "\\end{align*}\n",
    "Similarly, the Gauss-Seidel algorithm may be written as:\n",
    "\n",
    "\\begin{equation*}\n",
    "  A^{GS}_1\\boldsymbol p^{k+1} = A^{GS}_2 \\boldsymbol p^k - \\boldsymbol b \\Delta^2.\n",
    "\\end{equation*}\n",
    "\n",
    "with $A_1^{GS}=4\\times I - L$ and $A_2^{GS}=U$.\n",
    "\n",
    "The arguments developped here can be genelarized to any iterative method of the form,\n",
    "\n",
    "```{math}\n",
    ":label: eq:iterSplit\n",
    "  A_1\\boldsymbol p^{k+1} = A_2 \\boldsymbol p^k + \\boldsymbol c\n",
    "  \\;\\; \\Leftrightarrow \\;\\; \\boldsymbol p^{k+1} = A_1^{-1} A_2 \\boldsymbol p^k +A_1^{-1} \\boldsymbol c\n",
    "```\n",
    "\n",
    "where $A=A_1 - A_2$ and $A\\boldsymbol p = c$ is the original matrix problem.\n",
    "\n",
    "The make the algorithm  work, $A_1$ needs to be easily invertible, otherwise we would not save any effort. For the Jacobi method this is obvious because $A_1$ is proportional to the identity. For the Gauss-Seidel method things are sligthly more complicated but $\\boldsymbol p^{k+1}$ can still be computed easily by looping in the order described in the previous section.\n",
    "\n",
    "Let us denote by $\\boldsymbol \\epsilon^k$ the error at iteration $k$:\n",
    "\n",
    "\\begin{equation*}\n",
    "  \\boldsymbol \\epsilon^k = \\boldsymbol p^{exact} - \\boldsymbol p^k\n",
    "\\end{equation*}\n",
    "\n",
    "where $\\boldsymbol p^{exact}$ is the exact solution of the discretized equation. If we substitute this definition in {eq}`eq:iterSplit` we get\n",
    "\n",
    "```{math}\n",
    ":label: eq:iterError\n",
    "  \\boldsymbol \\epsilon^{k+1} = A^{-1}_1 A_2 \\boldsymbol \\epsilon^k = \\left(A^{-1}_1 A_k\\right)^{k+1}\\boldsymbol \\epsilon^0.\n",
    "```\n",
    "\n",
    "Obviously we need to have $\\boldsymbol \\epsilon^k \\rightarrow 0$ for $\\rightarrow \\infty$ for the iterative method to converge. In order for this to happen, all the eigenvalues $\\lambda_i$ of $A^{-1}_1 A_2$ must be such that {cite}`watkins2010`,\n",
    "\n",
    "\\begin{align*}\n",
    "  \\vert \\lambda_i \\vert < 1.\n",
    "\\end{align*}\n",
    "\n",
    "If the matrix $A^{-1}_1 A_2$ is diagonalizable, this result can be proven rather easily by expressing the error in the basis of eigenvectors.\n",
    "\n",
    "The quantity $\\rho= \\hbox{max} \\vert \\lambda_i\\vert$ is called the spectral radius of the matrix. The criteria for convergence is thus also equivalent to:\n",
    "\n",
    "\\begin{align*}\n",
    "  \\rho(A^{-1}_1 A_2) < 1.\n",
    "\\end{align*}\n",
    "\n",
    "When the algorithm converges, we can use eq. {eq}`eq:iterError` to evaluate its rate of convergence. For that purpose, let us introduce the $L2$ matrix norm defined as:\n",
    "\n",
    "\\begin{equation*}\n",
    "  \\| G \\|_2 = \\max_{\\boldsymbol x}\\frac{\\| G\\boldsymbol x \\|}{\\| \\boldsymbol x \\|}.\n",
    "\\end{equation*}\n",
    " where $G$ is any matrix. One says that the matrix norm is induced by the $L2$-norm $\\|\\cdot\\|$ defined for vectors $\\boldsymbol x$. Like all matrix norms, it satisfies the submultiplicativity rule {cite}`watkins2010`:\n",
    "\n",
    " \\begin{equation*}\n",
    "  \\| AB \\|_2 \\leq \\| A \\|_2 \\| B \\|_2.\n",
    "\\end{equation*}\n",
    "\n",
    "for any matrices $A$ and $B$.\n",
    "\n",
    "Using the definition of the $L2$ norm and the submultiplicativity rule we then have:\n",
    "\n",
    "\\begin{equation*}\n",
    "  \\boldsymbol \\| \\epsilon^{k+1} \\| = \\| \\left(A^{-1}_1 A_k\\right)^{k+1}\\boldsymbol \\epsilon^0 \\| \\leq \\| \\left(A^{-1}_1 A_k\\right)\\|_2^{k+1}\\boldsymbol \\| \\epsilon^0 \\|\n",
    "\\end{equation*}\n",
    "\n",
    "An important result of linear algebra is that the $L2$ norm of a matrix is equal to its largest singular value $\\sigma_1$ {cite}`horn2013`:\n",
    "\n",
    "\\begin{equation*}\n",
    "  \\| A \\|_2 = \\sigma_1(A).\n",
    "\\end{equation*}\n",
    "\n",
    "We won't use the concept of singular values in this course so we will not describe it further. We just note that for symmetric matrices we have:\n",
    "\n",
    "\\begin{equation*}\n",
    "  \\sigma_1(A) = \\rho(A)\\;\\;\\;\\; \\hbox{if $A$ is symmetric}.\n",
    "\\end{equation*}\n",
    "\n",
    "We then have:\n",
    "\n",
    "\\begin{equation*}\n",
    "  \\frac{\\boldsymbol \\| \\epsilon^{k+1} \\|}{\\| \\epsilon^0 \\|}\\leq \\rho^{k+1}(A^{-1}_1 A_2).\n",
    "\\end{equation*}\n",
    "\n",
    "Reducing the $L2$-norm of the error by a factor $10^{-m}$ after $k$ iterations therefore requires,\n",
    "\n",
    "\\begin{equation*}\n",
    "  k \\geq -\\frac{m}{\\log_{10}\\rho (A^{-1}_1 A_2) } = -\\frac{m}{\\log_{10}(\\hbox{max} \\vert \\lambda_i\\vert )}\n",
    "\\end{equation*}\n",
    "\n",
    "Let's now use the above theoretical concepts for the analysis of the Jacobi and Gauss-Seidel methods in the case of the 2D Poisson equation.\n",
    "\n",
    "$\\bullet$ For the Jacobi method, we have $ \\displaystyle A^{-1}_1 A_2 = -\\frac14(L+U)$. The matrix is a Teoplitz matrix and it is possible to compute all its eigenvalues by decomposing it using tensor products {cite}`watkins2010`. The resulting eigenvalues are:\n",
    "\n",
    "\\begin{equation*}\n",
    "  \\lambda_{kl} = \\frac12\\left[\\cos \\frac{k\\pi}{nx-1} + \\cos \\frac{l\\pi}{ny-1}\\right ],\\; k=1,\\ldots, nx-2,\\; l=1,\\ldots ny-2.\n",
    "\\end{equation*}\n",
    "\n",
    "The spectral radius is thus,\n",
    "\n",
    "\\begin{equation*}\n",
    "  \\rho_{JC} = \\frac12\\left[\\cos \\frac{\\pi}{nx-1} + \\cos \\frac{\\pi}{ny-1}\\right ]\n",
    "\\end{equation*}\n",
    "\n",
    "and the method converges since $\\rho_{JC} < 1$. If $nx=ny$ are both large, we have\n",
    "\n",
    "\\begin{equation*}\n",
    "  \\rho_{JC} \\simeq 1 - \\frac12 \\frac{\\pi^2}{(nx-1)^2}\n",
    "\\end{equation*}\n",
    "\n",
    "For $nx=ny=101$, a reduction of the error by a factor of $10^{-10}$ requires $46652$ iterations.\n",
    "\n",
    "$\\bullet$ For the Gauss-Seidel method, we have $ \\displaystyle A^{-1}_1 A_2 = (4\\times I - L)^{-1} U$ and the eigenvalues are the squares of the eigenvalues of the Jacobi method {cite}`watkins2010`:\n",
    "\n",
    "\\begin{equation*}\n",
    "  \\lambda_{kl} = \\frac14\\left[\\cos \\frac{k\\pi}{nx-1} + \\cos \\frac{l\\pi}{ny-1}\\right ]^2,\\; k=1,\\ldots, nx-2,\\; l=1,\\ldots ny-2.\n",
    "\\end{equation*}\n",
    "\n",
    "The spectral radius is thus,\n",
    "\n",
    "\\begin{equation*}\n",
    "  \\rho_{GS} = \\rho_{JC}^2 = \\frac14\\left[\\cos \\frac{\\pi}{nx-1} + \\cos \\frac{\\pi}{ny-1}\\right ]^2\n",
    "\\end{equation*}\n",
    "\n",
    "and the method converges since $\\rho_{GS} < 1$. The above relation also implies that the rate of convergence of the Gauss-Seidel is about twice that of the Jacobi method when $nx=ny$. If both are large, we have\n",
    "\n",
    "\\begin{equation*}\n",
    "  \\rho_{GS} \\simeq 1 - \\frac{\\pi^2}{(nx-1)^2}\n",
    "\\end{equation*}\n",
    "\n",
    "For $nx=ny=101$, a reduction of the error by a factor of $10^{-10}$ requires $23326$ iterations.\n",
    "\n",
    "These results confirm our observations when solving the sample problem described earlier in this notebook."
   ]
  },
  {
   "cell_type": "markdown",
   "metadata": {},
   "source": [
    "## Summary\n",
    "\n",
    "In this notebook we have shown how to define a cartesian grid for solving two-dimensional partial differential equations using the finite difference discretization. The strategy can easily be extended to three-dimensional problems. When they require matrix inversions, higher-dimensional problems rapidly make direct inversion methods very inefficient if not impracticable. For such cases, we have shown how iterative methods can come to the rescue. We have described in detail the Jacobi and Gauss-Seidel methods and rapidly presented the classical theory used to analyze their stability. The implementation of some iterative methods like the Jacobi method can be done directly with `numpy` and therefore benefit from the speedup of precompiled code. Others, like the Gauss-Seidel method, require an explicit looping on the grid nodes in a given order and this can lead to very slow algorithm if the loops are performed with Python loops. To circumvent this difficulty we provide in the third notebook of this chapter several strategies to boost your Python programs. But before that, we introduce another type of iterative method in the next notebook."
   ]
  },
  {
   "cell_type": "markdown",
   "metadata": {},
   "source": [
    "## References\n",
    "```{bibliography} biblio.bib\n",
    ":filter: docname in docnames\n",
    "```"
   ]
  }
 ],
 "metadata": {
  "jupytext": {
   "formats": "ipynb,md:myst",
   "notebook_metadata_filter": "toc",
   "text_representation": {
    "extension": ".md",
    "format_name": "myst",
    "format_version": 0.12,
    "jupytext_version": "1.6.0"
   }
  },
  "kernelspec": {
   "display_name": "Python 3",
   "language": "python",
   "name": "python3"
  },
  "language_info": {
   "codemirror_mode": {
    "name": "ipython",
    "version": 3
   },
   "file_extension": ".py",
   "mimetype": "text/x-python",
   "name": "python",
   "nbconvert_exporter": "python",
   "pygments_lexer": "ipython3",
   "version": "3.8.6"
  },
  "source_map": [
   29,
   38,
   51,
   178,
   194,
   198,
   208,
   212,
   241,
   245,
   292,
   316,
   320,
   347,
   351,
   355,
   359,
   390,
   396,
   432,
   436,
   459,
   463,
   466,
   470,
   473,
   496,
   498,
   502,
   539,
   543,
   549,
   580,
   586,
   594,
   600,
   604,
   619,
   628,
   636,
   644,
   678,
   682,
   693,
   873,
   879
  ],
  "toc": {
   "base_numbering": 1,
   "nav_menu": {},
   "number_sections": true,
   "sideBar": true,
   "skip_h1_title": true,
   "title_cell": "Table of Contents",
   "title_sidebar": "Contents",
   "toc_cell": true,
   "toc_position": {},
   "toc_section_display": true,
   "toc_window_display": false
  },
  "widgets": {
   "application/vnd.jupyter.widget-state+json": {
    "state": {
     "0f27486f37904564b2d56ffe6873dd1c": {
      "model_module": "@jupyter-widgets/controls",
      "model_module_version": "1.5.0",
      "model_name": "HTMLModel",
      "state": {
       "_dom_classes": [],
       "_model_module": "@jupyter-widgets/controls",
       "_model_module_version": "1.5.0",
       "_model_name": "HTMLModel",
       "_view_count": null,
       "_view_module": "@jupyter-widgets/controls",
       "_view_module_version": "1.5.0",
       "_view_name": "HTMLView",
       "description": "",
       "description_tooltip": null,
       "layout": "IPY_MODEL_b7b25e9e54874100823927f3c0a4b680",
       "placeholder": "​",
       "style": "IPY_MODEL_c27c58bde44840258a4a3427dc5bb82b",
       "value": " 7908/100000 [02:05&lt;24:27, 62.77it/s]"
      }
     },
     "1362cac8cc73415cb7cd820f21d2f5e3": {
      "model_module": "@jupyter-widgets/controls",
      "model_module_version": "1.5.0",
      "model_name": "HBoxModel",
      "state": {
       "_dom_classes": [],
       "_model_module": "@jupyter-widgets/controls",
       "_model_module_version": "1.5.0",
       "_model_name": "HBoxModel",
       "_view_count": null,
       "_view_module": "@jupyter-widgets/controls",
       "_view_module_version": "1.5.0",
       "_view_name": "HBoxView",
       "box_style": "",
       "children": [
        "IPY_MODEL_e67e01e29c1447fb9bc253d38e0b94ab",
        "IPY_MODEL_eca764def2414ea8b69e6b9c5d71ae77",
        "IPY_MODEL_7dec040d8b96459b999c5733ec89d41e"
       ],
       "layout": "IPY_MODEL_56350835249a4a7a98c1c156dfc83a16"
      }
     },
     "1699786531f843429135fb46abdd761f": {
      "model_module": "@jupyter-widgets/controls",
      "model_module_version": "1.5.0",
      "model_name": "ProgressStyleModel",
      "state": {
       "_model_module": "@jupyter-widgets/controls",
       "_model_module_version": "1.5.0",
       "_model_name": "ProgressStyleModel",
       "_view_count": null,
       "_view_module": "@jupyter-widgets/base",
       "_view_module_version": "1.2.0",
       "_view_name": "StyleView",
       "bar_color": null,
       "description_width": ""
      }
     },
     "16f19fe11c184fb897a54d0a96d44e3d": {
      "model_module": "@jupyter-widgets/controls",
      "model_module_version": "1.5.0",
      "model_name": "HTMLModel",
      "state": {
       "_dom_classes": [],
       "_model_module": "@jupyter-widgets/controls",
       "_model_module_version": "1.5.0",
       "_model_name": "HTMLModel",
       "_view_count": null,
       "_view_module": "@jupyter-widgets/controls",
       "_view_module_version": "1.5.0",
       "_view_name": "HTMLView",
       "description": "",
       "description_tooltip": null,
       "layout": "IPY_MODEL_ac5b3e3c6a684fe19a80356cac697401",
       "placeholder": "​",
       "style": "IPY_MODEL_7dd3201a0d32445ba40643e5cc26f1c7",
       "value": "it / max_it:   8%"
      }
     },
     "1d2bc2995ce04b4ca22ca059948165c8": {
      "model_module": "@jupyter-widgets/controls",
      "model_module_version": "1.5.0",
      "model_name": "DescriptionStyleModel",
      "state": {
       "_model_module": "@jupyter-widgets/controls",
       "_model_module_version": "1.5.0",
       "_model_name": "DescriptionStyleModel",
       "_view_count": null,
       "_view_module": "@jupyter-widgets/base",
       "_view_module_version": "1.2.0",
       "_view_name": "StyleView",
       "description_width": ""
      }
     },
     "2c34b35c3a204c819af0cfd2ac16b81c": {
      "model_module": "@jupyter-widgets/base",
      "model_module_version": "1.2.0",
      "model_name": "LayoutModel",
      "state": {
       "_model_module": "@jupyter-widgets/base",
       "_model_module_version": "1.2.0",
       "_model_name": "LayoutModel",
       "_view_count": null,
       "_view_module": "@jupyter-widgets/base",
       "_view_module_version": "1.2.0",
       "_view_name": "LayoutView",
       "align_content": null,
       "align_items": null,
       "align_self": null,
       "border": null,
       "bottom": null,
       "display": null,
       "flex": null,
       "flex_flow": null,
       "grid_area": null,
       "grid_auto_columns": null,
       "grid_auto_flow": null,
       "grid_auto_rows": null,
       "grid_column": null,
       "grid_gap": null,
       "grid_row": null,
       "grid_template_areas": null,
       "grid_template_columns": null,
       "grid_template_rows": null,
       "height": null,
       "justify_content": null,
       "justify_items": null,
       "left": null,
       "margin": null,
       "max_height": null,
       "max_width": null,
       "min_height": null,
       "min_width": null,
       "object_fit": null,
       "object_position": null,
       "order": null,
       "overflow": null,
       "overflow_x": null,
       "overflow_y": null,
       "padding": null,
       "right": null,
       "top": null,
       "visibility": null,
       "width": null
      }
     },
     "3094365e718f438ab1a35330aaa95dbe": {
      "model_module": "@jupyter-widgets/base",
      "model_module_version": "1.2.0",
      "model_name": "LayoutModel",
      "state": {
       "_model_module": "@jupyter-widgets/base",
       "_model_module_version": "1.2.0",
       "_model_name": "LayoutModel",
       "_view_count": null,
       "_view_module": "@jupyter-widgets/base",
       "_view_module_version": "1.2.0",
       "_view_name": "LayoutView",
       "align_content": null,
       "align_items": null,
       "align_self": null,
       "border": null,
       "bottom": null,
       "display": null,
       "flex": null,
       "flex_flow": null,
       "grid_area": null,
       "grid_auto_columns": null,
       "grid_auto_flow": null,
       "grid_auto_rows": null,
       "grid_column": null,
       "grid_gap": null,
       "grid_row": null,
       "grid_template_areas": null,
       "grid_template_columns": null,
       "grid_template_rows": null,
       "height": null,
       "justify_content": null,
       "justify_items": null,
       "left": null,
       "margin": null,
       "max_height": null,
       "max_width": null,
       "min_height": null,
       "min_width": null,
       "object_fit": null,
       "object_position": null,
       "order": null,
       "overflow": null,
       "overflow_x": null,
       "overflow_y": null,
       "padding": null,
       "right": null,
       "top": null,
       "visibility": null,
       "width": null
      }
     },
     "3302840e720648fb886c5671824feac2": {
      "model_module": "@jupyter-widgets/base",
      "model_module_version": "1.2.0",
      "model_name": "LayoutModel",
      "state": {
       "_model_module": "@jupyter-widgets/base",
       "_model_module_version": "1.2.0",
       "_model_name": "LayoutModel",
       "_view_count": null,
       "_view_module": "@jupyter-widgets/base",
       "_view_module_version": "1.2.0",
       "_view_name": "LayoutView",
       "align_content": null,
       "align_items": null,
       "align_self": null,
       "border": null,
       "bottom": null,
       "display": null,
       "flex": null,
       "flex_flow": null,
       "grid_area": null,
       "grid_auto_columns": null,
       "grid_auto_flow": null,
       "grid_auto_rows": null,
       "grid_column": null,
       "grid_gap": null,
       "grid_row": null,
       "grid_template_areas": null,
       "grid_template_columns": null,
       "grid_template_rows": null,
       "height": null,
       "justify_content": null,
       "justify_items": null,
       "left": null,
       "margin": null,
       "max_height": null,
       "max_width": null,
       "min_height": null,
       "min_width": null,
       "object_fit": null,
       "object_position": null,
       "order": null,
       "overflow": null,
       "overflow_x": null,
       "overflow_y": null,
       "padding": null,
       "right": null,
       "top": null,
       "visibility": null,
       "width": null
      }
     },
     "3961c1fc385c47c4aa7c9aae081cb100": {
      "model_module": "@jupyter-widgets/base",
      "model_module_version": "1.2.0",
      "model_name": "LayoutModel",
      "state": {
       "_model_module": "@jupyter-widgets/base",
       "_model_module_version": "1.2.0",
       "_model_name": "LayoutModel",
       "_view_count": null,
       "_view_module": "@jupyter-widgets/base",
       "_view_module_version": "1.2.0",
       "_view_name": "LayoutView",
       "align_content": null,
       "align_items": null,
       "align_self": null,
       "border": null,
       "bottom": null,
       "display": null,
       "flex": null,
       "flex_flow": null,
       "grid_area": null,
       "grid_auto_columns": null,
       "grid_auto_flow": null,
       "grid_auto_rows": null,
       "grid_column": null,
       "grid_gap": null,
       "grid_row": null,
       "grid_template_areas": null,
       "grid_template_columns": null,
       "grid_template_rows": null,
       "height": null,
       "justify_content": null,
       "justify_items": null,
       "left": null,
       "margin": null,
       "max_height": null,
       "max_width": null,
       "min_height": null,
       "min_width": null,
       "object_fit": null,
       "object_position": null,
       "order": null,
       "overflow": null,
       "overflow_x": null,
       "overflow_y": null,
       "padding": null,
       "right": null,
       "top": null,
       "visibility": null,
       "width": null
      }
     },
     "56350835249a4a7a98c1c156dfc83a16": {
      "model_module": "@jupyter-widgets/base",
      "model_module_version": "1.2.0",
      "model_name": "LayoutModel",
      "state": {
       "_model_module": "@jupyter-widgets/base",
       "_model_module_version": "1.2.0",
       "_model_name": "LayoutModel",
       "_view_count": null,
       "_view_module": "@jupyter-widgets/base",
       "_view_module_version": "1.2.0",
       "_view_name": "LayoutView",
       "align_content": null,
       "align_items": null,
       "align_self": null,
       "border": null,
       "bottom": null,
       "display": null,
       "flex": null,
       "flex_flow": null,
       "grid_area": null,
       "grid_auto_columns": null,
       "grid_auto_flow": null,
       "grid_auto_rows": null,
       "grid_column": null,
       "grid_gap": null,
       "grid_row": null,
       "grid_template_areas": null,
       "grid_template_columns": null,
       "grid_template_rows": null,
       "height": null,
       "justify_content": null,
       "justify_items": null,
       "left": null,
       "margin": null,
       "max_height": null,
       "max_width": null,
       "min_height": null,
       "min_width": null,
       "object_fit": null,
       "object_position": null,
       "order": null,
       "overflow": null,
       "overflow_x": null,
       "overflow_y": null,
       "padding": null,
       "right": null,
       "top": null,
       "visibility": null,
       "width": null
      }
     },
     "5c632c642cac4e18837f00fdb5bf3330": {
      "model_module": "@jupyter-widgets/controls",
      "model_module_version": "1.5.0",
      "model_name": "FloatProgressModel",
      "state": {
       "_dom_classes": [],
       "_model_module": "@jupyter-widgets/controls",
       "_model_module_version": "1.5.0",
       "_model_name": "FloatProgressModel",
       "_view_count": null,
       "_view_module": "@jupyter-widgets/controls",
       "_view_module_version": "1.5.0",
       "_view_name": "ProgressView",
       "bar_style": "danger",
       "description": "",
       "description_tooltip": null,
       "layout": "IPY_MODEL_3094365e718f438ab1a35330aaa95dbe",
       "max": 100000.0,
       "min": 0.0,
       "orientation": "horizontal",
       "style": "IPY_MODEL_cd3b118f993b4c1296badd98932dedc4",
       "value": 7908.0
      }
     },
     "6859f83163a847b0a97510618ca37ad9": {
      "model_module": "@jupyter-widgets/controls",
      "model_module_version": "1.5.0",
      "model_name": "HBoxModel",
      "state": {
       "_dom_classes": [],
       "_model_module": "@jupyter-widgets/controls",
       "_model_module_version": "1.5.0",
       "_model_name": "HBoxModel",
       "_view_count": null,
       "_view_module": "@jupyter-widgets/controls",
       "_view_module_version": "1.5.0",
       "_view_name": "HBoxView",
       "box_style": "",
       "children": [
        "IPY_MODEL_16f19fe11c184fb897a54d0a96d44e3d",
        "IPY_MODEL_5c632c642cac4e18837f00fdb5bf3330",
        "IPY_MODEL_0f27486f37904564b2d56ffe6873dd1c"
       ],
       "layout": "IPY_MODEL_3302840e720648fb886c5671824feac2"
      }
     },
     "7dd3201a0d32445ba40643e5cc26f1c7": {
      "model_module": "@jupyter-widgets/controls",
      "model_module_version": "1.5.0",
      "model_name": "DescriptionStyleModel",
      "state": {
       "_model_module": "@jupyter-widgets/controls",
       "_model_module_version": "1.5.0",
       "_model_name": "DescriptionStyleModel",
       "_view_count": null,
       "_view_module": "@jupyter-widgets/base",
       "_view_module_version": "1.2.0",
       "_view_name": "StyleView",
       "description_width": ""
      }
     },
     "7dec040d8b96459b999c5733ec89d41e": {
      "model_module": "@jupyter-widgets/controls",
      "model_module_version": "1.5.0",
      "model_name": "HTMLModel",
      "state": {
       "_dom_classes": [],
       "_model_module": "@jupyter-widgets/controls",
       "_model_module_version": "1.5.0",
       "_model_name": "HTMLModel",
       "_view_count": null,
       "_view_module": "@jupyter-widgets/controls",
       "_view_module_version": "1.5.0",
       "_view_name": "HTMLView",
       "description": "",
       "description_tooltip": null,
       "layout": "IPY_MODEL_3961c1fc385c47c4aa7c9aae081cb100",
       "placeholder": "​",
       "style": "IPY_MODEL_1d2bc2995ce04b4ca22ca059948165c8",
       "value": " 14409/100000 [00:01&lt;00:09, 9145.24it/s]"
      }
     },
     "ac5b3e3c6a684fe19a80356cac697401": {
      "model_module": "@jupyter-widgets/base",
      "model_module_version": "1.2.0",
      "model_name": "LayoutModel",
      "state": {
       "_model_module": "@jupyter-widgets/base",
       "_model_module_version": "1.2.0",
       "_model_name": "LayoutModel",
       "_view_count": null,
       "_view_module": "@jupyter-widgets/base",
       "_view_module_version": "1.2.0",
       "_view_name": "LayoutView",
       "align_content": null,
       "align_items": null,
       "align_self": null,
       "border": null,
       "bottom": null,
       "display": null,
       "flex": null,
       "flex_flow": null,
       "grid_area": null,
       "grid_auto_columns": null,
       "grid_auto_flow": null,
       "grid_auto_rows": null,
       "grid_column": null,
       "grid_gap": null,
       "grid_row": null,
       "grid_template_areas": null,
       "grid_template_columns": null,
       "grid_template_rows": null,
       "height": null,
       "justify_content": null,
       "justify_items": null,
       "left": null,
       "margin": null,
       "max_height": null,
       "max_width": null,
       "min_height": null,
       "min_width": null,
       "object_fit": null,
       "object_position": null,
       "order": null,
       "overflow": null,
       "overflow_x": null,
       "overflow_y": null,
       "padding": null,
       "right": null,
       "top": null,
       "visibility": null,
       "width": null
      }
     },
     "b2463642d993408d9e8cf245a37c1f5a": {
      "model_module": "@jupyter-widgets/base",
      "model_module_version": "1.2.0",
      "model_name": "LayoutModel",
      "state": {
       "_model_module": "@jupyter-widgets/base",
       "_model_module_version": "1.2.0",
       "_model_name": "LayoutModel",
       "_view_count": null,
       "_view_module": "@jupyter-widgets/base",
       "_view_module_version": "1.2.0",
       "_view_name": "LayoutView",
       "align_content": null,
       "align_items": null,
       "align_self": null,
       "border": null,
       "bottom": null,
       "display": null,
       "flex": null,
       "flex_flow": null,
       "grid_area": null,
       "grid_auto_columns": null,
       "grid_auto_flow": null,
       "grid_auto_rows": null,
       "grid_column": null,
       "grid_gap": null,
       "grid_row": null,
       "grid_template_areas": null,
       "grid_template_columns": null,
       "grid_template_rows": null,
       "height": null,
       "justify_content": null,
       "justify_items": null,
       "left": null,
       "margin": null,
       "max_height": null,
       "max_width": null,
       "min_height": null,
       "min_width": null,
       "object_fit": null,
       "object_position": null,
       "order": null,
       "overflow": null,
       "overflow_x": null,
       "overflow_y": null,
       "padding": null,
       "right": null,
       "top": null,
       "visibility": null,
       "width": null
      }
     },
     "b7b25e9e54874100823927f3c0a4b680": {
      "model_module": "@jupyter-widgets/base",
      "model_module_version": "1.2.0",
      "model_name": "LayoutModel",
      "state": {
       "_model_module": "@jupyter-widgets/base",
       "_model_module_version": "1.2.0",
       "_model_name": "LayoutModel",
       "_view_count": null,
       "_view_module": "@jupyter-widgets/base",
       "_view_module_version": "1.2.0",
       "_view_name": "LayoutView",
       "align_content": null,
       "align_items": null,
       "align_self": null,
       "border": null,
       "bottom": null,
       "display": null,
       "flex": null,
       "flex_flow": null,
       "grid_area": null,
       "grid_auto_columns": null,
       "grid_auto_flow": null,
       "grid_auto_rows": null,
       "grid_column": null,
       "grid_gap": null,
       "grid_row": null,
       "grid_template_areas": null,
       "grid_template_columns": null,
       "grid_template_rows": null,
       "height": null,
       "justify_content": null,
       "justify_items": null,
       "left": null,
       "margin": null,
       "max_height": null,
       "max_width": null,
       "min_height": null,
       "min_width": null,
       "object_fit": null,
       "object_position": null,
       "order": null,
       "overflow": null,
       "overflow_x": null,
       "overflow_y": null,
       "padding": null,
       "right": null,
       "top": null,
       "visibility": null,
       "width": null
      }
     },
     "c27c58bde44840258a4a3427dc5bb82b": {
      "model_module": "@jupyter-widgets/controls",
      "model_module_version": "1.5.0",
      "model_name": "DescriptionStyleModel",
      "state": {
       "_model_module": "@jupyter-widgets/controls",
       "_model_module_version": "1.5.0",
       "_model_name": "DescriptionStyleModel",
       "_view_count": null,
       "_view_module": "@jupyter-widgets/base",
       "_view_module_version": "1.2.0",
       "_view_name": "StyleView",
       "description_width": ""
      }
     },
     "cd3b118f993b4c1296badd98932dedc4": {
      "model_module": "@jupyter-widgets/controls",
      "model_module_version": "1.5.0",
      "model_name": "ProgressStyleModel",
      "state": {
       "_model_module": "@jupyter-widgets/controls",
       "_model_module_version": "1.5.0",
       "_model_name": "ProgressStyleModel",
       "_view_count": null,
       "_view_module": "@jupyter-widgets/base",
       "_view_module_version": "1.2.0",
       "_view_name": "StyleView",
       "bar_color": null,
       "description_width": ""
      }
     },
     "e67e01e29c1447fb9bc253d38e0b94ab": {
      "model_module": "@jupyter-widgets/controls",
      "model_module_version": "1.5.0",
      "model_name": "HTMLModel",
      "state": {
       "_dom_classes": [],
       "_model_module": "@jupyter-widgets/controls",
       "_model_module_version": "1.5.0",
       "_model_name": "HTMLModel",
       "_view_count": null,
       "_view_module": "@jupyter-widgets/controls",
       "_view_module_version": "1.5.0",
       "_view_name": "HTMLView",
       "description": "",
       "description_tooltip": null,
       "layout": "IPY_MODEL_b2463642d993408d9e8cf245a37c1f5a",
       "placeholder": "​",
       "style": "IPY_MODEL_f7f42f7d947a441a9b74337907cf8dbd",
       "value": "it / max_it:  14%"
      }
     },
     "eca764def2414ea8b69e6b9c5d71ae77": {
      "model_module": "@jupyter-widgets/controls",
      "model_module_version": "1.5.0",
      "model_name": "FloatProgressModel",
      "state": {
       "_dom_classes": [],
       "_model_module": "@jupyter-widgets/controls",
       "_model_module_version": "1.5.0",
       "_model_name": "FloatProgressModel",
       "_view_count": null,
       "_view_module": "@jupyter-widgets/controls",
       "_view_module_version": "1.5.0",
       "_view_name": "ProgressView",
       "bar_style": "danger",
       "description": "",
       "description_tooltip": null,
       "layout": "IPY_MODEL_2c34b35c3a204c819af0cfd2ac16b81c",
       "max": 100000.0,
       "min": 0.0,
       "orientation": "horizontal",
       "style": "IPY_MODEL_1699786531f843429135fb46abdd761f",
       "value": 14409.0
      }
     },
     "f7f42f7d947a441a9b74337907cf8dbd": {
      "model_module": "@jupyter-widgets/controls",
      "model_module_version": "1.5.0",
      "model_name": "DescriptionStyleModel",
      "state": {
       "_model_module": "@jupyter-widgets/controls",
       "_model_module_version": "1.5.0",
       "_model_name": "DescriptionStyleModel",
       "_view_count": null,
       "_view_module": "@jupyter-widgets/base",
       "_view_module_version": "1.2.0",
       "_view_name": "StyleView",
       "description_width": ""
      }
     }
    },
    "version_major": 2,
    "version_minor": 0
   }
  }
 },
 "nbformat": 4,
 "nbformat_minor": 4
}